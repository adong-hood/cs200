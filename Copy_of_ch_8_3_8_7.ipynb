{
  "nbformat": 4,
  "nbformat_minor": 0,
  "metadata": {
    "colab": {
      "provenance": [],
      "include_colab_link": true
    },
    "kernelspec": {
      "display_name": "Python 3",
      "language": "python",
      "name": "python3"
    },
    "language_info": {
      "codemirror_mode": {
        "name": "ipython",
        "version": 3
      },
      "file_extension": ".py",
      "mimetype": "text/x-python",
      "name": "python",
      "nbconvert_exporter": "python",
      "pygments_lexer": "ipython3",
      "version": "3.7.4"
    }
  },
  "cells": [
    {
      "cell_type": "markdown",
      "metadata": {
        "id": "view-in-github",
        "colab_type": "text"
      },
      "source": [
        "<a href=\"https://colab.research.google.com/github/adong-hood/cs200/blob/main/Copy_of_ch_8_3_8_7.ipynb\" target=\"_parent\"><img src=\"https://colab.research.google.com/assets/colab-badge.svg\" alt=\"Open In Colab\"/></a>"
      ]
    },
    {
      "cell_type": "markdown",
      "metadata": {
        "id": "tFBwp7S5kEFS"
      },
      "source": [
        "# Chapter 8 UN Speech\n",
        "\n",
        "This notebook contains selected sections of 8.3, 8.4, 8.5 and 8.7 from chapter 8. It requires the 'un-general-debates.csv' and 'country_codes.csv' datasets. Please refer to both the Runestone book and this notebook. No Runstone book activities. Just share this note book."
      ]
    },
    {
      "cell_type": "code",
      "metadata": {
        "id": "nWRPaCHykEFU"
      },
      "source": [
        "import string\n",
        "import pandas as pd"
      ],
      "execution_count": null,
      "outputs": []
    },
    {
      "cell_type": "code",
      "metadata": {
        "id": "qGF1boxrkEFY"
      },
      "source": [
        "undf = pd.read_csv('http://pluto.hood.edu/~dong/datasets/un-general-debates.csv')\n",
        "undf.head(3)"
      ],
      "execution_count": null,
      "outputs": []
    },
    {
      "cell_type": "markdown",
      "metadata": {
        "id": "tx3DJuN9kEF0"
      },
      "source": [
        "# 8.3 Merging and Tiding Data"
      ]
    },
    {
      "cell_type": "markdown",
      "source": [],
      "metadata": {
        "id": "AYx_Q6TzhIoI"
      }
    },
    {
      "cell_type": "markdown",
      "metadata": {
        "id": "2X0aNt71kEF1"
      },
      "source": [
        "Let's read in the country code data with encoding 'latin-1' or 'iso-8859-1'"
      ]
    },
    {
      "cell_type": "code",
      "metadata": {
        "id": "XmmO89FckEF1"
      },
      "source": [
        "c_codes = pd.read_csv('http://pluto.hood.edu/~dong/datasets/country_codes.csv', encoding='iso-8859-1')\n",
        "c_codes.head(2)\n"
      ],
      "execution_count": null,
      "outputs": []
    },
    {
      "cell_type": "markdown",
      "metadata": {
        "id": "7mCZenFpkEF6"
      },
      "source": [
        "Rename column names to so the country code column matches the two dataframes"
      ]
    },
    {
      "cell_type": "code",
      "metadata": {
        "id": "NHLFeu5xkEF6"
      },
      "source": [
        "undf.columns = ['session', 'year', 'code_3', 'text']"
      ],
      "execution_count": null,
      "outputs": []
    },
    {
      "cell_type": "markdown",
      "metadata": {
        "id": "Q7N8vglfkEGI"
      },
      "source": [
        "With inner join where items that don't have matches from two dataframes are excluded. To preserve the unmatched data, we now perform an __outer join__."
      ]
    },
    {
      "cell_type": "code",
      "metadata": {
        "id": "hzJHlaMYkEGJ",
        "colab": {
          "base_uri": "https://localhost:8080/"
        },
        "outputId": "d771da65-0c90-4bbc-c5d2-75ff4a0c7695"
      },
      "source": [
        "undfe = undf.merge(c_codes[['code_3', 'country', 'continent', 'sub_region']], how = 'outer')\n",
        "undfe.shape"
      ],
      "execution_count": null,
      "outputs": [
        {
          "output_type": "execute_result",
          "data": {
            "text/plain": [
              "(7562, 7)"
            ]
          },
          "metadata": {},
          "execution_count": 5
        }
      ]
    },
    {
      "cell_type": "code",
      "metadata": {
        "id": "y4ArKMaOkEGN"
      },
      "source": [
        "undfe[undfe.code_3 == 'EU']"
      ],
      "execution_count": null,
      "outputs": []
    },
    {
      "cell_type": "markdown",
      "metadata": {
        "id": "cdQPOyx79j0h"
      },
      "source": [
        "The country, continent and subregion is missing because EU wasn't in the c_codes file, but the rest of the data is preserved.\n",
        "\n",
        "So what other countries don't have names? To find that, we look for the code_3 values where county is NA."
      ]
    },
    {
      "cell_type": "markdown",
      "metadata": {
        "id": "rciUblD5kEGQ"
      },
      "source": [
        "### Exercise 1:  \n",
        "\n",
        "How many countries has the `nan` value for its country name? What are the values of `code_3` of these countries? Hint: use isna() to check for NA values."
      ]
    },
    {
      "cell_type": "code",
      "metadata": {
        "colab": {
          "base_uri": "https://localhost:8080/"
        },
        "id": "ow7UB8n6kEGQ",
        "outputId": "26bbabc0-a817-46b0-8f14-7ad4476b7aa0"
      },
      "source": [
        "#\n"
      ],
      "execution_count": null,
      "outputs": [
        {
          "output_type": "execute_result",
          "data": {
            "text/plain": [
              "101"
            ]
          },
          "metadata": {},
          "execution_count": 9
        }
      ]
    },
    {
      "cell_type": "code",
      "source": [
        "undfe[undfe.country.isna()].code_3.unique()"
      ],
      "metadata": {
        "colab": {
          "base_uri": "https://localhost:8080/"
        },
        "id": "ma6m51kJba_4",
        "outputId": "3413acfa-8ff8-480b-be5f-125854615016"
      },
      "execution_count": null,
      "outputs": [
        {
          "output_type": "execute_result",
          "data": {
            "text/plain": [
              "array(['CSK', 'DDR', 'EU', 'YDYE', 'YUG'], dtype=object)"
            ]
          },
          "metadata": {},
          "execution_count": 10
        }
      ]
    },
    {
      "cell_type": "markdown",
      "metadata": {
        "id": "vNJyvR82kEGW"
      },
      "source": [
        "So the above codes don't match to country names.\n",
        "* YDYE was the code for South Yemen, a country that existed from 1967 to 1990.\n",
        "* CSK was the code for Czechoslovakia, which existed from 1918 to 1993 when it dissolved into the Czech Republic and Slovakia.\n",
        "* YUG was the code for Yugoslavia, which existed from 1918 to 1992.\n",
        "* DDR was East Germany, before the reunification of Germany after the fall of the Berlin Wall.\n",
        "* We know that EU is the European Union.\n",
        "\n",
        "We can fill these in \"by hand.\""
      ]
    },
    {
      "cell_type": "code",
      "metadata": {
        "id": "wfVMKOhjkEGX",
        "colab": {
          "base_uri": "https://localhost:8080/",
          "height": 206
        },
        "outputId": "2f367206-9fd2-4cb3-91c1-eeffac9086e7"
      },
      "source": [
        "undfe.loc[undfe.code_3 == 'EU', 'country'] = 'European Union'\n",
        "undfe[undfe.code_3 == 'EU']"
      ],
      "execution_count": null,
      "outputs": [
        {
          "output_type": "execute_result",
          "data": {
            "text/plain": [
              "      session    year code_3  \\\n",
              "2268     68.0  2013.0     EU   \n",
              "2269     67.0  2012.0     EU   \n",
              "2270     69.0  2014.0     EU   \n",
              "2271     66.0  2011.0     EU   \n",
              "2272     70.0  2015.0     EU   \n",
              "\n",
              "                                                   text         country  \\\n",
              "2268  A year ago \\nwhen we met in the General Assemb...  European Union   \n",
              "2269  ﻿The advance of democracy has taken place in\\n...  European Union   \n",
              "2270  The world today is much more dangerous than \\n...  European Union   \n",
              "2271  Europe presents to you a message of \\ncooperat...  European Union   \n",
              "2272  I am here today to reassure the General Assemb...  European Union   \n",
              "\n",
              "     continent sub_region  \n",
              "2268       NaN        NaN  \n",
              "2269       NaN        NaN  \n",
              "2270       NaN        NaN  \n",
              "2271       NaN        NaN  \n",
              "2272       NaN        NaN  "
            ],
            "text/html": [
              "\n",
              "  <div id=\"df-2b8cba76-cd88-4a0c-b18a-ba6f0514e10f\" class=\"colab-df-container\">\n",
              "    <div>\n",
              "<style scoped>\n",
              "    .dataframe tbody tr th:only-of-type {\n",
              "        vertical-align: middle;\n",
              "    }\n",
              "\n",
              "    .dataframe tbody tr th {\n",
              "        vertical-align: top;\n",
              "    }\n",
              "\n",
              "    .dataframe thead th {\n",
              "        text-align: right;\n",
              "    }\n",
              "</style>\n",
              "<table border=\"1\" class=\"dataframe\">\n",
              "  <thead>\n",
              "    <tr style=\"text-align: right;\">\n",
              "      <th></th>\n",
              "      <th>session</th>\n",
              "      <th>year</th>\n",
              "      <th>code_3</th>\n",
              "      <th>text</th>\n",
              "      <th>country</th>\n",
              "      <th>continent</th>\n",
              "      <th>sub_region</th>\n",
              "    </tr>\n",
              "  </thead>\n",
              "  <tbody>\n",
              "    <tr>\n",
              "      <th>2268</th>\n",
              "      <td>68.0</td>\n",
              "      <td>2013.0</td>\n",
              "      <td>EU</td>\n",
              "      <td>A year ago \\nwhen we met in the General Assemb...</td>\n",
              "      <td>European Union</td>\n",
              "      <td>NaN</td>\n",
              "      <td>NaN</td>\n",
              "    </tr>\n",
              "    <tr>\n",
              "      <th>2269</th>\n",
              "      <td>67.0</td>\n",
              "      <td>2012.0</td>\n",
              "      <td>EU</td>\n",
              "      <td>﻿The advance of democracy has taken place in\\n...</td>\n",
              "      <td>European Union</td>\n",
              "      <td>NaN</td>\n",
              "      <td>NaN</td>\n",
              "    </tr>\n",
              "    <tr>\n",
              "      <th>2270</th>\n",
              "      <td>69.0</td>\n",
              "      <td>2014.0</td>\n",
              "      <td>EU</td>\n",
              "      <td>The world today is much more dangerous than \\n...</td>\n",
              "      <td>European Union</td>\n",
              "      <td>NaN</td>\n",
              "      <td>NaN</td>\n",
              "    </tr>\n",
              "    <tr>\n",
              "      <th>2271</th>\n",
              "      <td>66.0</td>\n",
              "      <td>2011.0</td>\n",
              "      <td>EU</td>\n",
              "      <td>Europe presents to you a message of \\ncooperat...</td>\n",
              "      <td>European Union</td>\n",
              "      <td>NaN</td>\n",
              "      <td>NaN</td>\n",
              "    </tr>\n",
              "    <tr>\n",
              "      <th>2272</th>\n",
              "      <td>70.0</td>\n",
              "      <td>2015.0</td>\n",
              "      <td>EU</td>\n",
              "      <td>I am here today to reassure the General Assemb...</td>\n",
              "      <td>European Union</td>\n",
              "      <td>NaN</td>\n",
              "      <td>NaN</td>\n",
              "    </tr>\n",
              "  </tbody>\n",
              "</table>\n",
              "</div>\n",
              "    <div class=\"colab-df-buttons\">\n",
              "\n",
              "  <div class=\"colab-df-container\">\n",
              "    <button class=\"colab-df-convert\" onclick=\"convertToInteractive('df-2b8cba76-cd88-4a0c-b18a-ba6f0514e10f')\"\n",
              "            title=\"Convert this dataframe to an interactive table.\"\n",
              "            style=\"display:none;\">\n",
              "\n",
              "  <svg xmlns=\"http://www.w3.org/2000/svg\" height=\"24px\" viewBox=\"0 -960 960 960\">\n",
              "    <path d=\"M120-120v-720h720v720H120Zm60-500h600v-160H180v160Zm220 220h160v-160H400v160Zm0 220h160v-160H400v160ZM180-400h160v-160H180v160Zm440 0h160v-160H620v160ZM180-180h160v-160H180v160Zm440 0h160v-160H620v160Z\"/>\n",
              "  </svg>\n",
              "    </button>\n",
              "\n",
              "  <style>\n",
              "    .colab-df-container {\n",
              "      display:flex;\n",
              "      gap: 12px;\n",
              "    }\n",
              "\n",
              "    .colab-df-convert {\n",
              "      background-color: #E8F0FE;\n",
              "      border: none;\n",
              "      border-radius: 50%;\n",
              "      cursor: pointer;\n",
              "      display: none;\n",
              "      fill: #1967D2;\n",
              "      height: 32px;\n",
              "      padding: 0 0 0 0;\n",
              "      width: 32px;\n",
              "    }\n",
              "\n",
              "    .colab-df-convert:hover {\n",
              "      background-color: #E2EBFA;\n",
              "      box-shadow: 0px 1px 2px rgba(60, 64, 67, 0.3), 0px 1px 3px 1px rgba(60, 64, 67, 0.15);\n",
              "      fill: #174EA6;\n",
              "    }\n",
              "\n",
              "    .colab-df-buttons div {\n",
              "      margin-bottom: 4px;\n",
              "    }\n",
              "\n",
              "    [theme=dark] .colab-df-convert {\n",
              "      background-color: #3B4455;\n",
              "      fill: #D2E3FC;\n",
              "    }\n",
              "\n",
              "    [theme=dark] .colab-df-convert:hover {\n",
              "      background-color: #434B5C;\n",
              "      box-shadow: 0px 1px 3px 1px rgba(0, 0, 0, 0.15);\n",
              "      filter: drop-shadow(0px 1px 2px rgba(0, 0, 0, 0.3));\n",
              "      fill: #FFFFFF;\n",
              "    }\n",
              "  </style>\n",
              "\n",
              "    <script>\n",
              "      const buttonEl =\n",
              "        document.querySelector('#df-2b8cba76-cd88-4a0c-b18a-ba6f0514e10f button.colab-df-convert');\n",
              "      buttonEl.style.display =\n",
              "        google.colab.kernel.accessAllowed ? 'block' : 'none';\n",
              "\n",
              "      async function convertToInteractive(key) {\n",
              "        const element = document.querySelector('#df-2b8cba76-cd88-4a0c-b18a-ba6f0514e10f');\n",
              "        const dataTable =\n",
              "          await google.colab.kernel.invokeFunction('convertToInteractive',\n",
              "                                                    [key], {});\n",
              "        if (!dataTable) return;\n",
              "\n",
              "        const docLinkHtml = 'Like what you see? Visit the ' +\n",
              "          '<a target=\"_blank\" href=https://colab.research.google.com/notebooks/data_table.ipynb>data table notebook</a>'\n",
              "          + ' to learn more about interactive tables.';\n",
              "        element.innerHTML = '';\n",
              "        dataTable['output_type'] = 'display_data';\n",
              "        await google.colab.output.renderOutput(dataTable, element);\n",
              "        const docLink = document.createElement('div');\n",
              "        docLink.innerHTML = docLinkHtml;\n",
              "        element.appendChild(docLink);\n",
              "      }\n",
              "    </script>\n",
              "  </div>\n",
              "\n",
              "\n",
              "<div id=\"df-8a3c42d0-1e5c-4723-9364-5e4162d0bde2\">\n",
              "  <button class=\"colab-df-quickchart\" onclick=\"quickchart('df-8a3c42d0-1e5c-4723-9364-5e4162d0bde2')\"\n",
              "            title=\"Suggest charts\"\n",
              "            style=\"display:none;\">\n",
              "\n",
              "<svg xmlns=\"http://www.w3.org/2000/svg\" height=\"24px\"viewBox=\"0 0 24 24\"\n",
              "     width=\"24px\">\n",
              "    <g>\n",
              "        <path d=\"M19 3H5c-1.1 0-2 .9-2 2v14c0 1.1.9 2 2 2h14c1.1 0 2-.9 2-2V5c0-1.1-.9-2-2-2zM9 17H7v-7h2v7zm4 0h-2V7h2v10zm4 0h-2v-4h2v4z\"/>\n",
              "    </g>\n",
              "</svg>\n",
              "  </button>\n",
              "\n",
              "<style>\n",
              "  .colab-df-quickchart {\n",
              "      --bg-color: #E8F0FE;\n",
              "      --fill-color: #1967D2;\n",
              "      --hover-bg-color: #E2EBFA;\n",
              "      --hover-fill-color: #174EA6;\n",
              "      --disabled-fill-color: #AAA;\n",
              "      --disabled-bg-color: #DDD;\n",
              "  }\n",
              "\n",
              "  [theme=dark] .colab-df-quickchart {\n",
              "      --bg-color: #3B4455;\n",
              "      --fill-color: #D2E3FC;\n",
              "      --hover-bg-color: #434B5C;\n",
              "      --hover-fill-color: #FFFFFF;\n",
              "      --disabled-bg-color: #3B4455;\n",
              "      --disabled-fill-color: #666;\n",
              "  }\n",
              "\n",
              "  .colab-df-quickchart {\n",
              "    background-color: var(--bg-color);\n",
              "    border: none;\n",
              "    border-radius: 50%;\n",
              "    cursor: pointer;\n",
              "    display: none;\n",
              "    fill: var(--fill-color);\n",
              "    height: 32px;\n",
              "    padding: 0;\n",
              "    width: 32px;\n",
              "  }\n",
              "\n",
              "  .colab-df-quickchart:hover {\n",
              "    background-color: var(--hover-bg-color);\n",
              "    box-shadow: 0 1px 2px rgba(60, 64, 67, 0.3), 0 1px 3px 1px rgba(60, 64, 67, 0.15);\n",
              "    fill: var(--button-hover-fill-color);\n",
              "  }\n",
              "\n",
              "  .colab-df-quickchart-complete:disabled,\n",
              "  .colab-df-quickchart-complete:disabled:hover {\n",
              "    background-color: var(--disabled-bg-color);\n",
              "    fill: var(--disabled-fill-color);\n",
              "    box-shadow: none;\n",
              "  }\n",
              "\n",
              "  .colab-df-spinner {\n",
              "    border: 2px solid var(--fill-color);\n",
              "    border-color: transparent;\n",
              "    border-bottom-color: var(--fill-color);\n",
              "    animation:\n",
              "      spin 1s steps(1) infinite;\n",
              "  }\n",
              "\n",
              "  @keyframes spin {\n",
              "    0% {\n",
              "      border-color: transparent;\n",
              "      border-bottom-color: var(--fill-color);\n",
              "      border-left-color: var(--fill-color);\n",
              "    }\n",
              "    20% {\n",
              "      border-color: transparent;\n",
              "      border-left-color: var(--fill-color);\n",
              "      border-top-color: var(--fill-color);\n",
              "    }\n",
              "    30% {\n",
              "      border-color: transparent;\n",
              "      border-left-color: var(--fill-color);\n",
              "      border-top-color: var(--fill-color);\n",
              "      border-right-color: var(--fill-color);\n",
              "    }\n",
              "    40% {\n",
              "      border-color: transparent;\n",
              "      border-right-color: var(--fill-color);\n",
              "      border-top-color: var(--fill-color);\n",
              "    }\n",
              "    60% {\n",
              "      border-color: transparent;\n",
              "      border-right-color: var(--fill-color);\n",
              "    }\n",
              "    80% {\n",
              "      border-color: transparent;\n",
              "      border-right-color: var(--fill-color);\n",
              "      border-bottom-color: var(--fill-color);\n",
              "    }\n",
              "    90% {\n",
              "      border-color: transparent;\n",
              "      border-bottom-color: var(--fill-color);\n",
              "    }\n",
              "  }\n",
              "</style>\n",
              "\n",
              "  <script>\n",
              "    async function quickchart(key) {\n",
              "      const quickchartButtonEl =\n",
              "        document.querySelector('#' + key + ' button');\n",
              "      quickchartButtonEl.disabled = true;  // To prevent multiple clicks.\n",
              "      quickchartButtonEl.classList.add('colab-df-spinner');\n",
              "      try {\n",
              "        const charts = await google.colab.kernel.invokeFunction(\n",
              "            'suggestCharts', [key], {});\n",
              "      } catch (error) {\n",
              "        console.error('Error during call to suggestCharts:', error);\n",
              "      }\n",
              "      quickchartButtonEl.classList.remove('colab-df-spinner');\n",
              "      quickchartButtonEl.classList.add('colab-df-quickchart-complete');\n",
              "    }\n",
              "    (() => {\n",
              "      let quickchartButtonEl =\n",
              "        document.querySelector('#df-8a3c42d0-1e5c-4723-9364-5e4162d0bde2 button');\n",
              "      quickchartButtonEl.style.display =\n",
              "        google.colab.kernel.accessAllowed ? 'block' : 'none';\n",
              "    })();\n",
              "  </script>\n",
              "</div>\n",
              "\n",
              "    </div>\n",
              "  </div>\n"
            ],
            "application/vnd.google.colaboratory.intrinsic+json": {
              "type": "dataframe",
              "repr_error": "0"
            }
          },
          "metadata": {},
          "execution_count": 11
        }
      ]
    },
    {
      "cell_type": "code",
      "metadata": {
        "id": "aaCgObHOkEGe"
      },
      "source": [
        "# Add country names for unmatched country codes\n",
        "missing_code = list(undfe[undfe.country.isna()].code_3.unique())\n",
        "missing_country = ['South Yemen', 'Czechoslovakia', 'Yugoslavia', 'East Germany']\n",
        "\n",
        "for i in range(len(missing_country)):\n",
        "    undfe.loc[undfe.code_3 == missing_code[i], 'country'] = missing_country[i]"
      ],
      "execution_count": null,
      "outputs": []
    },
    {
      "cell_type": "markdown",
      "metadata": {
        "id": "UrZ1H1CNeqhp"
      },
      "source": [
        "Re-check if all conntries have filled."
      ]
    },
    {
      "cell_type": "code",
      "metadata": {
        "id": "TXzqy9yXkEGi",
        "colab": {
          "base_uri": "https://localhost:8080/",
          "height": 53
        },
        "outputId": "bebe5d3d-ee5e-42f5-c588-4465a5540d7b"
      },
      "source": [
        "undfe[undfe['code_3'].isna()]\n"
      ],
      "execution_count": null,
      "outputs": [
        {
          "output_type": "execute_result",
          "data": {
            "text/plain": [
              "Empty DataFrame\n",
              "Columns: [session, year, code_3, text, country, continent, sub_region]\n",
              "Index: []"
            ],
            "text/html": [
              "\n",
              "  <div id=\"df-3eba3707-27c0-4b26-aeb9-b611e97a0719\" class=\"colab-df-container\">\n",
              "    <div>\n",
              "<style scoped>\n",
              "    .dataframe tbody tr th:only-of-type {\n",
              "        vertical-align: middle;\n",
              "    }\n",
              "\n",
              "    .dataframe tbody tr th {\n",
              "        vertical-align: top;\n",
              "    }\n",
              "\n",
              "    .dataframe thead th {\n",
              "        text-align: right;\n",
              "    }\n",
              "</style>\n",
              "<table border=\"1\" class=\"dataframe\">\n",
              "  <thead>\n",
              "    <tr style=\"text-align: right;\">\n",
              "      <th></th>\n",
              "      <th>session</th>\n",
              "      <th>year</th>\n",
              "      <th>code_3</th>\n",
              "      <th>text</th>\n",
              "      <th>country</th>\n",
              "      <th>continent</th>\n",
              "      <th>sub_region</th>\n",
              "    </tr>\n",
              "  </thead>\n",
              "  <tbody>\n",
              "  </tbody>\n",
              "</table>\n",
              "</div>\n",
              "    <div class=\"colab-df-buttons\">\n",
              "\n",
              "  <div class=\"colab-df-container\">\n",
              "    <button class=\"colab-df-convert\" onclick=\"convertToInteractive('df-3eba3707-27c0-4b26-aeb9-b611e97a0719')\"\n",
              "            title=\"Convert this dataframe to an interactive table.\"\n",
              "            style=\"display:none;\">\n",
              "\n",
              "  <svg xmlns=\"http://www.w3.org/2000/svg\" height=\"24px\" viewBox=\"0 -960 960 960\">\n",
              "    <path d=\"M120-120v-720h720v720H120Zm60-500h600v-160H180v160Zm220 220h160v-160H400v160Zm0 220h160v-160H400v160ZM180-400h160v-160H180v160Zm440 0h160v-160H620v160ZM180-180h160v-160H180v160Zm440 0h160v-160H620v160Z\"/>\n",
              "  </svg>\n",
              "    </button>\n",
              "\n",
              "  <style>\n",
              "    .colab-df-container {\n",
              "      display:flex;\n",
              "      gap: 12px;\n",
              "    }\n",
              "\n",
              "    .colab-df-convert {\n",
              "      background-color: #E8F0FE;\n",
              "      border: none;\n",
              "      border-radius: 50%;\n",
              "      cursor: pointer;\n",
              "      display: none;\n",
              "      fill: #1967D2;\n",
              "      height: 32px;\n",
              "      padding: 0 0 0 0;\n",
              "      width: 32px;\n",
              "    }\n",
              "\n",
              "    .colab-df-convert:hover {\n",
              "      background-color: #E2EBFA;\n",
              "      box-shadow: 0px 1px 2px rgba(60, 64, 67, 0.3), 0px 1px 3px 1px rgba(60, 64, 67, 0.15);\n",
              "      fill: #174EA6;\n",
              "    }\n",
              "\n",
              "    .colab-df-buttons div {\n",
              "      margin-bottom: 4px;\n",
              "    }\n",
              "\n",
              "    [theme=dark] .colab-df-convert {\n",
              "      background-color: #3B4455;\n",
              "      fill: #D2E3FC;\n",
              "    }\n",
              "\n",
              "    [theme=dark] .colab-df-convert:hover {\n",
              "      background-color: #434B5C;\n",
              "      box-shadow: 0px 1px 3px 1px rgba(0, 0, 0, 0.15);\n",
              "      filter: drop-shadow(0px 1px 2px rgba(0, 0, 0, 0.3));\n",
              "      fill: #FFFFFF;\n",
              "    }\n",
              "  </style>\n",
              "\n",
              "    <script>\n",
              "      const buttonEl =\n",
              "        document.querySelector('#df-3eba3707-27c0-4b26-aeb9-b611e97a0719 button.colab-df-convert');\n",
              "      buttonEl.style.display =\n",
              "        google.colab.kernel.accessAllowed ? 'block' : 'none';\n",
              "\n",
              "      async function convertToInteractive(key) {\n",
              "        const element = document.querySelector('#df-3eba3707-27c0-4b26-aeb9-b611e97a0719');\n",
              "        const dataTable =\n",
              "          await google.colab.kernel.invokeFunction('convertToInteractive',\n",
              "                                                    [key], {});\n",
              "        if (!dataTable) return;\n",
              "\n",
              "        const docLinkHtml = 'Like what you see? Visit the ' +\n",
              "          '<a target=\"_blank\" href=https://colab.research.google.com/notebooks/data_table.ipynb>data table notebook</a>'\n",
              "          + ' to learn more about interactive tables.';\n",
              "        element.innerHTML = '';\n",
              "        dataTable['output_type'] = 'display_data';\n",
              "        await google.colab.output.renderOutput(dataTable, element);\n",
              "        const docLink = document.createElement('div');\n",
              "        docLink.innerHTML = docLinkHtml;\n",
              "        element.appendChild(docLink);\n",
              "      }\n",
              "    </script>\n",
              "  </div>\n",
              "\n",
              "\n",
              "    </div>\n",
              "  </div>\n"
            ],
            "application/vnd.google.colaboratory.intrinsic+json": {
              "type": "dataframe",
              "repr_error": "Out of range float values are not JSON compliant: nan"
            }
          },
          "metadata": {},
          "execution_count": 13
        }
      ]
    },
    {
      "cell_type": "code",
      "metadata": {
        "colab": {
          "base_uri": "https://localhost:8080/",
          "height": 53
        },
        "id": "Lf1liEWhx0A-",
        "outputId": "b559b783-43b0-4c82-e754-58149780e0cb"
      },
      "source": [
        "undfe[undfe['country'].isnull()]"
      ],
      "execution_count": null,
      "outputs": [
        {
          "output_type": "execute_result",
          "data": {
            "text/plain": [
              "Empty DataFrame\n",
              "Columns: [session, year, code_3, text, country, continent, sub_region]\n",
              "Index: []"
            ],
            "text/html": [
              "\n",
              "  <div id=\"df-a6b9c27c-4684-4d16-be4c-d3d3f52be583\" class=\"colab-df-container\">\n",
              "    <div>\n",
              "<style scoped>\n",
              "    .dataframe tbody tr th:only-of-type {\n",
              "        vertical-align: middle;\n",
              "    }\n",
              "\n",
              "    .dataframe tbody tr th {\n",
              "        vertical-align: top;\n",
              "    }\n",
              "\n",
              "    .dataframe thead th {\n",
              "        text-align: right;\n",
              "    }\n",
              "</style>\n",
              "<table border=\"1\" class=\"dataframe\">\n",
              "  <thead>\n",
              "    <tr style=\"text-align: right;\">\n",
              "      <th></th>\n",
              "      <th>session</th>\n",
              "      <th>year</th>\n",
              "      <th>code_3</th>\n",
              "      <th>text</th>\n",
              "      <th>country</th>\n",
              "      <th>continent</th>\n",
              "      <th>sub_region</th>\n",
              "    </tr>\n",
              "  </thead>\n",
              "  <tbody>\n",
              "  </tbody>\n",
              "</table>\n",
              "</div>\n",
              "    <div class=\"colab-df-buttons\">\n",
              "\n",
              "  <div class=\"colab-df-container\">\n",
              "    <button class=\"colab-df-convert\" onclick=\"convertToInteractive('df-a6b9c27c-4684-4d16-be4c-d3d3f52be583')\"\n",
              "            title=\"Convert this dataframe to an interactive table.\"\n",
              "            style=\"display:none;\">\n",
              "\n",
              "  <svg xmlns=\"http://www.w3.org/2000/svg\" height=\"24px\" viewBox=\"0 -960 960 960\">\n",
              "    <path d=\"M120-120v-720h720v720H120Zm60-500h600v-160H180v160Zm220 220h160v-160H400v160Zm0 220h160v-160H400v160ZM180-400h160v-160H180v160Zm440 0h160v-160H620v160ZM180-180h160v-160H180v160Zm440 0h160v-160H620v160Z\"/>\n",
              "  </svg>\n",
              "    </button>\n",
              "\n",
              "  <style>\n",
              "    .colab-df-container {\n",
              "      display:flex;\n",
              "      gap: 12px;\n",
              "    }\n",
              "\n",
              "    .colab-df-convert {\n",
              "      background-color: #E8F0FE;\n",
              "      border: none;\n",
              "      border-radius: 50%;\n",
              "      cursor: pointer;\n",
              "      display: none;\n",
              "      fill: #1967D2;\n",
              "      height: 32px;\n",
              "      padding: 0 0 0 0;\n",
              "      width: 32px;\n",
              "    }\n",
              "\n",
              "    .colab-df-convert:hover {\n",
              "      background-color: #E2EBFA;\n",
              "      box-shadow: 0px 1px 2px rgba(60, 64, 67, 0.3), 0px 1px 3px 1px rgba(60, 64, 67, 0.15);\n",
              "      fill: #174EA6;\n",
              "    }\n",
              "\n",
              "    .colab-df-buttons div {\n",
              "      margin-bottom: 4px;\n",
              "    }\n",
              "\n",
              "    [theme=dark] .colab-df-convert {\n",
              "      background-color: #3B4455;\n",
              "      fill: #D2E3FC;\n",
              "    }\n",
              "\n",
              "    [theme=dark] .colab-df-convert:hover {\n",
              "      background-color: #434B5C;\n",
              "      box-shadow: 0px 1px 3px 1px rgba(0, 0, 0, 0.15);\n",
              "      filter: drop-shadow(0px 1px 2px rgba(0, 0, 0, 0.3));\n",
              "      fill: #FFFFFF;\n",
              "    }\n",
              "  </style>\n",
              "\n",
              "    <script>\n",
              "      const buttonEl =\n",
              "        document.querySelector('#df-a6b9c27c-4684-4d16-be4c-d3d3f52be583 button.colab-df-convert');\n",
              "      buttonEl.style.display =\n",
              "        google.colab.kernel.accessAllowed ? 'block' : 'none';\n",
              "\n",
              "      async function convertToInteractive(key) {\n",
              "        const element = document.querySelector('#df-a6b9c27c-4684-4d16-be4c-d3d3f52be583');\n",
              "        const dataTable =\n",
              "          await google.colab.kernel.invokeFunction('convertToInteractive',\n",
              "                                                    [key], {});\n",
              "        if (!dataTable) return;\n",
              "\n",
              "        const docLinkHtml = 'Like what you see? Visit the ' +\n",
              "          '<a target=\"_blank\" href=https://colab.research.google.com/notebooks/data_table.ipynb>data table notebook</a>'\n",
              "          + ' to learn more about interactive tables.';\n",
              "        element.innerHTML = '';\n",
              "        dataTable['output_type'] = 'display_data';\n",
              "        await google.colab.output.renderOutput(dataTable, element);\n",
              "        const docLink = document.createElement('div');\n",
              "        docLink.innerHTML = docLinkHtml;\n",
              "        element.appendChild(docLink);\n",
              "      }\n",
              "    </script>\n",
              "  </div>\n",
              "\n",
              "\n",
              "    </div>\n",
              "  </div>\n"
            ],
            "application/vnd.google.colaboratory.intrinsic+json": {
              "type": "dataframe",
              "repr_error": "Out of range float values are not JSON compliant: nan"
            }
          },
          "metadata": {},
          "execution_count": 14
        }
      ]
    },
    {
      "cell_type": "markdown",
      "metadata": {
        "id": "gaSBZgQk_o5A"
      },
      "source": [
        "# 8.4. Most and Least Common Words"
      ]
    },
    {
      "cell_type": "markdown",
      "metadata": {
        "id": "6dkUXpstkEGl"
      },
      "source": [
        "Now we want to clean up the text so that we can analyze the most and least common words in the speeches. To do that, we need to complete the following four steps:\n",
        "1. Convert all text to lower case.\n",
        "2. Remove all punctuation.\n",
        "3. Break the string into a list of words - tokenize\n",
        "4. Remove [stop words](https://en.wikipedia.org/wiki/Stop_words) from the list.\n",
        "\n",
        "We'll start by doing this just for the speeches from 1970 so we can work on smaller text.\n",
        "\n",
        "Here let's first make a copy (deep copy) of the text so the initial text won't be changes."
      ]
    },
    {
      "cell_type": "code",
      "metadata": {
        "colab": {
          "base_uri": "https://localhost:8080/"
        },
        "id": "uH7UENqykEGl",
        "outputId": "e4b563ee-28d6-4b01-c017-33bfc608558e"
      },
      "source": [
        "speeches_1970 = undfe[undfe.year == 1970].copy()\n",
        "len(speeches_1970)"
      ],
      "execution_count": null,
      "outputs": [
        {
          "output_type": "execute_result",
          "data": {
            "text/plain": [
              "70"
            ]
          },
          "metadata": {},
          "execution_count": 15
        }
      ]
    },
    {
      "cell_type": "markdown",
      "metadata": {
        "id": "zVddYwoukEGn"
      },
      "source": [
        "`apply()` method works on panda series and data frames with a simple Lambda function."
      ]
    },
    {
      "cell_type": "code",
      "metadata": {
        "id": "FdVzMz05kEGo"
      },
      "source": [
        "test_pd = pd.DataFrame({'state': ['Ohio', 'Ohio', 'Ohio', 'Nevada', 'Nevada'],\n",
        "                        'year': [2000, 2001, 2002, 2001, 2002],\n",
        "                        'population': [1.5, 1.7, 3.6, 2.4, 2.9]})\n",
        "test_pd"
      ],
      "execution_count": null,
      "outputs": []
    },
    {
      "cell_type": "code",
      "metadata": {
        "id": "H3YrKub1kEGq"
      },
      "source": [
        "#Apply a lambda on a column\n",
        "test_pd['population'] = test_pd.population.apply(lambda x: x*1000)\n",
        "test_pd.head()"
      ],
      "execution_count": null,
      "outputs": []
    },
    {
      "cell_type": "markdown",
      "metadata": {
        "id": "XYaundZZkEGw"
      },
      "source": [
        "### Exercise 2:\n",
        "Apply a lambda function on the `text` column to change the text to the lower case."
      ]
    },
    {
      "cell_type": "code",
      "metadata": {
        "id": "qbN2QZHDkEGw"
      },
      "source": [
        "#\n"
      ],
      "execution_count": null,
      "outputs": []
    },
    {
      "cell_type": "markdown",
      "metadata": {
        "id": "g75_GrsGkEG0"
      },
      "source": [
        "Next, we remove all punctuation."
      ]
    },
    {
      "cell_type": "code",
      "metadata": {
        "id": "kWuNHDB2kEG1"
      },
      "source": [
        "# This line applies a function to the text column\n",
        "speeches_1970['text'] = speeches_1970.text.apply(\n",
        "    # it's a lambda function that replaces punctuation with whitespace,\n",
        "    # but that may take some detective work reading the docs!\n",
        "    lambda x: x.translate(str.maketrans(string.punctuation, ' '*len(string.punctuation))))"
      ],
      "execution_count": null,
      "outputs": []
    },
    {
      "cell_type": "code",
      "metadata": {
        "colab": {
          "base_uri": "https://localhost:8080/"
        },
        "id": "RjdY6PN_kEG6",
        "outputId": "e40d9aa5-49df-41eb-838b-45f533d61fbf"
      },
      "source": [
        "import nltk\n",
        "nltk.download('punkt')\n",
        "nltk.download('punkt_tab')"
      ],
      "execution_count": null,
      "outputs": [
        {
          "output_type": "stream",
          "name": "stderr",
          "text": [
            "[nltk_data] Downloading package punkt to /root/nltk_data...\n",
            "[nltk_data]   Package punkt is already up-to-date!\n",
            "[nltk_data] Downloading package punkt_tab to /root/nltk_data...\n",
            "[nltk_data]   Package punkt_tab is already up-to-date!\n"
          ]
        },
        {
          "output_type": "execute_result",
          "data": {
            "text/plain": [
              "True"
            ]
          },
          "metadata": {},
          "execution_count": 19
        }
      ]
    },
    {
      "cell_type": "markdown",
      "metadata": {
        "id": "AXj3T-cNkEG8"
      },
      "source": [
        "This adds a new column, called word_list, to our dataframe, by applying the function `nltk.word_tokenize` to the text column."
      ]
    },
    {
      "cell_type": "code",
      "metadata": {
        "id": "R4c9kEoukEG9"
      },
      "source": [
        "speeches_1970['word_list'] = speeches_1970.text.apply(nltk.word_tokenize)"
      ],
      "execution_count": null,
      "outputs": []
    },
    {
      "cell_type": "code",
      "metadata": {
        "id": "2VUuPyLZkEHA"
      },
      "source": [
        "speeches_1970.head(3)"
      ],
      "execution_count": null,
      "outputs": []
    },
    {
      "cell_type": "markdown",
      "metadata": {
        "id": "FI--_Y6rkEHD"
      },
      "source": [
        "So this turned our text into a list of words, stripped of punctuation. Now that we have these lists, we can count up how often each word occurs."
      ]
    },
    {
      "cell_type": "code",
      "metadata": {
        "id": "4_7EM2KQkEHD",
        "colab": {
          "base_uri": "https://localhost:8080/"
        },
        "outputId": "fde144f2-2384-4b10-a8a4-767a6e2dadec"
      },
      "source": [
        "from collections import Counter\n",
        "c = Counter(speeches_1970.word_list.sum())\n",
        "c.most_common(10)"
      ],
      "execution_count": null,
      "outputs": [
        {
          "output_type": "execute_result",
          "data": {
            "text/plain": [
              "[('the', 25077),\n",
              " ('of', 16265),\n",
              " ('and', 9224),\n",
              " ('to', 9134),\n",
              " ('in', 6668),\n",
              " ('a', 4530),\n",
              " ('that', 3919),\n",
              " ('is', 3322),\n",
              " ('for', 2563),\n",
              " ('which', 2471)]"
            ]
          },
          "metadata": {},
          "execution_count": 21
        }
      ]
    },
    {
      "cell_type": "markdown",
      "metadata": {
        "id": "vpvaugedkEHH"
      },
      "source": [
        "This is maybe not as interesting as we'd hoped. While these are common words, they don't tell us at all what the common themes were of the UN speeches. These words would be the most common for almost any text in english. Removing <strong> stopwords</strong>, that is common words like 'the', will let us get a more interesting list of the most common words."
      ]
    },
    {
      "cell_type": "code",
      "metadata": {
        "colab": {
          "base_uri": "https://localhost:8080/"
        },
        "id": "-rQ1fQVxkEHH",
        "outputId": "d01cc845-db0f-47d6-c38b-1b47fc7d34f2"
      },
      "source": [
        "from nltk.corpus import stopwords\n",
        "nltk.download('stopwords')\n",
        "sw = set(stopwords.words('english'))\n",
        "len(sw)"
      ],
      "execution_count": null,
      "outputs": [
        {
          "output_type": "stream",
          "name": "stderr",
          "text": [
            "[nltk_data] Downloading package stopwords to /root/nltk_data...\n",
            "[nltk_data]   Package stopwords is already up-to-date!\n"
          ]
        },
        {
          "output_type": "execute_result",
          "data": {
            "text/plain": [
              "198"
            ]
          },
          "metadata": {},
          "execution_count": 22
        }
      ]
    },
    {
      "cell_type": "code",
      "source": [
        "# add your own stop words\n",
        "sw.add('It')\n",
        "len(sw)"
      ],
      "metadata": {
        "colab": {
          "base_uri": "https://localhost:8080/"
        },
        "id": "nTFiCgsQV1dT",
        "outputId": "dc46f78d-072a-466b-867a-12ae288a9091"
      },
      "execution_count": null,
      "outputs": [
        {
          "output_type": "execute_result",
          "data": {
            "text/plain": [
              "199"
            ]
          },
          "metadata": {},
          "execution_count": 23
        }
      ]
    },
    {
      "cell_type": "markdown",
      "metadata": {
        "id": "79rpe_ZekEHK"
      },
      "source": [
        "So now we'll remove those words from the word lists."
      ]
    },
    {
      "cell_type": "code",
      "metadata": {
        "id": "3WP1neApkEHK",
        "colab": {
          "base_uri": "https://localhost:8080/"
        },
        "outputId": "7ff5da5e-cb66-479d-a613-757e60c51a6a"
      },
      "source": [
        "# We'll replace the word list with a new one after applying a function\n",
        "speeches_1970['word_list'] = speeches_1970.word_list.apply(\n",
        "    # This is a lambda fuction that takes a list of words as input\n",
        "    # it gives back a list - see the [] - where each word is exactly the same\n",
        "    # as long as it's not a stop word (i.e. if word not in sw)\n",
        "    lambda list_of_words: [word for word in list_of_words if word not in sw])\n",
        "\n",
        "c = Counter(speeches_1970.word_list.sum())\n",
        "c.most_common(10)"
      ],
      "execution_count": null,
      "outputs": [
        {
          "output_type": "execute_result",
          "data": {
            "text/plain": [
              "[('nations', 1997),\n",
              " ('united', 1996),\n",
              " ('international', 1251),\n",
              " ('world', 1101),\n",
              " ('peace', 1019),\n",
              " ('countries', 908),\n",
              " ('states', 897),\n",
              " ('organization', 763),\n",
              " ('would', 677),\n",
              " ('people', 649)]"
            ]
          },
          "metadata": {},
          "execution_count": 24
        }
      ]
    },
    {
      "cell_type": "markdown",
      "metadata": {
        "id": "lFl4mffTkEHN"
      },
      "source": [
        "### Exercise 3\n",
        "\n",
        "Redo the analysis for 2015. Make sure the most common words do not contain any non-text charactors and they are interesting words, e.g. not including words such as 'must' or 'also'."
      ]
    },
    {
      "cell_type": "code",
      "metadata": {
        "id": "3P3vyaQbkEHO"
      },
      "source": [
        "#\n"
      ],
      "execution_count": null,
      "outputs": []
    },
    {
      "cell_type": "markdown",
      "metadata": {
        "id": "D27RZtHykEFT"
      },
      "source": [
        "# 8.5. Working with Text"
      ]
    },
    {
      "cell_type": "code",
      "source": [
        "# re-read for this section.\n",
        "undf = pd.read_csv('http://pluto.hood.edu/~dong/datasets/un-general-debates.csv')"
      ],
      "metadata": {
        "id": "sM_7n4pjc0e7"
      },
      "execution_count": null,
      "outputs": []
    },
    {
      "cell_type": "markdown",
      "metadata": {
        "id": "mdoS8DXakEFg"
      },
      "source": [
        "### Exercise 4 (Q1 from 8.5):\n",
        "\n",
        "**How many rows** from the United Nations dataset have a country code that starts with ‘M’?\n",
        "\n",
        "Hint: use `str.startswith()` and count the total rows with `sum()`"
      ]
    },
    {
      "cell_type": "code",
      "metadata": {
        "colab": {
          "base_uri": "https://localhost:8080/"
        },
        "id": "t9eaDfslkEFl",
        "outputId": "5433fa67-f7f7-496f-a54b-bc8c07a35b41"
      },
      "source": [
        "#\n"
      ],
      "execution_count": null,
      "outputs": [
        {
          "output_type": "execute_result",
          "data": {
            "text/plain": [
              "663"
            ]
          },
          "metadata": {},
          "execution_count": 44
        }
      ]
    },
    {
      "cell_type": "markdown",
      "metadata": {
        "id": "x_PCyyS3kEFp"
      },
      "source": [
        "### Exercise 5 (Q2 from 8.5):  \n",
        "\n",
        "**How many country codes** from the United Nations dataset have a country code that starts with ‘M’?\n",
        "\n",
        "Notice how this is different from the last question. As each row of our dataset is a speech, the answer from last question was the number of speeches delivered by M countries, not the number of M countries.\n",
        "\n",
        "Hint: use `unique()` to find the unique country codes"
      ]
    },
    {
      "cell_type": "code",
      "metadata": {
        "colab": {
          "base_uri": "https://localhost:8080/"
        },
        "id": "rmtbv3ZWkEFw",
        "outputId": "ddf605c3-4cfa-46f5-d6f1-e9cad1b75427"
      },
      "source": [
        "#"
      ],
      "execution_count": null,
      "outputs": [
        {
          "output_type": "execute_result",
          "data": {
            "text/plain": [
              "18"
            ]
          },
          "metadata": {},
          "execution_count": 50
        }
      ]
    },
    {
      "cell_type": "markdown",
      "metadata": {
        "id": "dGyQWbSykEHW"
      },
      "source": [
        "# 8.7. Sentiment Analysis of UN Speeches¶"
      ]
    },
    {
      "cell_type": "markdown",
      "metadata": {
        "id": "b_bcw5EHkEHX"
      },
      "source": [
        "The Natural Language ToolKit (NLTK) provides us with many tools for sentiment analysis, e.g., [VADER (Valence Aware Dictionary and sEntiment Reasoner, not Darth Vader)](https://www.nltk.org/_modules/nltk/sentiment/vader.html). VADER performs better on normal text and does not require us to manually train a model.\n",
        "\n"
      ]
    },
    {
      "cell_type": "code",
      "metadata": {
        "colab": {
          "base_uri": "https://localhost:8080/"
        },
        "id": "UUzkZHcZkEHY",
        "outputId": "7af9ca91-c7a7-4f0f-ee7b-82b7ab8ca4c9"
      },
      "source": [
        "nltk.download('vader_lexicon')"
      ],
      "execution_count": null,
      "outputs": [
        {
          "output_type": "stream",
          "name": "stderr",
          "text": [
            "[nltk_data] Downloading package vader_lexicon to /root/nltk_data...\n",
            "[nltk_data]   Package vader_lexicon is already up-to-date!\n"
          ]
        },
        {
          "output_type": "execute_result",
          "data": {
            "text/plain": [
              "True"
            ]
          },
          "metadata": {},
          "execution_count": 32
        }
      ]
    },
    {
      "cell_type": "code",
      "metadata": {
        "id": "eroDMe5FkEHb"
      },
      "source": [
        "from nltk import tokenize\n",
        "from nltk.sentiment.vader import SentimentIntensityAnalyzer"
      ],
      "execution_count": null,
      "outputs": []
    },
    {
      "cell_type": "code",
      "metadata": {
        "id": "qR9MDbu-kEHe",
        "colab": {
          "base_uri": "https://localhost:8080/"
        },
        "outputId": "23083935-8569-4da0-f939-8b91f582380c"
      },
      "source": [
        "analyzer = SentimentIntensityAnalyzer()\n",
        "score = analyzer.polarity_scores(\"I love sci-fi movies!\")\n",
        "score"
      ],
      "execution_count": null,
      "outputs": [
        {
          "output_type": "execute_result",
          "data": {
            "text/plain": [
              "{'neg': 0.0, 'neu': 0.308, 'pos': 0.692, 'compound': 0.6696}"
            ]
          },
          "metadata": {},
          "execution_count": 34
        }
      ]
    },
    {
      "cell_type": "code",
      "metadata": {
        "id": "uQNtD3SekEHj",
        "colab": {
          "base_uri": "https://localhost:8080/"
        },
        "outputId": "e4b1c7c2-f503-453e-fc02-b0022b56cadc"
      },
      "source": [
        "score = analyzer.polarity_scores(\"I wouldn't suggest this solution to anyone.\")\n",
        "score"
      ],
      "execution_count": null,
      "outputs": [
        {
          "output_type": "execute_result",
          "data": {
            "text/plain": [
              "{'neg': 0.0, 'neu': 0.656, 'pos': 0.344, 'compound': 0.3869}"
            ]
          },
          "metadata": {},
          "execution_count": 35
        }
      ]
    },
    {
      "cell_type": "code",
      "metadata": {
        "id": "jt27iFsqkEHl"
      },
      "source": [
        "def score_text(text):\n",
        "    sentence_list = tokenize.sent_tokenize(text)\n",
        "    cscore = 0.0\n",
        "    for sent in sentence_list:\n",
        "        ss = analyzer.polarity_scores(sent)['compound']\n",
        "        cscore += ss\n",
        "    return cscore / len(sentence_list)"
      ],
      "execution_count": null,
      "outputs": []
    },
    {
      "cell_type": "code",
      "metadata": {
        "id": "2pvgB5206-zA"
      },
      "source": [
        "undfe['text'] = undfe['text'].astype(str)"
      ],
      "execution_count": null,
      "outputs": []
    },
    {
      "cell_type": "code",
      "metadata": {
        "id": "k_kb4_RAHAWh"
      },
      "source": [
        "# This will take a while.\n",
        "undfe['sentiment'] = undf.text.map(lambda t : score_text(t))"
      ],
      "execution_count": null,
      "outputs": []
    },
    {
      "cell_type": "markdown",
      "metadata": {
        "id": "ujK6yhuyGz1-"
      },
      "source": []
    },
    {
      "cell_type": "code",
      "metadata": {
        "colab": {
          "base_uri": "https://localhost:8080/",
          "height": 206
        },
        "id": "DXvIHaDM6-zB",
        "outputId": "5729b5ea-595d-44bf-a244-261e31166170"
      },
      "source": [
        "undfe.head()"
      ],
      "execution_count": null,
      "outputs": [
        {
          "output_type": "execute_result",
          "data": {
            "text/plain": [
              "   session    year code_3                                               text  \\\n",
              "0      NaN     NaN    ABW                                                nan   \n",
              "1     44.0  1989.0    AFG  ﻿\\nIt gives me pleasure at the very outset to ...   \n",
              "2     68.0  2013.0    AFG  I bring to all warm \\ngreetings and the good w...   \n",
              "3     40.0  1985.0    AFG  I wish at the outset to congratulate the Presi...   \n",
              "4     63.0  2008.0    AFG  Since the last time we \\ngathered here in this...   \n",
              "\n",
              "       country continent     sub_region  sentiment  \n",
              "0        Aruba  Americas      Caribbean   0.216956  \n",
              "1  Afghanistan      Asia  Southern Asia   0.232908  \n",
              "2  Afghanistan      Asia  Southern Asia   0.274610  \n",
              "3  Afghanistan      Asia  Southern Asia   0.235133  \n",
              "4  Afghanistan      Asia  Southern Asia   0.207283  "
            ],
            "text/html": [
              "\n",
              "  <div id=\"df-b29e6474-33f5-4676-a79a-7db7577ac71b\" class=\"colab-df-container\">\n",
              "    <div>\n",
              "<style scoped>\n",
              "    .dataframe tbody tr th:only-of-type {\n",
              "        vertical-align: middle;\n",
              "    }\n",
              "\n",
              "    .dataframe tbody tr th {\n",
              "        vertical-align: top;\n",
              "    }\n",
              "\n",
              "    .dataframe thead th {\n",
              "        text-align: right;\n",
              "    }\n",
              "</style>\n",
              "<table border=\"1\" class=\"dataframe\">\n",
              "  <thead>\n",
              "    <tr style=\"text-align: right;\">\n",
              "      <th></th>\n",
              "      <th>session</th>\n",
              "      <th>year</th>\n",
              "      <th>code_3</th>\n",
              "      <th>text</th>\n",
              "      <th>country</th>\n",
              "      <th>continent</th>\n",
              "      <th>sub_region</th>\n",
              "      <th>sentiment</th>\n",
              "    </tr>\n",
              "  </thead>\n",
              "  <tbody>\n",
              "    <tr>\n",
              "      <th>0</th>\n",
              "      <td>NaN</td>\n",
              "      <td>NaN</td>\n",
              "      <td>ABW</td>\n",
              "      <td>nan</td>\n",
              "      <td>Aruba</td>\n",
              "      <td>Americas</td>\n",
              "      <td>Caribbean</td>\n",
              "      <td>0.216956</td>\n",
              "    </tr>\n",
              "    <tr>\n",
              "      <th>1</th>\n",
              "      <td>44.0</td>\n",
              "      <td>1989.0</td>\n",
              "      <td>AFG</td>\n",
              "      <td>﻿\\nIt gives me pleasure at the very outset to ...</td>\n",
              "      <td>Afghanistan</td>\n",
              "      <td>Asia</td>\n",
              "      <td>Southern Asia</td>\n",
              "      <td>0.232908</td>\n",
              "    </tr>\n",
              "    <tr>\n",
              "      <th>2</th>\n",
              "      <td>68.0</td>\n",
              "      <td>2013.0</td>\n",
              "      <td>AFG</td>\n",
              "      <td>I bring to all warm \\ngreetings and the good w...</td>\n",
              "      <td>Afghanistan</td>\n",
              "      <td>Asia</td>\n",
              "      <td>Southern Asia</td>\n",
              "      <td>0.274610</td>\n",
              "    </tr>\n",
              "    <tr>\n",
              "      <th>3</th>\n",
              "      <td>40.0</td>\n",
              "      <td>1985.0</td>\n",
              "      <td>AFG</td>\n",
              "      <td>I wish at the outset to congratulate the Presi...</td>\n",
              "      <td>Afghanistan</td>\n",
              "      <td>Asia</td>\n",
              "      <td>Southern Asia</td>\n",
              "      <td>0.235133</td>\n",
              "    </tr>\n",
              "    <tr>\n",
              "      <th>4</th>\n",
              "      <td>63.0</td>\n",
              "      <td>2008.0</td>\n",
              "      <td>AFG</td>\n",
              "      <td>Since the last time we \\ngathered here in this...</td>\n",
              "      <td>Afghanistan</td>\n",
              "      <td>Asia</td>\n",
              "      <td>Southern Asia</td>\n",
              "      <td>0.207283</td>\n",
              "    </tr>\n",
              "  </tbody>\n",
              "</table>\n",
              "</div>\n",
              "    <div class=\"colab-df-buttons\">\n",
              "\n",
              "  <div class=\"colab-df-container\">\n",
              "    <button class=\"colab-df-convert\" onclick=\"convertToInteractive('df-b29e6474-33f5-4676-a79a-7db7577ac71b')\"\n",
              "            title=\"Convert this dataframe to an interactive table.\"\n",
              "            style=\"display:none;\">\n",
              "\n",
              "  <svg xmlns=\"http://www.w3.org/2000/svg\" height=\"24px\" viewBox=\"0 -960 960 960\">\n",
              "    <path d=\"M120-120v-720h720v720H120Zm60-500h600v-160H180v160Zm220 220h160v-160H400v160Zm0 220h160v-160H400v160ZM180-400h160v-160H180v160Zm440 0h160v-160H620v160ZM180-180h160v-160H180v160Zm440 0h160v-160H620v160Z\"/>\n",
              "  </svg>\n",
              "    </button>\n",
              "\n",
              "  <style>\n",
              "    .colab-df-container {\n",
              "      display:flex;\n",
              "      gap: 12px;\n",
              "    }\n",
              "\n",
              "    .colab-df-convert {\n",
              "      background-color: #E8F0FE;\n",
              "      border: none;\n",
              "      border-radius: 50%;\n",
              "      cursor: pointer;\n",
              "      display: none;\n",
              "      fill: #1967D2;\n",
              "      height: 32px;\n",
              "      padding: 0 0 0 0;\n",
              "      width: 32px;\n",
              "    }\n",
              "\n",
              "    .colab-df-convert:hover {\n",
              "      background-color: #E2EBFA;\n",
              "      box-shadow: 0px 1px 2px rgba(60, 64, 67, 0.3), 0px 1px 3px 1px rgba(60, 64, 67, 0.15);\n",
              "      fill: #174EA6;\n",
              "    }\n",
              "\n",
              "    .colab-df-buttons div {\n",
              "      margin-bottom: 4px;\n",
              "    }\n",
              "\n",
              "    [theme=dark] .colab-df-convert {\n",
              "      background-color: #3B4455;\n",
              "      fill: #D2E3FC;\n",
              "    }\n",
              "\n",
              "    [theme=dark] .colab-df-convert:hover {\n",
              "      background-color: #434B5C;\n",
              "      box-shadow: 0px 1px 3px 1px rgba(0, 0, 0, 0.15);\n",
              "      filter: drop-shadow(0px 1px 2px rgba(0, 0, 0, 0.3));\n",
              "      fill: #FFFFFF;\n",
              "    }\n",
              "  </style>\n",
              "\n",
              "    <script>\n",
              "      const buttonEl =\n",
              "        document.querySelector('#df-b29e6474-33f5-4676-a79a-7db7577ac71b button.colab-df-convert');\n",
              "      buttonEl.style.display =\n",
              "        google.colab.kernel.accessAllowed ? 'block' : 'none';\n",
              "\n",
              "      async function convertToInteractive(key) {\n",
              "        const element = document.querySelector('#df-b29e6474-33f5-4676-a79a-7db7577ac71b');\n",
              "        const dataTable =\n",
              "          await google.colab.kernel.invokeFunction('convertToInteractive',\n",
              "                                                    [key], {});\n",
              "        if (!dataTable) return;\n",
              "\n",
              "        const docLinkHtml = 'Like what you see? Visit the ' +\n",
              "          '<a target=\"_blank\" href=https://colab.research.google.com/notebooks/data_table.ipynb>data table notebook</a>'\n",
              "          + ' to learn more about interactive tables.';\n",
              "        element.innerHTML = '';\n",
              "        dataTable['output_type'] = 'display_data';\n",
              "        await google.colab.output.renderOutput(dataTable, element);\n",
              "        const docLink = document.createElement('div');\n",
              "        docLink.innerHTML = docLinkHtml;\n",
              "        element.appendChild(docLink);\n",
              "      }\n",
              "    </script>\n",
              "  </div>\n",
              "\n",
              "\n",
              "<div id=\"df-ec21400b-4d48-4965-92f7-e10aa63e6e47\">\n",
              "  <button class=\"colab-df-quickchart\" onclick=\"quickchart('df-ec21400b-4d48-4965-92f7-e10aa63e6e47')\"\n",
              "            title=\"Suggest charts\"\n",
              "            style=\"display:none;\">\n",
              "\n",
              "<svg xmlns=\"http://www.w3.org/2000/svg\" height=\"24px\"viewBox=\"0 0 24 24\"\n",
              "     width=\"24px\">\n",
              "    <g>\n",
              "        <path d=\"M19 3H5c-1.1 0-2 .9-2 2v14c0 1.1.9 2 2 2h14c1.1 0 2-.9 2-2V5c0-1.1-.9-2-2-2zM9 17H7v-7h2v7zm4 0h-2V7h2v10zm4 0h-2v-4h2v4z\"/>\n",
              "    </g>\n",
              "</svg>\n",
              "  </button>\n",
              "\n",
              "<style>\n",
              "  .colab-df-quickchart {\n",
              "      --bg-color: #E8F0FE;\n",
              "      --fill-color: #1967D2;\n",
              "      --hover-bg-color: #E2EBFA;\n",
              "      --hover-fill-color: #174EA6;\n",
              "      --disabled-fill-color: #AAA;\n",
              "      --disabled-bg-color: #DDD;\n",
              "  }\n",
              "\n",
              "  [theme=dark] .colab-df-quickchart {\n",
              "      --bg-color: #3B4455;\n",
              "      --fill-color: #D2E3FC;\n",
              "      --hover-bg-color: #434B5C;\n",
              "      --hover-fill-color: #FFFFFF;\n",
              "      --disabled-bg-color: #3B4455;\n",
              "      --disabled-fill-color: #666;\n",
              "  }\n",
              "\n",
              "  .colab-df-quickchart {\n",
              "    background-color: var(--bg-color);\n",
              "    border: none;\n",
              "    border-radius: 50%;\n",
              "    cursor: pointer;\n",
              "    display: none;\n",
              "    fill: var(--fill-color);\n",
              "    height: 32px;\n",
              "    padding: 0;\n",
              "    width: 32px;\n",
              "  }\n",
              "\n",
              "  .colab-df-quickchart:hover {\n",
              "    background-color: var(--hover-bg-color);\n",
              "    box-shadow: 0 1px 2px rgba(60, 64, 67, 0.3), 0 1px 3px 1px rgba(60, 64, 67, 0.15);\n",
              "    fill: var(--button-hover-fill-color);\n",
              "  }\n",
              "\n",
              "  .colab-df-quickchart-complete:disabled,\n",
              "  .colab-df-quickchart-complete:disabled:hover {\n",
              "    background-color: var(--disabled-bg-color);\n",
              "    fill: var(--disabled-fill-color);\n",
              "    box-shadow: none;\n",
              "  }\n",
              "\n",
              "  .colab-df-spinner {\n",
              "    border: 2px solid var(--fill-color);\n",
              "    border-color: transparent;\n",
              "    border-bottom-color: var(--fill-color);\n",
              "    animation:\n",
              "      spin 1s steps(1) infinite;\n",
              "  }\n",
              "\n",
              "  @keyframes spin {\n",
              "    0% {\n",
              "      border-color: transparent;\n",
              "      border-bottom-color: var(--fill-color);\n",
              "      border-left-color: var(--fill-color);\n",
              "    }\n",
              "    20% {\n",
              "      border-color: transparent;\n",
              "      border-left-color: var(--fill-color);\n",
              "      border-top-color: var(--fill-color);\n",
              "    }\n",
              "    30% {\n",
              "      border-color: transparent;\n",
              "      border-left-color: var(--fill-color);\n",
              "      border-top-color: var(--fill-color);\n",
              "      border-right-color: var(--fill-color);\n",
              "    }\n",
              "    40% {\n",
              "      border-color: transparent;\n",
              "      border-right-color: var(--fill-color);\n",
              "      border-top-color: var(--fill-color);\n",
              "    }\n",
              "    60% {\n",
              "      border-color: transparent;\n",
              "      border-right-color: var(--fill-color);\n",
              "    }\n",
              "    80% {\n",
              "      border-color: transparent;\n",
              "      border-right-color: var(--fill-color);\n",
              "      border-bottom-color: var(--fill-color);\n",
              "    }\n",
              "    90% {\n",
              "      border-color: transparent;\n",
              "      border-bottom-color: var(--fill-color);\n",
              "    }\n",
              "  }\n",
              "</style>\n",
              "\n",
              "  <script>\n",
              "    async function quickchart(key) {\n",
              "      const quickchartButtonEl =\n",
              "        document.querySelector('#' + key + ' button');\n",
              "      quickchartButtonEl.disabled = true;  // To prevent multiple clicks.\n",
              "      quickchartButtonEl.classList.add('colab-df-spinner');\n",
              "      try {\n",
              "        const charts = await google.colab.kernel.invokeFunction(\n",
              "            'suggestCharts', [key], {});\n",
              "      } catch (error) {\n",
              "        console.error('Error during call to suggestCharts:', error);\n",
              "      }\n",
              "      quickchartButtonEl.classList.remove('colab-df-spinner');\n",
              "      quickchartButtonEl.classList.add('colab-df-quickchart-complete');\n",
              "    }\n",
              "    (() => {\n",
              "      let quickchartButtonEl =\n",
              "        document.querySelector('#df-ec21400b-4d48-4965-92f7-e10aa63e6e47 button');\n",
              "      quickchartButtonEl.style.display =\n",
              "        google.colab.kernel.accessAllowed ? 'block' : 'none';\n",
              "    })();\n",
              "  </script>\n",
              "</div>\n",
              "\n",
              "    </div>\n",
              "  </div>\n"
            ],
            "application/vnd.google.colaboratory.intrinsic+json": {
              "type": "dataframe",
              "variable_name": "undfe",
              "summary": "{\n  \"name\": \"undfe\",\n  \"rows\": 7562,\n  \"fields\": [\n    {\n      \"column\": \"session\",\n      \"properties\": {\n        \"dtype\": \"number\",\n        \"std\": 12.892154743113181,\n        \"min\": 25.0,\n        \"max\": 70.0,\n        \"num_unique_values\": 46,\n        \"samples\": [\n          28.0,\n          53.0,\n          58.0\n        ],\n        \"semantic_type\": \"\",\n        \"description\": \"\"\n      }\n    },\n    {\n      \"column\": \"year\",\n      \"properties\": {\n        \"dtype\": \"number\",\n        \"std\": 12.892154743113188,\n        \"min\": 1970.0,\n        \"max\": 2015.0,\n        \"num_unique_values\": 46,\n        \"samples\": [\n          1973.0,\n          1998.0,\n          2003.0\n        ],\n        \"semantic_type\": \"\",\n        \"description\": \"\"\n      }\n    },\n    {\n      \"column\": \"code_3\",\n      \"properties\": {\n        \"dtype\": \"category\",\n        \"num_unique_values\": 254,\n        \"samples\": [\n          \"REU\",\n          \"AND\",\n          \"FRO\"\n        ],\n        \"semantic_type\": \"\",\n        \"description\": \"\"\n      }\n    },\n    {\n      \"column\": \"text\",\n      \"properties\": {\n        \"dtype\": \"string\",\n        \"num_unique_values\": 7508,\n        \"samples\": [\n          \"Please permit me to\\noffer you, Mr. President, our congratulations on your\\nelection to your high office and to assure you of our\\nsupport and cooperation.\\nTo the Secretary-General we wish to express our\\nhighest regards and admiration for his leadership; and to the\\nPresident of the General Assembly at its forty-ninth session,\\nour deep appreciation for his contribution.\\nThis is also a most fitting occasion for me personally\\nto congratulate our brother and neighbour in the Pacific the\\nRepublic of Palau on becoming a full Member of the\\nUnited Nations. My delegation eagerly looks forward to\\nworking closely with that country.\\nToday, as we celebrate the passing of 50 years since\\nthe creation of the United Nations, we must also reflect on\\nthe events associated with the purpose for which this body\\nwas created. The havoc wreaked upon humanity by the\\nSecond World War prompted the founding fathers to devise\\nan instrument to ensure a stable world and a better future.\\nMy purpose today is, first, to recognize those areas\\nin which this body has undertaken some major initiatives\\nin various sectors that are of great and direct significance\\nto us in the Marshall Islands. I also will state briefly\\nsome of our concerns with respect to our membership in\\nthe United Nations, and then I intend to raise those issues\\nwhose implications have critical consequences for our\\nsurvival in our country. As members will note, some of\\nthese have been raised a number of times in this forum\\nduring the past sessions of this body.\\nThis year, the completion of the United Nations\\nConference on Straddling Fish Stocks and Highly\\nMigratory Fish Stocks is of particular importance to my\\ncountry, and my Government intends to sign and ratify\\nthe agreement, which was finalized this summer. We are\\nindebted to the very able leadership of the Chairman,\\nAmbassador Nandan, from Fiji. The Marshall Islands has\\ngiven its full support to the Ambassador in his\\ncandidature to the post of Secretary General of the\\nInternational Seabed Authority.\\nI wish to acknowledge the support we have received\\nfrom the Intergovernmental Panel of Experts of the\\nClimate Change Convention. The scientific evidence we\\nreceived from them in order adequately to address the\\nConvention confirmed our belief in the existence of such\\nphenomena as sea-level rise in many of our low-lying\\nislands and in our region.\\nWe are particularly concerned by the strong\\npossibility that the Alliance of Small Island States\\n\\n\\n(AOSIS) Protocol, now known as the Berlin Mandate,\\nmight be derailed because of intransigent short-term\\neconomic interests. Such a possibility, arising solely from\\nthe desire to facilitate the selling of more oil, if real,\\nimperils our very survival. We will not accept such a\\ncondition and we urge that interference and delaying tactics\\nthat hamper the work of AOSIS and other concerned\\ncountries should cease. The increasing level of destruction\\ncaused by hurricanes and storms is a clear signal that the\\nmatter is urgent. We have deep sympathy with our friends\\nin the Caribbean countries and in the United States who\\nwere recently struck by this devastation.\\nThe follow-up of the Global Conference on the\\nSustainable Development of Small Island Developing States\\nthat was held in Barbados last year will be looked at during\\nthis General Assembly session. The comprehensive and\\nambitious programme involved has received the\\nwholehearted endorsement and support of the Marshall\\nIslands Government. In this regard, may I extend our warm\\nthanks to the Chairman of AOSIS, Her Excellency\\nAmbassador Annette des Iles of Trinidad and Tobago, for\\nall her efforts.\\nMy Government also looks forward to receiving the\\nrecommendations of the Fourth World Conference on\\nWomen held in Beijing last month. We will work closely\\nwith the United Nations to ensure that the recommendations\\narticulated in the Conference are appropriately addressed.\\nMr. President, we endorse without hesitation the\\nconcern expressed in your statement in September of this\\nyear, in which you stated: \\u201cEfforts must be made to ensure\\nthat all States that are not yet Members should seek to be\\nadmitted in the near future\\u201d (Official Records of the\\nGeneral Assembly, Fiftieth Session, Plenary Meetings,\\n1st meeting, p. 7)\\nIn the light of this view, the reasons underlying the\\ninability of many of these nations to become Members of\\nthe United Nations should be examined. My delegation\\nfeels that the unfair burden that is borne by many of the\\nless developed countries with respect to the current system\\nof assessing the scale of contributions to the regular budget\\nand for peace-keeping operations deters others from seeking\\ntheir rightful place in this community of nations.\\nThe Marshall Islands participated actively in the High-\\nlevel Open-ended Working Group on the Financial Situation\\nof the United Nations, and we concur fully with the\\nrecommendation that the current floor rate should either be\\nabolished, reduced substantially, or be designed according\\nto a formula by which a country is assessed on the basis\\nof its capacity to pay. A decision to that effect by the\\nGeneral Assembly at this session will undoubtedly help\\nexpedite the realization of the goal that you,\\nMr. President, envisioned.\\nThe current inequities with respect to the existing\\nfloor rate have also been noted in a number of reports,\\nincluding that of the Committee on Contributions. My\\ndelegation strongly urges the United Nations to take\\naction on the recommendations made by that Committee\\nas soon as possible.\\nThe need to undertake certain structural reforms\\nwithin the United Nations in order to make it more\\nefficient and responsive to the changing needs of present-\\nday society is critical. One such area which should be\\nclosely looked at is the Security Council, where the\\nconcept of permanent membership does not, in our view,\\nconstitute fair democratic representation. We are,\\nhowever, aware of the differences in capabilities which\\nexist among nations. We are aware, too, of the need for\\nthis issue to be carefully weighed and believe that\\npossible solutions, including Italy\\u2019s proposal for a more\\nformal set of subgroups or constituencies, should be\\nseriously studied. This would be particularly helpful\\nwithin our own regional group. We are hopeful that the\\nHigh-level Working Group on the Security Council will\\nact with wise expediency to devise viable and acceptable\\nsolutions to this important issue.\\nWe are also carefully studying the various reports\\nand proposals developed by different groups on the work\\nof other agencies of the United Nations. One aspect which\\nwe consider to be of great importance is the need to\\ndetermine whether the existence of some of the agencies\\nrealistically justifies the resources provided for their\\nsupport. We must arrive at a frank assessment of whether\\nthe tasks entrusted to an agency are actually carried out\\nin a meaningful way, and what that work produces in\\nterms of results. As long as this issue remains\\ninadequately addressed, the climate of resentment and\\nsuspicion will persist and may give rise to adverse effects\\non the level of contributions needed to support the work\\nof the United Nations. We must make urgent progress to\\ncomplete this task of reform.\\nThe Convention on Biological Diversity and its\\nfundamental tenet regarding the conservation and\\nsustainable use of our resources is under serious threat\\nfrom human activities. Evidence derived from data\\ngathered in our country suggests in no uncertain terms\\n2\\n\\n\\nthat nuclear contaminants resulting directly from nuclear-\\nweapons tests conducted in our country have entered our\\nbasic food chain, upon which our very livelihood depends\\ncausing, among other things, extensive health risks.\\nWe must also pause and reflect on the plight of those\\ngroups of victims who, while the rest of the world was\\nenjoying the benefits and freedom of the post-war period,\\nwere themselves caught between the crossfire of super-\\nPower rivalries. One such unfortunate group was the people\\nof the Marshall Islands.\\nWe are steadily unravelling the large amount of\\ninformation now available to us on the nature and\\nconsequences of nuclear testing activities carried out in the\\nMarshall Islands. We are deeply disturbed and alarmed at\\nwhat we are uncovering. For in addition to the unfortunate\\nnuclear tests, we unearthed something just as horrifying as\\nthe nuclear tests themselves, if not more so. It grieves me\\nimmeasurably to report today that in one of the Trusteeship\\ndocuments we discovered it was confirmed that in a\\nmeeting held in New York on 10 May 1954, the Secretary-\\nGeneral of the United Nations agreed at the urging of the\\nthen United States Ambassador, Mr. Lodge, to withhold\\nfrom circulation to Member States a petition from the\\nMarshall Islands. The Marshallese petition, which pleaded\\nwith the United Nations to put an immediate halt to the\\ntests was to be withheld by the Secretary-General pending\\nthe completion of the test series. In this petition, the people\\nof the Marshall Islands, through their leaders, had expressed\\ntheir genuine fears and concerns to the only world\\ninstitution they believed could help them. In return,\\nhowever, the high executives in this institution not only\\nfailed to consider this a matter of any significant\\nimportance, but actually engaged in an act most unbefitting\\nthe integrity of this august body.\\nThe ethical implications of this act, unimaginable as\\nthey may be, are obvious. Nevertheless, I am raising the\\nissue, and I can assure the Assembly that we shall continue\\nto do so in various United Nations and other international\\nforums. We shall do so until the international community\\ntakes action to address our concerns and until this\\nOrganization acknowledges the support lent by high\\nofficials to nuclear testing in the Marshall Islands.\\nWe want to bring to the attention of the international\\ncommunity the reality and the magnitude of the effect of\\nthese tests on our health, our environment and our future\\ndevelopment as a nation. We also want it to become aware\\nof our daily struggle to cope with a situation whose\\nradiation-induced nature continues to haunt us, whose\\ncomplexity in terms of solutions is far beyond our\\ncapacity to handle and whose conception was solely for\\nthe purpose of countering hostilities and tensions that bore\\nno relationship whatsoever to the Marshall Islands.\\nAnd so I ask Member States, when they hear us\\nspeaking out about the perils of radiation, to think about\\nthese in terms of human suffering and to try to visualize\\nMarshallese children being born faceless, with no bones,\\nor with missing or extra limbs \\u2014 the jellyfish babies, as\\nsome have come to call them \\u2014 and the irreparable\\ndamage wreaked upon the reproductive health of their\\nmothers.\\nIt would be remiss of me, however, not to\\nacknowledge some of the efforts made by the former\\nTrustee in addressing our health and environmental\\nproblems caused by radioactive contaminants. We also\\nfeel that the international community has an obligation to\\ntake serious note of our concerns, as well as to undertake\\na leading and active role in ensuring that an acceptable\\nprocess, designed to restore the Marshall Islands to\\nhabitable conditions, is effectively and expeditiously set\\nin motion. We were, after all, entrusted by the United\\nNations itself, and so this body had the moral obligation\\nand the irrefutable responsibility at the time of testing to\\noversee these activities and to make our safety its primary\\nconcern. The same moral obligation, in our view, remains\\nbinding even today.\\nPerhaps one of the most gratifying things\\noccurring \\u2014 which, I might add, is giving us a ray of\\nhope \\u2014 is that there is now a growing consciousness of\\nthe fact that nothing short of a collective effort is needed\\nin order to focus on this issue. That some nations are\\nbeginning, although slowly, to understand and sympathize\\nwith our plight is most encouraging. This consciousness\\nis clearly reflected in their willingness to incorporate our\\nconcerns into pertinent and relevant international texts. I\\nshould like to cite some examples.\\nThe Review and Extension Conference of the States\\nParties to the Treaty on the Non-Proliferation of Nuclear\\nWeapons, for example, took special note of the\\ninternational community\\u2019s responsibility to assist the\\ninhabitants and restore the environment of the former\\nUnited Nations Trust Territories that were adversely\\naffected by nuclear-weapons-testing programmes.\\nThe Fourth World Conference on Women, held this\\nyear in Beijing, recognized that the concept and practice\\nof environmental degradation are incongruent with\\n3\\n\\n\\ndevelopment and that the use and testing of nuclear\\nweapons are undeniably one factor in the destruction of the\\nenvironment, the displacement of people and the creation of\\nhigh health risks.\\nThe South Pacific Forum, held last month in Papua\\nNew Guinea, called upon all Governments and international\\norganizations with expertise in the field of clean-up and the\\ndisposal of radioactive contaminants to give appropriate\\nassistance for remedial purposes when so requested by\\naffected countries. The Forum also noted the existence of\\na special responsibility towards those peoples of the former\\nUnited Nations Trust Territory administered by the United\\nStates that had been adversely affected by nuclear-weapon\\ntests conducted during the period of the Trusteeship. This\\nresponsibility includes the safe resettlement of displaced\\nhuman populations and the restoration to economic\\nproductivity of affected areas, the provision of adequate\\nhealth care and compensation for the loss of life, land and\\nhealth.\\nDuring the post-Forum dialogue in Papua New Guinea\\nour former Trustee \\u2014 the United States \\u2014 took the\\nposition that it would not stand in the way of the Marshall\\nIslands\\u2019 exploring the question of or soliciting assistance\\nfrom other countries or organizations for the purposes of\\nthe disposal of radioactive contaminants, the resettlement of\\naffected populations and the economic restoration of the\\nenvironment. Our sincere hope, however, is that the United\\nStates will not take its advocating of such a position as an\\nopportunity to bow out of its obligations. It is our hope that\\nit will, instead, redouble its efforts and, with the assistance\\nof other nations and international bodies, lend its full\\nsupport for the goal of making our country free of\\nradioactive contaminants.\\nI should also like to take this opportunity to thank the\\ncurrent Administration for its willingness to acknowledge\\nthe United States Government\\u2019s role in using human beings\\nfor radiation experiments, including at least two confirmed\\ninstances of medical research, which did not provide any\\ndirect benefit to Marshallese subjects.\\nThe unearthing of these horrendous activities is an act\\nof political courage on President Clinton\\u2019s part. For the\\nMarshall Islands, the White House Advisory Committee on\\nHuman Radiation Experiments uncovered vital information\\nabout the effect of radiation on people and the environment.\\nThe Marshall Islands appreciates the United States\\nGovernment\\u2019s recognition that the now infamous Bravo\\nblast was not the only weapon that exposed the Marshallese\\npeople and environment to radiation. It is worth bearing in\\nmind that, while Bravo was the equivalent of 1,000\\nHiroshima bombs, the total megaton equivalent of\\nweapons tested in the Marshall Islands exceeded 7,000\\nHiroshima bombs.\\nIt is an important step in our countries\\u2019 bilateral\\nrelations that we can now begin to broaden our discussion\\nof exposure. Exposure will never again be defined in\\nterms of fallout from Bravo alone, but will now\\nincorporate the cumulative effects of all the tests and the\\neffects of residual contamination in the environment. The\\nMarshall Islands looks forward to continuing to work with\\nthe United States Congress and the Clinton\\nAdministration to ensure that the recommendations of the\\nAdvisory Committee are fully implemented \\u2014 including\\nthe recommendation concerning whether it would be\\nappropriate to add the populations of other atolls to the\\nsouth and east of the blasts that have shown excessive\\nthyroid abnormalities. We hope that the international\\ncommunity will give these efforts its full support.\\nAs if our own four decades of painful experience\\nwith the dreadful business of nuclear testing were not\\nenough, there appeared once again this year in our\\nbeautiful Pacific the trauma of yet a further series of\\nnuclear tests, intended to continue until May next year. I\\nrefer of course to the French resumption this year of\\nnuclear testing at Mururoa. It is probably because we are\\nfar removed from metropolitan centres that there is a\\ntendency for certain people to look at the Pacific as the\\n\\u201cideal desert\\u201d for nuclear testing, as one French official\\nrecently put it. Often overlooked too is the fact that all\\nisland nations spread out across the length and breadth of\\nthe Pacific are connected by this mighty ocean. Nuclear\\ndamage to one island nation poses immense long-term\\nimplications and dangers to others in the region.\\nAs people who are living the nightmarish experience\\nof nuclear testing, we cannot and will not accept the weak\\nargument that the current tests are safe for any of our\\nPacific neighbours and friends. Nor can we accept the\\ncontinuation of this irresponsible practice in the region.\\nWe have denounced its resumption from the beginning\\nand will continue to do so.\\nWe joined in support of New Zealand\\u2019s case against\\nFrance in the International Court of Justice. We took this\\naction with great regret since France has always been a\\nconstructive partner in our relationship with the developed\\nworld. It is simply incomprehensible to us that this great\\nnation of culture, science and fine arts could visit this\\nabomination upon us in the Pacific region. We protested\\n4\\n\\n\\nto the French authorities, but the first tests went ahead\\nanyway. Although the International Court of Justice\\ndeclined to hear the case, the decision was entirely based\\non technicalities. France should not think that this is a\\nvictory for it, as many of the judges pointed out that there\\nwas a strong moral and legal background for halting the\\ntests. I strongly disagree with the claim made by the French\\nForeign Minister here a few weeks ago \\u2014 that the tests\\nwere environmentally safe. Look at the situation I have just\\ndescribed in the Marshall Islands. We have also received\\ndocumentation from a number of eminent scientists which\\nwould, at the very least, warrant exercising caution.\\nFurthermore, France is a State party to the Noumea\\nConvention for the Protection and Development of Natural\\nResources and Environment of the South Pacific Region as\\nwell as the Convention on Biological Diversity. The\\nprinciple of environmental-impact assessment and the\\nprecautionary approach are not compatible with the\\nactivities that it is carrying out today. The offer to carry out\\nan impact assessment after the tests are finished is a\\nridiculous offer, since by then it might be much too late.\\nThe tests are violating treaties and they are violating our\\nenvironment, and I also think that they are a violation of\\nour human rights. The tests must stop. They must stop now.\\nThe collective voice of the leaders of the countries of\\nthe South Pacific Forum was heard when a statement was\\nissued during its meeting in Papua New Guinea expressing\\nextreme outrage at the resumption of French nuclear testing\\nin the Pacific. They demanded that France desist from any\\nfurther tests. The outrage was especially compounded by\\nthe intransigence of France, and the People\\u2019s Republic of\\nChina, in persisting with their nuclear tests in the face of\\nthe strong views of the Pacific region. My Government\\nstands by the decision announced last week by the\\nChairman of the Forum, Sir Julius Chan, that France is no\\nlonger invited to the post-Forum dialogue.\\nWe are in full support of the extension of the Non-\\nProliferation Treaty. We will also work actively to achieve\\na breakthrough in the negotiations for a comprehensive test-\\nban treaty. We also acknowledge the support of just, fair-\\nminded and world-conscious leaders and peoples, who have\\ncondemned and continue to condemn this anachronistic\\nseries of tests in the Pacific. We join our voice to theirs in\\nsupport.\\nThis session provides the community of nations with\\na unique opportunity to examine our past performance\\nrecord. As a world-governing institution, the United Nations\\nmust look closely at its strengths and build upon them.\\nLikewise, it must pay particular attention to its\\nshortcomings and weaknesses so that it can continue to\\nprovide much-needed hope, strength and direction to the\\nnations of the world.\\n\",\n          \"\\ufeffIt is an honour and\\nprivilege for me to deliver this statement on behalf of\\nHis Majesty King Mswati III. I wish to convey the\\ngreetings and warm wishes of His Majesty, Her\\nMajesty The Queen Mother, Ndlovukazi, the\\nGovernment and the entire Swazi nation to all our\\nfriends and fellow Members of the United Nations.\\nThe Kingdom of Swaziland offers her warmest\\ncongratulations to the President on his election to the\\npresidency of the General Assembly at its fifty-sixth\\nsession. We are confident that with his proven abilities\\nand leadership, he will guide us to success in our\\ndeliberations at this time of crisis in global affairs.\\nAllow me to express our appreciation to his\\npredecessor, His Excellency Mr. Harri Holkeri, of\\nFinland, who, by his astute and judicious leadership,\\nbrought to a successful conclusion the work of the\\nfifty-fifth session.\\nThe Kingdom of Swaziland would further like to\\ncommend the Secretary-General, Mr. Kofi Annan, for\\nleading our Organization so effectively through his\\ntenure thus far. We will continue to depend on his\\nhighly developed sense of diplomacy and his\\nundoubted commitment to achieve global peace,\\nstability and equitable development. The recent award\\nof the Nobel Peace Prize to both the Secretary-General\\nand the United Nations attests to the aforementioned\\nattributes.\\nWe are also grateful for the continuing dedication\\nand hard work of the staff of the United Nations, whose\\nefforts are needed all the more in these challenging\\ntimes. In this regard, we call upon all our fellow\\nMembers to demonstrate their support for the\\nSecretary-General and his staff by honouring their\\nfinancial obligations, so that our Organization can have\\nsufficient resources with which to meet the widening\\nscope of its activities.\\nWe are meeting one year after the historic\\ngathering of world leaders, when the international\\ncommunity sought to redefine and articulate a common\\nvision for the future of all its citizens. The goals to be\\nachieved were clearly set out in the Millennium\\nDeclaration as an outcome of the Millennium Summit.\\nToday we have the opportunity \\u2014 indeed, the\\nresponsibility \\u2014 to evaluate just how far we have come\\nin that mission which we set for ourselves through this\\nOrganization. We need to address honestly our\\nshortcomings in commitment and action and to further\\ndevise practical and realistic strategies that will result\\nin measurable progress in areas identified for urgent\\naction.\\nThe Kingdom of Swaziland therefore believes\\nthat the promotion of sustainable international peace\\nand security must be one of the main priorities of the\\nUnited Nations, because it is clear that our collective\\naim of raising the living standard of our peoples is\\n36\\n\\npossible only in conditions of global stability and with\\nnations living harmoniously alongside one another.\\nThe Kingdom of Swaziland joined the rest of the\\nworld in condemnation of the tragic terrorist attacks of\\n11 September, to which the international community\\nmust respond because such acts are an assault on\\nhuman decency and humanity. These acts cannot be\\njustified under any circumstances. The Kingdom of\\nSwaziland repudiates such acts and aligns itself with all\\npeace-loving people around the world not only in\\ncondemning such acts, but also in calling for their\\ncomplete eradication. To that end, the Kingdom of\\nSwaziland will do all in its power to prevent acts of\\nterrorism and to ensure that the support and financing\\nof terrorism cannot take root on Swazi soil. We once\\nmore offer our sympathy and prayers to the families\\nand friends of those who lost their lives in the tragedy.\\nFuture global stability is threatened by the spread\\nof weapons of mass destruction, as well as the\\nunabated proliferation of small arms and light\\nweapons. Vigorous and urgent efforts are needed to\\neliminate these weapons. In this regard, we welcome\\nthe successful conclusion of the United Nations\\nConference on Facilitating the Entry into Force of the\\nComprehensive Nuclear-Test-Ban Treaty, as well as of\\nthe United Nations Conference on the Illicit Trade in\\nSmall Arms and Light Weapons in All Its Aspects. We\\ndeem their outcomes timely and necessary.\\nWhile much has been done through the process of\\nreform effected by the Secretary-General, it is also\\nrecognized that there has been very little progress made\\nso far by the Open-ended Working Group to address\\nthe most important aspect of the reform: the\\nrestructuring of the Security Council. More intensified\\nefforts should be made to bring to a conclusion the\\ndeliberations on this issue, and we look forward to the\\nleadership of the President of the General Assembly in\\nadvancing negotiations towards a lasting solution. The\\nKingdom of Swaziland is still committed to the process\\nof the reform for the expansion of the Security Council\\nin both categories of its membership. In that regard, we\\ncontinue to support the African position in favour of\\ntwo permanent seats and three non-permanent seats\\nbeing allocated to the African continent.\\nThe Kingdom of Swaziland believes that the\\nUnited Nations, in conjunction with regional\\norganizations, must take on a more proactive role in\\npreventive diplomacy to head off potentially explosive\\nsituations. We need an effective early warning\\ncapability to deal with emerging conflicts and much\\ncloser collaboration between the Security Council and\\nthe Office of the Secretary-General in our efforts to\\nmeet security challenges wherever they may occur.\\nAt this time, our Organization is understandably\\nfocused on global security. The crisis in the peace\\nprocess between Israel and the Palestinian Authority is\\na component of the overall challenge and continues to\\npose a significant threat to security in both the Middle\\nEast and the wider world at large. The Kingdom of\\nSwaziland believes that the only solution to the\\ncontinuing instability in that region is through peaceful\\ndialogue and a return to the spirit of compromise and\\nunderstanding that has characterized the relationship\\nbetween the two sides in the past. We commend the\\nefforts of all who are trying to bring lasting,\\nsustainable peace to the Middle East, and we offer our\\nencouragement and support for the achievement of this\\ngoal.\\nOn the African continent, security challenges\\ncontinue to cause suffering and restrict the\\ndevelopment of many millions of our people. While\\nthis is undeniable, it is also clear that Africa itself is\\ntaking on the responsibility to find solutions to the\\ncrises affecting a number of its nations. The peace\\nprocesses in Burundi, the Democratic Republic of the\\nCongo, Sierra Leone, Ethiopia and Eritrea and Angola\\nall have benefited from the involvement of our regional\\nand subregional groupings and from the efforts of\\ndedicated African men and women. The Kingdom of\\nSwaziland supports unequivocally these efforts, and we\\njoin our fellow African Member States in calling for\\ncontinued and enhanced support from the United\\nNations and individual countries and for commitments\\nin word to be followed up by action.\\nIn developmental terms, there is a new wind\\nblowing through all the African countries, bringing\\nfresh hope to our peoples for improved standards of\\nliving and the removal of the burdens of the past. A\\nseries of historic agreements by all African countries\\nindicates a new era of optimism for the continent, as\\nwell as the start of a new relationship with the rest of\\nthe world. The continent will no longer tolerate the\\nnotion of unconstitutional Governments, and we have\\nall confirmed our belief that transparency and\\naccountability are the watchwords of governance that\\nplaces people at the centre of development.\\n37\\n\\nWe also believe that trade with the rest of the\\nworld is the lifeblood of our developing economies,\\nencouraging the creation of businesses and inward and\\nlocal investment and increasing employment. We\\ntherefore commend those countries and trading blocs\\nthat recognize the importance to Africa of freeing up\\ntheir markets for our goods and services and encourage\\nothers to follow suit.\\nThe birth of the African Union is a signal to the\\nrest of the world that Africa means business and is\\nready to back up its words with action. The New\\nAfrican Initiative proposes a partnership that is based\\non support for an Africa that recognizes and accepts its\\nresponsibilities from a world that understands our\\npriorities for development. We commend the initiative\\nto those who are in a position to help Africa emerge\\nfrom the disappointments of the past into a prosperous\\nand secure future.\\nWe are on the edge of a global recession, and its\\neffects will be felt hardest among those of us in the\\ndeveloping world. After a decade of encouraging talk\\nof the benefits of globalization, we are discovering the\\nhard truth: that we are nowhere near the stage of being\\nable to gain advantage from a world of liberalized\\ntrade. This must now surely be plain for anyone to see.\\nGlobalization in its unfettered form is likely to do\\nmore harm than good to the small, vulnerable\\neconomies unless measures are put in place to protect\\nthem in the short to medium term. There must be\\nagreed ground rules to regulate the conduct of free\\ntrade in goods and services to ensure an equitable\\nexchange between unequal partners.\\nConsidering the intrinsic link between peace,\\nsecurity and development, the United Nations has an\\neven bigger responsibility to increase its efforts to\\nsecure resources to finance development, especially for\\nthose of us most at risk in these times of economic\\nuncertainty. We believe it is the responsibility of the\\nwider international community to continue to provide\\nresources to assist developing countries to fight their\\nway out of poverty.\\nThe Kingdom of Swaziland continues to develop\\nconfidently and peacefully, according to the wishes of\\nits people. Our review of the Constitution was\\ncompleted earlier this year, and the recommendations\\nof the people will now be drafted into a legal document\\nfor final approval by the Swazi nation next year. This\\nvital nation-building process will result in a\\nConstitution that is based entirely on the wishes of the\\npeople themselves, and we are confident that it will\\nserve the best interests of the Kingdom for many\\ngenerations to come.\\nPoverty alleviation remains the top priority for\\nthe Kingdom, and we continue to make great efforts to\\nachieve this aim through a series of economic\\nmeasures, such as investment attraction, increased\\ntrade and the stimulation of local entrepreneurship. We\\nare embarking on an ambitious programme to\\nmaximize the potential of our tourism and industry\\nsectors, and in this we need the support of the\\ninternational financial institutions, as well as the\\nUnited Nations Development Programme.\\nDespite our best efforts, and in common with all\\ndeveloping countries, the Kingdom is finding progress\\ndifficult to achieve in the face of huge obstacles, with\\nthe greatest undoubtedly being the threat to our future\\nposed by the HIV/AIDS crisis. During the United\\nNations special session on HIV/AIDS held here in\\nJune, we made clear the scale of the disaster facing our\\nnation. There is no doubt that the spread of HIV among\\nthe population represents our greatest development\\nchallenge, and we are working hard in a combined,\\nnational effort to overcome the devastating effects of\\nthe pandemic.\\nHowever, we cannot do this alone. We need\\nsubstantial support to implement our strategy of\\neducation, prevention, care and counselling. Finances,\\ndrugs, expertise and guidance are all urgently required.\\nThe very survival of our nation is at stake, and we\\nappeal once more to the United Nations and to the\\ninternational community at large not to abandon us at\\nthis moment of supreme necessity.\\nIt could be said that there has been an\\ninauspicious start to the twenty-first century, with the\\nglobalization of terrorism and the reality of a global\\neconomic recession at the forefront of our minds. This\\nplaces all the more responsibility on the United Nations\\nto harness the resources and commitment of the\\ncitizens of the world for the benefit of humankind. In\\nthis regard, there is a compelling need to include all\\npeoples of the world, as envisaged by our founding\\nfathers and as enshrined in the principle of universality.\\nAcknowledging the importance of this principle,\\nthe Kingdom of Swaziland raises once more the\\nquestion of the inclusion of the Republic of China on\\nTaiwan in the activities of the United Nations and its\\n38\\n\\nassociated agencies. We appeal on behalf of the 23\\nmillion people of the Republic of China on Taiwan for\\ntheir right to representation in the United Nations\\nOrganization. The Government and people of the\\nRepublic of China on Taiwan have shown themselves\\nto be wholly committed to observing the principles and\\nspirit of the Universal Declaration of Human Rights\\nand of the Charter of the United Nations.\\nIn addition to the peaceful democratic transition\\nthat took place last year, the recent admission of the\\nRepublic of China on Taiwan to the World Trade\\nOrganization attests to the significant contribution the\\nRepublic of China has made and will continue to make\\nto international trade. The Republic of China on\\nTaiwan has shown time and again its willingness to\\nparticipate in efforts to bring about true global peace,\\ndevelopment and security, and its commitment to\\nutilize its resources for the benefit of mankind.\\nThe Kingdom of Swaziland has been at the\\nforefront of efforts to support the readmittance of the\\nRepublic of China on Taiwan to the United Nations.\\nOur position on this important issue remains\\nunchanged. We therefore appeal to our fellow Members\\nto support the establishment of a working group to\\nexamine in detail the exceptional international situation\\nrelating to the Republic of China on Taiwan, with a\\nview to ensuring that its 23 million people can\\ncontribute actively to the international community\\nthrough participation in the United Nations and its\\nrelated agencies.\\nAt the Millennium Summit, we the Member\\nStates of the United Nations agreed to seize the\\nopportunity to forge a new era of optimism for the\\nworld, based on equality, peace and prosperity. That\\nopportunity is fading fast, and we need to redouble our\\nefforts and determination to make that vision a reality.\\nThe Kingdom of Swaziland renews its commitment to\\nthe Charter and aims of the United Nations and offers\\nto its fellow Members assurances of continued support\\nfor all activities that will help the world to achieve a\\nbetter future for all its peoples.\",\n          \"\\n On behalf of the People's Republic of Mozambique it gives me pleasure to congratulate Ambassador Choudhury on his unanimous election to the presidency of the forty-first session of the General Assembly. His election to such a high office expresses the confidence of all of us in his outstanding qualities as an able and experienced diplomat. I am confident\\nthat under his guidance the deliberations of this session will be crowned with success. I assure him at the outset of our total readiness to co-operate with hint in the discharge of the functions entrusted to him.\\nX congratulate the outgoing President, Mr. Jaime de Pinies, who guided with competence the deliberations of the historic fortieth session of the General Assembly.\\nI wish to express once again to the Secretary-General of our Organization, Mr. Javier Perez de Cuellar, my appreciation of his zeal and his devotion to the United Nations cause as well as to that of the fulfillment of the principles and objectives enshrined in the Charter. I also wish to express the feelings of satisfaction of the Government I represent ^t seeing the Secretary-General back with us and fully recovered.\\nIt is with deep concern that our Organization is witnessing a proliferation of conflicts and tensions in the international arena.\\nSouthern Africa is one of the most worrying regions of conflict. The apartheid regime constitutes, by its policy and practices, a serious threat to international peace and security. In advocating theories of racial supremacy and claiming a divine mission assigned to the Afrikaner tribe, in perpetrating systematic massacres against the majority of the population, apartheid is Zionism. Like Zionism, the apartheid regime seeks to impose its power on the region through aggression and occupation. Thus, it occupies Namibia and parts of the territory of Angola. It attacks neighboring countries, including those whose economic and military weakness and small populations pose no threat to the security of the South African regime. The tactics of armed banditry used by Hitler to destabilize and destroy targeted countries are today used by Pretoria in southern Africa. In Mozambique, Angola, Zimbabwe and other countries in southern Africa, armed bandits, trained, equipped, transported, organized, financed and commanded by South Africa, commit horrible crimes against people and their property. Hitler's ambitions to establish a Germanic Europe find their counterpart in our region in the South African theory of the establishment of a constellation of States which would be under the dominance of the Afrikaner regime. All this shows the Nazi-Fascist nature of the regime in Pretoria, a regime that constitutes a serious threat to international peace and security.\\nIt is against this heinous regime that the South African people stand up with courage and determination within South Africa. It is a heroic struggle that has achieved unprecedented development in the last two years. The South African people, under the leadership of the African National Congress (ANC) and other progressive and democratic forces, have taken the initiative in transforming South African society and creating an ambiance of equality, liberty and justice. They are more conscious than ever of the justness of their cause. Assassinations and massacres have failed to deter the people's movement, thus proving that unarmed people, when they are united, determined and fighting for a just cause, can render inoperative the repressive machine of the regime.\\nWith this struggle, the South African people are beginning to build a united, democratic and anti-racist nation. Blacks, Coloreds, Indians, whites. South Africans of varying beliefs and social status, are fighting side by side for the abolition of apartheid. Even in the bantustans the people are rebelling against the regime and its collaborators, thus destroying the illusion of a fragmented and submissive South Africa.\\nIn the process of the liberation struggle, the ANC has been the catalytic force in the struggle for the abolition of apartheid. It has been able to sustain the burning torch of the liberation struggle for the fulfillment of the principles enshrined in the Freedom Charter. The ANC's cause has become one that is embraced by all nationalist organizations, be they political, trade-unionist or religious.The commitment of the South African people to the struggle for their liberty grows all the time. Against this strong determination of the South African people to free themselves from racist oppression, the apartheid regime throws its murderous machine. Thus, in the last two years thousands of men and women, young and old, have been imprisoned, tortured, banned or assassinated.\\nThose patriots and martyrs exemplify the courage of a people that no longer fears the regime's repressive apparatus. Facing armored cars and bullets with bare hands, the South Africans are deciding on their country's future and are ensuring that South Africa will be free. I should like once again to express our solidarity with those heroic people and with their struggle.\\nThe struggle of the South African people for liberty, equality, justice and democracy is paralleled by the struggle of the Naaibian people for the realization of their inalienable right of self-determination and independence. Their struggle enjoys the unconditional support of the People's Republic of Mozambique.\\nTwenty years have elapsed since this Organization terminated South Africa's Mandate over Namibia. In the course of those years we have adopted numerous declarations and resolutions either demanding the withdrawal of South Africa from the Territory of Namibia or condemning South Africa's refusal to abide by the decisions of the General Assembly and the Security Council.\\nJust a few days ago the fourteenth special session of the General Assembly, devoted to the question of the independence of Namibia, was held. He noted with regret that the United Nations has once again been prevented from unanimously adopting effective measures against South African colonialism. He also noted with dismay that despite professions of agreement on this fundamental question of Namibia's independence, some of us remain indifferent to the continued imprisonment, torture and massacre of the Namibian people by the Pretoria regime. These parties persist in making Namibia's independence conditional on the withdrawal of Cuban internationalist troops. They question the legitimacy and justness of the armed liberation struggle the people of Namibia have been compelled to wage. What other possible avenues are open to colonized peoples when oppressive regimes are indifferent or, as in the present case, when a regime challenges the international community as a whole? What alternatives are left to the Namibian people when the colonial regime defies United Nations resolutions to which it has agreed and challenges the international community, when it is unwilling to accept the dialog that would lead to the genuine independence of the Territory, when it arrests, tortures and massacres the people of Namibia and when it turns the ' Territory into a prison where every ten inhabitants are under the permanent control of one soldier? There is neither moral nor religious justification for demanding greater patience of these people.\\nIn the history of the struggle for independence the people of Namibia are not the first to tread the path of armed struggle. Peoples of Europe, Asia, America and Africa duly represented here affirmed their right to independence through armed struggle. Europe, weapons in hand, fought against Hitler's occupation and fascism. The People's Republic of Mozambique is itself a product of armed struggle for national liberation.\\nGiven the intransigence of the illegal regime of Ian Smith and the non-compliance by some States with the sanctions imposed by our Organization, Zimbabwe would not have acceded to independence and become a full-fledged Member of the United Nations had it not waged armed struggle.\\nNamibia is former German colony that should have acceded to independence in the 1960s, as did Tanganyika, Burundi, Togo, Rwanda and Cameroon. Historical facts prove that the question of Namibian independence has nothing to do with the situation prevailing in Angola. It was still a Portuguese colony with Portuguese troops on its soil when South Africa declared the annexation of South West Africa. Eight years before the independence of Angola the United Nations established the Council for Namibia to administer the Territory until independence. Pretoria opposed that process. In 1973 the Security Council, by a unanimous vote and with the acquiescence of South Africa, adopted its resolution 435 (1978). Cuban troops were already in the sovereign territory of Angola, and neither South Africa nor any other Western country raised that issue as being an impediment to the Territory's independence. We recall that other arguments were advanced by the racist South Africans. It is only after all those arguments had been overcome that South Africa and this or that other country raised the false pretext of the presence of Cuban forces.\\nPretoria is thus blocking the implementation of Security Council resolution 435 (1978). It is contrary to ethics and to international law to link the independence of any people to issues extraneous to that people's country and concerning which they do not have the power of intervention or decision. Today as yesterday the purpose of South Africa's maneuvers with respect to Security Council resolution 435 (1978) is to preserve the colonial occupation of Namibia and to prevent the international community from concentrating its attention on the total elimination of apartheid.\\nThe obstinate attitude of Pretoria is possible only thanks to the support and complicity of certain Western countries which allow the South African authorities to buy time and create the conditions for undermining the unity of the Naiaibian people and destroying the South West Africa People's Organization (SWAPO), its sole authentic representative.\\nWe must reiterate here our rejection of linkage and reaffirm that Security Council resolution 435 (1978) remains the sole acceptable basis for a negotiated solution of the problem. It must be implemented immediately and unconditionally.\\nWhen one talks of apartheid, one speaks of the aggression constantly perpetrated by South Africa against the independent countries and peoples of southern Africa. One speaks of armed banditry and organized terrorism that are the preferred instrument of the racist regime in its political and economic destabilization of the countries of southern Africa. South Africa's is a strategy for regional domination that seeks to turn our countries into docile instruments of apartheid.\\nPart of the territory of Angola is under racist occupation. With the objective of consolidating its aggression against and occupation of the sovereign territory of the People's Republic of Angola, the Pretoria regime protects and renders all forms of military assistance to the puppet bands of UNITA. We vigorously condemn this aggression against the People's Republic of Angola, a full-fledged Member of our Organization, and we demand the immediate and unconditional withdrawal of South African troops from Angola.\\nThe People's Republic of Mozambique has not been spared from this aggressive and bellicose policy of destabilization. Through armed bandits, the Pretoria regime is waging a veritable undeclared war against our country. That war is translated into terrorist acts such as the systematic destruction of communal villages, schools, hospitals, farms and sugar and tea factories. The terrorists, in the pay of Pretoria, cruelly assassinate farmers, foreign technicians, students, nurses, priests, nuns and clerical members of several religious denominations.\\nAs an example, it is estimated that overall destabilization since 1975 has resulted in the destruction of about 500 schools, leaving 90,000 students without classes; 800 shops have been destroyed and put out of operation, with serious' effects on agricultural marketing; one in every 10 health units has been sacked.\\nThose are just a few instances of the i rap act of the external aggression against Mozambique. Our Government has assessed the direct effects of this undeclared war at more than $US 4 billion. The estimate does not include the indirect effects of the paralysis of production and the strangling of the distribution, transport and shipment system. Nor does it include the cost of rehabilitating the economic and social infrastructures that have been destroyed.\\nThese acts of terrorism against the People's Republic of Mozambique give concrete effect to a strategy conceived outside our country. Only a plan engendered by external forces could conceive of such cruelty, such great destructive fury and such a total absence of the most elementary national and human sentiments.\\nWe are witnessing maneuvers by Pretoria and other imperialist circles to transfer the operational bases of the armed bandits to countries other than South Africa, with a view to extending the conflict between the peoples of the region and apartheid to relations among certain African States.\\nWe have frequently reaffirmed our vigorous condemnation of terrorism. We are concerned about the fact that members of terrorist groups that sow death and destruction in Mozambique enjoy the support and public complicity of some Western countries, countries that proclaim themselves to be champions of the struggle against terrorism.\\nThe southern African experience teaches us that apartheid is an intrinsically violent and bellicose regime that refuses solutions through dialog and a negotiated solution to the conflict between it and the people of the region.\\nSolutions proposing the abolition of apartheid have had no response from the authorities in Pretoria. That is the reason why the Pretoria regime imprisons the genuine leaders of the South African people and imposes a state of emergency, refuses to negotiate with the South West Africa People's Organization (SWAPO); and dares to violate the agreements and commitments that should bind the regime to put an end to its bellicose policy in its relations with the neighboring countries.\\nIn the history of the diplomatic struggle aimed at persuading the Pretoria regime to abandon its racist policies, the Western countries themselves have met with South Africa's intransigence. The international community has arrived at a consensus that the apartheid system has no mechanisms of self-correction and that it cannot be reformed. In that respect, may I quote the following said by President Samora Machel:\\n'There is no democratic apartheid. There is no humane apartheid. There is no peaceful apartheid. Apartheid is the negation of justice, equality, social interaction. It is an institutionalized expression of the violation of every human right. Apartheid, like colonialism, cannot be reformed. Apartheid, like colonialism, must be eradicated.'\\nThe so-called reforms heralded by the apartheid regime, under the slogan 'adapt or die', are nothing but attempts to deceive the people of South Africa and international public opinion as well as to appease the popular revolt and thus safeguard and perpetuate the supremacy of the white minority.\\nThe Pretoria regime has already shown itself to be insensitive to persuasion through dialog conducive to a speedy end of the system. As we stated at the Paris International Conference on Sanctions against Racist South Africa, certain Western countries that continue to refuse to contemplate effective measures against South Africa should tell us what to do when they say no to violence, no to sanctions, no to pressures; and South Africa tells us: no to dialog. These countries should show us the road to take in view of the failure of the pseudo-reformist movement undertaken by the racist regime itself. The arguments that sanctions would hurt the black South Africans the most and would affect the economy of the countries of the region are not consistent.\\nIn South Africa nothing can be worse than death itself. Death and murder are daily occurrences there. Even corpses are riddled with bullets on their way to the cemetery. Mourners are also shot at and end up being corpses themselves to be buried. That is one of the reasons why the South African people call for sanctions as a means to shorten their suffering.\\nAddressing the issue of the effects of the sanctions on the neighboring countries, the President of the People's Republic of Mozambique,\\nMr. Samora Moises Machel, told the Summit Conference of the Movement of Non-Aligned Countries in Harare:\\n'In reality. South Africa has applied undeclared sanctions, since 1975, against countries of the region, apart from the destruction caused by aggression'.\\nWhile South Africa considers the application of sanctions against it as immoral, it has none the less applied sanctions against the States neighboring it. The apartheid regime has systematically destroyed communication and transportation systems that ensure the economic life of the countries of the region.\\nBy sabotaging, through the armed bandits under its command, access to the Mozambican ports of Maputo, Beira and Nacala and the Angolan port of Lobito, South Africa aims at impeding the economic emancipation of the peoples of southern Africa that at present is being undertaken by the Southern African Development Co-ordinating Conference. In this context, the losses caused by the apartheid regime up to 1985 to the States members of the Southern African Development Co-ordinating Conference are estimated at $US 10 billion.\\nApartheid is a crime against humankind and therefore must be eradicated. The elimination of apartheid demands that the whole international community take effective, concerted and forceful measures.\\nI reiterate here the appeal we have on various occasions addressed to all Member States to denounce, condemn and fight by all means the South African bellicose policies; to restate their moral, diplomatic and material support for the African National Congress (ANC) and the other democratic forces in South Africa that are struggling for a just and democratic society; to fight the armed banditry and State terrorism that are devastating our region and demand that South Africa henceforth terminate its support of terrorists; to provide concrete multifarious assistance to the front-line States, particularly Angola and Mozambique, so that those two front-line States may strengthen their defense capability and safeguard their independence, national sovereignty and territorial integrity and ensure the good fractioning of the port and railway systems vital to the economies of the hinterland States.\\nThe twenty-second Submit of Heads of State and Government of the Organization of Africa) Unity, held in Addis Ababa in July, and the eighth Summit of the Non-Aligned Countries, held in Harare this month, adopted two special declarations on southern Africa. In them the Heads of State and Government reiterated their commitment and determination to struggle for the establishment of freedom and justice in South Africa and in Namibia through the total dismantling of apartheid. They expressed the support of the two Organizations for the demands of the Commonwealth countries contained in the Commonwealth Agreement on southern Africa.\\nThe Heads of State and Government of the two Organizations adopted concrete measures to be implemented, inter alia the following', first, to exert pressure on the South African regime to bring it to change its policies; secondly, to support the people of South Africa and Namibia in their struggle against apartheid and the front-line and other States of southern Africa in their endeavors to reduce their dependence on racist South Africa.\\nWe appeal to the Member States of the Oil the Nations to support and fully implement those declarations.\\nIn the Maghreb region, the Sahraoui people have been struggling for the past 10 years for reaf fir nation of their right to self-determination and independence. That is a right enshrined in the Charter of our Organization, and it has been constantly reaffirmed year after year. The efforts undertaken by the Secretary-General with a view to finding a negotiated solution for the Sahraoui conflict cannot but be considered positive. It is our strong desire that these efforts may lead to direct negotiations between the Kingdom of Morocco and the Polisario Front in fulfillment of the relevant resolutions of the Organization of African Unity, the Non-Aligned Movement and the United Nations.\\nWe express our solidarity with the Palestinian people, led by the Palestine Liberation Organization (PLO), in their struggle towards the achievement of legitimate and inalienable rights, including the right to create a free, independent and sovereign State. We demand the total and unconditional withdrawal of Israel from the occupied Arab territories and strict respect for the sovereignty and territorial integrity of all States of the region, in particular Lebanon.\\nThe ongoing fratricidal war between Iran and Iraq, two Member States of our Organization, is a matter of great concern. The resolutions of the Non-Aligned Movement and the United Nations reflect a strong expression of the will of the international community to assist in bringing about an end to this war. We appeal to the two parties to the conflict to abide by them.\\nThe people of East Timor continue to struggle heroically against foreign occupation aid for respect for their inalienable right to self-determination and independence. We commend the efforts undertaken by the Secretary-General of the United Nations in the search for a just solution compatible with the true aspirations of the East Timor people. We invite the parties involved, Indonesia in particular, to implement the resolutions of our Organization. We warmly greet FRETILIN, which has been able to keep alive the flame of the liberation struggle of the Maubere people. We reiterate our unflinching solidarity with FRETILIN.\\nOn the Korean peninsula, we support the efforts and proposals of the People's Democratic Republic of Korea for the peaceful reunification of the Korean nation. We reject the idea of two Koreas. The international community must make every effort to ensure that a united Korea will be admitted as a Member cf our Organization in the near future.\\nThe conflicts in Central America must end with a solution that respects the independence and sovereignty of the peoples of the region. We condemn the acts of terrorism perpetrated against the defenseless population, and we call for an immediate end to the interference in the internal affairs of Nicaragua. In this context, we hope that the findings of the International Court of Justice will be respected.\\nThe People's Republic of Mozambique pays special attention to, and regards as very important, the question of the trans for nation of the Indian Ocean in to a zone of peace free of nuclear weapons in the context of resolution 2832 (XXVI) of the General Assembly, we are concerned by the presence of foreign military bases in the region since they constitute a threat to regional peace and security. We therefore reaffirm our total support for the convening of a United Nations conference on the Indian Ocean. We reject every attempt aimed at postponing sine die the holding of such a conference.\\nThis year having been declared the International Year of Peace, the attention of humanity continues to be directed to the question of disarmament. General and complete disarmament, in particular nuclear disarmament, stems from humankind's need to preserve life on our planet, to guarantee its own survival. It is a task of paramount importance that must be undertaken by the entire human race. We\\nconsider it to be urgent that all States, in particular the nuclear Powers, collectively and individually take positive and concrete measures conducive to total disarmament.\\nOnly a realistic and responsible attitude on the part of all States will enable us to guarantee security and tranquility for every nation in the world and to establish a peaceful, prosperous and happy future for succeeding generations.\\nWe wish to commend the efforts undertaken by certain States or groups of States in support of nuclear disarmament. We commend the unilateral moratorium undertaken by the USSR in the field of nuclear testing, which is a demonstration of its willingness to move towards nuclear disarmament.\\nFor the People's Republic of Mozambique, disarmament does not only mean saving humanity from total annihilation but also enabling nations to tread the path of development and prosperity.\\nThe spending of financial, material and human resources for military purposes is contrary to the aspirations of the people to economic and social development. we cannot accept the present situation, in which roughly 32 million is spent each minute cm the manufacture or arms, while at the same time 30 children die of hunger, disease and malnutrition. It runs counter to human solidarity for military expenditures to be 25 times as great as the total sum available for assistance to developing nations.\\nUnder development, as a negation of the legitimate right of the peoples to development, constitutes a threat to world peace and security. We therefore consider important the international community's commitment to eliminate the ever-widening gap between developed and developing nations.\\nThe international community warmly welcomed the decision of the United Nations General Assembly proclaiming 1986 the International Year of Peace. In pursuance of that decision, various initiatives have been undertaken around the world with a view to educating mankind to cherish, defend and preserve peace.\\nThe people and Government of the People's Republic of Mozambique have associated themselves with the international community, through nationwide celebrations, in this universal exercise of reflection on and campaigning for peace.\\nWith this in mind, a national committee was established to co-ordinate a vast Program to promote the objectives of the International Year of Peace. In the same context an international seminar on peace was held in Maputo in July.\\nThe response of the People's Republic of Mozambique to the declaration made by the General Assembly at the fortieth session stems from the will of our people and State to live in peace and to contribute to the easing of world tensions and conflicts.\\nIn Mozambique, as in southern Africa as a whole, peace continues to be the main aspiration of men, women and children, and of the young and old of all races, creeds and social levels. It is a dream that everyone dearly loves and deeply cherishes.\\nIn this regard, I should like to fulfill a pleasant duty by bringing to the attention of the Secretary-General, Mr. Javier Peres de Cuellar, a message - an appeal - by a group of children from my country who represent millions of others who long for a peaceful world. Those children are preoccupied with the present, but above all, with the future - the future of humankind. Those children addressed to me, in my capacity as Chairman of the co-ordinating committee for the celebrations of the International Year of Peace, the following letter:\\n'The earth is the home that was given us to live in, to love and to suffer in. To destroy it would mean destroying all its inhabitants. In other words, it would as if we were left without a home, forced to sleep in the open. Worse still*, its destruction would mean the end of all of us who inhabit this marvelous planet.\\nUnfortunately, we are at the beginning of that end. We are at the brink of this catastrophe, this holocaust, this monstrous crime.\\nWe are new like a grenade just before the moment of detonation. We are like a gunpowder keg, ready to explode.\\nWe, human beings, are bringing closer our own end. We, human beings, are setting the day of final judgment. We kill, assassinate, loot, destroy...\\nWe channel our intelligence into the production of weapons rather than the promotion of health, education, science and beneficial  technology. Today, the earth is nothing but a mountain of dung, and we its worms. Hunger, misery, war, destruction...\\nOur planet is suffering from a disease whose cure only we, the human species, can diagnose.\\nAnd to do so would not be difficult: we would need only mutual understanding. ...Love of children, flowers, men and ourselves.\\nLove of our existential being, respect for the world that shelters us. But in the midst of so many minds uniquely devoted to destruction, there are people who still believe in the future, who still have faith in the human capacity to build and to safeguard the good.\\nAmidst the exploding bombs, there are still those who dream of establishing peace and making this marvelous planet a quiet place for humanity to live. 'In the midst of such meanness and injustice, there is still hope of saving the flowers, the fields, and the children ... and of giving them all possible love. Of guaranteeing them a secure, comfortable and pleasant place to live. He are proud to know that we belong to that group. Even though we are living in a coin try suffering the consequences of meanness, war, assassinations and hunger resulting from destruction, we hope one day to see the Mozambican people living their daily lives in tranquility.\\nlb see a child, in the city, in the countryside, in the communal village, walking calmly to school, without showing in its face signs of fear that it may not return home ... or return and not find its parents.\\nWe are privileged to live in a country where teaching comes from men who have fought, still fight and will always fight for peace, for what is good. Who have established and preserve equality, fraternity, justice and love. ... And if war exploits are still a daily happening in our lives, this due to the mean character of human beings without spirit, without soul, without the least human sentiment, who are bent purely and simply on destruction. However, history has taught us that the just will prevail. Those who value peace, justice and love will win. We shall win.\\nFor our party and State, for all of us, peace-loving children, the year 1986 is of the highest significance in our struggle. Because it is, as is well known, the International Year of Peace. In prompt response to the United Nations, our country dedicated a week of celebrations in support of peace. This response to the appeal by the United Nations on the part of our Party and State shews the extent of their concern with the problem of peace and the maintenance of peace, we are a group of youngsters who also agreed to contribute to the International Year of Peace as testimony to our support for the United Nations declaration, and also in re 'Although humble, our contribution consists of two boohs, entitled Independence and Peace. That theme was born of the fact that without independence there can be no peace.\\nThe first consists of signatures of various peace-loving people, dedicated to peace.\\nThe second is a more personal way of expressing our sentiments to the world and its problems, to the permanent struggle for peace.\\n... Both are the result of a contest on peace initiatives promoted by the United Nations and in which we are participating.\\nHe entrust the Chairman of the co-ordinating committee for the celebration of the International Year of Peace, Mr. Joaquiro Alberto Chissano, who is also a great fighter for human rights, to deliver those two volumes to United Nations Headquarters. He hope that the competent authorities at the United Nations will echo our initiative so that the rest of the world may know how much we love peace and strive for it. He also express our willingness and determination to pursue our ideals. Our initiative will not end here. He want to give birth to the spirit of love and peace and we will act accordingly. He also want to live in happiness and to transmit that happiness to the uncounted thousands of succeeding generations.\\nThat is the best way of preparing our future and of preserving the present. Everything could begin with a simple handshake. We want and love peace. Signed, peace lovers Gizela Machungo, Tatiana Cabaco, Habiba Marta Guebuza, Isabel Silesio, Salome Silesio, Sinamwemba Namashulua, Oscar Namashulua, Sergio Namashulua, Ernesto dos Santos, Nj'impine Chissano, Chinguane Mabote, Jose Mabote, Eduardo Matsinhe, Henrique Manu and Samora Machel Jr.'\\n\\nI shall have the pleasure, in due course, of handing over to the Secretary-General the two works I have mentioned. The first work, a book of 185 pages, consists of clippings of articles and pictures relating to the struggle for peace selected from various magazines and newspapers in Portuguese from various countries. This compilation includes texts selected from the works of several writers, statistical data and statements by and interviews with scientists, authors and peace-loving persons. It is the result of research and reflection on and the study of peace by children.\\nThe second work, as I have said, is of the same length and contains the signatures of several personalities, including Heads of State or Government of several countries, students and teachers, who, besides signing it, agreed to provide a written commentary on the issue of peace.\\nIn the name of the children of the People's Republic of Mozambique, I ask the Secretary-General, through you. Sir, to convey to the entire international community the sentiments they have expressed in their works.\\nTwenty-two years ago today, on 25 September 1964, the Mozambican people, under the leadership of FRELIMO, launched the epic task of liberating the land and the people from the foreign yoke. In celebrating this date we are marking the beginning of the exercise of democracy by our people and their participation in determining the destiny of their country. At this very moment, the second general election is taking place nation-wide, which makes a reality of and consolidates the democratic, popular nature of our State.\\nThe beginning of our armed struggle for national liberation was also, for us, the beginning of the Mozambican people's contribution to the struggle for peace in our region, Africa, and the world as a whole. We have thus joined hands with the community ox nations in its efforts to build a better world.\\nToday, 25 September 1985, the People's Republic of Mozambique, an African, non-aligned, socialist country, wishes to reaffirm from this high rostrum its adherence to the United Nations Charter and its determination to struggle for the promotion of the principles and objectives enshrined therein.\\nFor this reason we say: for the liberty and independence of peoples, for democracy and equality among men and nations, for justice, for co-operation and development, for international peace and security, the struggle continues.\\n\"\n        ],\n        \"semantic_type\": \"\",\n        \"description\": \"\"\n      }\n    },\n    {\n      \"column\": \"country\",\n      \"properties\": {\n        \"dtype\": \"category\",\n        \"num_unique_values\": 254,\n        \"samples\": [\n          \"R\\u00e9union\",\n          \"Andorra\",\n          \"Faroe Islands\"\n        ],\n        \"semantic_type\": \"\",\n        \"description\": \"\"\n      }\n    },\n    {\n      \"column\": \"continent\",\n      \"properties\": {\n        \"dtype\": \"category\",\n        \"num_unique_values\": 5,\n        \"samples\": [\n          \"Asia\",\n          \"Oceania\",\n          \"Africa\"\n        ],\n        \"semantic_type\": \"\",\n        \"description\": \"\"\n      }\n    },\n    {\n      \"column\": \"sub_region\",\n      \"properties\": {\n        \"dtype\": \"category\",\n        \"num_unique_values\": 22,\n        \"samples\": [\n          \"Caribbean\",\n          \"Central America\",\n          \"Australia and New Zealand\"\n        ],\n        \"semantic_type\": \"\",\n        \"description\": \"\"\n      }\n    },\n    {\n      \"column\": \"sentiment\",\n      \"properties\": {\n        \"dtype\": \"number\",\n        \"std\": 0.11666902088855963,\n        \"min\": -0.326476923076923,\n        \"max\": 0.6377818181818181,\n        \"num_unique_values\": 7506,\n        \"samples\": [\n          0.11005072463768116,\n          0.16911777777777773,\n          0.03210461538461534\n        ],\n        \"semantic_type\": \"\",\n        \"description\": \"\"\n      }\n    }\n  ]\n}"
            }
          },
          "metadata": {},
          "execution_count": 39
        }
      ]
    },
    {
      "cell_type": "markdown",
      "metadata": {
        "id": "69PxZUc9MGR9"
      },
      "source": [
        "### Exercise 6.\n",
        "Which countries are the most positive in their speeches throughout the years?"
      ]
    },
    {
      "cell_type": "code",
      "metadata": {
        "id": "amwONvmvMY4B"
      },
      "source": [
        "#"
      ],
      "execution_count": null,
      "outputs": []
    },
    {
      "cell_type": "markdown",
      "metadata": {
        "id": "gJo6UcP4mo5I"
      },
      "source": []
    },
    {
      "cell_type": "markdown",
      "metadata": {
        "id": "dmn5877dmpcS"
      },
      "source": [
        "### Exercise 7.\n",
        "Which subregion is the most positive in their speeches throughout the years?\n"
      ]
    },
    {
      "cell_type": "code",
      "metadata": {
        "id": "d-ppJZB9fz2V"
      },
      "source": [
        "#"
      ],
      "execution_count": null,
      "outputs": []
    }
  ]
}