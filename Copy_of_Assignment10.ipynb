{
  "nbformat": 4,
  "nbformat_minor": 0,
  "metadata": {
    "colab": {
      "provenance": [],
      "authorship_tag": "ABX9TyN67AHaSl/7MfDvNwO0bkiK",
      "include_colab_link": true
    },
    "kernelspec": {
      "name": "python3",
      "display_name": "Python 3"
    },
    "language_info": {
      "name": "python"
    }
  },
  "cells": [
    {
      "cell_type": "markdown",
      "metadata": {
        "id": "view-in-github",
        "colab_type": "text"
      },
      "source": [
        "<a href=\"https://colab.research.google.com/github/adong-hood/cs200/blob/main/Copy_of_Assignment10.ipynb\" target=\"_parent\"><img src=\"https://colab.research.google.com/assets/colab-badge.svg\" alt=\"Open In Colab\"/></a>"
      ]
    },
    {
      "cell_type": "markdown",
      "source": [
        "<h2>Assignment 10: Web Scraping Practice II</h2>"
      ],
      "metadata": {
        "id": "a0YxOo6sxHtU"
      }
    },
    {
      "cell_type": "markdown",
      "source": [
        "In this practice, you will extract **Business Data** from the 2017 CIA web site. Start with [Notes and Definitions](http://pluto.hood.edu/~dong/factbook-2017/docs/notesanddefs.html) page from the 2017 version."
      ],
      "metadata": {
        "id": "_oZwAQrDxRR8"
      }
    },
    {
      "cell_type": "markdown",
      "source": [
        "**Your Task**\n",
        "<p>Share your notebook.</p>\n",
        "<h3>Step 1:</h3>\n",
        "<p>There are 177 different fields in the 2017 data. Loading all of them would be a considerable amount of work, and more data than we need. Let's start with a list that is close to our original data above. <b>The list is different from our book.</b></p>\n",
        "<ul>\n",
        "<li>Country (name)</li>\n",
        "<li>GDP - per capita (PPP)</li>\n",
        "<li>GDP - Real Growth Rate</li>\n",
        "</ul>\n"
      ],
      "metadata": {
        "id": "qEhxVIt1yr01"
      }
    },
    {
      "cell_type": "code",
      "source": [
        "import pandas as pd\n",
        "import requests\n",
        "from bs4 import BeautifulSoup"
      ],
      "metadata": {
        "id": "HILVaZv51NC3"
      },
      "execution_count": null,
      "outputs": []
    },
    {
      "cell_type": "code",
      "execution_count": null,
      "metadata": {
        "id": "7D8pqYp7xG2s"
      },
      "outputs": [],
      "source": [
        "address = 'http://pluto.hood.edu/~dong/factbook-2017/docs/notesanddefs.html'\n",
        "res = requests.get(address)\n",
        "page = res.text\n",
        "page_content_notesanddefs = BeautifulSoup(page, 'html.parser')\n",
        "rows = page_content_notesanddefs.select(\"span.category\") # return a list of span elements with class=category.\n",
        "for row in rows:\n",
        "    cells = row.select('td') # return all the td elements in one span element. There are two per tr element.\n",
        "    colname = cells[0].text\n",
        "    if (colname == 'Country name') | (colname == 'GDP - per capita (PPP)') | (colname == 'GDP - real growth rate'):\n",
        "      links = cells[1].select('a') # return all a elements in the second td element. There is one.\n",
        "      #print(links)\n",
        "      if len(links) > 0:\n",
        "        fpath = links[0]['href'] # href functions as the key to  ../fields/2091.html#118\n",
        "        print(\"Field name:\", colname, \"\\nFile Path:\", fpath)\n"
      ]
    },
    {
      "cell_type": "code",
      "source": [
        "address = 'http://pluto.hood.edu/~dong/factbook-2017/fields/2142.html#32'\n",
        "res = requests.get(address)\n",
        "page_country = res.text\n",
        "page_content_country = BeautifulSoup(page_country)\n",
        "dict_country_name = {}\n",
        "cols = page_content_country.select(\"td.country\")\n",
        "# '''\n",
        "# print(len(cols))\n",
        "# print(str(cols[0]).strip())\n",
        "# print(str(cols[0]).strip().split('../geos/'))\n",
        "# print(str(cols[0]).strip().split('../geos/')[1][:2])\n",
        "# print(cols[0].text)\n",
        "# '''\n",
        "for col in cols:\n",
        "    code = str(col).strip().split('../geos/')[1][:2] # chained into one step. You can split into multiple steps to see how it works.\n",
        "    name =  col.text\n",
        "    dict_country_name[code] = name\n",
        "print(len(dict_country_name))\n",
        "dict_country_name"
      ],
      "metadata": {
        "collapsed": true,
        "id": "TkWtDtarzCtp"
      },
      "execution_count": null,
      "outputs": []
    },
    {
      "cell_type": "code",
      "source": [
        "address = 'http://pluto.hood.edu/~dong/factbook-2017/fields/2003.html#86'\n",
        "res = requests.get(address)\n",
        "page_gdp_rate = res.text\n",
        "page_content_gdp_rate = BeautifulSoup(page_gdp_rate)\n",
        "rows = page_content_gdp_rate.select(\"#fieldListing tr\")\n",
        "dict_gdp_rate = {}\n",
        "for row in rows:\n",
        "  if len(str(row).split('/geos/')) > 1:\n",
        "        code = str(row).split('/geos/')[1][:2]\n",
        "  cells = row.select('td')\n",
        "  if len(cells) > 0:\n",
        "      total_rate = cells[1].text.strip()\n",
        "      dict_gdp_rate[code] = total_rate.strip().split('%')[0]\n",
        "dict_gdp_rate"
      ],
      "metadata": {
        "collapsed": true,
        "id": "bQUbAMIt0jTC"
      },
      "execution_count": null,
      "outputs": []
    },
    {
      "cell_type": "code",
      "source": [
        "address = 'http://pluto.hood.edu/~dong/factbook-2017/fields/2004.html#85'\n",
        "res = requests.get(address)\n",
        "page_gdp_percapita = res.text\n",
        "page_content_gdp_percapita = BeautifulSoup(page_gdp_percapita)\n",
        "rows = page_content_gdp_percapita.select(\"#fieldListing tr\")\n",
        "dict_gdp_percapita = {}\n",
        "for row in rows:\n",
        "  if len(str(row).split('/geos/')) > 1:\n",
        "        code = str(row).split('/geos/')[1][:2]\n",
        "  cells = row.select('td')\n",
        "  if len(cells) > 0:\n",
        "      total_rate = cells[1].text.strip()\n",
        "      dict_gdp_percapita[code] = total_rate.strip().split()[0][1:].replace(',','')\n",
        "dict_gdp_percapita"
      ],
      "metadata": {
        "id": "eIJvZ5WE2Q8v",
        "collapsed": true
      },
      "execution_count": null,
      "outputs": []
    },
    {
      "cell_type": "code",
      "source": [
        "final_df = pd.DataFrame({\"Country\":dict_country_name, 'GDP-per capita':dict_gdp_percapita, 'GDP-growth rate':dict_gdp_rate})\n",
        "print(final_df.shape)\n",
        "final_df.head()"
      ],
      "metadata": {
        "id": "O0tHJwTE2x93"
      },
      "execution_count": null,
      "outputs": []
    },
    {
      "cell_type": "code",
      "source": [
        "def clean_data(in_data):\n",
        "  try:\n",
        "    return float(in_data)\n",
        "  except:\n",
        "    return float('NaN')"
      ],
      "metadata": {
        "id": "e5lFkn-3DHBm"
      },
      "execution_count": null,
      "outputs": []
    },
    {
      "cell_type": "code",
      "source": [
        "final_df['GDP-growth rate'] = final_df['GDP-growth rate'].map(clean_data)\n",
        "position = final_df['GDP-growth rate'].idxmax()\n",
        "final_df.loc[position]['Country']"
      ],
      "metadata": {
        "id": "OxnU7RUJCock"
      },
      "execution_count": null,
      "outputs": []
    },
    {
      "cell_type": "code",
      "source": [
        "final_df['GDP-per capita'] = final_df['GDP-per capita'].map(clean_data)"
      ],
      "metadata": {
        "id": "QYz1sh9AEJ_J"
      },
      "execution_count": null,
      "outputs": []
    },
    {
      "cell_type": "code",
      "source": [
        "final_df['cca2'] = final_df.index\n",
        "final_df.reset_index(drop=True, inplace=True)\n",
        "final_df.head()"
      ],
      "metadata": {
        "id": "Iijr1IVQEyin"
      },
      "execution_count": null,
      "outputs": []
    },
    {
      "cell_type": "markdown",
      "source": [
        "<h3>Step 2: </h3>\n",
        "Merge the data of 2017 with those from word_countries.csv.\n"
      ],
      "metadata": {
        "id": "GMkXemadkAhc"
      }
    },
    {
      "cell_type": "code",
      "source": [
        "wd = pd.read_csv('http://pluto.hood.edu/~dong/datasets/world_countries.csv')\n",
        "print(wd.shape)\n",
        "wd.head()"
      ],
      "metadata": {
        "id": "AjOEEhQe3egb"
      },
      "execution_count": null,
      "outputs": []
    },
    {
      "cell_type": "markdown",
      "source": [],
      "metadata": {
        "id": "9r8xeyEFnzlq"
      }
    },
    {
      "cell_type": "code",
      "source": [
        "final_merged_df = final_df.merge(wd, left_on='Country', right_on='Country', how = 'inner')\n",
        "print(final_merged_df.shape)\n",
        "final_merged_df.head()"
      ],
      "metadata": {
        "id": "UZvWupBCksIO"
      },
      "execution_count": null,
      "outputs": []
    },
    {
      "cell_type": "code",
      "source": [
        "final_merged_df['gdp-diff'] = final_merged_df['GDP-per capita'] - final_merged_df['GDP']\n",
        "position = final_merged_df['gdp-diff'].idxmax()\n",
        "final_merged_df.loc[position]['Country']\n"
      ],
      "metadata": {
        "id": "GHZJA7s9Fque"
      },
      "execution_count": null,
      "outputs": []
    },
    {
      "cell_type": "markdown",
      "source": [
        "<h3>Step 3:</h3>  \n",
        "\n",
        "*   Find which country has the largest positive change in GDP (per capita) and which country has the largest negative change.\n",
        "*   Find out which country has the largest GDP - Real Growth Rate\n",
        "\n"
      ],
      "metadata": {
        "id": "P-rt3uixksnT"
      }
    },
    {
      "cell_type": "code",
      "source": [
        "import pandas as pd\n",
        "import requests\n",
        "from bs4 import BeautifulSoup"
      ],
      "metadata": {
        "id": "x0bYA7B0nIp0"
      },
      "execution_count": null,
      "outputs": []
    },
    {
      "cell_type": "code",
      "source": [
        "#This is helpful for finding the exact field name.\n",
        "address = 'http://pluto.hood.edu/~dong/factbook-2017/docs/notesanddefs.html'\n",
        "res = requests.get(address)\n",
        "page = res.text\n",
        "page_content_notesanddefs = BeautifulSoup(page, 'html.parser')\n",
        "spans = page_content_notesanddefs.select(\"span.category\") # return a list of span elements with class=category.\n",
        "cols_lst =[]\n",
        "for aspan in spans:\n",
        "    cells = aspan.select('td') # return all the td elements in one span element. There are two in the above segment.\n",
        "    colname = cells[0].text\n",
        "    #print(colname)\n",
        "    cols_lst.append(colname)\n",
        "print(len(cols_lst))\n",
        "print(cols_lst)"
      ],
      "metadata": {
        "collapsed": true,
        "id": "SdjeoW5PmsAr"
      },
      "execution_count": null,
      "outputs": []
    }
  ]
}