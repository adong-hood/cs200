{
  "nbformat": 4,
  "nbformat_minor": 0,
  "metadata": {
    "kernelspec": {
      "display_name": "Python 3",
      "language": "python",
      "name": "python3"
    },
    "language_info": {
      "codemirror_mode": {
        "name": "ipython",
        "version": 3
      },
      "file_extension": ".py",
      "mimetype": "text/x-python",
      "name": "python",
      "nbconvert_exporter": "python",
      "pygments_lexer": "ipython3",
      "version": "3.7.3"
    },
    "colab": {
      "provenance": [],
      "include_colab_link": true
    }
  },
  "cells": [
    {
      "cell_type": "markdown",
      "metadata": {
        "id": "view-in-github",
        "colab_type": "text"
      },
      "source": [
        "<a href=\"https://colab.research.google.com/github/adong-hood/cs200/blob/main/ch_6_3.ipynb\" target=\"_parent\"><img src=\"https://colab.research.google.com/assets/colab-badge.svg\" alt=\"Open In Colab\"/></a>"
      ]
    },
    {
      "cell_type": "markdown",
      "metadata": {
        "id": "C7NClqVOfcc3"
      },
      "source": [
        "## Reading"
      ]
    },
    {
      "cell_type": "code",
      "metadata": {
        "id": "jYddv-VlffGj"
      },
      "source": [
        "from google.colab import drive\n",
        "drive.mount('/content/drive')"
      ],
      "execution_count": null,
      "outputs": []
    },
    {
      "cell_type": "markdown",
      "metadata": {
        "id": "rP1o-qPkfcc8"
      },
      "source": [
        "<ul>\n",
        "    <li><a href = \"https://nextjournal.com/sdanisch/cartographic-visualization\">Cartographic Visualization</a></li>\n",
        "</ul>\n",
        "    "
      ]
    },
    {
      "cell_type": "markdown",
      "metadata": {
        "id": "hzXDbmKhfcc8"
      },
      "source": [
        "### This section covers a few large concepts that work together in one big example:\n",
        "<ul>\n",
        "    <li>Using a web API to get information</li>\n",
        "    <li>Applying a function to a data set and getting a new column</li>\n",
        "    <li>Mapping data using Altair</li>\n",
        "<ul>"
      ]
    },
    {
      "cell_type": "markdown",
      "metadata": {
        "id": "c06vIFtGfcc9"
      },
      "source": [
        "## Preliminaries"
      ]
    },
    {
      "cell_type": "code",
      "metadata": {
        "id": "KH4rTH-5fcc9"
      },
      "source": [
        "import altair as alt\n",
        "import pandas as pd\n",
        "from vega_datasets import data\n",
        "import requests\n",
        "# for Jupyter Notebook only. alt.renderers.enable('notebook')"
      ],
      "execution_count": null,
      "outputs": []
    },
    {
      "cell_type": "markdown",
      "metadata": {
        "id": "fwAABoXvfcc-"
      },
      "source": [
        "Note: Vega Datasets is a common repository for example datasets used by Vega related projects. Vega is a visualization grammar, a declarative language for creating, saving, and sharing interactive visualization designs. With Vega, you can describe the visual appearance and interactive behavior of a visualization in a JSON format, and generate web-based views using Canvas or SVG."
      ]
    },
    {
      "cell_type": "markdown",
      "metadata": {
        "id": "YuGkf_YQgX5J"
      },
      "source": [
        "## Warmup with the book example"
      ]
    },
    {
      "cell_type": "markdown",
      "metadata": {
        "id": "WHYg36XPCvOY"
      },
      "source": [
        "Let’s take on the seemingly simple task of plotting some of the country data on a map like we did in Google Sheets earlier."
      ]
    },
    {
      "cell_type": "markdown",
      "metadata": {
        "id": "ZQZX_HhmDkVV"
      },
      "source": [
        "Altair provides us with the facility to make a blank map. The counties data that is passed to the chart is the data needed to create and outline the map."
      ]
    },
    {
      "cell_type": "markdown",
      "metadata": {
        "id": "2vGoQ4OAfcdD"
      },
      "source": [
        "### altair.topo_feature\n",
        "<code>altair.topo_feature(url, feature, **kwargs)</code>\n",
        "<p>A convenience function for extracting features from a topojson url</p>\n",
        "\n",
        "Parameters:\n",
        "url:string\n",
        "An URL from which to load the data set.\n",
        "\n",
        "feature:string\n",
        "The name of the TopoJSON object set to convert to a GeoJSON feature collection. For example, in a map of the States, there may be an object set named “counties”. Using the feature property, we can extract this set and generate a GeoJSON feature object for each county.\n",
        "\n",
        "**kwargs :\n",
        "additional keywords passed to TopoDataFormat\n",
        "\n"
      ]
    },
    {
      "cell_type": "code",
      "metadata": {
        "id": "dQwgudSZgevL"
      },
      "source": [
        "counties = alt.topo_feature(data.us_10m.url, 'counties')"
      ],
      "execution_count": null,
      "outputs": []
    },
    {
      "cell_type": "code",
      "metadata": {
        "id": "bHp6n0dHDmgw"
      },
      "source": [
        "alt.Chart(counties).mark_geoshape().project(\n",
        "    type='albersUsa').properties(\n",
        "    width=500,\n",
        "    height=300\n",
        ")"
      ],
      "execution_count": null,
      "outputs": []
    },
    {
      "cell_type": "markdown",
      "metadata": {
        "id": "Ywou_SwFF41i"
      },
      "source": [
        "What we want to do is graphing the unemployment data by county."
      ]
    },
    {
      "cell_type": "code",
      "metadata": {
        "id": "tW40qzCKD88_"
      },
      "source": [
        "unemp_data = data.unemployment.url\n",
        "unemp_data"
      ],
      "execution_count": null,
      "outputs": []
    },
    {
      "cell_type": "code",
      "metadata": {
        "id": "WM1ZFyDtD-OV"
      },
      "source": [
        "unemp_data = pd.read_csv(unemp_data,sep='\\t')\n",
        "unemp_data.head()"
      ],
      "execution_count": null,
      "outputs": []
    },
    {
      "cell_type": "markdown",
      "metadata": {
        "id": "TpJsytr4GIVR"
      },
      "source": [
        "Using the <code>transform_lookup</code> method, we can arrange for the id in the geographic data to be matched against the id in our unemp_data data frame."
      ]
    },
    {
      "cell_type": "code",
      "metadata": {
        "id": "rXgIX6pLGtay"
      },
      "source": [
        "alt.Chart(counties).mark_geoshape(\n",
        ").encode(\n",
        "    color='rate:Q'\n",
        ").transform_lookup(\n",
        "    lookup='id',\n",
        "    from_=alt.LookupData(unemp_data, 'id', ['rate'])\n",
        ").project(\n",
        "    type='albersUsa'\n",
        ").properties(\n",
        "    width=500,\n",
        "    height=300,\n",
        "    title='Unemployment by County'\n",
        ")"
      ],
      "execution_count": null,
      "outputs": []
    },
    {
      "cell_type": "markdown",
      "metadata": {
        "id": "9qQQhasMfcc_"
      },
      "source": [
        "## Part 1 - Adding country codes to our data.\n"
      ]
    },
    {
      "cell_type": "markdown",
      "metadata": {
        "id": "OLzq0WsqHlGu"
      },
      "source": [
        "Let's try a more complicated case where we do not have all the data readily available to us.This time we will plot average incomes of counties on map."
      ]
    },
    {
      "cell_type": "markdown",
      "metadata": {
        "id": "eKXIDZm0fcc_"
      },
      "source": [
        "### Read in country income data\n",
        "\n",
        "This data set contains a few countries average income, but it does not have each country's numeric code which is needed for transform_lookup when mapping income on map.\n",
        "\n",
        "Our goal is add unique country numeric code to this set so that we can map them."
      ]
    },
    {
      "cell_type": "code",
      "metadata": {
        "id": "-2r-yONjfcc_"
      },
      "source": [
        "income_data = pd.read_csv('http://pluto.hood.edu/~dong/datasets/country_income.csv')\n",
        "print(income_data.shape)\n",
        "income_data.head()"
      ],
      "execution_count": null,
      "outputs": []
    },
    {
      "cell_type": "markdown",
      "metadata": {
        "id": "QtzSI_76fcdA"
      },
      "source": [
        "### Look up country code for one country"
      ]
    },
    {
      "cell_type": "markdown",
      "metadata": {
        "id": "VTHupDApfcdA"
      },
      "source": [
        "We need to find countries' numeric code on line.\n",
        "<p>we import the requests module, then we request what we want, and save the results as res.</p>\n"
      ]
    },
    {
      "cell_type": "code",
      "metadata": {
        "id": "jbWwp_lNbBbO"
      },
      "source": [
        "#requst\n",
        "res = requests.get('https://restcountries.com/v2/alpha/aus')\n",
        "res.status_code"
      ],
      "execution_count": null,
      "outputs": []
    },
    {
      "cell_type": "markdown",
      "metadata": {
        "id": "1QjX7WS6a1Jv"
      },
      "source": [
        "<p><code>get </code> method does the following - first it goes to the website https://restcountries.com/v2/alpha/usa, then returns the information for that country in json format.</p>\n",
        "<ul>\n",
        "<!--li>/rest - technically REST stands for REpresentational State Transfer. This uses the HTTP protocol to ask for and respond with data.</li-->\n",
        "<li>/v2 - this is version 2 of this website’s protocol</li>\n",
        "<li>/alpha - This tells the website that the next thing we are going to pass tell it is the three letter code for the country.</li>\n",
        "<li>/AUS - this can be any valid three letter country code. for example usa</li>\n",
        "</ul>"
      ]
    },
    {
      "cell_type": "code",
      "metadata": {
        "id": "rsKshAUPi8Lv"
      },
      "source": [
        "res.text"
      ],
      "execution_count": null,
      "outputs": []
    },
    {
      "cell_type": "code",
      "metadata": {
        "id": "_smclLZIjGQ4",
        "collapsed": true
      },
      "source": [
        "temp = res.json()\n",
        "temp"
      ],
      "execution_count": null,
      "outputs": []
    },
    {
      "cell_type": "code",
      "metadata": {
        "id": "nB-5-Mgqjam7"
      },
      "source": [
        "temp['numericCode']"
      ],
      "execution_count": null,
      "outputs": []
    },
    {
      "cell_type": "code",
      "source": [
        "res = requests.get('https://restcountries.com/v2/alpha/bra')\n",
        "print(res.json()['numericCode'])"
      ],
      "metadata": {
        "id": "mcJTHFZ2cxqw"
      },
      "execution_count": null,
      "outputs": []
    },
    {
      "cell_type": "markdown",
      "metadata": {
        "id": "tJx8S3iEfcdC"
      },
      "source": [
        "## Adding country code to income data"
      ]
    },
    {
      "cell_type": "markdown",
      "metadata": {
        "id": "TJauEN9efcdB"
      },
      "source": [
        "<p>We now implement a function that takes a country letter code and fetch its numeric code from the web using Web API. This will allow us to add numeric code to all countries easily.</p>"
      ]
    },
    {
      "cell_type": "code",
      "metadata": {
        "id": "2XHu1hiqa2rj"
      },
      "source": [
        "#function\n",
        "def look_up_code(country_code):\n",
        "    address = 'https://restcountries.com/v2/alpha/'+country_code\n",
        "    res = requests.get(address)\n",
        "    country_info = res.json()\n",
        "    country_num = country_info['numericCode']\n",
        "    return int(country_num)"
      ],
      "execution_count": null,
      "outputs": []
    },
    {
      "cell_type": "markdown",
      "metadata": {
        "id": "sVuoTYRgfcdC"
      },
      "source": [
        "<p><code>map</code> is a method of a Series, so we use the syntax df.myColumn.map(function). This applies the function we pass as a parameter to each element of the series and constructs a brand new series. Add a new column <code>country code</code> with the new series after map.</p>"
      ]
    },
    {
      "cell_type": "code",
      "metadata": {
        "id": "JyRC9ZD4kNtY"
      },
      "source": [
        "income_data.head(2)"
      ],
      "execution_count": null,
      "outputs": []
    },
    {
      "cell_type": "code",
      "metadata": {
        "id": "tceWZm1kbKNZ"
      },
      "source": [
        "#map and add another column\n",
        "income_data['countrycode'] = income_data.LOCATION.map(look_up_code)\n",
        "print(income_data.shape)\n",
        "income_data.head()\n"
      ],
      "execution_count": null,
      "outputs": []
    },
    {
      "cell_type": "code",
      "source": [
        "income_data[income_data['LOCATION'] == 'BRA']"
      ],
      "metadata": {
        "id": "5A11gpuRdMan"
      },
      "execution_count": null,
      "outputs": []
    },
    {
      "cell_type": "markdown",
      "metadata": {
        "id": "qhcj4cMCfcdD"
      },
      "source": [
        "# Part 2 - Mapping Income Data"
      ]
    },
    {
      "cell_type": "markdown",
      "metadata": {
        "id": "BQMV9lcsfcdD"
      },
      "source": [
        "## 2.1 Getting a Blank Map"
      ]
    },
    {
      "cell_type": "code",
      "metadata": {
        "id": "9blfhlSbbTU5"
      },
      "source": [
        "# get the countries objects.\n",
        "countries = alt.topo_feature(data.world_110m.url, 'countries')\n",
        "print(type(countries))\n",
        "#l = data.world_110m.url\n",
        "#l"
      ],
      "execution_count": null,
      "outputs": []
    },
    {
      "cell_type": "markdown",
      "metadata": {
        "id": "kckzdygQfcdE"
      },
      "source": [
        "The above code indicates that we want to extract Geo features from the specified url for the countries object. All countries are represented using numeric code. Let us draw the world map by passing countries to Altair.\n",
        "\n",
        "Projections map from a data domain (spatial position) to a visual range (pixel position). We can also specify projection parameters, such as scale (zoom level) and translate (panning), to customize the projection settings."
      ]
    },
    {
      "cell_type": "code",
      "metadata": {
        "id": "QYBAcE26bZc4"
      },
      "source": [
        "#blank map\n",
        "alt.Chart(countries).mark_geoshape(\n",
        "    fill='#666666',\n",
        "    stroke='white'\n",
        ").properties(\n",
        "    width=750,\n",
        "    height=450\n",
        ").project('equirectangular')"
      ],
      "execution_count": null,
      "outputs": []
    },
    {
      "cell_type": "markdown",
      "metadata": {
        "id": "UDEx7IrbfcdE"
      },
      "source": [
        "## 2.2 Adding Income Data to the Map"
      ]
    },
    {
      "cell_type": "markdown",
      "metadata": {
        "id": "pNk5S_ThfcdE"
      },
      "source": [
        "To encode income data in the geo shape, using the <code>transform_lookup</code> method, we can arrange for country in the geographic data to be matched against the country in our income data frame."
      ]
    },
    {
      "cell_type": "code",
      "source": [
        "alt.Chart(countries).mark_geoshape(stroke='black', strokeWidth=0.5).encode(\n",
        "    tooltip = 'LOCATION:N',\n",
        "    color=alt.Color('Value:Q', scale=alt.Scale(scheme='plasma'))\n",
        ").transform_lookup(\n",
        "    lookup='id',\n",
        "    from_=alt.LookupData(income_data, 'countrycode', ['Value', 'LOCATION'])\n",
        ").project(\n",
        "    type = 'equirectangular'\n",
        ").properties(\n",
        "    width=750,\n",
        "    height=450,\n",
        "    title = \"Income by Country\"\n",
        ")"
      ],
      "metadata": {
        "id": "DtNGRQWvekCT"
      },
      "execution_count": null,
      "outputs": []
    },
    {
      "cell_type": "markdown",
      "source": [
        "The big white space indicates we only have income data for a small number of countries."
      ],
      "metadata": {
        "id": "cF0wPkjTER5c"
      }
    },
    {
      "cell_type": "markdown",
      "metadata": {
        "id": "WeDm_5dqfcdF"
      },
      "source": []
    },
    {
      "cell_type": "markdown",
      "metadata": {
        "id": "Nxi0bvDufcdF"
      },
      "source": [
        "# Your implementation of section 6.3 starts from here..."
      ]
    },
    {
      "cell_type": "markdown",
      "metadata": {
        "id": "c3VYtAO2fcdF"
      },
      "source": [
        "Clearly mark the question number and the map."
      ]
    }
  ]
}