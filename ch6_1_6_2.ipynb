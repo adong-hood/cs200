{
  "cells": [
    {
      "cell_type": "markdown",
      "metadata": {
        "id": "view-in-github",
        "colab_type": "text"
      },
      "source": [
        "<a href=\"https://colab.research.google.com/github/adong-hood/cs200/blob/main/ch6_1_6_2.ipynb\" target=\"_parent\"><img src=\"https://colab.research.google.com/assets/colab-badge.svg\" alt=\"Open In Colab\"/></a>"
      ]
    },
    {
      "cell_type": "markdown",
      "metadata": {
        "id": "302Qmf2UY32I"
      },
      "source": [
        "# World Factbook Data\n",
        "Sections 6.1 and 6.2"
      ]
    },
    {
      "cell_type": "code",
      "execution_count": null,
      "metadata": {
        "id": "e4ucq2FEZEOG"
      },
      "outputs": [],
      "source": [
        "from google.colab import drive\n",
        "drive.mount('/content/drive')"
      ]
    },
    {
      "cell_type": "markdown",
      "metadata": {
        "id": "CYnZ1I9sY32N"
      },
      "source": [
        "## Hook\n",
        "\n",
        "<ul>\n",
        "    <li>A great <a href = \"https://www.youtube.com/watch?v=hVimVzgtD6w\">Ted talk about data visualization </a>worth watching, by Hans Rosling</li>   \n",
        "    <li>To see if you are better than a chimpanzee: <a href = \"http://forms.gapminder.org/s3/test-2018\">The Gapminder Test</a></li>\n",
        "    </ul>\n",
        "\n"
      ]
    },
    {
      "cell_type": "markdown",
      "metadata": {
        "id": "D9Jup93YY32O"
      },
      "source": [
        "## Readings\n",
        "\n",
        "1. <a href = \"https://altair-viz.github.io/getting_started/starting.html\">Getting Started with Altair</a>\n",
        "2. <a href = \"https://www.stat.cmu.edu/~hseltman/309/Book/chapter4.pdf\">What is Exploratory Data Analysis</a>"
      ]
    },
    {
      "cell_type": "markdown",
      "metadata": {
        "id": "pHpbC__nY32P"
      },
      "source": [
        "## Exploratory Data Analysis\n",
        "\n",
        "Here we'll just try to use the data set to answer some simple questions about the countries of the world."
      ]
    },
    {
      "cell_type": "code",
      "execution_count": null,
      "metadata": {
        "id": "KoJH7RfUY32P"
      },
      "outputs": [],
      "source": [
        "import pandas as pd\n",
        "import altair as alt\n",
        "\n",
        "%matplotlib inline\n",
        "import matplotlib.pyplot as plt\n",
        "plt.style.use('classic')\n",
        "import numpy as np"
      ]
    },
    {
      "cell_type": "code",
      "execution_count": null,
      "metadata": {
        "id": "d_5BwipuY32Q"
      },
      "outputs": [],
      "source": [
        "wd = pd.read_csv('http://pluto.hood.edu/~dong/datasets/world_countries.csv')"
      ]
    },
    {
      "cell_type": "code",
      "execution_count": null,
      "metadata": {
        "id": "W58KF-ACY32Q"
      },
      "outputs": [],
      "source": [
        "# show the first three rows, instead of default 5.\n",
        "wd.head(3)"
      ]
    },
    {
      "cell_type": "code",
      "execution_count": null,
      "metadata": {
        "id": "ImC-u1zxY32R"
      },
      "outputs": [],
      "source": [
        "wd.shape"
      ]
    },
    {
      "cell_type": "code",
      "execution_count": null,
      "metadata": {
        "id": "rzgMQgj2Y32R"
      },
      "outputs": [],
      "source": [
        "wd.columns"
      ]
    },
    {
      "cell_type": "code",
      "execution_count": null,
      "metadata": {
        "id": "2tj9BhMaY32S",
        "scrolled": true
      },
      "outputs": [],
      "source": [
        "wd.describe()"
      ]
    },
    {
      "cell_type": "markdown",
      "metadata": {
        "id": "5_skDnercOBQ"
      },
      "source": [
        "1. As a warmup, find the top 10 countries with the most population."
      ]
    },
    {
      "cell_type": "code",
      "execution_count": null,
      "metadata": {
        "id": "0RYZo5XufhRQ"
      },
      "outputs": [],
      "source": [
        "wd.sort_values(by = 'Population', ascending=False, inplace=False)[['Country']].head(10)"
      ]
    },
    {
      "cell_type": "markdown",
      "metadata": {
        "id": "4WChjqmDi_7y"
      },
      "source": [
        "2. Find out the number of countries in each region. <br />[Use group by with dataframe.](https://jakevdp.github.io/PythonDataScienceHandbook/03.08-aggregation-and-grouping.html)\n"
      ]
    },
    {
      "cell_type": "code",
      "execution_count": null,
      "metadata": {
        "id": "AQxCFfhFgPvY"
      },
      "outputs": [],
      "source": [
        "wd.Region.value_counts()"
      ]
    },
    {
      "cell_type": "code",
      "source": [
        "wd.groupby('Region').agg({\"Country\":'count'})"
      ],
      "metadata": {
        "id": "pFw-Ub0Y4U1a"
      },
      "execution_count": null,
      "outputs": []
    },
    {
      "cell_type": "code",
      "execution_count": null,
      "metadata": {
        "id": "D9wFJ63Bgf7h"
      },
      "outputs": [],
      "source": [
        "wd.groupby('Region')[[\"Country\"]].count()"
      ]
    },
    {
      "cell_type": "markdown",
      "metadata": {
        "id": "Zw4c6o3hY32S"
      },
      "source": [
        "### Visualizing Distribution with Histograms"
      ]
    },
    {
      "cell_type": "markdown",
      "metadata": {
        "id": "4pP8bUhKY32T"
      },
      "source": [
        "3. What does the distribution of GDP look like?"
      ]
    },
    {
      "cell_type": "code",
      "execution_count": null,
      "metadata": {
        "id": "yIJ5OffGhFpa"
      },
      "outputs": [],
      "source": [
        "alt.Chart(wd).mark_bar().encode(x=alt.X('Birthrate', bin=True), y='count()')"
      ]
    },
    {
      "cell_type": "code",
      "execution_count": null,
      "metadata": {
        "id": "g-lieyFBDXDi"
      },
      "outputs": [],
      "source": [
        "plt.hist(wd['Birthrate'])\n",
        "plt.show()"
      ]
    },
    {
      "cell_type": "markdown",
      "metadata": {
        "id": "tjGVNsDUY32T"
      },
      "source": [
        "\n",
        "Why is that graph so skewed? Do you think it will change if you scale GDP by population?"
      ]
    },
    {
      "cell_type": "markdown",
      "metadata": {
        "id": "BdZkhsjKY32T"
      },
      "source": [
        "4. Let's scale GDP by population and add it as a new coulum to the dataframe."
      ]
    },
    {
      "cell_type": "code",
      "source": [
        "wd['GDP_scaled_by_pop'] = wd['GDP']/wd['Population']"
      ],
      "metadata": {
        "id": "CxYN520o4mXr"
      },
      "execution_count": null,
      "outputs": []
    },
    {
      "cell_type": "markdown",
      "metadata": {
        "id": "2z2gnddeY32U"
      },
      "source": [
        "The distribution of GDP_scaled_by_pop is also vey skewed, so population doesnot explain everything!"
      ]
    },
    {
      "cell_type": "markdown",
      "metadata": {
        "id": "1T0fY0-hY32V"
      },
      "source": [
        "## Scatter Plots for discovering relationships"
      ]
    },
    {
      "cell_type": "markdown",
      "metadata": {
        "id": "q9TJBJy6Y32V"
      },
      "source": [
        "5. What is the relationship between literacy rate and infant mortality? Why do you think that is?\n"
      ]
    },
    {
      "cell_type": "code",
      "execution_count": null,
      "metadata": {
        "id": "vWlBI3xch-iA"
      },
      "outputs": [],
      "source": [
        "alt.Chart(wd).mark_point().encode(x='Population', y='Area', tooltip='Country', color = 'Region')"
      ]
    },
    {
      "cell_type": "markdown",
      "metadata": {
        "id": "JO35e-mJY32V"
      },
      "source": [
        "6. How does that relationship between literacy rate and infant mortality change when you look at different regions?"
      ]
    },
    {
      "cell_type": "code",
      "execution_count": null,
      "metadata": {
        "id": "NQ3YQf72H0c_"
      },
      "outputs": [],
      "source": [
        "plt.scatter(wd['Population'], wd['Area'])\n",
        "plt.show()"
      ]
    },
    {
      "cell_type": "markdown",
      "metadata": {
        "id": "6c0tM_1LY32X"
      },
      "source": [
        "##  Power Tools: Scatter Matrix\n",
        "\n",
        "It would be pretty tedius to look at all the different pairs of things we might want to look at for correlation one at a time, but we can use a scatter matrix to make life easier."
      ]
    },
    {
      "cell_type": "code",
      "execution_count": null,
      "metadata": {
        "id": "Z37Hp9wyY32X"
      },
      "outputs": [],
      "source": [
        "alt.Chart(wd).mark_circle().encode(\n",
        "    alt.X(alt.repeat(\"column\"), type='quantitative'),\n",
        "    alt.Y(alt.repeat(\"row\"), type='quantitative'),\n",
        "    color='Region:N',\n",
        "    size='Population:Q',\n",
        "    tooltip='Country:N'\n",
        ").properties(\n",
        "    width=150,\n",
        "    height=150\n",
        ").repeat(\n",
        "    row=['Birthrate', 'Deathrate', 'Infant mortality', 'GDP'],\n",
        "    column=['Birthrate', 'Deathrate', 'Infant mortality', 'GDP']\n",
        ").interactive()"
      ]
    },
    {
      "cell_type": "markdown",
      "source": [
        "What observations can you make from the scatter matrix?"
      ],
      "metadata": {
        "id": "16q9dBwjCwrC"
      }
    },
    {
      "cell_type": "markdown",
      "metadata": {
        "id": "wSBsI2xOY32Y"
      },
      "source": [
        "# Your tasks start..."
      ]
    },
    {
      "cell_type": "markdown",
      "metadata": {
        "id": "T--V3ci1Y32Y"
      },
      "source": [
        "### Answer the follow three questions. Enter your final answers to the Runestone textbook.\n"
      ]
    },
    {
      "cell_type": "markdown",
      "metadata": {
        "id": "DGBjZqrJY32Y"
      },
      "source": [
        "Q-1: What is the range of values for the tallest bar when creating a histogram of the literacy rate?"
      ]
    },
    {
      "cell_type": "code",
      "execution_count": null,
      "metadata": {
        "id": "lMAeLr4UY32Y"
      },
      "outputs": [],
      "source": []
    },
    {
      "cell_type": "markdown",
      "metadata": {
        "id": "DBNzrFh0Y32Z"
      },
      "source": [
        "Q-2: What is the range of values for the tallest bar when creating a histogram of the fraction of the economy due to service?"
      ]
    },
    {
      "cell_type": "code",
      "execution_count": null,
      "metadata": {
        "id": "-LScZdlZY32Z"
      },
      "outputs": [],
      "source": []
    },
    {
      "cell_type": "markdown",
      "metadata": {
        "id": "ThVHVs2_Y32a"
      },
      "source": [
        "Q-3: Approximately how many countries (to the nearest 5) have between 90% and 100% of their economy based on service?"
      ]
    },
    {
      "cell_type": "code",
      "execution_count": null,
      "metadata": {
        "id": "ZABIeYhPY32a"
      },
      "outputs": [],
      "source": []
    },
    {
      "cell_type": "markdown",
      "metadata": {
        "id": "xIb5sdarY32a"
      },
      "source": [
        "### These questions will not be autograded/checked on Runetone. Just show your work here."
      ]
    },
    {
      "cell_type": "markdown",
      "metadata": {
        "id": "hp3W_3heY32a"
      },
      "source": [
        "1. What are the top 10 countries by GDP?"
      ]
    },
    {
      "cell_type": "code",
      "execution_count": null,
      "metadata": {
        "id": "NdCr9-O1Y32a"
      },
      "outputs": [],
      "source": []
    },
    {
      "cell_type": "markdown",
      "metadata": {
        "id": "4D6Wubw9Y32b"
      },
      "source": [
        "2. What are the top 20 countries by population?"
      ]
    },
    {
      "cell_type": "code",
      "execution_count": null,
      "metadata": {
        "id": "xMhhcJp8Y32b"
      },
      "outputs": [],
      "source": []
    },
    {
      "cell_type": "markdown",
      "metadata": {
        "id": "gNAU50YQY32b"
      },
      "source": [
        "3. What are the 10 countries with the largest net migration?"
      ]
    },
    {
      "cell_type": "code",
      "execution_count": null,
      "metadata": {
        "id": "UTE-5IrAY32b"
      },
      "outputs": [],
      "source": []
    },
    {
      "cell_type": "markdown",
      "metadata": {
        "id": "ZscAwZxMY32b"
      },
      "source": [
        "4. What is the distribution of Argiculture, Industry, and service for the countries in Western Europe? This is done for you. You can also create three histograms, one for each."
      ]
    },
    {
      "cell_type": "code",
      "execution_count": null,
      "metadata": {
        "id": "B4n8d6nq1Tbj"
      },
      "outputs": [],
      "source": [
        "wd.columns"
      ]
    },
    {
      "cell_type": "code",
      "execution_count": null,
      "metadata": {
        "id": "KFRzpmdn1BDT"
      },
      "outputs": [],
      "source": [
        "# show three areas in one graph. You can also show it in three graphs.\n",
        "alt.Chart(wd[['Agriculture', 'Industry', 'Service']]).transform_fold(\n",
        "    ['Agriculture', 'Industry', 'Service'],\n",
        "    as_=['Area', 'Measurement']\n",
        ").mark_bar(\n",
        "    opacity=0.7,\n",
        "    binSpacing=0\n",
        ").encode(\n",
        "    alt.X('Measurement:Q').bin(maxbins=50),\n",
        "    alt.Y('count()').stack(None),\n",
        "    alt.Color('Area:N')\n",
        ")"
      ]
    },
    {
      "cell_type": "markdown",
      "metadata": {
        "id": "oMum1rKGY32c"
      },
      "source": [
        "5. What are the names, population and Area of the 5 largest (by area) landlocked countries?"
      ]
    },
    {
      "cell_type": "code",
      "execution_count": null,
      "metadata": {
        "id": "Sg653mRhY32c"
      },
      "outputs": [],
      "source": []
    },
    {
      "cell_type": "markdown",
      "metadata": {
        "id": "mmPeQMN8Y32c"
      },
      "source": [
        "6. What are the names and population of the five most populous landlocked countries?"
      ]
    },
    {
      "cell_type": "code",
      "execution_count": null,
      "metadata": {
        "id": "29owBz30Y32c"
      },
      "outputs": [],
      "source": []
    },
    {
      "cell_type": "markdown",
      "metadata": {
        "id": "AYcZDD8SY32c"
      },
      "source": [
        "7. What is the name and GDP of the 10 countries with the most cell phones/1000 people?"
      ]
    },
    {
      "cell_type": "code",
      "execution_count": null,
      "metadata": {
        "id": "aIVuBTZ6Y32c"
      },
      "outputs": [],
      "source": []
    },
    {
      "cell_type": "markdown",
      "metadata": {
        "id": "6M0ZQwnuY32d"
      },
      "source": [
        "8. What are the 10 “Wet Tropical” countries with the highest GDP?"
      ]
    },
    {
      "cell_type": "code",
      "execution_count": null,
      "metadata": {
        "id": "G-_W8eBMY32d"
      },
      "outputs": [],
      "source": []
    }
  ],
  "metadata": {
    "colab": {
      "provenance": [],
      "include_colab_link": true
    },
    "kernelspec": {
      "display_name": "Python 3",
      "language": "python",
      "name": "python3"
    },
    "language_info": {
      "codemirror_mode": {
        "name": "ipython",
        "version": 3
      },
      "file_extension": ".py",
      "mimetype": "text/x-python",
      "name": "python",
      "nbconvert_exporter": "python",
      "pygments_lexer": "ipython3",
      "version": "3.7.4"
    }
  },
  "nbformat": 4,
  "nbformat_minor": 0
}