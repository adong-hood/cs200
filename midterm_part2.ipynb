{
  "nbformat": 4,
  "nbformat_minor": 0,
  "metadata": {
    "kernelspec": {
      "display_name": "Python 3",
      "language": "python",
      "name": "python3"
    },
    "language_info": {
      "codemirror_mode": {
        "name": "ipython",
        "version": 3
      },
      "file_extension": ".py",
      "mimetype": "text/x-python",
      "name": "python",
      "nbconvert_exporter": "python",
      "pygments_lexer": "ipython3",
      "version": "3.7.4"
    },
    "colab": {
      "provenance": [],
      "include_colab_link": true
    }
  },
  "cells": [
    {
      "cell_type": "markdown",
      "metadata": {
        "id": "view-in-github",
        "colab_type": "text"
      },
      "source": [
        "<a href=\"https://colab.research.google.com/github/adong-hood/cs200/blob/main/midterm_part2.ipynb\" target=\"_parent\"><img src=\"https://colab.research.google.com/assets/colab-badge.svg\" alt=\"Open In Colab\"/></a>"
      ]
    },
    {
      "cell_type": "code",
      "metadata": {
        "colab": {
          "base_uri": "https://localhost:8080/"
        },
        "id": "jUDTCX3_GNvu",
        "outputId": "3bf8dee6-881b-472b-b51e-b66174e6ee16"
      },
      "source": [
        "from google.colab import drive\n",
        "drive.mount('/content/drive')"
      ],
      "execution_count": null,
      "outputs": [
        {
          "output_type": "stream",
          "text": [
            "Mounted at /content/drive\n"
          ],
          "name": "stdout"
        }
      ]
    },
    {
      "cell_type": "markdown",
      "metadata": {
        "id": "cIzuBojwFDq9"
      },
      "source": [
        "# Midterm Project -- Part II\n",
        "\n",
        "<p>These topics have been covered so far:</p>\n",
        "<ul>\n",
        "<li>We have reviewed Python in Chapter 4. </li>\n",
        "<li>In Chapter 5, we were introduced to Pandas and its common data structures (DataFrames and Series) and their many operations.</li>\n",
        "<li> In Chapter 6, we started exploratory data analysis--visualization and graphing data on a map using web API. </li>\n",
        "</ul>\n",
        "<p>In this part of the midterm project, you will apply what you have learned so far with happiness data, reflecting how Python and Google sheets can be used implement solutions to the same problems. </p>\n",
        "\n",
        "**Please do not manually look for answers even if you can.**\n",
        "<p>We start with some standard imports:</p>"
      ]
    },
    {
      "cell_type": "code",
      "metadata": {
        "id": "i6Mcx-fzFDrD"
      },
      "source": [
        "import pandas as pd\n",
        "import numpy as np"
      ],
      "execution_count": null,
      "outputs": []
    },
    {
      "cell_type": "markdown",
      "metadata": {
        "id": "Y13ne032FDrD"
      },
      "source": [
        "## Exploring the happiness_2017 data\n",
        "\n",
        "Let's see what data we have:"
      ]
    },
    {
      "cell_type": "code",
      "metadata": {
        "id": "hll5EgKiFDrE",
        "colab": {
          "base_uri": "https://localhost:8080/",
          "height": 345
        },
        "outputId": "a560d4e5-d464-4c3c-e7b5-09dc1d8fc093"
      },
      "source": [
        "happiness_df = pd.read_csv('http://pluto.hood.edu/~dong/datasets/happiness_2017.csv').dropna(axis=1, how='all')\n",
        "happiness_df.head()"
      ],
      "execution_count": null,
      "outputs": [
        {
          "output_type": "execute_result",
          "data": {
            "text/plain": [
              "       Country          Region  Rank  HappinessScore  Life Ladder  \\\n",
              "0       Norway  Western Europe     1           7.537     7.578745   \n",
              "1      Denmark  Western Europe     2           7.522     7.593702   \n",
              "2      Iceland  Western Europe     3           7.504     7.476214   \n",
              "3  Switzerland  Western Europe     4           7.494     7.473593   \n",
              "4      Finland  Western Europe     5           7.469     7.788252   \n",
              "\n",
              "   Log GDP per capita  Social support  Healthy life expectancy at birth  \\\n",
              "0           11.081789        0.950128                         71.086586   \n",
              "1           10.748989        0.952100                         71.662498   \n",
              "2           10.760409        0.966753                         72.755981   \n",
              "3           10.955548        0.949661                         73.173759   \n",
              "4           10.612338        0.963826                         71.696960   \n",
              "\n",
              "   Freedom to make life choices  Generosity  Perceptions of corruption  \\\n",
              "0                      0.953017    0.210104                   0.249711   \n",
              "1                      0.955416    0.145387                   0.181148   \n",
              "2                      0.938783    0.235479                   0.726845   \n",
              "3                      0.924997    0.167875                   0.316183   \n",
              "4                      0.962199   -0.012174                   0.192413   \n",
              "\n",
              "   Positive affect  Negative affect  Confidence in national government  \n",
              "0         0.849100         0.202914                           0.717160  \n",
              "1         0.823667         0.205775                           0.572353  \n",
              "2         0.895255         0.148160                           0.365042  \n",
              "3         0.773997         0.195871                           0.819707  \n",
              "4         0.787137         0.176066                           0.597539  "
            ],
            "text/html": [
              "\n",
              "  <div id=\"df-2f3f6917-3e3e-4c31-b066-df7016f5dad2\" class=\"colab-df-container\">\n",
              "    <div>\n",
              "<style scoped>\n",
              "    .dataframe tbody tr th:only-of-type {\n",
              "        vertical-align: middle;\n",
              "    }\n",
              "\n",
              "    .dataframe tbody tr th {\n",
              "        vertical-align: top;\n",
              "    }\n",
              "\n",
              "    .dataframe thead th {\n",
              "        text-align: right;\n",
              "    }\n",
              "</style>\n",
              "<table border=\"1\" class=\"dataframe\">\n",
              "  <thead>\n",
              "    <tr style=\"text-align: right;\">\n",
              "      <th></th>\n",
              "      <th>Country</th>\n",
              "      <th>Region</th>\n",
              "      <th>Rank</th>\n",
              "      <th>HappinessScore</th>\n",
              "      <th>Life Ladder</th>\n",
              "      <th>Log GDP per capita</th>\n",
              "      <th>Social support</th>\n",
              "      <th>Healthy life expectancy at birth</th>\n",
              "      <th>Freedom to make life choices</th>\n",
              "      <th>Generosity</th>\n",
              "      <th>Perceptions of corruption</th>\n",
              "      <th>Positive affect</th>\n",
              "      <th>Negative affect</th>\n",
              "      <th>Confidence in national government</th>\n",
              "    </tr>\n",
              "  </thead>\n",
              "  <tbody>\n",
              "    <tr>\n",
              "      <th>0</th>\n",
              "      <td>Norway</td>\n",
              "      <td>Western Europe</td>\n",
              "      <td>1</td>\n",
              "      <td>7.537</td>\n",
              "      <td>7.578745</td>\n",
              "      <td>11.081789</td>\n",
              "      <td>0.950128</td>\n",
              "      <td>71.086586</td>\n",
              "      <td>0.953017</td>\n",
              "      <td>0.210104</td>\n",
              "      <td>0.249711</td>\n",
              "      <td>0.849100</td>\n",
              "      <td>0.202914</td>\n",
              "      <td>0.717160</td>\n",
              "    </tr>\n",
              "    <tr>\n",
              "      <th>1</th>\n",
              "      <td>Denmark</td>\n",
              "      <td>Western Europe</td>\n",
              "      <td>2</td>\n",
              "      <td>7.522</td>\n",
              "      <td>7.593702</td>\n",
              "      <td>10.748989</td>\n",
              "      <td>0.952100</td>\n",
              "      <td>71.662498</td>\n",
              "      <td>0.955416</td>\n",
              "      <td>0.145387</td>\n",
              "      <td>0.181148</td>\n",
              "      <td>0.823667</td>\n",
              "      <td>0.205775</td>\n",
              "      <td>0.572353</td>\n",
              "    </tr>\n",
              "    <tr>\n",
              "      <th>2</th>\n",
              "      <td>Iceland</td>\n",
              "      <td>Western Europe</td>\n",
              "      <td>3</td>\n",
              "      <td>7.504</td>\n",
              "      <td>7.476214</td>\n",
              "      <td>10.760409</td>\n",
              "      <td>0.966753</td>\n",
              "      <td>72.755981</td>\n",
              "      <td>0.938783</td>\n",
              "      <td>0.235479</td>\n",
              "      <td>0.726845</td>\n",
              "      <td>0.895255</td>\n",
              "      <td>0.148160</td>\n",
              "      <td>0.365042</td>\n",
              "    </tr>\n",
              "    <tr>\n",
              "      <th>3</th>\n",
              "      <td>Switzerland</td>\n",
              "      <td>Western Europe</td>\n",
              "      <td>4</td>\n",
              "      <td>7.494</td>\n",
              "      <td>7.473593</td>\n",
              "      <td>10.955548</td>\n",
              "      <td>0.949661</td>\n",
              "      <td>73.173759</td>\n",
              "      <td>0.924997</td>\n",
              "      <td>0.167875</td>\n",
              "      <td>0.316183</td>\n",
              "      <td>0.773997</td>\n",
              "      <td>0.195871</td>\n",
              "      <td>0.819707</td>\n",
              "    </tr>\n",
              "    <tr>\n",
              "      <th>4</th>\n",
              "      <td>Finland</td>\n",
              "      <td>Western Europe</td>\n",
              "      <td>5</td>\n",
              "      <td>7.469</td>\n",
              "      <td>7.788252</td>\n",
              "      <td>10.612338</td>\n",
              "      <td>0.963826</td>\n",
              "      <td>71.696960</td>\n",
              "      <td>0.962199</td>\n",
              "      <td>-0.012174</td>\n",
              "      <td>0.192413</td>\n",
              "      <td>0.787137</td>\n",
              "      <td>0.176066</td>\n",
              "      <td>0.597539</td>\n",
              "    </tr>\n",
              "  </tbody>\n",
              "</table>\n",
              "</div>\n",
              "    <div class=\"colab-df-buttons\">\n",
              "\n",
              "  <div class=\"colab-df-container\">\n",
              "    <button class=\"colab-df-convert\" onclick=\"convertToInteractive('df-2f3f6917-3e3e-4c31-b066-df7016f5dad2')\"\n",
              "            title=\"Convert this dataframe to an interactive table.\"\n",
              "            style=\"display:none;\">\n",
              "\n",
              "  <svg xmlns=\"http://www.w3.org/2000/svg\" height=\"24px\" viewBox=\"0 -960 960 960\">\n",
              "    <path d=\"M120-120v-720h720v720H120Zm60-500h600v-160H180v160Zm220 220h160v-160H400v160Zm0 220h160v-160H400v160ZM180-400h160v-160H180v160Zm440 0h160v-160H620v160ZM180-180h160v-160H180v160Zm440 0h160v-160H620v160Z\"/>\n",
              "  </svg>\n",
              "    </button>\n",
              "\n",
              "  <style>\n",
              "    .colab-df-container {\n",
              "      display:flex;\n",
              "      gap: 12px;\n",
              "    }\n",
              "\n",
              "    .colab-df-convert {\n",
              "      background-color: #E8F0FE;\n",
              "      border: none;\n",
              "      border-radius: 50%;\n",
              "      cursor: pointer;\n",
              "      display: none;\n",
              "      fill: #1967D2;\n",
              "      height: 32px;\n",
              "      padding: 0 0 0 0;\n",
              "      width: 32px;\n",
              "    }\n",
              "\n",
              "    .colab-df-convert:hover {\n",
              "      background-color: #E2EBFA;\n",
              "      box-shadow: 0px 1px 2px rgba(60, 64, 67, 0.3), 0px 1px 3px 1px rgba(60, 64, 67, 0.15);\n",
              "      fill: #174EA6;\n",
              "    }\n",
              "\n",
              "    .colab-df-buttons div {\n",
              "      margin-bottom: 4px;\n",
              "    }\n",
              "\n",
              "    [theme=dark] .colab-df-convert {\n",
              "      background-color: #3B4455;\n",
              "      fill: #D2E3FC;\n",
              "    }\n",
              "\n",
              "    [theme=dark] .colab-df-convert:hover {\n",
              "      background-color: #434B5C;\n",
              "      box-shadow: 0px 1px 3px 1px rgba(0, 0, 0, 0.15);\n",
              "      filter: drop-shadow(0px 1px 2px rgba(0, 0, 0, 0.3));\n",
              "      fill: #FFFFFF;\n",
              "    }\n",
              "  </style>\n",
              "\n",
              "    <script>\n",
              "      const buttonEl =\n",
              "        document.querySelector('#df-2f3f6917-3e3e-4c31-b066-df7016f5dad2 button.colab-df-convert');\n",
              "      buttonEl.style.display =\n",
              "        google.colab.kernel.accessAllowed ? 'block' : 'none';\n",
              "\n",
              "      async function convertToInteractive(key) {\n",
              "        const element = document.querySelector('#df-2f3f6917-3e3e-4c31-b066-df7016f5dad2');\n",
              "        const dataTable =\n",
              "          await google.colab.kernel.invokeFunction('convertToInteractive',\n",
              "                                                    [key], {});\n",
              "        if (!dataTable) return;\n",
              "\n",
              "        const docLinkHtml = 'Like what you see? Visit the ' +\n",
              "          '<a target=\"_blank\" href=https://colab.research.google.com/notebooks/data_table.ipynb>data table notebook</a>'\n",
              "          + ' to learn more about interactive tables.';\n",
              "        element.innerHTML = '';\n",
              "        dataTable['output_type'] = 'display_data';\n",
              "        await google.colab.output.renderOutput(dataTable, element);\n",
              "        const docLink = document.createElement('div');\n",
              "        docLink.innerHTML = docLinkHtml;\n",
              "        element.appendChild(docLink);\n",
              "      }\n",
              "    </script>\n",
              "  </div>\n",
              "\n",
              "\n",
              "<div id=\"df-6120e07c-4506-4190-8a38-1082a333f8db\">\n",
              "  <button class=\"colab-df-quickchart\" onclick=\"quickchart('df-6120e07c-4506-4190-8a38-1082a333f8db')\"\n",
              "            title=\"Suggest charts\"\n",
              "            style=\"display:none;\">\n",
              "\n",
              "<svg xmlns=\"http://www.w3.org/2000/svg\" height=\"24px\"viewBox=\"0 0 24 24\"\n",
              "     width=\"24px\">\n",
              "    <g>\n",
              "        <path d=\"M19 3H5c-1.1 0-2 .9-2 2v14c0 1.1.9 2 2 2h14c1.1 0 2-.9 2-2V5c0-1.1-.9-2-2-2zM9 17H7v-7h2v7zm4 0h-2V7h2v10zm4 0h-2v-4h2v4z\"/>\n",
              "    </g>\n",
              "</svg>\n",
              "  </button>\n",
              "\n",
              "<style>\n",
              "  .colab-df-quickchart {\n",
              "      --bg-color: #E8F0FE;\n",
              "      --fill-color: #1967D2;\n",
              "      --hover-bg-color: #E2EBFA;\n",
              "      --hover-fill-color: #174EA6;\n",
              "      --disabled-fill-color: #AAA;\n",
              "      --disabled-bg-color: #DDD;\n",
              "  }\n",
              "\n",
              "  [theme=dark] .colab-df-quickchart {\n",
              "      --bg-color: #3B4455;\n",
              "      --fill-color: #D2E3FC;\n",
              "      --hover-bg-color: #434B5C;\n",
              "      --hover-fill-color: #FFFFFF;\n",
              "      --disabled-bg-color: #3B4455;\n",
              "      --disabled-fill-color: #666;\n",
              "  }\n",
              "\n",
              "  .colab-df-quickchart {\n",
              "    background-color: var(--bg-color);\n",
              "    border: none;\n",
              "    border-radius: 50%;\n",
              "    cursor: pointer;\n",
              "    display: none;\n",
              "    fill: var(--fill-color);\n",
              "    height: 32px;\n",
              "    padding: 0;\n",
              "    width: 32px;\n",
              "  }\n",
              "\n",
              "  .colab-df-quickchart:hover {\n",
              "    background-color: var(--hover-bg-color);\n",
              "    box-shadow: 0 1px 2px rgba(60, 64, 67, 0.3), 0 1px 3px 1px rgba(60, 64, 67, 0.15);\n",
              "    fill: var(--button-hover-fill-color);\n",
              "  }\n",
              "\n",
              "  .colab-df-quickchart-complete:disabled,\n",
              "  .colab-df-quickchart-complete:disabled:hover {\n",
              "    background-color: var(--disabled-bg-color);\n",
              "    fill: var(--disabled-fill-color);\n",
              "    box-shadow: none;\n",
              "  }\n",
              "\n",
              "  .colab-df-spinner {\n",
              "    border: 2px solid var(--fill-color);\n",
              "    border-color: transparent;\n",
              "    border-bottom-color: var(--fill-color);\n",
              "    animation:\n",
              "      spin 1s steps(1) infinite;\n",
              "  }\n",
              "\n",
              "  @keyframes spin {\n",
              "    0% {\n",
              "      border-color: transparent;\n",
              "      border-bottom-color: var(--fill-color);\n",
              "      border-left-color: var(--fill-color);\n",
              "    }\n",
              "    20% {\n",
              "      border-color: transparent;\n",
              "      border-left-color: var(--fill-color);\n",
              "      border-top-color: var(--fill-color);\n",
              "    }\n",
              "    30% {\n",
              "      border-color: transparent;\n",
              "      border-left-color: var(--fill-color);\n",
              "      border-top-color: var(--fill-color);\n",
              "      border-right-color: var(--fill-color);\n",
              "    }\n",
              "    40% {\n",
              "      border-color: transparent;\n",
              "      border-right-color: var(--fill-color);\n",
              "      border-top-color: var(--fill-color);\n",
              "    }\n",
              "    60% {\n",
              "      border-color: transparent;\n",
              "      border-right-color: var(--fill-color);\n",
              "    }\n",
              "    80% {\n",
              "      border-color: transparent;\n",
              "      border-right-color: var(--fill-color);\n",
              "      border-bottom-color: var(--fill-color);\n",
              "    }\n",
              "    90% {\n",
              "      border-color: transparent;\n",
              "      border-bottom-color: var(--fill-color);\n",
              "    }\n",
              "  }\n",
              "</style>\n",
              "\n",
              "  <script>\n",
              "    async function quickchart(key) {\n",
              "      const quickchartButtonEl =\n",
              "        document.querySelector('#' + key + ' button');\n",
              "      quickchartButtonEl.disabled = true;  // To prevent multiple clicks.\n",
              "      quickchartButtonEl.classList.add('colab-df-spinner');\n",
              "      try {\n",
              "        const charts = await google.colab.kernel.invokeFunction(\n",
              "            'suggestCharts', [key], {});\n",
              "      } catch (error) {\n",
              "        console.error('Error during call to suggestCharts:', error);\n",
              "      }\n",
              "      quickchartButtonEl.classList.remove('colab-df-spinner');\n",
              "      quickchartButtonEl.classList.add('colab-df-quickchart-complete');\n",
              "    }\n",
              "    (() => {\n",
              "      let quickchartButtonEl =\n",
              "        document.querySelector('#df-6120e07c-4506-4190-8a38-1082a333f8db button');\n",
              "      quickchartButtonEl.style.display =\n",
              "        google.colab.kernel.accessAllowed ? 'block' : 'none';\n",
              "    })();\n",
              "  </script>\n",
              "</div>\n",
              "\n",
              "    </div>\n",
              "  </div>\n"
            ],
            "application/vnd.google.colaboratory.intrinsic+json": {
              "type": "dataframe",
              "variable_name": "happiness_df",
              "summary": "{\n  \"name\": \"happiness_df\",\n  \"rows\": 140,\n  \"fields\": [\n    {\n      \"column\": \"Country\",\n      \"properties\": {\n        \"dtype\": \"string\",\n        \"num_unique_values\": 140,\n        \"samples\": [\n          \"Gabon\",\n          \"Jordan\",\n          \"Taiwan Province of China\"\n        ],\n        \"semantic_type\": \"\",\n        \"description\": \"\"\n      }\n    },\n    {\n      \"column\": \"Region\",\n      \"properties\": {\n        \"dtype\": \"category\",\n        \"num_unique_values\": 10,\n        \"samples\": [\n          \"Sub-Saharan Africa\",\n          \"North America and ANZ\",\n          \"Southeast Asia\"\n        ],\n        \"semantic_type\": \"\",\n        \"description\": \"\"\n      }\n    },\n    {\n      \"column\": \"Rank\",\n      \"properties\": {\n        \"dtype\": \"number\",\n        \"std\": 40,\n        \"min\": 1,\n        \"max\": 140,\n        \"num_unique_values\": 140,\n        \"samples\": [\n          109,\n          68,\n          32\n        ],\n        \"semantic_type\": \"\",\n        \"description\": \"\"\n      }\n    },\n    {\n      \"column\": \"HappinessScore\",\n      \"properties\": {\n        \"dtype\": \"number\",\n        \"std\": 1.1097498836517892,\n        \"min\": 2.693,\n        \"max\": 7.537,\n        \"num_unique_values\": 136,\n        \"samples\": [\n          5.235,\n          5.902,\n          5.5\n        ],\n        \"semantic_type\": \"\",\n        \"description\": \"\"\n      }\n    },\n    {\n      \"column\": \"Life Ladder\",\n      \"properties\": {\n        \"dtype\": \"number\",\n        \"std\": 1.122178436020664,\n        \"min\": 2.66171813,\n        \"max\": 7.788251877,\n        \"num_unique_values\": 140,\n        \"samples\": [\n          4.782382965,\n          4.808082581,\n          6.359450817\n        ],\n        \"semantic_type\": \"\",\n        \"description\": \"\"\n      }\n    },\n    {\n      \"column\": \"Log GDP per capita\",\n      \"properties\": {\n        \"dtype\": \"number\",\n        \"std\": 1.1849354933546576,\n        \"min\": 6.625340939,\n        \"max\": 11.46523094,\n        \"num_unique_values\": 133,\n        \"samples\": [\n          10.02889156,\n          9.635466576,\n          10.44522285\n        ],\n        \"semantic_type\": \"\",\n        \"description\": \"\"\n      }\n    },\n    {\n      \"column\": \"Social support\",\n      \"properties\": {\n        \"dtype\": \"number\",\n        \"std\": 0.12111698195971196,\n        \"min\": 0.319589138,\n        \"max\": 0.9667528272,\n        \"num_unique_values\": 139,\n        \"samples\": [\n          0.6340255737,\n          0.8837704062,\n          0.8911191225\n        ],\n        \"semantic_type\": \"\",\n        \"description\": \"\"\n      }\n    },\n    {\n      \"column\": \"Healthy life expectancy at birth\",\n      \"properties\": {\n        \"dtype\": \"number\",\n        \"std\": 7.595596622342877,\n        \"min\": 44.38652802,\n        \"max\": 76.53636169,\n        \"num_unique_values\": 140,\n        \"samples\": [\n          57.1261673,\n          64.4178772,\n          71.20999908\n        ],\n        \"semantic_type\": \"\",\n        \"description\": \"\"\n      }\n    },\n    {\n      \"column\": \"Freedom to make life choices\",\n      \"properties\": {\n        \"dtype\": \"number\",\n        \"std\": 0.12796884470884706,\n        \"min\": 0.427010864,\n        \"max\": 0.9851777554,\n        \"num_unique_values\": 139,\n        \"samples\": [\n          0.7382128239,\n          0.6848463416,\n          0.7596547604\n        ],\n        \"semantic_type\": \"\",\n        \"description\": \"\"\n      }\n    },\n    {\n      \"column\": \"Generosity\",\n      \"properties\": {\n        \"dtype\": \"number\",\n        \"std\": 0.16106365118660346,\n        \"min\": -0.2967349887,\n        \"max\": 0.62870574,\n        \"num_unique_values\": 132,\n        \"samples\": [\n          -0.166747421,\n          0.1249361858,\n          0.1911131293\n        ],\n        \"semantic_type\": \"\",\n        \"description\": \"\"\n      }\n    },\n    {\n      \"column\": \"Perceptions of corruption\",\n      \"properties\": {\n        \"dtype\": \"number\",\n        \"std\": 0.17979906599699463,\n        \"min\": 0.1617906839,\n        \"max\": 0.9543925524,\n        \"num_unique_values\": 128,\n        \"samples\": [\n          0.6730655432,\n          0.8615902066,\n          0.794457376\n        ],\n        \"semantic_type\": \"\",\n        \"description\": \"\"\n      }\n    },\n    {\n      \"column\": \"Positive affect\",\n      \"properties\": {\n        \"dtype\": \"number\",\n        \"std\": 0.10724640469331333,\n        \"min\": 0.4209618866,\n        \"max\": 0.8952545524,\n        \"num_unique_values\": 139,\n        \"samples\": [\n          0.7044771314,\n          0.5097212195,\n          0.8372772932\n        ],\n        \"semantic_type\": \"\",\n        \"description\": \"\"\n      }\n    },\n    {\n      \"column\": \"Negative affect\",\n      \"properties\": {\n        \"dtype\": \"number\",\n        \"std\": 0.09198486419704124,\n        \"min\": 0.1141231582,\n        \"max\": 0.5993354917,\n        \"num_unique_values\": 139,\n        \"samples\": [\n          0.4224608839,\n          0.3264070749,\n          0.1141231582\n        ],\n        \"semantic_type\": \"\",\n        \"description\": \"\"\n      }\n    },\n    {\n      \"column\": \"Confidence in national government\",\n      \"properties\": {\n        \"dtype\": \"number\",\n        \"std\": 0.19823479888276602,\n        \"min\": 0.1109365299,\n        \"max\": 0.9646904469,\n        \"num_unique_values\": 127,\n        \"samples\": [\n          0.4130321145,\n          0.6011172533,\n          0.2508273125\n        ],\n        \"semantic_type\": \"\",\n        \"description\": \"\"\n      }\n    }\n  ]\n}"
            }
          },
          "metadata": {},
          "execution_count": 2
        }
      ]
    },
    {
      "cell_type": "code",
      "metadata": {
        "id": "t1oLYRUKFDrF"
      },
      "source": [
        "happiness_df.columns"
      ],
      "execution_count": null,
      "outputs": []
    },
    {
      "cell_type": "code",
      "metadata": {
        "id": "HXeYKhCsGI3Z"
      },
      "source": [
        "happiness_df.shape"
      ],
      "execution_count": null,
      "outputs": []
    },
    {
      "cell_type": "markdown",
      "metadata": {
        "id": "Jp9oCMD8FDrG"
      },
      "source": [
        "Do an `initial investigation` of the dataset. This process may include cleaning the data, and preparing it for data analysis.\n",
        "\n",
        "**You can find the expected outputs for Q1-Q3 from Runestone book, Section 2.2.3, Q-5, Q-6, Q-12 and Section 2.3.1, Q-2.**"
      ]
    },
    {
      "cell_type": "markdown",
      "metadata": {
        "id": "bg4FjdXNFDrG"
      },
      "source": [
        "### Q-1: Calculating the average, standard deviation, maximum, mininum, median of happiness scores.  \n",
        "Your solution should only show these statistics for happiness scores."
      ]
    },
    {
      "cell_type": "markdown",
      "metadata": {
        "id": "E-W7GnFMFDrH"
      },
      "source": [
        "### Q-2: What is the name and happiness score of the country with the lowest confidence in their national government?"
      ]
    },
    {
      "cell_type": "markdown",
      "metadata": {
        "id": "x4tv5acfFDrI"
      },
      "source": [
        "### Q-3 How many countries are in Western Europe?\n",
        "This will be very easy wiht grouping function, but you can still do it without it"
      ]
    },
    {
      "cell_type": "markdown",
      "metadata": {
        "id": "sMvOlBOcFDrI"
      },
      "source": [
        "## Merging data"
      ]
    },
    {
      "cell_type": "markdown",
      "metadata": {
        "id": "JuUdyr__FDrI"
      },
      "source": [
        "Let's load the world polulation data."
      ]
    },
    {
      "cell_type": "code",
      "metadata": {
        "id": "sI_vkzUUFDrI",
        "colab": {
          "base_uri": "https://localhost:8080/",
          "height": 231
        },
        "outputId": "1d12c812-a602-4aeb-9e1d-9cfe3e31b28c"
      },
      "source": [
        "world_pop_df = pd.read_csv('http://pluto.hood.edu/~dong/datasets/world_countries.csv').dropna(axis=1, how='all')\n",
        "world_pop_df.head(2)"
      ],
      "execution_count": null,
      "outputs": [
        {
          "output_type": "execute_result",
          "data": {
            "text/plain": [
              "       Country Code                Region  Population    Area  Pop. Density  \\\n",
              "0  Afghanistan  AFG  ASIA (EX. NEAR EAST)    31056997  647500          48.0   \n",
              "1      Albania  ALB        EASTERN EUROPE     3581655   28748         124.6   \n",
              "\n",
              "   Coastline  Net migration  Infant mortality     GDP  ...  Phones  Arable  \\\n",
              "0       0.00          23.06            163.07   700.0  ...     3.2   12.13   \n",
              "1       1.26          -4.93             21.52  4500.0  ...    71.2   21.09   \n",
              "\n",
              "   Crops  Other  Climate  Birthrate  Deathrate  Agriculture  Industry  Service  \n",
              "0   0.22  87.65      1.0      46.60      20.34        0.380     0.240    0.380  \n",
              "1   4.42  74.49      3.0      15.11       5.22        0.232     0.188    0.579  \n",
              "\n",
              "[2 rows x 21 columns]"
            ],
            "text/html": [
              "\n",
              "  <div id=\"df-81f3b973-92c9-4639-84ec-38f00494b46f\" class=\"colab-df-container\">\n",
              "    <div>\n",
              "<style scoped>\n",
              "    .dataframe tbody tr th:only-of-type {\n",
              "        vertical-align: middle;\n",
              "    }\n",
              "\n",
              "    .dataframe tbody tr th {\n",
              "        vertical-align: top;\n",
              "    }\n",
              "\n",
              "    .dataframe thead th {\n",
              "        text-align: right;\n",
              "    }\n",
              "</style>\n",
              "<table border=\"1\" class=\"dataframe\">\n",
              "  <thead>\n",
              "    <tr style=\"text-align: right;\">\n",
              "      <th></th>\n",
              "      <th>Country</th>\n",
              "      <th>Code</th>\n",
              "      <th>Region</th>\n",
              "      <th>Population</th>\n",
              "      <th>Area</th>\n",
              "      <th>Pop. Density</th>\n",
              "      <th>Coastline</th>\n",
              "      <th>Net migration</th>\n",
              "      <th>Infant mortality</th>\n",
              "      <th>GDP</th>\n",
              "      <th>...</th>\n",
              "      <th>Phones</th>\n",
              "      <th>Arable</th>\n",
              "      <th>Crops</th>\n",
              "      <th>Other</th>\n",
              "      <th>Climate</th>\n",
              "      <th>Birthrate</th>\n",
              "      <th>Deathrate</th>\n",
              "      <th>Agriculture</th>\n",
              "      <th>Industry</th>\n",
              "      <th>Service</th>\n",
              "    </tr>\n",
              "  </thead>\n",
              "  <tbody>\n",
              "    <tr>\n",
              "      <th>0</th>\n",
              "      <td>Afghanistan</td>\n",
              "      <td>AFG</td>\n",
              "      <td>ASIA (EX. NEAR EAST)</td>\n",
              "      <td>31056997</td>\n",
              "      <td>647500</td>\n",
              "      <td>48.0</td>\n",
              "      <td>0.00</td>\n",
              "      <td>23.06</td>\n",
              "      <td>163.07</td>\n",
              "      <td>700.0</td>\n",
              "      <td>...</td>\n",
              "      <td>3.2</td>\n",
              "      <td>12.13</td>\n",
              "      <td>0.22</td>\n",
              "      <td>87.65</td>\n",
              "      <td>1.0</td>\n",
              "      <td>46.60</td>\n",
              "      <td>20.34</td>\n",
              "      <td>0.380</td>\n",
              "      <td>0.240</td>\n",
              "      <td>0.380</td>\n",
              "    </tr>\n",
              "    <tr>\n",
              "      <th>1</th>\n",
              "      <td>Albania</td>\n",
              "      <td>ALB</td>\n",
              "      <td>EASTERN EUROPE</td>\n",
              "      <td>3581655</td>\n",
              "      <td>28748</td>\n",
              "      <td>124.6</td>\n",
              "      <td>1.26</td>\n",
              "      <td>-4.93</td>\n",
              "      <td>21.52</td>\n",
              "      <td>4500.0</td>\n",
              "      <td>...</td>\n",
              "      <td>71.2</td>\n",
              "      <td>21.09</td>\n",
              "      <td>4.42</td>\n",
              "      <td>74.49</td>\n",
              "      <td>3.0</td>\n",
              "      <td>15.11</td>\n",
              "      <td>5.22</td>\n",
              "      <td>0.232</td>\n",
              "      <td>0.188</td>\n",
              "      <td>0.579</td>\n",
              "    </tr>\n",
              "  </tbody>\n",
              "</table>\n",
              "<p>2 rows × 21 columns</p>\n",
              "</div>\n",
              "    <div class=\"colab-df-buttons\">\n",
              "\n",
              "  <div class=\"colab-df-container\">\n",
              "    <button class=\"colab-df-convert\" onclick=\"convertToInteractive('df-81f3b973-92c9-4639-84ec-38f00494b46f')\"\n",
              "            title=\"Convert this dataframe to an interactive table.\"\n",
              "            style=\"display:none;\">\n",
              "\n",
              "  <svg xmlns=\"http://www.w3.org/2000/svg\" height=\"24px\" viewBox=\"0 -960 960 960\">\n",
              "    <path d=\"M120-120v-720h720v720H120Zm60-500h600v-160H180v160Zm220 220h160v-160H400v160Zm0 220h160v-160H400v160ZM180-400h160v-160H180v160Zm440 0h160v-160H620v160ZM180-180h160v-160H180v160Zm440 0h160v-160H620v160Z\"/>\n",
              "  </svg>\n",
              "    </button>\n",
              "\n",
              "  <style>\n",
              "    .colab-df-container {\n",
              "      display:flex;\n",
              "      gap: 12px;\n",
              "    }\n",
              "\n",
              "    .colab-df-convert {\n",
              "      background-color: #E8F0FE;\n",
              "      border: none;\n",
              "      border-radius: 50%;\n",
              "      cursor: pointer;\n",
              "      display: none;\n",
              "      fill: #1967D2;\n",
              "      height: 32px;\n",
              "      padding: 0 0 0 0;\n",
              "      width: 32px;\n",
              "    }\n",
              "\n",
              "    .colab-df-convert:hover {\n",
              "      background-color: #E2EBFA;\n",
              "      box-shadow: 0px 1px 2px rgba(60, 64, 67, 0.3), 0px 1px 3px 1px rgba(60, 64, 67, 0.15);\n",
              "      fill: #174EA6;\n",
              "    }\n",
              "\n",
              "    .colab-df-buttons div {\n",
              "      margin-bottom: 4px;\n",
              "    }\n",
              "\n",
              "    [theme=dark] .colab-df-convert {\n",
              "      background-color: #3B4455;\n",
              "      fill: #D2E3FC;\n",
              "    }\n",
              "\n",
              "    [theme=dark] .colab-df-convert:hover {\n",
              "      background-color: #434B5C;\n",
              "      box-shadow: 0px 1px 3px 1px rgba(0, 0, 0, 0.15);\n",
              "      filter: drop-shadow(0px 1px 2px rgba(0, 0, 0, 0.3));\n",
              "      fill: #FFFFFF;\n",
              "    }\n",
              "  </style>\n",
              "\n",
              "    <script>\n",
              "      const buttonEl =\n",
              "        document.querySelector('#df-81f3b973-92c9-4639-84ec-38f00494b46f button.colab-df-convert');\n",
              "      buttonEl.style.display =\n",
              "        google.colab.kernel.accessAllowed ? 'block' : 'none';\n",
              "\n",
              "      async function convertToInteractive(key) {\n",
              "        const element = document.querySelector('#df-81f3b973-92c9-4639-84ec-38f00494b46f');\n",
              "        const dataTable =\n",
              "          await google.colab.kernel.invokeFunction('convertToInteractive',\n",
              "                                                    [key], {});\n",
              "        if (!dataTable) return;\n",
              "\n",
              "        const docLinkHtml = 'Like what you see? Visit the ' +\n",
              "          '<a target=\"_blank\" href=https://colab.research.google.com/notebooks/data_table.ipynb>data table notebook</a>'\n",
              "          + ' to learn more about interactive tables.';\n",
              "        element.innerHTML = '';\n",
              "        dataTable['output_type'] = 'display_data';\n",
              "        await google.colab.output.renderOutput(dataTable, element);\n",
              "        const docLink = document.createElement('div');\n",
              "        docLink.innerHTML = docLinkHtml;\n",
              "        element.appendChild(docLink);\n",
              "      }\n",
              "    </script>\n",
              "  </div>\n",
              "\n",
              "\n",
              "<div id=\"df-5eafbb19-3ee3-4833-8742-d25b59df5884\">\n",
              "  <button class=\"colab-df-quickchart\" onclick=\"quickchart('df-5eafbb19-3ee3-4833-8742-d25b59df5884')\"\n",
              "            title=\"Suggest charts\"\n",
              "            style=\"display:none;\">\n",
              "\n",
              "<svg xmlns=\"http://www.w3.org/2000/svg\" height=\"24px\"viewBox=\"0 0 24 24\"\n",
              "     width=\"24px\">\n",
              "    <g>\n",
              "        <path d=\"M19 3H5c-1.1 0-2 .9-2 2v14c0 1.1.9 2 2 2h14c1.1 0 2-.9 2-2V5c0-1.1-.9-2-2-2zM9 17H7v-7h2v7zm4 0h-2V7h2v10zm4 0h-2v-4h2v4z\"/>\n",
              "    </g>\n",
              "</svg>\n",
              "  </button>\n",
              "\n",
              "<style>\n",
              "  .colab-df-quickchart {\n",
              "      --bg-color: #E8F0FE;\n",
              "      --fill-color: #1967D2;\n",
              "      --hover-bg-color: #E2EBFA;\n",
              "      --hover-fill-color: #174EA6;\n",
              "      --disabled-fill-color: #AAA;\n",
              "      --disabled-bg-color: #DDD;\n",
              "  }\n",
              "\n",
              "  [theme=dark] .colab-df-quickchart {\n",
              "      --bg-color: #3B4455;\n",
              "      --fill-color: #D2E3FC;\n",
              "      --hover-bg-color: #434B5C;\n",
              "      --hover-fill-color: #FFFFFF;\n",
              "      --disabled-bg-color: #3B4455;\n",
              "      --disabled-fill-color: #666;\n",
              "  }\n",
              "\n",
              "  .colab-df-quickchart {\n",
              "    background-color: var(--bg-color);\n",
              "    border: none;\n",
              "    border-radius: 50%;\n",
              "    cursor: pointer;\n",
              "    display: none;\n",
              "    fill: var(--fill-color);\n",
              "    height: 32px;\n",
              "    padding: 0;\n",
              "    width: 32px;\n",
              "  }\n",
              "\n",
              "  .colab-df-quickchart:hover {\n",
              "    background-color: var(--hover-bg-color);\n",
              "    box-shadow: 0 1px 2px rgba(60, 64, 67, 0.3), 0 1px 3px 1px rgba(60, 64, 67, 0.15);\n",
              "    fill: var(--button-hover-fill-color);\n",
              "  }\n",
              "\n",
              "  .colab-df-quickchart-complete:disabled,\n",
              "  .colab-df-quickchart-complete:disabled:hover {\n",
              "    background-color: var(--disabled-bg-color);\n",
              "    fill: var(--disabled-fill-color);\n",
              "    box-shadow: none;\n",
              "  }\n",
              "\n",
              "  .colab-df-spinner {\n",
              "    border: 2px solid var(--fill-color);\n",
              "    border-color: transparent;\n",
              "    border-bottom-color: var(--fill-color);\n",
              "    animation:\n",
              "      spin 1s steps(1) infinite;\n",
              "  }\n",
              "\n",
              "  @keyframes spin {\n",
              "    0% {\n",
              "      border-color: transparent;\n",
              "      border-bottom-color: var(--fill-color);\n",
              "      border-left-color: var(--fill-color);\n",
              "    }\n",
              "    20% {\n",
              "      border-color: transparent;\n",
              "      border-left-color: var(--fill-color);\n",
              "      border-top-color: var(--fill-color);\n",
              "    }\n",
              "    30% {\n",
              "      border-color: transparent;\n",
              "      border-left-color: var(--fill-color);\n",
              "      border-top-color: var(--fill-color);\n",
              "      border-right-color: var(--fill-color);\n",
              "    }\n",
              "    40% {\n",
              "      border-color: transparent;\n",
              "      border-right-color: var(--fill-color);\n",
              "      border-top-color: var(--fill-color);\n",
              "    }\n",
              "    60% {\n",
              "      border-color: transparent;\n",
              "      border-right-color: var(--fill-color);\n",
              "    }\n",
              "    80% {\n",
              "      border-color: transparent;\n",
              "      border-right-color: var(--fill-color);\n",
              "      border-bottom-color: var(--fill-color);\n",
              "    }\n",
              "    90% {\n",
              "      border-color: transparent;\n",
              "      border-bottom-color: var(--fill-color);\n",
              "    }\n",
              "  }\n",
              "</style>\n",
              "\n",
              "  <script>\n",
              "    async function quickchart(key) {\n",
              "      const quickchartButtonEl =\n",
              "        document.querySelector('#' + key + ' button');\n",
              "      quickchartButtonEl.disabled = true;  // To prevent multiple clicks.\n",
              "      quickchartButtonEl.classList.add('colab-df-spinner');\n",
              "      try {\n",
              "        const charts = await google.colab.kernel.invokeFunction(\n",
              "            'suggestCharts', [key], {});\n",
              "      } catch (error) {\n",
              "        console.error('Error during call to suggestCharts:', error);\n",
              "      }\n",
              "      quickchartButtonEl.classList.remove('colab-df-spinner');\n",
              "      quickchartButtonEl.classList.add('colab-df-quickchart-complete');\n",
              "    }\n",
              "    (() => {\n",
              "      let quickchartButtonEl =\n",
              "        document.querySelector('#df-5eafbb19-3ee3-4833-8742-d25b59df5884 button');\n",
              "      quickchartButtonEl.style.display =\n",
              "        google.colab.kernel.accessAllowed ? 'block' : 'none';\n",
              "    })();\n",
              "  </script>\n",
              "</div>\n",
              "\n",
              "    </div>\n",
              "  </div>\n"
            ],
            "application/vnd.google.colaboratory.intrinsic+json": {
              "type": "dataframe",
              "variable_name": "world_pop_df"
            }
          },
          "metadata": {},
          "execution_count": 4
        }
      ]
    },
    {
      "cell_type": "markdown",
      "metadata": {
        "id": "LhOGTcByS25D"
      },
      "source": [
        "To extract populations from world_pop_df, we have to merge happiness_df with world_pop_df. As you probably can remember that some of the country names in <code>world_counties.csv</code> and <code>happiness_2007.xlsx</code>do not match (The Runestone book, Section 2.3).\n",
        "\n",
        "We do want to extract populations of all countries. So there are data preprocessing steps needed.\n",
        "\n",
        "There are 4 kinds of merge: 'inner', 'outer', 'left', and 'right'. We practiced inner merge previously.  To keep all countries in happiness_df when we merge happiness_df with world_pop_df, you should use left merge.\n",
        "\n",
        "You may find examples from https://jakevdp.github.io/PythonDataScienceHandbook/03.07-merge-and-join.html:\n",
        "Example: US States Data"
      ]
    },
    {
      "cell_type": "code",
      "metadata": {
        "id": "25nBQenCFDrJ",
        "colab": {
          "base_uri": "https://localhost:8080/"
        },
        "outputId": "553bf76d-ae63-4fe1-8306-d2a771894e02"
      },
      "source": [
        "# You have to merge happiness_df and world_pop_df to get population for each country in happiness_df.\n",
        "# Pay attention to what kind of merge(left, right, outer) to use.\n",
        "# fill in your merge code/implementation."
      ],
      "execution_count": null,
      "outputs": [
        {
          "output_type": "execute_result",
          "data": {
            "text/plain": [
              "(140, 34)"
            ]
          },
          "metadata": {
            "tags": []
          },
          "execution_count": 18
        }
      ]
    },
    {
      "cell_type": "code",
      "metadata": {
        "colab": {
          "base_uri": "https://localhost:8080/"
        },
        "id": "XRPkLTIDtnMB",
        "outputId": "cc54e643-24a6-4c04-c6e7-49217840b07d"
      },
      "source": [
        "# This assumes merging is completed and the new dataframe is named merged_df\n",
        "merged_df.columns"
      ],
      "execution_count": null,
      "outputs": [
        {
          "output_type": "execute_result",
          "data": {
            "text/plain": [
              "Index(['Country', 'Region_x', 'Rank', 'HappinessScore', 'Life Ladder',\n",
              "       'Log GDP per capita', 'Social support',\n",
              "       'Healthy life expectancy at birth', 'Freedom to make life choices',\n",
              "       'Generosity', 'Perceptions of corruption', 'Positive affect',\n",
              "       'Negative affect', 'Confidence in national government', 'Code',\n",
              "       'Region_y', 'Population', 'Area', 'Pop. Density', 'Coastline',\n",
              "       'Net migration', 'Infant mortality', 'GDP', 'Literacy', 'Phones',\n",
              "       'Arable', 'Crops', 'Other', 'Climate', 'Birthrate', 'Deathrate',\n",
              "       'Agriculture', 'Industry', 'Service'],\n",
              "      dtype='object')"
            ]
          },
          "metadata": {
            "tags": []
          },
          "execution_count": 19
        }
      ]
    },
    {
      "cell_type": "markdown",
      "metadata": {
        "id": "tn4DvA9fFDrJ"
      },
      "source": [
        "Let's check out which countries do not have population data after merge."
      ]
    },
    {
      "cell_type": "code",
      "metadata": {
        "id": "1rI9PHvyFDrJ"
      },
      "source": [
        "merged_df[merged_df['Population'].isnull()][['Country','Population']]"
      ],
      "execution_count": null,
      "outputs": []
    },
    {
      "cell_type": "markdown",
      "metadata": {
        "id": "t4IcZyRdFDrK"
      },
      "source": [
        "These entries with <code>NaN</code> for Populatin column are due to **mismath country names** in the two dataframes/file or **simply no population data**.The most difficult part is to resolve these `NaN` entries. You may use <a href = \"http://pluto.hood.edu/~dong/datasets/country_mismatch_missing.txt\"> this file </a> for mismatch country information. The goal to find extract all population data from the world_pop_df."
      ]
    },
    {
      "cell_type": "markdown",
      "metadata": {
        "id": "rFUtb7jQFDrK"
      },
      "source": [
        "Let's work on the first one. Check out what is used for the united states in the population dataframe (world_pop_df): United States of America."
      ]
    },
    {
      "cell_type": "code",
      "metadata": {
        "scrolled": false,
        "id": "vvbLS6p2FDrK"
      },
      "source": [
        "world_pop_df[world_pop_df['Country'].str.contains(\"United States\")]"
      ],
      "execution_count": null,
      "outputs": []
    },
    {
      "cell_type": "markdown",
      "metadata": {
        "id": "nXYSw8ZuFDrK"
      },
      "source": [
        "Change 'United States of America' in the world_pop_df dataframe to match 'United States' in df."
      ]
    },
    {
      "cell_type": "code",
      "metadata": {
        "id": "QopjLspmFDrK"
      },
      "source": [
        "world_pop_df.loc[world_pop_df['Country'].str.contains(\"United States\"), 'Country'] = \"United States\""
      ],
      "execution_count": null,
      "outputs": []
    },
    {
      "cell_type": "markdown",
      "metadata": {
        "id": "QvteA3YoFDrL"
      },
      "source": [
        "Peform the same operation for United Kingdom."
      ]
    },
    {
      "cell_type": "code",
      "metadata": {
        "scrolled": true,
        "id": "zukTmFsxFDrL"
      },
      "source": [
        "world_pop_df.loc[world_pop_df['Country'].str.contains(\"United Kingdom\"), 'Country'] = \"United Kingdom\"\n"
      ],
      "execution_count": null,
      "outputs": []
    },
    {
      "cell_type": "markdown",
      "metadata": {
        "id": "Yib2yJiiFDrL"
      },
      "source": [
        "A few difficult ones are done for you.\n",
        "### You still need to take care of Korea, North; Korea, South; Congo, Dem. Rep.; Congo; Taiwan; Hong Kong; Trinidad & Tobago; Bosnia & Herzegovina."
      ]
    },
    {
      "cell_type": "code",
      "metadata": {
        "id": "x2_MwqzgFDrL"
      },
      "source": [
        "world_pop_df.loc[world_pop_df['Country'].str.contains(\"Ivoire\"), 'Country'] = \"Ivory Coast\"\n",
        "\n",
        "# fill in code/implementation to take care of other countries.\n"
      ],
      "execution_count": null,
      "outputs": []
    },
    {
      "cell_type": "markdown",
      "metadata": {
        "id": "xkmaOyh6FDrL"
      },
      "source": [
        "Merge happiness_df with world_pop_df again after cleaning."
      ]
    },
    {
      "cell_type": "code",
      "metadata": {
        "id": "CBoBkgruFDrM"
      },
      "source": [
        "merged_cleaned = # fill in code/implementation to merge again.\n",
        "# check again.\n",
        "merged_cleaned[merged_cleaned['Population'].isnull()][['Country','Population']]"
      ],
      "execution_count": null,
      "outputs": []
    },
    {
      "cell_type": "markdown",
      "metadata": {
        "id": "NEVxuN-wv4EA"
      },
      "source": [
        "There are still four countries with no population data since these countries do not appear in the world_pop_df or world_countries file. We will set their population data to zero."
      ]
    },
    {
      "cell_type": "code",
      "metadata": {
        "id": "fNLmHtYkwHbO"
      },
      "source": [
        "# you have four countries with NaN.\n",
        "merged_cleaned['Population'] = merged_cleaned['Population'].fillna(0)\n",
        "merged_cleaned[merged_cleaned['Population'].isnull()][['Country','Population']]\n"
      ],
      "execution_count": null,
      "outputs": []
    },
    {
      "cell_type": "markdown",
      "metadata": {
        "id": "WzvCfjg6FDrM"
      },
      "source": [
        "Finally, we are ready to use the merged dataframe."
      ]
    },
    {
      "cell_type": "code",
      "metadata": {
        "scrolled": true,
        "id": "_5SiXSIEFDrM"
      },
      "source": [
        "merged_cleaned.head()"
      ],
      "execution_count": null,
      "outputs": []
    },
    {
      "cell_type": "markdown",
      "metadata": {
        "id": "OD21-4GHM_pW"
      },
      "source": [
        "You may find the expected answers to Q-4 and Q-5 from the Runestone book, section 2.3, Q-8 and Q-9."
      ]
    },
    {
      "cell_type": "markdown",
      "metadata": {
        "id": "doJ4jJqUFDrM"
      },
      "source": [
        "### Q-4. Which country  has the largest population in Latin America and Caribbean."
      ]
    },
    {
      "cell_type": "markdown",
      "metadata": {
        "id": "9ajydKoNFDrN"
      },
      "source": [
        "### Q-5. Find the average population of East Asia."
      ]
    },
    {
      "cell_type": "markdown",
      "metadata": {
        "id": "gkt8DQJFNqJX"
      },
      "source": [
        "## Graphing the Happiness Scores\n",
        "\n",
        "Graphing the happiness score of each country on the map. This should be very similar to what did in the Runestone book, Section 6.3.\n",
        "\n",
        "Provide all the code needed for graphing the happiness_score of each country on a world map.\n",
        "\n",
        "The cleaning and import are done for you.\n"
      ]
    },
    {
      "cell_type": "code",
      "metadata": {
        "id": "C51Z3jFmXUGQ"
      },
      "source": [
        "from altair import Chart, X, Y, Color, Scale\n",
        "import altair as alt\n",
        "from vega_datasets import data\n",
        "import requests"
      ],
      "execution_count": null,
      "outputs": []
    },
    {
      "cell_type": "code",
      "metadata": {
        "id": "qD_N7A6M2t80"
      },
      "source": [
        "# We need 3-letter country code for each country in order to extract its\n",
        "# numeric country codes via web API for graphing the map.\n",
        "merged_cleaned[merged_cleaned.Code.isnull()]"
      ],
      "execution_count": null,
      "outputs": []
    },
    {
      "cell_type": "code",
      "metadata": {
        "id": "iGgV5x9z3e2I"
      },
      "source": [
        "# This time  we remove countries with NaN for Code, i.e. no 3-letter country code.\n",
        "merged_cleaned = merged_cleaned[merged_cleaned.Code.notnull()]\n",
        "len(merged_cleaned[merged_cleaned.Code.isnull()]) # this should return 0."
      ],
      "execution_count": null,
      "outputs": []
    },
    {
      "cell_type": "code",
      "metadata": {
        "colab": {
          "base_uri": "https://localhost:8080/",
          "height": 517
        },
        "id": "K5T9fZnp5K7-",
        "outputId": "53352c2d-ecc1-4e6d-9190-8ea02b4be487"
      },
      "source": [
        "## fill in your implementation."
      ],
      "execution_count": null,
      "outputs": [
        {
          "output_type": "execute_result",
          "data": {
            "text/plain": [
              "alt.Chart(...)"
            ],
            "text/html": [
              "\n",
              "<div id=\"altair-viz-7d0dc88d51d049e18094eac66478ab43\"></div>\n",
              "<script type=\"text/javascript\">\n",
              "  (function(spec, embedOpt){\n",
              "    let outputDiv = document.currentScript.previousElementSibling;\n",
              "    if (outputDiv.id !== \"altair-viz-7d0dc88d51d049e18094eac66478ab43\") {\n",
              "      outputDiv = document.getElementById(\"altair-viz-7d0dc88d51d049e18094eac66478ab43\");\n",
              "    }\n",
              "    const paths = {\n",
              "      \"vega\": \"https://cdn.jsdelivr.net/npm//vega@5?noext\",\n",
              "      \"vega-lib\": \"https://cdn.jsdelivr.net/npm//vega-lib?noext\",\n",
              "      \"vega-lite\": \"https://cdn.jsdelivr.net/npm//vega-lite@4.8.1?noext\",\n",
              "      \"vega-embed\": \"https://cdn.jsdelivr.net/npm//vega-embed@6?noext\",\n",
              "    };\n",
              "\n",
              "    function loadScript(lib) {\n",
              "      return new Promise(function(resolve, reject) {\n",
              "        var s = document.createElement('script');\n",
              "        s.src = paths[lib];\n",
              "        s.async = true;\n",
              "        s.onload = () => resolve(paths[lib]);\n",
              "        s.onerror = () => reject(`Error loading script: ${paths[lib]}`);\n",
              "        document.getElementsByTagName(\"head\")[0].appendChild(s);\n",
              "      });\n",
              "    }\n",
              "\n",
              "    function showError(err) {\n",
              "      outputDiv.innerHTML = `<div class=\"error\" style=\"color:red;\">${err}</div>`;\n",
              "      throw err;\n",
              "    }\n",
              "\n",
              "    function displayChart(vegaEmbed) {\n",
              "      vegaEmbed(outputDiv, spec, embedOpt)\n",
              "        .catch(err => showError(`Javascript Error: ${err.message}<br>This usually means there's a typo in your chart specification. See the javascript console for the full traceback.`));\n",
              "    }\n",
              "\n",
              "    if(typeof define === \"function\" && define.amd) {\n",
              "      requirejs.config({paths});\n",
              "      require([\"vega-embed\"], displayChart, err => showError(`Error loading script: ${err.message}`));\n",
              "    } else if (typeof vegaEmbed === \"function\") {\n",
              "      displayChart(vegaEmbed);\n",
              "    } else {\n",
              "      loadScript(\"vega\")\n",
              "        .then(() => loadScript(\"vega-lite\"))\n",
              "        .then(() => loadScript(\"vega-embed\"))\n",
              "        .catch(showError)\n",
              "        .then(() => displayChart(vegaEmbed));\n",
              "    }\n",
              "  })({\"config\": {\"view\": {\"continuousWidth\": 400, \"continuousHeight\": 300}}, \"data\": {\"url\": \"https://cdn.jsdelivr.net/npm/vega-datasets@v1.29.0/data/world-110m.json\", \"format\": {\"feature\": \"countries\", \"type\": \"topojson\"}}, \"mark\": {\"type\": \"geoshape\", \"stroke\": \"black\", \"strokeWidth\": 0.5}, \"encoding\": {\"color\": {\"type\": \"quantitative\", \"field\": \"HappinessScore\", \"scale\": {\"scheme\": \"plasma\"}}, \"tooltip\": {\"type\": \"nominal\", \"field\": \"Country\"}}, \"height\": 450, \"projection\": {\"type\": \"equirectangular\"}, \"title\": \"Happiness Score by Country\", \"transform\": [{\"lookup\": \"id\", \"from\": {\"data\": {\"name\": \"data-0eaa23511b7cfddc2d32e8bf12e6bcf1\"}, \"key\": \"country code\", \"fields\": [\"HappinessScore\", \"Country\"]}}], \"width\": 600, \"$schema\": \"https://vega.github.io/schema/vega-lite/v4.8.1.json\", \"datasets\": {\"data-0eaa23511b7cfddc2d32e8bf12e6bcf1\": [{\"Country\": \"Norway\", \"Region_x\": \"Western Europe\", \"Rank\": 1, \"HappinessScore\": 7.537000000000001, \"Life Ladder\": 7.578744887999999, \"Log GDP per capita\": 11.08178902, \"Social support\": 0.9501276612, \"Healthy life expectancy at birth\": 71.086586, \"Freedom to make life choices\": 0.9530168176, \"Generosity\": 0.2101040334, \"Perceptions of corruption\": 0.24971137940000002, \"Positive affect\": 0.8490999937, \"Negative affect\": 0.20291380579999999, \"Confidence in national government\": 0.7171597481, \"Code\": \"NOR\", \"Region_y\": \"WESTERN EUROPE\", \"Population\": 4610820.0, \"Area\": 323802.0, \"Pop. Density\": 14.2, \"Coastline\": 7.77, \"Net migration\": 1.74, \"Infant mortality\": 3.7, \"GDP\": 37800.0, \"Literacy\": 100.0, \"Phones\": 461.7, \"Arable\": 2.87, \"Crops\": 0.0, \"Other\": 97.13, \"Climate\": 3.0, \"Birthrate\": 11.46, \"Deathrate\": 9.4, \"Agriculture\": 0.021, \"Industry\": 0.415, \"Service\": 0.564, \"country code\": 578}, {\"Country\": \"Denmark\", \"Region_x\": \"Western Europe\", \"Rank\": 2, \"HappinessScore\": 7.522, \"Life Ladder\": 7.593702316, \"Log GDP per capita\": 10.74898911, \"Social support\": 0.9521000981000001, \"Healthy life expectancy at birth\": 71.66249847, \"Freedom to make life choices\": 0.9554163218, \"Generosity\": 0.1453870982, \"Perceptions of corruption\": 0.1811475605, \"Positive affect\": 0.8236674070000001, \"Negative affect\": 0.20577530559999999, \"Confidence in national government\": 0.5723533034, \"Code\": \"DNK\", \"Region_y\": \"WESTERN EUROPE\", \"Population\": 5450661.0, \"Area\": 43094.0, \"Pop. Density\": 126.5, \"Coastline\": 16.97, \"Net migration\": 2.48, \"Infant mortality\": 4.56, \"GDP\": 31100.0, \"Literacy\": 100.0, \"Phones\": 614.6, \"Arable\": 54.02, \"Crops\": 0.19, \"Other\": 45.79, \"Climate\": 3.0, \"Birthrate\": 11.13, \"Deathrate\": 10.36, \"Agriculture\": 0.018000000000000002, \"Industry\": 0.24600000000000002, \"Service\": 0.735, \"country code\": 208}, {\"Country\": \"Iceland\", \"Region_x\": \"Western Europe\", \"Rank\": 3, \"HappinessScore\": 7.504, \"Life Ladder\": 7.476213932, \"Log GDP per capita\": 10.76040936, \"Social support\": 0.9667528272, \"Healthy life expectancy at birth\": 72.75598145, \"Freedom to make life choices\": 0.938783288, \"Generosity\": 0.23547871410000001, \"Perceptions of corruption\": 0.7268453836, \"Positive affect\": 0.8952545524, \"Negative affect\": 0.1481600106, \"Confidence in national government\": 0.3650419414, \"Code\": \"ISL\", \"Region_y\": \"WESTERN EUROPE\", \"Population\": 299388.0, \"Area\": 103000.0, \"Pop. Density\": 2.9, \"Coastline\": 4.83, \"Net migration\": 2.38, \"Infant mortality\": 3.31, \"GDP\": 30900.0, \"Literacy\": 99.9, \"Phones\": 647.7, \"Arable\": 0.07, \"Crops\": 0.0, \"Other\": 99.93, \"Climate\": 3.0, \"Birthrate\": 13.64, \"Deathrate\": 6.72, \"Agriculture\": 0.086, \"Industry\": 0.15, \"Service\": 0.765, \"country code\": 352}, {\"Country\": \"Switzerland\", \"Region_x\": \"Western Europe\", \"Rank\": 4, \"HappinessScore\": 7.494, \"Life Ladder\": 7.473593235, \"Log GDP per capita\": 10.95554829, \"Social support\": 0.9496613741, \"Healthy life expectancy at birth\": 73.17375946, \"Freedom to make life choices\": 0.9249969125, \"Generosity\": 0.16787466410000002, \"Perceptions of corruption\": 0.31618347760000004, \"Positive affect\": 0.7739970684, \"Negative affect\": 0.1958714873, \"Confidence in national government\": 0.8197067379999999, \"Code\": \"CHE\", \"Region_y\": \"WESTERN EUROPE\", \"Population\": 7523934.0, \"Area\": 41290.0, \"Pop. Density\": 182.2, \"Coastline\": 0.0, \"Net migration\": 4.05, \"Infant mortality\": 4.39, \"GDP\": 32700.0, \"Literacy\": 99.0, \"Phones\": 680.9, \"Arable\": 10.42, \"Crops\": 0.61, \"Other\": 88.97, \"Climate\": 3.0, \"Birthrate\": 9.71, \"Deathrate\": 8.49, \"Agriculture\": 0.015, \"Industry\": 0.34, \"Service\": 0.645, \"country code\": 756}, {\"Country\": \"Finland\", \"Region_x\": \"Western Europe\", \"Rank\": 5, \"HappinessScore\": 7.468999999999999, \"Life Ladder\": 7.788251877, \"Log GDP per capita\": 10.61233807, \"Social support\": 0.9638264179000001, \"Healthy life expectancy at birth\": 71.69696045, \"Freedom to make life choices\": 0.9621989727, \"Generosity\": -0.01217365544, \"Perceptions of corruption\": 0.1924127787, \"Positive affect\": 0.7871370912000001, \"Negative affect\": 0.1760657877, \"Confidence in national government\": 0.5975385904, \"Code\": \"FIN\", \"Region_y\": \"WESTERN EUROPE\", \"Population\": 5231372.0, \"Area\": 338145.0, \"Pop. Density\": 15.5, \"Coastline\": 0.37, \"Net migration\": 0.95, \"Infant mortality\": 3.57, \"GDP\": 27400.0, \"Literacy\": 100.0, \"Phones\": 405.3, \"Arable\": 7.19, \"Crops\": 0.03, \"Other\": 92.78, \"Climate\": 3.0, \"Birthrate\": 10.45, \"Deathrate\": 9.86, \"Agriculture\": 0.027999999999999997, \"Industry\": 0.295, \"Service\": 0.6759999999999999, \"country code\": 246}, {\"Country\": \"Netherlands\", \"Region_x\": \"Western Europe\", \"Rank\": 6, \"HappinessScore\": 7.377000000000001, \"Life Ladder\": 7.458965302, \"Log GDP per capita\": 10.79181385, \"Social support\": 0.9365013242, \"Healthy life expectancy at birth\": 71.61999512, \"Freedom to make life choices\": 0.9203197359999999, \"Generosity\": 0.2374404669, \"Perceptions of corruption\": 0.36313363909999996, \"Positive affect\": 0.8521848917, \"Negative affect\": 0.18451984230000001, \"Confidence in national government\": 0.6695536375, \"Code\": \"NLD\", \"Region_y\": \"WESTERN EUROPE\", \"Population\": 16491461.0, \"Area\": 41526.0, \"Pop. Density\": 397.1, \"Coastline\": 1.09, \"Net migration\": 2.91, \"Infant mortality\": 5.04, \"GDP\": 28600.0, \"Literacy\": 99.0, \"Phones\": 460.8, \"Arable\": 26.71, \"Crops\": 0.97, \"Other\": 72.32, \"Climate\": 3.0, \"Birthrate\": 10.9, \"Deathrate\": 8.68, \"Agriculture\": 0.021, \"Industry\": 0.244, \"Service\": 0.736, \"country code\": 528}, {\"Country\": \"New Zealand\", \"Region_x\": \"North America and ANZ\", \"Rank\": 7, \"HappinessScore\": 7.314, \"Life Ladder\": 7.32718277, \"Log GDP per capita\": 10.47576237, \"Social support\": 0.9549206495, \"Healthy life expectancy at birth\": 71.61430359, \"Freedom to make life choices\": 0.942279458, \"Generosity\": 0.2850567102, \"Perceptions of corruption\": 0.2218874842, \"Positive affect\": 0.8174312711, \"Negative affect\": 0.1717165709, \"Confidence in national government\": 0.6090154648, \"Code\": \"NZL\", \"Region_y\": \"OCEANIA\", \"Population\": 4076140.0, \"Area\": 268680.0, \"Pop. Density\": 15.2, \"Coastline\": 5.63, \"Net migration\": 4.05, \"Infant mortality\": 5.85, \"GDP\": 21600.0, \"Literacy\": 99.0, \"Phones\": 441.7, \"Arable\": 5.6, \"Crops\": 6.99, \"Other\": 87.41, \"Climate\": 3.0, \"Birthrate\": 13.76, \"Deathrate\": 7.53, \"Agriculture\": 0.043, \"Industry\": 0.273, \"Service\": 0.684, \"country code\": 554}, {\"Country\": \"Australia\", \"Region_x\": \"North America and ANZ\", \"Rank\": 8, \"HappinessScore\": 7.284, \"Life Ladder\": 7.25703764, \"Log GDP per capita\": 10.71182728, \"Social support\": 0.9499578476, \"Healthy life expectancy at birth\": 72.78334045, \"Freedom to make life choices\": 0.9105501771, \"Generosity\": 0.3016932607, \"Perceptions of corruption\": 0.411346525, \"Positive affect\": 0.7800788879, \"Negative affect\": 0.2253609747, \"Confidence in national government\": 0.45340695979999995, \"Code\": \"AUS\", \"Region_y\": \"OCEANIA\", \"Population\": 20264082.0, \"Area\": 7686850.0, \"Pop. Density\": 2.6, \"Coastline\": 0.34, \"Net migration\": 3.98, \"Infant mortality\": 4.69, \"GDP\": 29000.0, \"Literacy\": 100.0, \"Phones\": 565.5, \"Arable\": 6.55, \"Crops\": 0.04, \"Other\": 93.41, \"Climate\": 1.0, \"Birthrate\": 12.14, \"Deathrate\": 7.51, \"Agriculture\": 0.038, \"Industry\": 0.262, \"Service\": 0.7, \"country code\": 36}, {\"Country\": \"Sweden\", \"Region_x\": \"Western Europe\", \"Rank\": 9, \"HappinessScore\": 7.284, \"Life Ladder\": 7.286804676, \"Log GDP per capita\": 10.77040577, \"Social support\": 0.9140167831999999, \"Healthy life expectancy at birth\": 73.00654602, \"Freedom to make life choices\": 0.9345821142, \"Generosity\": 0.155486837, \"Perceptions of corruption\": 0.2393669188, \"Positive affect\": 0.8135477901, \"Negative affect\": 0.1750668287, \"Confidence in national government\": 0.5594619513, \"Code\": \"SWE\", \"Region_y\": \"WESTERN EUROPE\", \"Population\": 9016596.0, \"Area\": 449964.0, \"Pop. Density\": 20.0, \"Coastline\": 0.72, \"Net migration\": 1.67, \"Infant mortality\": 2.77, \"GDP\": 26800.0, \"Literacy\": 99.0, \"Phones\": 715.0, \"Arable\": 6.54, \"Crops\": 0.01, \"Other\": 93.45, \"Climate\": 3.0, \"Birthrate\": 10.27, \"Deathrate\": 10.31, \"Agriculture\": 0.011000000000000001, \"Industry\": 0.282, \"Service\": 0.7070000000000001, \"country code\": 752}, {\"Country\": \"Israel\", \"Region_x\": \"Middle East and North Africa\", \"Rank\": 10, \"HappinessScore\": 7.212999999999999, \"Life Ladder\": 7.3310360910000005, \"Log GDP per capita\": 10.40613174, \"Social support\": 0.9164408445000001, \"Healthy life expectancy at birth\": 71.86508179, \"Freedom to make life choices\": 0.7680763006, \"Generosity\": 0.13715851310000002, \"Perceptions of corruption\": 0.7926522493000001, \"Positive affect\": 0.6735913157, \"Negative affect\": 0.2764431536, \"Confidence in national government\": 0.38936814670000003, \"Code\": \"ISR\", \"Region_y\": \"NEAR EAST\", \"Population\": 6352117.0, \"Area\": 20770.0, \"Pop. Density\": 305.8, \"Coastline\": 1.31, \"Net migration\": 0.68, \"Infant mortality\": 7.03, \"GDP\": 19800.0, \"Literacy\": 95.4, \"Phones\": 462.3, \"Arable\": 16.39, \"Crops\": 4.17, \"Other\": 79.44, \"Climate\": 3.0, \"Birthrate\": 17.97, \"Deathrate\": 6.18, \"Agriculture\": 0.026000000000000002, \"Industry\": 0.317, \"Service\": 0.657, \"country code\": 376}, {\"Country\": \"Costa Rica\", \"Region_x\": \"Latin America and Caribbean\", \"Rank\": 11, \"HappinessScore\": 7.079, \"Life Ladder\": 7.22518158, \"Log GDP per capita\": 9.67063427, \"Social support\": 0.9216971397, \"Healthy life expectancy at birth\": 69.86730194, \"Freedom to make life choices\": 0.9356184602, \"Generosity\": -0.07826852797999999, \"Perceptions of corruption\": 0.7423507571, \"Positive affect\": 0.8743958473000001, \"Negative affect\": 0.2754400671, \"Confidence in national government\": 0.4074484408, \"Code\": \"CRI\", \"Region_y\": \"LATIN AMER. & CARIB\", \"Population\": 4075261.0, \"Area\": 51100.0, \"Pop. Density\": 79.8, \"Coastline\": 2.52, \"Net migration\": 0.51, \"Infant mortality\": 9.95, \"GDP\": 9100.0, \"Literacy\": 96.0, \"Phones\": 340.7, \"Arable\": 4.41, \"Crops\": 5.88, \"Other\": 89.71, \"Climate\": 2.0, \"Birthrate\": 18.32, \"Deathrate\": 4.36, \"Agriculture\": 0.08800000000000001, \"Industry\": 0.299, \"Service\": 0.614, \"country code\": 188}, {\"Country\": \"Austria\", \"Region_x\": \"Western Europe\", \"Rank\": 12, \"HappinessScore\": 7.006, \"Life Ladder\": 7.293727875, \"Log GDP per capita\": 10.71622562, \"Social support\": 0.9062178135, \"Healthy life expectancy at birth\": 72.35971069, \"Freedom to make life choices\": 0.8900305629, \"Generosity\": 0.1249967366, \"Perceptions of corruption\": 0.5183038115999999, \"Positive affect\": 0.7475687265000001, \"Negative affect\": 0.1802687198, \"Confidence in national government\": 0.43590793009999995, \"Code\": \"AUT\", \"Region_y\": \"WESTERN EUROPE\", \"Population\": 8192880.0, \"Area\": 83870.0, \"Pop. Density\": 97.7, \"Coastline\": 0.0, \"Net migration\": 2.0, \"Infant mortality\": 4.66, \"GDP\": 30000.0, \"Literacy\": 98.0, \"Phones\": 452.2, \"Arable\": 16.91, \"Crops\": 0.86, \"Other\": 82.23, \"Climate\": 3.0, \"Birthrate\": 8.74, \"Deathrate\": 9.76, \"Agriculture\": 0.018000000000000002, \"Industry\": 0.304, \"Service\": 0.6779999999999999, \"country code\": 40}, {\"Country\": \"United States\", \"Region_x\": \"North America and ANZ\", \"Rank\": 13, \"HappinessScore\": 6.992999999999999, \"Life Ladder\": 6.991759299999999, \"Log GDP per capita\": 10.89986897, \"Social support\": 0.9210028648, \"Healthy life expectancy at birth\": 69.7709198, \"Freedom to make life choices\": 0.8684967159999999, \"Generosity\": 0.181657359, \"Perceptions of corruption\": 0.6811912656, \"Positive affect\": 0.8265553117000001, \"Negative affect\": 0.268269062, \"Confidence in national government\": 0.38653501869999995, \"Code\": \"USA\", \"Region_y\": \"NORTHERN AMERICA\", \"Population\": 298444215.0, \"Area\": 9631420.0, \"Pop. Density\": 31.0, \"Coastline\": 0.21, \"Net migration\": 3.41, \"Infant mortality\": 6.5, \"GDP\": 37800.0, \"Literacy\": 97.0, \"Phones\": 898.0, \"Arable\": 19.13, \"Crops\": 0.22, \"Other\": 80.65, \"Climate\": 3.0, \"Birthrate\": 14.14, \"Deathrate\": 8.26, \"Agriculture\": 0.01, \"Industry\": 0.204, \"Service\": 0.787, \"country code\": 840}, {\"Country\": \"Ireland\", \"Region_x\": \"Western Europe\", \"Rank\": 14, \"HappinessScore\": 6.977, \"Life Ladder\": 7.060155392, \"Log GDP per capita\": 11.06648731, \"Social support\": 0.9434819818000001, \"Healthy life expectancy at birth\": 71.70978546, \"Freedom to make life choices\": 0.9053411484, \"Generosity\": 0.2068017423, \"Perceptions of corruption\": 0.33708474039999997, \"Positive affect\": 0.8333889245999999, \"Negative affect\": 0.2127841264, \"Confidence in national government\": 0.6037996411, \"Code\": \"IRL\", \"Region_y\": \"WESTERN EUROPE\", \"Population\": 4062235.0, \"Area\": 70280.0, \"Pop. Density\": 57.8, \"Coastline\": 2.06, \"Net migration\": 4.99, \"Infant mortality\": 5.39, \"GDP\": 29600.0, \"Literacy\": 98.0, \"Phones\": 500.5, \"Arable\": 15.2, \"Crops\": 0.03, \"Other\": 84.77, \"Climate\": 3.0, \"Birthrate\": 14.45, \"Deathrate\": 7.82, \"Agriculture\": 0.05, \"Industry\": 0.46, \"Service\": 0.49, \"country code\": 372}, {\"Country\": \"Germany\", \"Region_x\": \"Western Europe\", \"Rank\": 15, \"HappinessScore\": 6.9510000000000005, \"Life Ladder\": 7.0743246079999995, \"Log GDP per capita\": 10.71118355, \"Social support\": 0.8921660781, \"Healthy life expectancy at birth\": 71.07910156, \"Freedom to make life choices\": 0.8407278656999999, \"Generosity\": 0.13530753550000002, \"Perceptions of corruption\": 0.414021194, \"Positive affect\": 0.7365657091, \"Negative affect\": 0.19643481079999997, \"Confidence in national government\": 0.6229356527000001, \"Code\": \"DEU\", \"Region_y\": \"WESTERN EUROPE\", \"Population\": 82422299.0, \"Area\": 357021.0, \"Pop. Density\": 230.9, \"Coastline\": 0.67, \"Net migration\": 2.18, \"Infant mortality\": 4.16, \"GDP\": 27600.0, \"Literacy\": 99.0, \"Phones\": 667.9, \"Arable\": 33.85, \"Crops\": 0.59, \"Other\": 65.56, \"Climate\": 3.0, \"Birthrate\": 8.25, \"Deathrate\": 10.62, \"Agriculture\": 0.009000000000000001, \"Industry\": 0.29600000000000004, \"Service\": 0.695, \"country code\": 276}, {\"Country\": \"Belgium\", \"Region_x\": \"Western Europe\", \"Rank\": 16, \"HappinessScore\": 6.891, \"Life Ladder\": 6.928347587999999, \"Log GDP per capita\": 10.65765381, \"Social support\": 0.9216390848, \"Healthy life expectancy at birth\": 72.14292908, \"Freedom to make life choices\": 0.8568019867000001, \"Generosity\": 0.04548146948, \"Perceptions of corruption\": 0.5430460572, \"Positive affect\": 0.7863675952, \"Negative affect\": 0.23359769579999998, \"Confidence in national government\": 0.44973191619999997, \"Code\": \"BEL\", \"Region_y\": \"WESTERN EUROPE\", \"Population\": 10379067.0, \"Area\": 30528.0, \"Pop. Density\": 340.0, \"Coastline\": 0.22, \"Net migration\": 1.23, \"Infant mortality\": 4.68, \"GDP\": 29100.0, \"Literacy\": 98.0, \"Phones\": 462.6, \"Arable\": 23.28, \"Crops\": 0.4, \"Other\": 76.32, \"Climate\": 3.0, \"Birthrate\": 10.38, \"Deathrate\": 10.27, \"Agriculture\": 0.01, \"Industry\": 0.24, \"Service\": 0.7490000000000001, \"country code\": 56}, {\"Country\": \"Luxembourg\", \"Region_x\": \"Western Europe\", \"Rank\": 17, \"HappinessScore\": 6.8629999999999995, \"Life Ladder\": 7.061380862999999, \"Log GDP per capita\": 11.46523094, \"Social support\": 0.9054355025, \"Healthy life expectancy at birth\": 72.20130920000001, \"Freedom to make life choices\": 0.9028217195999999, \"Generosity\": 0.029771445319999996, \"Perceptions of corruption\": 0.3301735818, \"Positive affect\": 0.7658168674, \"Negative affect\": 0.1844670027, \"Confidence in national government\": 0.7389220595, \"Code\": \"LUX\", \"Region_y\": \"WESTERN EUROPE\", \"Population\": 474413.0, \"Area\": 2586.0, \"Pop. Density\": 183.5, \"Coastline\": 0.0, \"Net migration\": 8.97, \"Infant mortality\": 4.81, \"GDP\": 55100.0, \"Literacy\": 100.0, \"Phones\": 515.4, \"Arable\": 23.28, \"Crops\": 0.4, \"Other\": 76.32, \"Climate\": null, \"Birthrate\": 11.94, \"Deathrate\": 8.41, \"Agriculture\": 0.01, \"Industry\": 0.13, \"Service\": 0.86, \"country code\": 442}, {\"Country\": \"United Kingdom\", \"Region_x\": \"Western Europe\", \"Rank\": 18, \"HappinessScore\": 6.7139999999999995, \"Life Ladder\": 7.103273392, \"Log GDP per capita\": 10.58457565, \"Social support\": 0.9374952912000001, \"Healthy life expectancy at birth\": 72.05612946, \"Freedom to make life choices\": 0.8127332926, \"Generosity\": 0.2810460031, \"Perceptions of corruption\": 0.4186113477, \"Positive affect\": 0.7585718036, \"Negative affect\": 0.2095724195, \"Confidence in national government\": 0.440120846, \"Code\": \"GBR\", \"Region_y\": \"WESTERN EUROPE\", \"Population\": 60609153.0, \"Area\": 244820.0, \"Pop. Density\": 247.6, \"Coastline\": 5.08, \"Net migration\": 2.19, \"Infant mortality\": 5.16, \"GDP\": 27700.0, \"Literacy\": 99.0, \"Phones\": 543.5, \"Arable\": 23.46, \"Crops\": 0.21, \"Other\": 76.33, \"Climate\": 3.0, \"Birthrate\": 10.71, \"Deathrate\": 10.13, \"Agriculture\": 0.005, \"Industry\": 0.237, \"Service\": 0.758, \"country code\": 826}, {\"Country\": \"Chile\", \"Region_x\": \"Latin America and Caribbean\", \"Rank\": 19, \"HappinessScore\": 6.652, \"Life Ladder\": 6.3201193810000005, \"Log GDP per capita\": 10.03757858, \"Social support\": 0.8798407912, \"Healthy life expectancy at birth\": 69.60894012, \"Freedom to make life choices\": 0.7901164889, \"Generosity\": -0.03526517749, \"Perceptions of corruption\": 0.8359875083, \"Positive affect\": 0.8384748101, \"Negative affect\": 0.2910420895, \"Confidence in national government\": 0.2682833076, \"Code\": \"CHL\", \"Region_y\": \"LATIN AMER. & CARIB\", \"Population\": 16134219.0, \"Area\": 756950.0, \"Pop. Density\": 21.3, \"Coastline\": 0.85, \"Net migration\": 0.0, \"Infant mortality\": 8.8, \"GDP\": 9900.0, \"Literacy\": 96.2, \"Phones\": 213.0, \"Arable\": 2.65, \"Crops\": 0.42, \"Other\": 96.93, \"Climate\": 3.0, \"Birthrate\": 15.23, \"Deathrate\": 5.81, \"Agriculture\": 0.06, \"Industry\": 0.493, \"Service\": 0.447, \"country code\": 152}, {\"Country\": \"United Arab Emirates\", \"Region_x\": \"Middle East and North Africa\", \"Rank\": 20, \"HappinessScore\": 6.648, \"Life Ladder\": 7.039419651, \"Log GDP per capita\": 11.12180805, \"Social support\": 0.8355273604000001, \"Healthy life expectancy at birth\": 68.5815506, \"Freedom to make life choices\": 0.9620166420999999, \"Generosity\": 0.1911131293, \"Perceptions of corruption\": null, \"Positive affect\": 0.7950348854000001, \"Negative affect\": 0.2075984478, \"Confidence in national government\": null, \"Code\": \"ARE\", \"Region_y\": \"NEAR EAST\", \"Population\": 2602713.0, \"Area\": 82880.0, \"Pop. Density\": 31.4, \"Coastline\": 1.59, \"Net migration\": 1.03, \"Infant mortality\": 14.51, \"GDP\": 23200.0, \"Literacy\": 77.9, \"Phones\": 475.3, \"Arable\": 0.6, \"Crops\": 2.25, \"Other\": 97.15, \"Climate\": 1.0, \"Birthrate\": 18.96, \"Deathrate\": 4.4, \"Agriculture\": 0.04, \"Industry\": 0.585, \"Service\": 0.375, \"country code\": 784}, {\"Country\": \"Brazil\", \"Region_x\": \"Latin America and Caribbean\", \"Rank\": 21, \"HappinessScore\": 6.635, \"Life Ladder\": 6.332929134, \"Log GDP per capita\": 9.547693253, \"Social support\": 0.9046942592, \"Healthy life expectancy at birth\": 65.45373535, \"Freedom to make life choices\": 0.7647925615000001, \"Generosity\": -0.1872646958, \"Perceptions of corruption\": 0.794457376, \"Positive affect\": 0.7159451245999999, \"Negative affect\": 0.3077169061, \"Confidence in national government\": 0.1654902697, \"Code\": \"BRA\", \"Region_y\": \"LATIN AMER. & CARIB\", \"Population\": 188078227.0, \"Area\": 8511965.0, \"Pop. Density\": 22.1, \"Coastline\": 0.09, \"Net migration\": -0.03, \"Infant mortality\": 29.61, \"GDP\": 7600.0, \"Literacy\": 86.4, \"Phones\": 225.3, \"Arable\": 6.96, \"Crops\": 0.9, \"Other\": 92.15, \"Climate\": 2.0, \"Birthrate\": 16.56, \"Deathrate\": 6.17, \"Agriculture\": 0.084, \"Industry\": 0.4, \"Service\": 0.516, \"country code\": 76}, {\"Country\": \"Czech Republic\", \"Region_x\": \"Central and Eastern Europe\", \"Rank\": 22, \"HappinessScore\": 6.609, \"Life Ladder\": 6.789567947, \"Log GDP per capita\": 10.39345932, \"Social support\": 0.9009689689, \"Healthy life expectancy at birth\": 71.45102692, \"Freedom to make life choices\": 0.8317855, \"Generosity\": -0.18459008629999998, \"Perceptions of corruption\": 0.8665249944, \"Positive affect\": 0.7387439609, \"Negative affect\": 0.22664979100000002, \"Confidence in national government\": 0.3438708186, \"Code\": \"CZE\", \"Region_y\": \"EASTERN EUROPE\", \"Population\": 10235455.0, \"Area\": 78866.0, \"Pop. Density\": 129.8, \"Coastline\": 0.0, \"Net migration\": 0.97, \"Infant mortality\": 3.93, \"GDP\": 15700.0, \"Literacy\": 99.9, \"Phones\": 314.3, \"Arable\": 39.8, \"Crops\": 3.05, \"Other\": 57.15, \"Climate\": 3.0, \"Birthrate\": 9.02, \"Deathrate\": 10.59, \"Agriculture\": 0.034, \"Industry\": 0.39299999999999996, \"Service\": 0.573, \"country code\": 203}, {\"Country\": \"Argentina\", \"Region_x\": \"Latin America and Caribbean\", \"Rank\": 23, \"HappinessScore\": 6.599, \"Life Ladder\": 6.039330006, \"Log GDP per capita\": 9.843519211, \"Social support\": 0.9066991209999999, \"Healthy life expectancy at birth\": 67.53870392, \"Freedom to make life choices\": 0.8319661617, \"Generosity\": -0.1862999052, \"Perceptions of corruption\": 0.8410524726, \"Positive affect\": 0.8094226122, \"Negative affect\": 0.2917172611, \"Confidence in national government\": 0.30543029309999997, \"Code\": \"ARG\", \"Region_y\": \"LATIN AMER. & CARIB\", \"Population\": 39921833.0, \"Area\": 2766890.0, \"Pop. Density\": 14.4, \"Coastline\": 0.18, \"Net migration\": 0.61, \"Infant mortality\": 15.18, \"GDP\": 11200.0, \"Literacy\": 97.1, \"Phones\": 220.4, \"Arable\": 12.31, \"Crops\": 0.48, \"Other\": 87.21, \"Climate\": 3.0, \"Birthrate\": 16.73, \"Deathrate\": 7.55, \"Agriculture\": 0.095, \"Industry\": 0.358, \"Service\": 0.547, \"country code\": 32}, {\"Country\": \"Mexico\", \"Region_x\": \"Latin America and Caribbean\", \"Rank\": 24, \"HappinessScore\": 6.577999999999999, \"Life Ladder\": 6.410299301, \"Log GDP per capita\": 9.741969109, \"Social support\": 0.7998393774, \"Healthy life expectancy at birth\": 68.09822845, \"Freedom to make life choices\": 0.8614051342, \"Generosity\": -0.2066392154, \"Perceptions of corruption\": 0.8008930683, \"Positive affect\": 0.8426423073, \"Negative affect\": 0.2309908867, \"Confidence in national government\": 0.25695315, \"Code\": \"MEX\", \"Region_y\": \"LATIN AMER. & CARIB\", \"Population\": 107449525.0, \"Area\": 1972550.0, \"Pop. Density\": 54.5, \"Coastline\": 0.47, \"Net migration\": -4.87, \"Infant mortality\": 20.91, \"GDP\": 9000.0, \"Literacy\": 92.2, \"Phones\": 181.6, \"Arable\": 12.99, \"Crops\": 1.31, \"Other\": 85.7, \"Climate\": 1.5, \"Birthrate\": 20.69, \"Deathrate\": 4.74, \"Agriculture\": 0.038, \"Industry\": 0.259, \"Service\": 0.7020000000000001, \"country code\": 484}, {\"Country\": \"Singapore\", \"Region_x\": \"Southeast Asia\", \"Rank\": 25, \"HappinessScore\": 6.572, \"Life Ladder\": 6.378437996000001, \"Log GDP per capita\": 11.31704998, \"Social support\": 0.8973498940000001, \"Healthy life expectancy at birth\": 75.81240082, \"Freedom to make life choices\": 0.926127851, \"Generosity\": 0.1204115525, \"Perceptions of corruption\": 0.1617906839, \"Positive affect\": 0.8001143931999999, \"Negative affect\": 0.17932455239999998, \"Confidence in national government\": 0.9269979596, \"Code\": \"SGP\", \"Region_y\": \"ASIA (EX. NEAR EAST)\", \"Population\": 4492150.0, \"Area\": 693.0, \"Pop. Density\": 6482.2, \"Coastline\": 27.85, \"Net migration\": 11.53, \"Infant mortality\": 2.29, \"GDP\": 23700.0, \"Literacy\": 92.5, \"Phones\": 411.4, \"Arable\": 1.64, \"Crops\": 0.0, \"Other\": 98.36, \"Climate\": 2.0, \"Birthrate\": 9.34, \"Deathrate\": 4.28, \"Agriculture\": 0.0, \"Industry\": 0.33899999999999997, \"Service\": 0.6609999999999999, \"country code\": 702}, {\"Country\": \"Malta\", \"Region_x\": \"Western Europe\", \"Rank\": 26, \"HappinessScore\": 6.527, \"Life Ladder\": 6.675665855, \"Log GDP per capita\": 10.50269985, \"Social support\": 0.9373317956999999, \"Healthy life expectancy at birth\": 71.82951355, \"Freedom to make life choices\": 0.9236429334, \"Generosity\": 0.2417624593, \"Perceptions of corruption\": 0.6904945374, \"Positive affect\": 0.7207533717, \"Negative affect\": 0.30244311690000003, \"Confidence in national government\": 0.7520051598999999, \"Code\": \"MLT\", \"Region_y\": \"WESTERN EUROPE\", \"Population\": 400214.0, \"Area\": 316.0, \"Pop. Density\": 1266.5, \"Coastline\": 62.28, \"Net migration\": 2.07, \"Infant mortality\": 3.89, \"GDP\": 17700.0, \"Literacy\": 92.8, \"Phones\": 505.0, \"Arable\": 28.13, \"Crops\": 3.13, \"Other\": 68.74, \"Climate\": null, \"Birthrate\": 10.22, \"Deathrate\": 8.1, \"Agriculture\": 0.03, \"Industry\": 0.23, \"Service\": 0.74, \"country code\": 470}, {\"Country\": \"Guatemala\", \"Region_x\": \"Latin America and Caribbean\", \"Rank\": 27, \"HappinessScore\": 6.454, \"Life Ladder\": 6.325118542, \"Log GDP per capita\": 8.918908119, \"Social support\": 0.8264920712, \"Healthy life expectancy at birth\": 63.38197708, \"Freedom to make life choices\": 0.9145216942000001, \"Generosity\": -0.06172860041, \"Perceptions of corruption\": 0.7997478843000001, \"Positive affect\": 0.8458657861, \"Negative affect\": 0.3080861568, \"Confidence in national government\": 0.4586238563, \"Code\": \"GTM\", \"Region_y\": \"LATIN AMER. & CARIB\", \"Population\": 12293545.0, \"Area\": 108890.0, \"Pop. Density\": 112.9, \"Coastline\": 0.37, \"Net migration\": -1.67, \"Infant mortality\": 35.93, \"GDP\": 4100.0, \"Literacy\": 70.6, \"Phones\": 92.1, \"Arable\": 12.54, \"Crops\": 5.03, \"Other\": 82.43, \"Climate\": 2.0, \"Birthrate\": 29.88, \"Deathrate\": 5.2, \"Agriculture\": 0.22699999999999998, \"Industry\": 0.188, \"Service\": 0.585, \"country code\": 320}, {\"Country\": \"Uruguay\", \"Region_x\": \"Latin America and Caribbean\", \"Rank\": 28, \"HappinessScore\": 6.454, \"Life Ladder\": 6.336009979, \"Log GDP per capita\": 9.917771339, \"Social support\": 0.9138016701, \"Healthy life expectancy at birth\": 68.38036346, \"Freedom to make life choices\": 0.8978516459, \"Generosity\": -0.1047621518, \"Perceptions of corruption\": 0.6265819669, \"Positive affect\": 0.8358612657, \"Negative affect\": 0.2803233564, \"Confidence in national government\": 0.41303211450000005, \"Code\": \"URY\", \"Region_y\": \"LATIN AMER. & CARIB\", \"Population\": 3431932.0, \"Area\": 176220.0, \"Pop. Density\": 19.5, \"Coastline\": 0.37, \"Net migration\": -0.32, \"Infant mortality\": 11.95, \"GDP\": 12800.0, \"Literacy\": 98.0, \"Phones\": 291.4, \"Arable\": 7.43, \"Crops\": 0.23, \"Other\": 92.34, \"Climate\": 3.0, \"Birthrate\": 13.91, \"Deathrate\": 9.05, \"Agriculture\": 0.09300000000000001, \"Industry\": 0.311, \"Service\": 0.596, \"country code\": 858}, {\"Country\": \"Panama\", \"Region_x\": \"Latin America and Caribbean\", \"Rank\": 29, \"HappinessScore\": 6.452000000000001, \"Life Ladder\": 6.567658901000001, \"Log GDP per capita\": 10.00271416, \"Social support\": 0.9119048119, \"Healthy life expectancy at birth\": 68.04541016, \"Freedom to make life choices\": 0.8995735049, \"Generosity\": -0.1640804708, \"Perceptions of corruption\": 0.8407770991, \"Positive affect\": 0.8326888084, \"Negative affect\": 0.2423193306, \"Confidence in national government\": 0.3909960985, \"Code\": \"PAN\", \"Region_y\": \"LATIN AMER. & CARIB\", \"Population\": 3191319.0, \"Area\": 78200.0, \"Pop. Density\": 40.8, \"Coastline\": 3.18, \"Net migration\": -0.91, \"Infant mortality\": 20.47, \"GDP\": 6300.0, \"Literacy\": 92.6, \"Phones\": 137.9, \"Arable\": 7.36, \"Crops\": 1.98, \"Other\": 90.66, \"Climate\": 2.0, \"Birthrate\": 21.74, \"Deathrate\": 5.36, \"Agriculture\": 0.068, \"Industry\": 0.156, \"Service\": 0.7759999999999999, \"country code\": 591}, {\"Country\": \"France\", \"Region_x\": \"Western Europe\", \"Rank\": 30, \"HappinessScore\": 6.442, \"Life Ladder\": 6.635222435, \"Log GDP per capita\": 10.56077385, \"Social support\": 0.9314945936, \"Healthy life expectancy at birth\": 72.58893585, \"Freedom to make life choices\": 0.8338901401000001, \"Generosity\": -0.1335849613, \"Perceptions of corruption\": 0.6014860272, \"Positive affect\": 0.7620977759, \"Negative affect\": 0.2419839352, \"Confidence in national government\": 0.37479352950000006, \"Code\": \"FRA\", \"Region_y\": \"WESTERN EUROPE\", \"Population\": 60876136.0, \"Area\": 547030.0, \"Pop. Density\": 111.3, \"Coastline\": 0.63, \"Net migration\": 0.66, \"Infant mortality\": 4.26, \"GDP\": 27600.0, \"Literacy\": 99.0, \"Phones\": 586.4, \"Arable\": 33.53, \"Crops\": 2.07, \"Other\": 64.4, \"Climate\": 4.0, \"Birthrate\": 11.99, \"Deathrate\": 9.14, \"Agriculture\": 0.022000000000000002, \"Industry\": 0.214, \"Service\": 0.764, \"country code\": 250}, {\"Country\": \"Thailand\", \"Region_x\": \"Southeast Asia\", \"Rank\": 31, \"HappinessScore\": 6.4239999999999995, \"Life Ladder\": 5.9388952260000005, \"Log GDP per capita\": 9.688437462000001, \"Social support\": 0.8772687316, \"Healthy life expectancy at birth\": 66.41879272, \"Freedom to make life choices\": 0.9228968023999999, \"Generosity\": 0.20245239140000001, \"Perceptions of corruption\": 0.8838167787000001, \"Positive affect\": 0.8163217902, \"Negative affect\": 0.2315976173, \"Confidence in national government\": 0.6050788164, \"Code\": \"THA\", \"Region_y\": \"ASIA (EX. NEAR EAST)\", \"Population\": 64631595.0, \"Area\": 514000.0, \"Pop. Density\": 125.7, \"Coastline\": 0.63, \"Net migration\": 0.0, \"Infant mortality\": 20.48, \"GDP\": 7400.0, \"Literacy\": 92.6, \"Phones\": 108.9, \"Arable\": 29.36, \"Crops\": 6.46, \"Other\": 64.18, \"Climate\": 2.0, \"Birthrate\": 13.87, \"Deathrate\": 7.04, \"Agriculture\": 0.099, \"Industry\": 0.441, \"Service\": 0.46, \"country code\": 764}, {\"Country\": \"Taiwan Province of China\", \"Region_x\": \"East Asia\", \"Rank\": 32, \"HappinessScore\": 6.422000000000001, \"Life Ladder\": 6.359450817000001, \"Log GDP per capita\": null, \"Social support\": 0.8911191225, \"Healthy life expectancy at birth\": 71.20999908, \"Freedom to make life choices\": 0.7596547604, \"Generosity\": null, \"Perceptions of corruption\": 0.7427800894, \"Positive affect\": 0.8372772931999999, \"Negative affect\": 0.1141231582, \"Confidence in national government\": 0.322822392, \"Code\": \"TWN\", \"Region_y\": \"ASIA (EX. NEAR EAST)\", \"Population\": 23036087.0, \"Area\": 35980.0, \"Pop. Density\": 640.3, \"Coastline\": 4.35, \"Net migration\": 0.0, \"Infant mortality\": 6.4, \"GDP\": 23400.0, \"Literacy\": 96.1, \"Phones\": 591.0, \"Arable\": 24.0, \"Crops\": 1.0, \"Other\": 75.0, \"Climate\": 2.0, \"Birthrate\": 12.56, \"Deathrate\": 6.48, \"Agriculture\": 0.018000000000000002, \"Industry\": 0.259, \"Service\": 0.723, \"country code\": 158}, {\"Country\": \"Spain\", \"Region_x\": \"Western Europe\", \"Rank\": 33, \"HappinessScore\": 6.403, \"Life Ladder\": 6.230173111, \"Log GDP per capita\": 10.44522285, \"Social support\": 0.9031581879, \"Healthy life expectancy at birth\": 74.49821472, \"Freedom to make life choices\": 0.7555607556999999, \"Generosity\": -0.04215625301, \"Perceptions of corruption\": 0.7912687659000001, \"Positive affect\": 0.6250556111, \"Negative affect\": 0.3023876548, \"Confidence in national government\": 0.2695859671, \"Code\": \"ESP\", \"Region_y\": \"WESTERN EUROPE\", \"Population\": 40397842.0, \"Area\": 504782.0, \"Pop. Density\": 80.0, \"Coastline\": 0.98, \"Net migration\": 0.99, \"Infant mortality\": 4.42, \"GDP\": 22000.0, \"Literacy\": 97.9, \"Phones\": 453.5, \"Arable\": 26.07, \"Crops\": 9.87, \"Other\": 64.06, \"Climate\": 3.0, \"Birthrate\": 10.06, \"Deathrate\": 9.72, \"Agriculture\": 0.04, \"Industry\": 0.295, \"Service\": 0.665, \"country code\": 724}, {\"Country\": \"Colombia\", \"Region_x\": \"Latin America and Caribbean\", \"Rank\": 34, \"HappinessScore\": 6.357, \"Life Ladder\": 6.157341957000001, \"Log GDP per capita\": 9.490860939, \"Social support\": 0.9092499614, \"Healthy life expectancy at birth\": 64.13578033, \"Freedom to make life choices\": 0.8375546336, \"Generosity\": -0.1658781469, \"Perceptions of corruption\": 0.8750181198, \"Positive affect\": 0.8369269967, \"Negative affect\": 0.2993089557, \"Confidence in national government\": 0.2218825966, \"Code\": \"COL\", \"Region_y\": \"LATIN AMER. & CARIB\", \"Population\": 43593035.0, \"Area\": 1138910.0, \"Pop. Density\": 38.3, \"Coastline\": 0.28, \"Net migration\": -0.31, \"Infant mortality\": 20.97, \"GDP\": 6300.0, \"Literacy\": 92.5, \"Phones\": 176.2, \"Arable\": 2.42, \"Crops\": 1.67, \"Other\": 95.91, \"Climate\": 2.0, \"Birthrate\": 20.48, \"Deathrate\": 5.58, \"Agriculture\": 0.125, \"Industry\": 0.342, \"Service\": 0.5329999999999999, \"country code\": 170}, {\"Country\": \"Saudi Arabia\", \"Region_x\": \"Middle East and North Africa\", \"Rank\": 35, \"HappinessScore\": 6.343999999999999, \"Life Ladder\": 6.2942824360000005, \"Log GDP per capita\": 10.81198788, \"Social support\": 0.8400862813, \"Healthy life expectancy at birth\": 64.08374023, \"Freedom to make life choices\": 0.8141421676, \"Generosity\": -0.1569054127, \"Perceptions of corruption\": null, \"Positive affect\": 0.7748757005, \"Negative affect\": 0.30584189300000003, \"Confidence in national government\": null, \"Code\": \"SAU\", \"Region_y\": \"NEAR EAST\", \"Population\": 27019731.0, \"Area\": 1960582.0, \"Pop. Density\": 13.8, \"Coastline\": 0.13, \"Net migration\": -2.71, \"Infant mortality\": 13.24, \"GDP\": 11800.0, \"Literacy\": 78.8, \"Phones\": 140.6, \"Arable\": 1.67, \"Crops\": 0.09, \"Other\": 98.24, \"Climate\": 1.0, \"Birthrate\": 29.34, \"Deathrate\": 2.58, \"Agriculture\": 0.033, \"Industry\": 0.613, \"Service\": 0.354, \"country code\": 682}, {\"Country\": \"Trinidad and Tobago\", \"Region_x\": \"Latin America and Caribbean\", \"Rank\": 36, \"HappinessScore\": 6.167999999999999, \"Life Ladder\": 6.191859722, \"Log GDP per capita\": 10.32386494, \"Social support\": 0.916029036, \"Healthy life expectancy at birth\": 61.73831177, \"Freedom to make life choices\": 0.8591404557, \"Generosity\": -0.01460438129, \"Perceptions of corruption\": 0.9113363623999999, \"Positive affect\": 0.8464670777, \"Negative affect\": 0.24809880550000002, \"Confidence in national government\": 0.2725408971, \"Code\": \"TTO\", \"Region_y\": \"LATIN AMER. & CARIB\", \"Population\": 1065842.0, \"Area\": 5128.0, \"Pop. Density\": 207.9, \"Coastline\": 7.06, \"Net migration\": -10.83, \"Infant mortality\": 24.31, \"GDP\": 9500.0, \"Literacy\": 98.6, \"Phones\": 303.5, \"Arable\": 14.62, \"Crops\": 9.16, \"Other\": 76.22, \"Climate\": 2.0, \"Birthrate\": 12.9, \"Deathrate\": 10.57, \"Agriculture\": 0.006999999999999999, \"Industry\": 0.57, \"Service\": 0.423, \"country code\": 780}, {\"Country\": \"Kuwait\", \"Region_x\": \"Middle East and North Africa\", \"Rank\": 37, \"HappinessScore\": 6.105, \"Life Ladder\": 6.093905449, \"Log GDP per capita\": 11.11179256, \"Social support\": 0.8534913062999999, \"Healthy life expectancy at birth\": 65.37895966, \"Freedom to make life choices\": 0.8841816187, \"Generosity\": -0.04850428924, \"Perceptions of corruption\": null, \"Positive affect\": 0.6920719147, \"Negative affect\": 0.3073208034, \"Confidence in national government\": null, \"Code\": \"KWT\", \"Region_y\": \"NEAR EAST\", \"Population\": 2418393.0, \"Area\": 17820.0, \"Pop. Density\": 135.7, \"Coastline\": 2.8, \"Net migration\": 14.18, \"Infant mortality\": 9.95, \"GDP\": 19000.0, \"Literacy\": 83.5, \"Phones\": 211.0, \"Arable\": 0.73, \"Crops\": 0.11, \"Other\": 99.16, \"Climate\": 1.0, \"Birthrate\": 21.94, \"Deathrate\": 2.41, \"Agriculture\": 0.004, \"Industry\": 0.479, \"Service\": 0.516, \"country code\": 414}, {\"Country\": \"Slovakia\", \"Region_x\": \"Central and Eastern Europe\", \"Rank\": 38, \"HappinessScore\": 6.098, \"Life Ladder\": 6.3655090329999995, \"Log GDP per capita\": 10.31394196, \"Social support\": 0.9133866429, \"Healthy life expectancy at birth\": 68.77391052, \"Freedom to make life choices\": 0.7142246962000001, \"Generosity\": -0.07207684218999999, \"Perceptions of corruption\": 0.9204226731999999, \"Positive affect\": 0.788020432, \"Negative affect\": 0.21272248030000002, \"Confidence in national government\": 0.3416800797, \"Code\": \"SVK\", \"Region_y\": \"EASTERN EUROPE\", \"Population\": 5439448.0, \"Area\": 48845.0, \"Pop. Density\": 111.4, \"Coastline\": 0.0, \"Net migration\": 0.3, \"Infant mortality\": 7.41, \"GDP\": 13300.0, \"Literacy\": null, \"Phones\": 220.1, \"Arable\": 30.16, \"Crops\": 2.62, \"Other\": 67.22, \"Climate\": 3.0, \"Birthrate\": 10.65, \"Deathrate\": 9.45, \"Agriculture\": 0.035, \"Industry\": 0.294, \"Service\": 0.672, \"country code\": 703}, {\"Country\": \"Bahrain\", \"Region_x\": \"Middle East and North Africa\", \"Rank\": 39, \"HappinessScore\": 6.087000000000001, \"Life Ladder\": 6.227320671, \"Log GDP per capita\": 10.68671322, \"Social support\": 0.8757471442, \"Healthy life expectancy at birth\": 66.12399292, \"Freedom to make life choices\": 0.9058585167000001, \"Generosity\": 0.1207591742, \"Perceptions of corruption\": null, \"Positive affect\": 0.8135705590000001, \"Negative affect\": 0.2897595167, \"Confidence in national government\": null, \"Code\": \"BHR\", \"Region_y\": \"NEAR EAST\", \"Population\": 698585.0, \"Area\": 665.0, \"Pop. Density\": 1050.5, \"Coastline\": 24.21, \"Net migration\": 1.05, \"Infant mortality\": 17.27, \"GDP\": 16900.0, \"Literacy\": 89.1, \"Phones\": 281.3, \"Arable\": 2.82, \"Crops\": 5.63, \"Other\": 91.55, \"Climate\": 1.0, \"Birthrate\": 17.8, \"Deathrate\": 4.14, \"Agriculture\": 0.005, \"Industry\": 0.387, \"Service\": 0.608, \"country code\": 48}, {\"Country\": \"Nicaragua\", \"Region_x\": \"Latin America and Caribbean\", \"Rank\": 40, \"HappinessScore\": 6.071000000000001, \"Life Ladder\": 6.476356506, \"Log GDP per capita\": 8.575318336, \"Social support\": 0.8380436897, \"Healthy life expectancy at birth\": 66.25178528, \"Freedom to make life choices\": 0.9221627712, \"Generosity\": 0.01032670494, \"Perceptions of corruption\": 0.6729633212, \"Positive affect\": 0.8497641683, \"Negative affect\": 0.3084478974, \"Confidence in national government\": 0.5904251933, \"Code\": \"NIC\", \"Region_y\": \"LATIN AMER. & CARIB\", \"Population\": 5570129.0, \"Area\": 129494.0, \"Pop. Density\": 43.0, \"Coastline\": 0.7, \"Net migration\": -1.22, \"Infant mortality\": 29.11, \"GDP\": 2300.0, \"Literacy\": 67.5, \"Phones\": 39.7, \"Arable\": 15.94, \"Crops\": 1.94, \"Other\": 82.12, \"Climate\": 2.0, \"Birthrate\": 24.51, \"Deathrate\": 4.45, \"Agriculture\": 0.165, \"Industry\": 0.275, \"Service\": 0.56, \"country code\": 558}, {\"Country\": \"Ecuador\", \"Region_x\": \"Latin America and Caribbean\", \"Rank\": 41, \"HappinessScore\": 6.007999999999999, \"Life Ladder\": 5.839518547000001, \"Log GDP per capita\": 9.22326088, \"Social support\": 0.8489417434000001, \"Healthy life expectancy at birth\": 67.34206390000001, \"Freedom to make life choices\": 0.8791281581, \"Generosity\": -0.1699554622, \"Perceptions of corruption\": 0.7335887551000001, \"Positive affect\": 0.8291419743999999, \"Negative affect\": 0.31434348230000003, \"Confidence in national government\": 0.6405128836999999, \"Code\": \"ECU\", \"Region_y\": \"LATIN AMER. & CARIB\", \"Population\": 13547510.0, \"Area\": 283560.0, \"Pop. Density\": 47.8, \"Coastline\": 0.79, \"Net migration\": -8.58, \"Infant mortality\": 23.66, \"GDP\": 3300.0, \"Literacy\": 92.5, \"Phones\": 125.6, \"Arable\": 5.85, \"Crops\": 4.93, \"Other\": 89.22, \"Climate\": 2.0, \"Birthrate\": 22.29, \"Deathrate\": 4.23, \"Agriculture\": 0.07, \"Industry\": 0.312, \"Service\": 0.618, \"country code\": 218}, {\"Country\": \"El Salvador\", \"Region_x\": \"Latin America and Caribbean\", \"Rank\": 42, \"HappinessScore\": 6.002999999999999, \"Life Ladder\": 6.339318275, \"Log GDP per capita\": 9.001176833999999, \"Social support\": 0.8289526105, \"Healthy life expectancy at birth\": 64.31137085, \"Freedom to make life choices\": 0.7578273416, \"Generosity\": -0.18029096719999999, \"Perceptions of corruption\": 0.7777485847, \"Positive affect\": 0.8488506079000001, \"Negative affect\": 0.2684483528, \"Confidence in national government\": 0.2702350616, \"Code\": \"SLV\", \"Region_y\": \"LATIN AMER. & CARIB\", \"Population\": 6822378.0, \"Area\": 21040.0, \"Pop. Density\": 324.3, \"Coastline\": 1.46, \"Net migration\": -3.74, \"Infant mortality\": 25.1, \"GDP\": 4800.0, \"Literacy\": 80.2, \"Phones\": 142.4, \"Arable\": 31.85, \"Crops\": 12.07, \"Other\": 56.08, \"Climate\": 2.0, \"Birthrate\": 26.61, \"Deathrate\": 5.78, \"Agriculture\": 0.099, \"Industry\": 0.302, \"Service\": 0.599, \"country code\": 222}, {\"Country\": \"Poland\", \"Region_x\": \"Central and Eastern Europe\", \"Rank\": 43, \"HappinessScore\": 5.973, \"Life Ladder\": 6.201268196, \"Log GDP per capita\": 10.21113968, \"Social support\": 0.8818541168999999, \"Healthy life expectancy at birth\": 69.09680176, \"Freedom to make life choices\": 0.8308426142, \"Generosity\": -0.1331340075, \"Perceptions of corruption\": null, \"Positive affect\": 0.6774355173000001, \"Negative affect\": 0.2033877969, \"Confidence in national government\": 0.5024804473, \"Code\": \"POL\", \"Region_y\": \"EASTERN EUROPE\", \"Population\": 38536869.0, \"Area\": 312685.0, \"Pop. Density\": 123.3, \"Coastline\": 0.16, \"Net migration\": -0.49, \"Infant mortality\": 8.51, \"GDP\": 11100.0, \"Literacy\": 99.8, \"Phones\": 306.3, \"Arable\": 45.91, \"Crops\": 1.12, \"Other\": 52.97, \"Climate\": 3.0, \"Birthrate\": 9.85, \"Deathrate\": 9.89, \"Agriculture\": 0.05, \"Industry\": 0.311, \"Service\": 0.64, \"country code\": 616}, {\"Country\": \"Uzbekistan\", \"Region_x\": \"Commonwealth of Independent States\", \"Rank\": 44, \"HappinessScore\": 5.971, \"Life Ladder\": 6.421447754, \"Log GDP per capita\": 8.762778282000001, \"Social support\": 0.9421311021, \"Healthy life expectancy at birth\": 63.16617966, \"Freedom to make life choices\": 0.9851777554000001, \"Generosity\": 0.1140294597, \"Perceptions of corruption\": 0.4646416008, \"Positive affect\": 0.8389890790000001, \"Negative affect\": 0.20273749530000001, \"Confidence in national government\": 0.9646904468999999, \"Code\": \"UZB\", \"Region_y\": \"C.W. OF IND. STATES\", \"Population\": 27307134.0, \"Area\": 447400.0, \"Pop. Density\": 61.0, \"Coastline\": 0.0, \"Net migration\": -1.72, \"Infant mortality\": 71.1, \"GDP\": 1700.0, \"Literacy\": 99.3, \"Phones\": 62.9, \"Arable\": 10.83, \"Crops\": 0.83, \"Other\": 88.34, \"Climate\": 1.0, \"Birthrate\": 26.36, \"Deathrate\": 7.84, \"Agriculture\": 0.342, \"Industry\": 0.22899999999999998, \"Service\": 0.43, \"country code\": 860}, {\"Country\": \"Italy\", \"Region_x\": \"Western Europe\", \"Rank\": 45, \"HappinessScore\": 5.9639999999999995, \"Life Ladder\": 6.198870182, \"Log GDP per capita\": 10.4724741, \"Social support\": 0.9197912215999999, \"Healthy life expectancy at birth\": 74.13479614, \"Freedom to make life choices\": 0.632843256, \"Generosity\": -0.04338070378, \"Perceptions of corruption\": 0.8666679263, \"Positive affect\": 0.6611807346, \"Negative affect\": 0.32284614440000003, \"Confidence in national government\": 0.23019629719999998, \"Code\": \"ITA\", \"Region_y\": \"WESTERN EUROPE\", \"Population\": 58133509.0, \"Area\": 301230.0, \"Pop. Density\": 193.0, \"Coastline\": 2.52, \"Net migration\": 2.07, \"Infant mortality\": 5.94, \"GDP\": 26700.0, \"Literacy\": 98.6, \"Phones\": 430.9, \"Arable\": 27.79, \"Crops\": 9.53, \"Other\": 62.68, \"Climate\": null, \"Birthrate\": 8.72, \"Deathrate\": 10.4, \"Agriculture\": 0.021, \"Industry\": 0.29100000000000004, \"Service\": 0.688, \"country code\": 380}, {\"Country\": \"Russia\", \"Region_x\": \"Commonwealth of Independent States\", \"Rank\": 46, \"HappinessScore\": 5.962999999999999, \"Life Ladder\": 5.578742981, \"Log GDP per capita\": 10.10368347, \"Social support\": 0.8961513042, \"Healthy life expectancy at birth\": 62.97878265, \"Freedom to make life choices\": 0.7308742404, \"Generosity\": -0.1585677862, \"Perceptions of corruption\": 0.8615902066, \"Positive affect\": 0.7102302313, \"Negative affect\": 0.19456052780000002, \"Confidence in national government\": 0.5565972328000001, \"Code\": \"RUS\", \"Region_y\": \"C.W. OF IND. STATES\", \"Population\": 142893540.0, \"Area\": 17075200.0, \"Pop. Density\": 8.4, \"Coastline\": 0.22, \"Net migration\": 1.02, \"Infant mortality\": 15.39, \"GDP\": 8900.0, \"Literacy\": 99.6, \"Phones\": 280.6, \"Arable\": 7.33, \"Crops\": 0.11, \"Other\": 92.56, \"Climate\": null, \"Birthrate\": 9.95, \"Deathrate\": 14.65, \"Agriculture\": 0.054000000000000006, \"Industry\": 0.371, \"Service\": 0.575, \"country code\": 643}, {\"Country\": \"Japan\", \"Region_x\": \"East Asia\", \"Rank\": 47, \"HappinessScore\": 5.92, \"Life Ladder\": 5.910676479, \"Log GDP per capita\": 10.56816864, \"Social support\": 0.8819612861, \"Healthy life expectancy at birth\": 75.31729126, \"Freedom to make life choices\": 0.8493965864, \"Generosity\": -0.2232967913, \"Perceptions of corruption\": 0.6591986418, \"Positive affect\": 0.7403876184999999, \"Negative affect\": 0.1755121797, \"Confidence in national government\": 0.4124899507, \"Code\": \"JPN\", \"Region_y\": \"ASIA (EX. NEAR EAST)\", \"Population\": 127463611.0, \"Area\": 377835.0, \"Pop. Density\": 337.4, \"Coastline\": 7.87, \"Net migration\": 0.0, \"Infant mortality\": 3.26, \"GDP\": 28200.0, \"Literacy\": 99.0, \"Phones\": 461.2, \"Arable\": 12.19, \"Crops\": 0.96, \"Other\": 86.85, \"Climate\": 3.0, \"Birthrate\": 9.37, \"Deathrate\": 9.16, \"Agriculture\": 0.017, \"Industry\": 0.258, \"Service\": 0.725, \"country code\": 392}, {\"Country\": \"Lithuania\", \"Region_x\": \"Central and Eastern Europe\", \"Rank\": 48, \"HappinessScore\": 5.902, \"Life Ladder\": 6.272940636, \"Log GDP per capita\": 10.28265762, \"Social support\": 0.9263166189, \"Healthy life expectancy at birth\": 67.04169464, \"Freedom to make life choices\": 0.7493073344, \"Generosity\": -0.18227662149999999, \"Perceptions of corruption\": null, \"Positive affect\": 0.6076131463000001, \"Negative affect\": 0.19511882960000002, \"Confidence in national government\": 0.3212472796, \"Code\": \"LTU\", \"Region_y\": \"BALTICS\", \"Population\": 3585906.0, \"Area\": 65200.0, \"Pop. Density\": 55.0, \"Coastline\": 0.14, \"Net migration\": -0.71, \"Infant mortality\": 6.89, \"GDP\": 11400.0, \"Literacy\": 99.6, \"Phones\": 223.4, \"Arable\": 45.22, \"Crops\": 0.91, \"Other\": 53.87, \"Climate\": null, \"Birthrate\": 8.75, \"Deathrate\": 10.98, \"Agriculture\": 0.055, \"Industry\": 0.325, \"Service\": 0.62, \"country code\": 440}, {\"Country\": \"Algeria\", \"Region_x\": \"Middle East and North Africa\", \"Rank\": 49, \"HappinessScore\": 5.872000000000001, \"Life Ladder\": 5.248912334, \"Log GDP per capita\": 9.540244102, \"Social support\": 0.8067538738, \"Healthy life expectancy at birth\": 65.69918823, \"Freedom to make life choices\": 0.4366704822, \"Generosity\": -0.19467012579999998, \"Perceptions of corruption\": 0.6997742056999999, \"Positive affect\": 0.6419796348, \"Negative affect\": 0.2887100279, \"Confidence in national government\": null, \"Code\": \"DZA\", \"Region_y\": \"NORTHERN AFRICA\", \"Population\": 32930091.0, \"Area\": 2381740.0, \"Pop. Density\": 13.8, \"Coastline\": 0.04, \"Net migration\": -0.39, \"Infant mortality\": 31.0, \"GDP\": 6000.0, \"Literacy\": 70.0, \"Phones\": 78.1, \"Arable\": 3.22, \"Crops\": 0.25, \"Other\": 96.53, \"Climate\": 1.0, \"Birthrate\": 17.14, \"Deathrate\": 4.61, \"Agriculture\": 0.10099999999999999, \"Industry\": 0.6, \"Service\": 0.298, \"country code\": 12}, {\"Country\": \"Latvia\", \"Region_x\": \"Central and Eastern Europe\", \"Rank\": 50, \"HappinessScore\": 5.85, \"Life Ladder\": 5.977817535, \"Log GDP per capita\": 10.1330328, \"Social support\": 0.8950987457999999, \"Healthy life expectancy at birth\": 65.10926056, \"Freedom to make life choices\": 0.6995201111, \"Generosity\": -0.1638314426, \"Perceptions of corruption\": 0.7983781098999999, \"Positive affect\": 0.6233127713000001, \"Negative affect\": 0.2317531109, \"Confidence in national government\": 0.2640005052, \"Code\": \"LVA\", \"Region_y\": \"BALTICS\", \"Population\": 2274735.0, \"Area\": 64589.0, \"Pop. Density\": 35.2, \"Coastline\": 0.82, \"Net migration\": -2.23, \"Infant mortality\": 9.55, \"GDP\": 10200.0, \"Literacy\": 99.8, \"Phones\": 321.4, \"Arable\": 29.67, \"Crops\": 0.47, \"Other\": 69.86, \"Climate\": 3.0, \"Birthrate\": 9.24, \"Deathrate\": 13.66, \"Agriculture\": 0.04, \"Industry\": 0.261, \"Service\": 0.6990000000000001, \"country code\": 428}, {\"Country\": \"Moldova\", \"Region_x\": \"Commonwealth of Independent States\", \"Rank\": 51, \"HappinessScore\": 5.837999999999999, \"Life Ladder\": 5.325530529, \"Log GDP per capita\": 8.545788765, \"Social support\": 0.8307679295999999, \"Healthy life expectancy at birth\": 63.70124435, \"Freedom to make life choices\": 0.5528252125, \"Generosity\": -0.003178872168, \"Perceptions of corruption\": 0.9263337851000001, \"Positive affect\": 0.5814887881, \"Negative affect\": 0.2594777942, \"Confidence in national government\": 0.1327296346, \"Code\": \"MDA\", \"Region_y\": \"C.W. OF IND. STATES\", \"Population\": 4466706.0, \"Area\": 33843.0, \"Pop. Density\": 132.0, \"Coastline\": 0.0, \"Net migration\": -0.26, \"Infant mortality\": 40.42, \"GDP\": 1800.0, \"Literacy\": 99.1, \"Phones\": 208.1, \"Arable\": 55.3, \"Crops\": 10.79, \"Other\": 33.91, \"Climate\": null, \"Birthrate\": 15.7, \"Deathrate\": 12.64, \"Agriculture\": 0.213, \"Industry\": 0.233, \"Service\": 0.555, \"country code\": 498}, {\"Country\": \"South Korea\", \"Region_x\": \"East Asia\", \"Rank\": 52, \"HappinessScore\": 5.837999999999999, \"Life Ladder\": 5.8738870620000005, \"Log GDP per capita\": 10.48973465, \"Social support\": 0.8069299459, \"Healthy life expectancy at birth\": 74.04169464, \"Freedom to make life choices\": 0.5381137133, \"Generosity\": 0.003354593879, \"Perceptions of corruption\": 0.8506904244, \"Positive affect\": 0.6233775616, \"Negative affect\": 0.234825626, \"Confidence in national government\": 0.3585821986, \"Code\": \"KOR\", \"Region_y\": \"ASIA (EX. NEAR EAST)\", \"Population\": 48846823.0, \"Area\": 98480.0, \"Pop. Density\": 496.0, \"Coastline\": 2.45, \"Net migration\": 0.0, \"Infant mortality\": 7.05, \"GDP\": 17800.0, \"Literacy\": 97.9, \"Phones\": 486.1, \"Arable\": 17.18, \"Crops\": 1.95, \"Other\": 80.87, \"Climate\": 3.0, \"Birthrate\": 10.0, \"Deathrate\": 5.85, \"Agriculture\": 0.033, \"Industry\": 0.40299999999999997, \"Service\": 0.563, \"country code\": 410}, {\"Country\": \"Romania\", \"Region_x\": \"Central and Eastern Europe\", \"Rank\": 53, \"HappinessScore\": 5.825, \"Life Ladder\": 6.089904785, \"Log GDP per capita\": 10.02889156, \"Social support\": 0.8112401365999999, \"Healthy life expectancy at birth\": 66.85708618, \"Freedom to make life choices\": 0.838586688, \"Generosity\": -0.16442073880000002, \"Perceptions of corruption\": 0.9256580472, \"Positive affect\": 0.7337303758, \"Negative affect\": 0.2308361977, \"Confidence in national government\": 0.2983413339, \"Code\": \"ROU\", \"Region_y\": \"EASTERN EUROPE\", \"Population\": 22303552.0, \"Area\": 237500.0, \"Pop. Density\": 93.9, \"Coastline\": 0.09, \"Net migration\": -0.13, \"Infant mortality\": 26.43, \"GDP\": 7000.0, \"Literacy\": 98.4, \"Phones\": 196.9, \"Arable\": 40.82, \"Crops\": 2.25, \"Other\": 56.93, \"Climate\": 3.0, \"Birthrate\": 10.7, \"Deathrate\": 11.77, \"Agriculture\": 0.10099999999999999, \"Industry\": 0.35, \"Service\": 0.5489999999999999, \"country code\": 642}, {\"Country\": \"Bolivia\", \"Region_x\": \"Latin America and Caribbean\", \"Rank\": 54, \"HappinessScore\": 5.8229999999999995, \"Life Ladder\": 5.65055275, \"Log GDP per capita\": 8.832608223, \"Social support\": 0.7786617875, \"Healthy life expectancy at birth\": 60.34379578, \"Freedom to make life choices\": 0.8839049339, \"Generosity\": -0.1159878522, \"Perceptions of corruption\": 0.8192619681000001, \"Positive affect\": 0.6981953979000001, \"Negative affect\": 0.4339435399, \"Confidence in national government\": 0.42763295770000004, \"Code\": \"BOL\", \"Region_y\": \"LATIN AMER. & CARIB\", \"Population\": 8989046.0, \"Area\": 1098580.0, \"Pop. Density\": 8.2, \"Coastline\": 0.0, \"Net migration\": -1.32, \"Infant mortality\": 53.11, \"GDP\": 2400.0, \"Literacy\": 87.2, \"Phones\": 71.9, \"Arable\": 2.67, \"Crops\": 0.19, \"Other\": 97.14, \"Climate\": 1.5, \"Birthrate\": 23.3, \"Deathrate\": 7.53, \"Agriculture\": 0.128, \"Industry\": 0.35200000000000004, \"Service\": 0.52, \"country code\": 68}, {\"Country\": \"Turkmenistan\", \"Region_x\": \"Commonwealth of Independent States\", \"Rank\": 55, \"HappinessScore\": 5.822, \"Life Ladder\": 5.229148865, \"Log GDP per capita\": 9.702640533, \"Social support\": 0.908454895, \"Healthy life expectancy at birth\": 60.39269257, \"Freedom to make life choices\": 0.7203992009, \"Generosity\": 0.04033754021, \"Perceptions of corruption\": null, \"Positive affect\": 0.5208851099, \"Negative affect\": 0.34962767359999997, \"Confidence in national government\": null, \"Code\": \"TKM\", \"Region_y\": \"C.W. OF IND. STATES\", \"Population\": 5042920.0, \"Area\": 488100.0, \"Pop. Density\": 10.3, \"Coastline\": 0.0, \"Net migration\": -0.86, \"Infant mortality\": 73.08, \"GDP\": 5800.0, \"Literacy\": 98.0, \"Phones\": 74.6, \"Arable\": 3.72, \"Crops\": 0.14, \"Other\": 96.14, \"Climate\": 1.0, \"Birthrate\": 27.61, \"Deathrate\": 8.6, \"Agriculture\": 0.209, \"Industry\": 0.38, \"Service\": 0.41100000000000003, \"country code\": 795}, {\"Country\": \"Kazakhstan\", \"Region_x\": \"Commonwealth of Independent States\", \"Rank\": 56, \"HappinessScore\": 5.819, \"Life Ladder\": 5.882351398, \"Log GDP per capita\": 10.071870800000001, \"Social support\": 0.9140931964, \"Healthy life expectancy at birth\": 64.19999695, \"Freedom to make life choices\": 0.7452439665999999, \"Generosity\": -0.04917849228, \"Perceptions of corruption\": 0.7552506924, \"Positive affect\": 0.7567622065999999, \"Negative affect\": 0.1714864075, \"Confidence in national government\": 0.7557057737999999, \"Code\": \"KAZ\", \"Region_y\": \"C.W. OF IND. STATES\", \"Population\": 15233244.0, \"Area\": 2717300.0, \"Pop. Density\": 5.6, \"Coastline\": 0.0, \"Net migration\": -3.35, \"Infant mortality\": 29.21, \"GDP\": 6300.0, \"Literacy\": 98.4, \"Phones\": 164.1, \"Arable\": 7.98, \"Crops\": 0.05, \"Other\": 91.97, \"Climate\": 4.0, \"Birthrate\": 16.0, \"Deathrate\": 9.42, \"Agriculture\": 0.067, \"Industry\": 0.386, \"Service\": 0.547, \"country code\": 398}, {\"Country\": \"Slovenia\", \"Region_x\": \"Central and Eastern Europe\", \"Rank\": 57, \"HappinessScore\": 5.757999999999999, \"Life Ladder\": 6.1668376920000005, \"Log GDP per capita\": 10.35351658, \"Social support\": 0.9281878470999999, \"Healthy life expectancy at birth\": 70.94329071, \"Freedom to make life choices\": 0.9208626746999999, \"Generosity\": -0.0334751159, \"Perceptions of corruption\": 0.8287947178, \"Positive affect\": 0.6151096821, \"Negative affect\": 0.2856014371, \"Confidence in national government\": 0.2397797257, \"Code\": \"SVN\", \"Region_y\": \"EASTERN EUROPE\", \"Population\": 2010347.0, \"Area\": 20273.0, \"Pop. Density\": 99.2, \"Coastline\": 0.23, \"Net migration\": 1.12, \"Infant mortality\": 4.45, \"GDP\": 19000.0, \"Literacy\": 99.7, \"Phones\": 406.1, \"Arable\": 8.6, \"Crops\": 1.49, \"Other\": 89.91, \"Climate\": null, \"Birthrate\": 8.98, \"Deathrate\": 10.31, \"Agriculture\": 0.027999999999999997, \"Industry\": 0.369, \"Service\": 0.603, \"country code\": 705}, {\"Country\": \"Peru\", \"Region_x\": \"Latin America and Caribbean\", \"Rank\": 58, \"HappinessScore\": 5.715, \"Life Ladder\": 5.710936546, \"Log GDP per capita\": 9.413349152, \"Social support\": 0.8301233648999999, \"Healthy life expectancy at birth\": 65.40724182, \"Freedom to make life choices\": 0.8265521526, \"Generosity\": -0.166747421, \"Perceptions of corruption\": 0.8953841329000001, \"Positive affect\": 0.7893908620000001, \"Negative affect\": 0.3938737214, \"Confidence in national government\": 0.2545953393, \"Code\": \"PER\", \"Region_y\": \"LATIN AMER. & CARIB\", \"Population\": 28302603.0, \"Area\": 1285220.0, \"Pop. Density\": 22.0, \"Coastline\": 0.19, \"Net migration\": -1.05, \"Infant mortality\": 31.94, \"GDP\": 5100.0, \"Literacy\": 90.9, \"Phones\": 79.5, \"Arable\": 2.89, \"Crops\": 0.4, \"Other\": 96.71, \"Climate\": 1.5, \"Birthrate\": 20.48, \"Deathrate\": 6.23, \"Agriculture\": 0.08, \"Industry\": 0.27, \"Service\": 0.65, \"country code\": 604}, {\"Country\": \"Mauritius\", \"Region_x\": \"Sub-Saharan Africa\", \"Rank\": 59, \"HappinessScore\": 5.629, \"Life Ladder\": 6.174117565, \"Log GDP per capita\": 9.914654732, \"Social support\": 0.9101422429000001, \"Healthy life expectancy at birth\": 65.5891571, \"Freedom to make life choices\": 0.9123075008, \"Generosity\": 0.07392941415, \"Perceptions of corruption\": 0.8181799054000001, \"Positive affect\": 0.7477601767000001, \"Negative affect\": 0.1687211841, \"Confidence in national government\": 0.6146707535, \"Code\": \"MUS\", \"Region_y\": \"SUB-SAHARAN AFRICA\", \"Population\": 1240827.0, \"Area\": 2040.0, \"Pop. Density\": 608.3, \"Coastline\": 8.68, \"Net migration\": -0.9, \"Infant mortality\": 15.03, \"GDP\": 11400.0, \"Literacy\": 85.6, \"Phones\": 289.3, \"Arable\": 49.26, \"Crops\": 2.96, \"Other\": 47.78, \"Climate\": 2.0, \"Birthrate\": 15.43, \"Deathrate\": 6.86, \"Agriculture\": 0.059000000000000004, \"Industry\": 0.298, \"Service\": 0.643, \"country code\": 480}, {\"Country\": \"Cyprus\", \"Region_x\": \"Western Europe\", \"Rank\": 60, \"HappinessScore\": 5.621, \"Life Ladder\": 6.062051296, \"Log GDP per capita\": 10.36136723, \"Social support\": 0.8186710477, \"Healthy life expectancy at birth\": 72.76279449, \"Freedom to make life choices\": 0.811670661, \"Generosity\": 0.036286666989999994, \"Perceptions of corruption\": 0.8512064219, \"Positive affect\": 0.7841884494, \"Negative affect\": 0.30051660539999997, \"Confidence in national government\": 0.3126534224, \"Code\": \"CYP\", \"Region_y\": \"NEAR EAST\", \"Population\": 784301.0, \"Area\": 9250.0, \"Pop. Density\": 84.8, \"Coastline\": 7.01, \"Net migration\": 0.43, \"Infant mortality\": 7.18, \"GDP\": 19200.0, \"Literacy\": 97.6, \"Phones\": null, \"Arable\": 7.79, \"Crops\": 4.44, \"Other\": 87.77, \"Climate\": 3.0, \"Birthrate\": 12.56, \"Deathrate\": 7.68, \"Agriculture\": 0.037000000000000005, \"Industry\": 0.198, \"Service\": 0.765, \"country code\": 196}, {\"Country\": \"Estonia\", \"Region_x\": \"Central and Eastern Europe\", \"Rank\": 61, \"HappinessScore\": 5.611000000000001, \"Life Ladder\": 5.938395977000001, \"Log GDP per capita\": 10.2858448, \"Social support\": 0.9356863499, \"Healthy life expectancy at birth\": 67.28438568, \"Freedom to make life choices\": 0.8617492318000001, \"Generosity\": -0.109588325, \"Perceptions of corruption\": 0.6684022546, \"Positive affect\": 0.8052179813, \"Negative affect\": 0.1601641029, \"Confidence in national government\": 0.4059462547, \"Code\": \"EST\", \"Region_y\": \"BALTICS\", \"Population\": 1324333.0, \"Area\": 45226.0, \"Pop. Density\": 29.3, \"Coastline\": 8.39, \"Net migration\": -3.16, \"Infant mortality\": 7.87, \"GDP\": 12300.0, \"Literacy\": 99.8, \"Phones\": 333.8, \"Arable\": 16.04, \"Crops\": 0.45, \"Other\": 83.51, \"Climate\": 3.0, \"Birthrate\": 10.04, \"Deathrate\": 13.25, \"Agriculture\": 0.04, \"Industry\": 0.294, \"Service\": 0.6659999999999999, \"country code\": 233}, {\"Country\": \"Belarus\", \"Region_x\": \"Commonwealth of Independent States\", \"Rank\": 62, \"HappinessScore\": 5.569, \"Life Ladder\": 5.552915096, \"Log GDP per capita\": 9.719829558999999, \"Social support\": 0.9002557993000001, \"Healthy life expectancy at birth\": 66.60596466, \"Freedom to make life choices\": 0.6209792495, \"Generosity\": -0.1305820942, \"Perceptions of corruption\": 0.6541134118999999, \"Positive affect\": 0.5409057736, \"Negative affect\": 0.23276807370000002, \"Confidence in national government\": 0.44791629909999997, \"Code\": \"BLR\", \"Region_y\": \"C.W. OF IND. STATES\", \"Population\": 10293011.0, \"Area\": 207600.0, \"Pop. Density\": 49.6, \"Coastline\": 0.0, \"Net migration\": 2.54, \"Infant mortality\": 13.37, \"GDP\": 6100.0, \"Literacy\": 99.6, \"Phones\": 319.1, \"Arable\": 29.55, \"Crops\": 0.6, \"Other\": 69.85, \"Climate\": 4.0, \"Birthrate\": 11.16, \"Deathrate\": 14.02, \"Agriculture\": 0.09300000000000001, \"Industry\": 0.316, \"Service\": 0.591, \"country code\": 112}, {\"Country\": \"Libya\", \"Region_x\": \"Middle East and North Africa\", \"Rank\": 63, \"HappinessScore\": 5.525, \"Life Ladder\": 5.646852493, \"Log GDP per capita\": null, \"Social support\": 0.8227587937999999, \"Healthy life expectancy at birth\": 61.48470688, \"Freedom to make life choices\": 0.7786958814, \"Generosity\": null, \"Perceptions of corruption\": 0.6730655431999999, \"Positive affect\": 0.6970493197, \"Negative affect\": 0.37937417630000003, \"Confidence in national government\": null, \"Code\": \"LBY\", \"Region_y\": \"NORTHERN AFRICA\", \"Population\": 5900754.0, \"Area\": 1759540.0, \"Pop. Density\": 3.4, \"Coastline\": 0.1, \"Net migration\": 0.0, \"Infant mortality\": 24.6, \"GDP\": 6400.0, \"Literacy\": 82.6, \"Phones\": 127.1, \"Arable\": 1.03, \"Crops\": 0.19, \"Other\": 98.78, \"Climate\": null, \"Birthrate\": 26.49, \"Deathrate\": 3.48, \"Agriculture\": 0.076, \"Industry\": 0.499, \"Service\": 0.425, \"country code\": 434}, {\"Country\": \"Turkey\", \"Region_x\": \"Middle East and North Africa\", \"Rank\": 64, \"HappinessScore\": 5.5, \"Life Ladder\": 5.607262135, \"Log GDP per capita\": 10.11937332, \"Social support\": 0.876467824, \"Healthy life expectancy at birth\": 65.79473114, \"Freedom to make life choices\": 0.6444342136, \"Generosity\": -0.24692715699999998, \"Perceptions of corruption\": 0.6709105371999999, \"Positive affect\": 0.4498009086, \"Negative affect\": 0.3128461242, \"Confidence in national government\": 0.5861612558, \"Code\": \"TUR\", \"Region_y\": \"NEAR EAST\", \"Population\": 70413958.0, \"Area\": 780580.0, \"Pop. Density\": 90.2, \"Coastline\": 0.92, \"Net migration\": 0.0, \"Infant mortality\": 41.04, \"GDP\": 6700.0, \"Literacy\": 86.5, \"Phones\": 269.5, \"Arable\": 30.93, \"Crops\": 3.31, \"Other\": 65.76, \"Climate\": 3.0, \"Birthrate\": 16.62, \"Deathrate\": 5.97, \"Agriculture\": 0.11699999999999999, \"Industry\": 0.298, \"Service\": 0.585, \"country code\": 792}, {\"Country\": \"Hong Kong S.A.R., China\", \"Region_x\": \"East Asia\", \"Rank\": 65, \"HappinessScore\": 5.472, \"Life Ladder\": 5.362474918, \"Log GDP per capita\": 10.91716671, \"Social support\": 0.8310663104000001, \"Healthy life expectancy at birth\": 76.53636169, \"Freedom to make life choices\": 0.8306572437, \"Generosity\": 0.1229347065, \"Perceptions of corruption\": 0.4158101976, \"Positive affect\": 0.6395334601, \"Negative affect\": 0.20059341190000002, \"Confidence in national government\": 0.5450407267, \"Code\": \"HKG\", \"Region_y\": \"ASIA (EX. NEAR EAST)\", \"Population\": 6940432.0, \"Area\": 1092.0, \"Pop. Density\": 6355.7, \"Coastline\": 67.12, \"Net migration\": 5.24, \"Infant mortality\": 2.97, \"GDP\": 28800.0, \"Literacy\": 93.5, \"Phones\": 546.7, \"Arable\": 5.05, \"Crops\": 1.01, \"Other\": 93.94, \"Climate\": 2.0, \"Birthrate\": 7.29, \"Deathrate\": 6.29, \"Agriculture\": 0.001, \"Industry\": 0.092, \"Service\": 0.9059999999999999, \"country code\": 344}, {\"Country\": \"Philippines\", \"Region_x\": \"Southeast Asia\", \"Rank\": 66, \"HappinessScore\": 5.43, \"Life Ladder\": 5.594270229, \"Log GDP per capita\": 8.938967705, \"Social support\": 0.8510285616, \"Healthy life expectancy at birth\": 60.25149155, \"Freedom to make life choices\": 0.9257031083, \"Generosity\": -0.1478516608, \"Perceptions of corruption\": 0.7111655473999999, \"Positive affect\": 0.7689814568000001, \"Negative affect\": 0.34062150119999995, \"Confidence in national government\": 0.8377300501, \"Code\": \"PHL\", \"Region_y\": \"ASIA (EX. NEAR EAST)\", \"Population\": 89468677.0, \"Area\": 300000.0, \"Pop. Density\": 298.2, \"Coastline\": 12.1, \"Net migration\": -1.5, \"Infant mortality\": 23.51, \"GDP\": 4600.0, \"Literacy\": 92.6, \"Phones\": 38.4, \"Arable\": 18.95, \"Crops\": 16.77, \"Other\": 64.28, \"Climate\": 2.0, \"Birthrate\": 24.89, \"Deathrate\": 5.41, \"Agriculture\": 0.14400000000000002, \"Industry\": 0.326, \"Service\": 0.53, \"country code\": 608}, {\"Country\": \"Serbia\", \"Region_x\": \"Central and Eastern Europe\", \"Rank\": 67, \"HappinessScore\": 5.395, \"Life Ladder\": 5.122031212, \"Log GDP per capita\": 9.561537742999999, \"Social support\": 0.8837704062, \"Healthy life expectancy at birth\": 65.68487549, \"Freedom to make life choices\": 0.6848463416, \"Generosity\": -0.08141558617000001, \"Perceptions of corruption\": 0.8514578342, \"Positive affect\": 0.5097212195, \"Negative affect\": 0.3264070749, \"Confidence in national government\": 0.5111979842000001, \"Code\": \"SRB\", \"Region_y\": \"EASTERN EUROPE\", \"Population\": 9396411.0, \"Area\": 88361.0, \"Pop. Density\": 106.3, \"Coastline\": 0.0, \"Net migration\": -1.33, \"Infant mortality\": 12.89, \"GDP\": 2200.0, \"Literacy\": 93.0, \"Phones\": 285.8, \"Arable\": 33.35, \"Crops\": 3.2, \"Other\": 63.45, \"Climate\": null, \"Birthrate\": null, \"Deathrate\": null, \"Agriculture\": 0.166, \"Industry\": 0.255, \"Service\": 0.579, \"country code\": 688}, {\"Country\": \"Jordan\", \"Region_x\": \"Middle East and North Africa\", \"Rank\": 68, \"HappinessScore\": 5.336, \"Life Ladder\": 4.808082581, \"Log GDP per capita\": 9.025333405, \"Social support\": 0.8146645427, \"Healthy life expectancy at birth\": 64.4178772, \"Freedom to make life choices\": 0.7662624717000001, \"Generosity\": -0.1515228748, \"Perceptions of corruption\": null, \"Positive affect\": 0.6277983785, \"Negative affect\": 0.3915051818, \"Confidence in national government\": null, \"Code\": \"JOR\", \"Region_y\": \"NEAR EAST\", \"Population\": 5906760.0, \"Area\": 92300.0, \"Pop. Density\": 64.0, \"Coastline\": 0.03, \"Net migration\": 6.59, \"Infant mortality\": 17.35, \"GDP\": 4300.0, \"Literacy\": 91.3, \"Phones\": 104.5, \"Arable\": 2.67, \"Crops\": 1.83, \"Other\": 95.5, \"Climate\": 1.0, \"Birthrate\": 21.25, \"Deathrate\": 2.65, \"Agriculture\": 0.033, \"Industry\": 0.287, \"Service\": 0.68, \"country code\": 400}, {\"Country\": \"Hungary\", \"Region_x\": \"Central and Eastern Europe\", \"Rank\": 69, \"HappinessScore\": 5.324, \"Life Ladder\": 6.065038681, \"Log GDP per capita\": 10.19323826, \"Social support\": 0.8767475486, \"Healthy life expectancy at birth\": 67.19336700000001, \"Freedom to make life choices\": 0.6611659527, \"Generosity\": -0.15079303089999999, \"Perceptions of corruption\": 0.8863613009, \"Positive affect\": 0.7351842523000001, \"Negative affect\": 0.1809212714, \"Confidence in national government\": 0.3777705133, \"Code\": \"HUN\", \"Region_y\": \"EASTERN EUROPE\", \"Population\": 9981334.0, \"Area\": 93030.0, \"Pop. Density\": 107.3, \"Coastline\": 0.0, \"Net migration\": 0.86, \"Infant mortality\": 8.57, \"GDP\": 13900.0, \"Literacy\": 99.4, \"Phones\": 336.2, \"Arable\": 50.09, \"Crops\": 2.06, \"Other\": 47.85, \"Climate\": 3.0, \"Birthrate\": 9.72, \"Deathrate\": 13.11, \"Agriculture\": 0.037000000000000005, \"Industry\": 0.312, \"Service\": 0.6509999999999999, \"country code\": 348}, {\"Country\": \"Jamaica\", \"Region_x\": \"Latin America and Caribbean\", \"Rank\": 70, \"HappinessScore\": 5.311, \"Life Ladder\": 5.889759064, \"Log GDP per capita\": 9.025864601, \"Social support\": 0.9130298495, \"Healthy life expectancy at birth\": 65.81879425, \"Freedom to make life choices\": 0.8606763481999999, \"Generosity\": -0.1308327317, \"Perceptions of corruption\": 0.8827961683, \"Positive affect\": 0.7692821622, \"Negative affect\": 0.243399635, \"Confidence in national government\": 0.3482017517, \"Code\": \"JAM\", \"Region_y\": \"LATIN AMER. & CARIB\", \"Population\": 2758124.0, \"Area\": 10991.0, \"Pop. Density\": 250.9, \"Coastline\": 9.3, \"Net migration\": -4.92, \"Infant mortality\": 12.36, \"GDP\": 3900.0, \"Literacy\": 87.9, \"Phones\": 124.0, \"Arable\": 16.07, \"Crops\": 10.16, \"Other\": 73.77, \"Climate\": 2.0, \"Birthrate\": 20.82, \"Deathrate\": 6.52, \"Agriculture\": 0.049, \"Industry\": 0.337, \"Service\": 0.615, \"country code\": 388}, {\"Country\": \"Croatia\", \"Region_x\": \"Central and Eastern Europe\", \"Rank\": 71, \"HappinessScore\": 5.292999999999999, \"Life Ladder\": 5.343165873999999, \"Log GDP per capita\": 10.01418877, \"Social support\": 0.7703096867, \"Healthy life expectancy at birth\": 67.01551056, \"Freedom to make life choices\": 0.7158222795, \"Generosity\": -0.10941725220000001, \"Perceptions of corruption\": 0.89155972, \"Positive affect\": 0.655305028, \"Negative affect\": 0.3164882362, \"Confidence in national government\": 0.211000666, \"Code\": \"HRV\", \"Region_y\": \"EASTERN EUROPE\", \"Population\": 4494749.0, \"Area\": 56542.0, \"Pop. Density\": 79.5, \"Coastline\": 10.32, \"Net migration\": 1.58, \"Infant mortality\": 6.84, \"GDP\": 10600.0, \"Literacy\": 98.5, \"Phones\": 420.4, \"Arable\": 26.09, \"Crops\": 2.27, \"Other\": 71.65, \"Climate\": null, \"Birthrate\": 9.61, \"Deathrate\": 11.48, \"Agriculture\": 0.07, \"Industry\": 0.308, \"Service\": 0.622, \"country code\": 191}, {\"Country\": \"China\", \"Region_x\": \"East Asia\", \"Rank\": 73, \"HappinessScore\": 5.273, \"Life Ladder\": 5.0990614889999994, \"Log GDP per capita\": 9.635466576, \"Social support\": 0.7720332146, \"Healthy life expectancy at birth\": 69.30279541, \"Freedom to make life choices\": 0.8776175976, \"Generosity\": -0.1946347356, \"Perceptions of corruption\": null, \"Positive affect\": 0.8210972548000001, \"Negative affect\": 0.214004755, \"Confidence in national government\": null, \"Code\": \"CHN\", \"Region_y\": \"ASIA (EX. NEAR EAST)\", \"Population\": 1313973713.0, \"Area\": 9596960.0, \"Pop. Density\": 136.9, \"Coastline\": 0.15, \"Net migration\": -0.4, \"Infant mortality\": 24.18, \"GDP\": 5000.0, \"Literacy\": 90.9, \"Phones\": 266.7, \"Arable\": 15.4, \"Crops\": 1.25, \"Other\": 83.35, \"Climate\": 1.5, \"Birthrate\": 13.25, \"Deathrate\": 6.97, \"Agriculture\": 0.125, \"Industry\": 0.473, \"Service\": 0.40299999999999997, \"country code\": 156}, {\"Country\": \"Pakistan\", \"Region_x\": \"South Asia\", \"Rank\": 74, \"HappinessScore\": 5.269, \"Life Ladder\": 5.8308706279999996, \"Log GDP per capita\": 8.519006728999999, \"Social support\": 0.6902635694, \"Healthy life expectancy at birth\": 57.46299744, \"Freedom to make life choices\": 0.7126570940000001, \"Generosity\": 0.03032811172, \"Perceptions of corruption\": 0.7139282227, \"Positive affect\": 0.5861669778999999, \"Negative affect\": 0.3083410859, \"Confidence in national government\": 0.5574351549000001, \"Code\": \"PAK\", \"Region_y\": \"ASIA (EX. NEAR EAST)\", \"Population\": 165803560.0, \"Area\": 803940.0, \"Pop. Density\": 206.2, \"Coastline\": 0.13, \"Net migration\": -2.77, \"Infant mortality\": 72.44, \"GDP\": 2100.0, \"Literacy\": 45.7, \"Phones\": 31.8, \"Arable\": 27.87, \"Crops\": 0.87, \"Other\": 71.26, \"Climate\": 1.0, \"Birthrate\": 29.74, \"Deathrate\": 8.23, \"Agriculture\": 0.21600000000000003, \"Industry\": 0.251, \"Service\": 0.5329999999999999, \"country code\": 586}, {\"Country\": \"Indonesia\", \"Region_x\": \"Southeast Asia\", \"Rank\": 75, \"HappinessScore\": 5.2620000000000005, \"Life Ladder\": 5.098401546, \"Log GDP per capita\": 9.322167397000001, \"Social support\": 0.7955892086, \"Healthy life expectancy at birth\": 60.58441544, \"Freedom to make life choices\": 0.8650262952, \"Generosity\": 0.47297385329999997, \"Perceptions of corruption\": 0.9004164337999999, \"Positive affect\": 0.8625841737000001, \"Negative affect\": 0.3191715777, \"Confidence in national government\": 0.8257653712999999, \"Code\": \"IDN\", \"Region_y\": \"ASIA (EX. NEAR EAST)\", \"Population\": 245452739.0, \"Area\": 1919440.0, \"Pop. Density\": 127.9, \"Coastline\": 2.85, \"Net migration\": 0.0, \"Infant mortality\": 35.6, \"GDP\": 3200.0, \"Literacy\": 87.9, \"Phones\": 52.0, \"Arable\": 11.32, \"Crops\": 7.23, \"Other\": 81.45, \"Climate\": 2.0, \"Birthrate\": 20.34, \"Deathrate\": 6.25, \"Agriculture\": 0.134, \"Industry\": 0.45799999999999996, \"Service\": 0.408, \"country code\": 360}, {\"Country\": \"Morocco\", \"Region_x\": \"Middle East and North Africa\", \"Rank\": 77, \"HappinessScore\": 5.235, \"Life Ladder\": 5.312482834, \"Log GDP per capita\": 8.915043831, \"Social support\": 0.6411930919, \"Healthy life expectancy at birth\": 65.33885956, \"Freedom to make life choices\": 0.814258039, \"Generosity\": -0.2279193848, \"Perceptions of corruption\": 0.8405024409, \"Positive affect\": 0.5592882037, \"Negative affect\": 0.32271590829999997, \"Confidence in national government\": null, \"Code\": \"MAR\", \"Region_y\": \"NORTHERN AFRICA\", \"Population\": 33241259.0, \"Area\": 446550.0, \"Pop. Density\": 74.4, \"Coastline\": 0.41, \"Net migration\": -0.98, \"Infant mortality\": 41.62, \"GDP\": 4000.0, \"Literacy\": 51.7, \"Phones\": 40.4, \"Arable\": 19.61, \"Crops\": 2.17, \"Other\": 78.22, \"Climate\": null, \"Birthrate\": 21.98, \"Deathrate\": 5.58, \"Agriculture\": 0.217, \"Industry\": 0.35700000000000004, \"Service\": 0.426, \"country code\": 504}, {\"Country\": \"Azerbaijan\", \"Region_x\": \"Commonwealth of Independent States\", \"Rank\": 78, \"HappinessScore\": 5.234, \"Life Ladder\": 5.152279377, \"Log GDP per capita\": 9.65392971, \"Social support\": 0.7870393991, \"Healthy life expectancy at birth\": 63.07531357, \"Freedom to make life choices\": 0.7310304642000001, \"Generosity\": -0.2474806607, \"Perceptions of corruption\": 0.6525390148, \"Positive affect\": 0.5923592448, \"Negative affect\": 0.1983186603, \"Confidence in national government\": 0.7665834427, \"Code\": \"AZE\", \"Region_y\": \"C.W. OF IND. STATES\", \"Population\": 7961619.0, \"Area\": 86600.0, \"Pop. Density\": 91.9, \"Coastline\": 0.0, \"Net migration\": -4.9, \"Infant mortality\": 81.74, \"GDP\": 3400.0, \"Literacy\": 97.0, \"Phones\": 137.1, \"Arable\": 19.63, \"Crops\": 2.71, \"Other\": 77.66, \"Climate\": 1.0, \"Birthrate\": 20.74, \"Deathrate\": 9.75, \"Agriculture\": 0.141, \"Industry\": 0.457, \"Service\": 0.402, \"country code\": 31}, {\"Country\": \"Dominican Republic\", \"Region_x\": \"Latin America and Caribbean\", \"Rank\": 79, \"HappinessScore\": 5.23, \"Life Ladder\": 5.605202675, \"Log GDP per capita\": 9.594573975, \"Social support\": 0.8943681120999999, \"Healthy life expectancy at birth\": 63.49599457, \"Freedom to make life choices\": 0.8553590178, \"Generosity\": -0.1270921826, \"Perceptions of corruption\": 0.7604896426000001, \"Positive affect\": 0.7389436364, \"Negative affect\": 0.2747455239, \"Confidence in national government\": 0.4599013329, \"Code\": \"DOM\", \"Region_y\": \"LATIN AMER. & CARIB\", \"Population\": 9183984.0, \"Area\": 48730.0, \"Pop. Density\": 188.5, \"Coastline\": 2.64, \"Net migration\": -3.22, \"Infant mortality\": 32.38, \"GDP\": 6000.0, \"Literacy\": 84.7, \"Phones\": 97.4, \"Arable\": 22.65, \"Crops\": 10.33, \"Other\": 67.02, \"Climate\": 2.0, \"Birthrate\": 23.22, \"Deathrate\": 5.73, \"Agriculture\": 0.11199999999999999, \"Industry\": 0.306, \"Service\": 0.5820000000000001, \"country code\": 214}, {\"Country\": \"Greece\", \"Region_x\": \"Western Europe\", \"Rank\": 80, \"HappinessScore\": 5.227, \"Life Ladder\": 5.14824152, \"Log GDP per capita\": 10.11751747, \"Social support\": 0.7528995275, \"Healthy life expectancy at birth\": 71.7803421, \"Freedom to make life choices\": 0.43830001350000003, \"Generosity\": -0.29673498870000004, \"Perceptions of corruption\": 0.8722394705, \"Positive affect\": 0.6029390097, \"Negative affect\": 0.3328307569, \"Confidence in national government\": 0.1398808956, \"Code\": \"GRC\", \"Region_y\": \"WESTERN EUROPE\", \"Population\": 10688058.0, \"Area\": 131940.0, \"Pop. Density\": 81.0, \"Coastline\": 10.37, \"Net migration\": 2.35, \"Infant mortality\": 5.53, \"GDP\": 20000.0, \"Literacy\": 97.5, \"Phones\": 589.7, \"Arable\": 21.1, \"Crops\": 8.78, \"Other\": 70.12, \"Climate\": 3.0, \"Birthrate\": 9.68, \"Deathrate\": 10.24, \"Agriculture\": 0.054000000000000006, \"Industry\": 0.213, \"Service\": 0.733, \"country code\": 300}, {\"Country\": \"Lebanon\", \"Region_x\": \"Middle East and North Africa\", \"Rank\": 81, \"HappinessScore\": 5.225, \"Life Ladder\": 5.153989792, \"Log GDP per capita\": 9.491579056, \"Social support\": 0.7765830159, \"Healthy life expectancy at birth\": 68.8638916, \"Freedom to make life choices\": 0.6045541763000001, \"Generosity\": -0.07502814382, \"Perceptions of corruption\": 0.9107272625, \"Positive affect\": 0.5154439211, \"Negative affect\": 0.24354921280000003, \"Confidence in national government\": 0.21771809460000002, \"Code\": \"LBN\", \"Region_y\": \"NEAR EAST\", \"Population\": 3874050.0, \"Area\": 10400.0, \"Pop. Density\": 372.5, \"Coastline\": 2.16, \"Net migration\": 0.0, \"Infant mortality\": 24.52, \"GDP\": 4800.0, \"Literacy\": 87.4, \"Phones\": 255.6, \"Arable\": 16.62, \"Crops\": 13.98, \"Other\": 69.4, \"Climate\": null, \"Birthrate\": 18.52, \"Deathrate\": 6.21, \"Agriculture\": 0.12, \"Industry\": 0.21, \"Service\": 0.67, \"country code\": 422}, {\"Country\": \"Portugal\", \"Region_x\": \"Western Europe\", \"Rank\": 82, \"HappinessScore\": 5.195, \"Life Ladder\": 5.711499214, \"Log GDP per capita\": 10.23670864, \"Social support\": 0.8999848366, \"Healthy life expectancy at birth\": 72.15874481, \"Freedom to make life choices\": 0.9050656557, \"Generosity\": -0.1825983971, \"Perceptions of corruption\": 0.8809705377, \"Positive affect\": 0.6491510868, \"Negative affect\": 0.2942725718, \"Confidence in national government\": 0.5010881424, \"Code\": \"PRT\", \"Region_y\": \"WESTERN EUROPE\", \"Population\": 10605870.0, \"Area\": 92391.0, \"Pop. Density\": 114.8, \"Coastline\": 1.94, \"Net migration\": 3.57, \"Infant mortality\": 5.05, \"GDP\": 18000.0, \"Literacy\": 93.3, \"Phones\": 399.2, \"Arable\": 21.75, \"Crops\": 7.81, \"Other\": 70.44, \"Climate\": 3.0, \"Birthrate\": 10.72, \"Deathrate\": 10.5, \"Agriculture\": 0.053, \"Industry\": 0.27399999999999997, \"Service\": 0.6729999999999999, \"country code\": 620}, {\"Country\": \"Bosnia and Herzegovina\", \"Region_x\": \"Central and Eastern Europe\", \"Rank\": 83, \"HappinessScore\": 5.182, \"Life Ladder\": 5.089902401, \"Log GDP per capita\": 9.371712685, \"Social support\": 0.7752952576000001, \"Healthy life expectancy at birth\": 67.99448395, \"Freedom to make life choices\": 0.5637986660000001, \"Generosity\": 0.08958946168, \"Perceptions of corruption\": 0.9233430624, \"Positive affect\": 0.5973416567000001, \"Negative affect\": 0.2707455158, \"Confidence in national government\": 0.1263797134, \"Code\": \"BIH\", \"Region_y\": \"EASTERN EUROPE\", \"Population\": 4498976.0, \"Area\": 51129.0, \"Pop. Density\": 88.0, \"Coastline\": 0.04, \"Net migration\": 0.31, \"Infant mortality\": 21.05, \"GDP\": 6100.0, \"Literacy\": null, \"Phones\": 215.4, \"Arable\": 13.6, \"Crops\": 2.96, \"Other\": 83.44, \"Climate\": 4.0, \"Birthrate\": 8.77, \"Deathrate\": 8.27, \"Agriculture\": 0.142, \"Industry\": 0.308, \"Service\": 0.55, \"country code\": 70}, {\"Country\": \"Honduras\", \"Region_x\": \"Latin America and Caribbean\", \"Rank\": 84, \"HappinessScore\": 5.181, \"Life Ladder\": 6.019985676, \"Log GDP per capita\": 8.404379845, \"Social support\": 0.8433549404, \"Healthy life expectancy at birth\": 63.75267029, \"Freedom to make life choices\": 0.8983774185, \"Generosity\": 0.08007407187999999, \"Perceptions of corruption\": 0.7834294437999999, \"Positive affect\": 0.8422009348999999, \"Negative affect\": 0.2483833432, \"Confidence in national government\": 0.49558502439999996, \"Code\": \"HND\", \"Region_y\": \"LATIN AMER. & CARIB\", \"Population\": 7326496.0, \"Area\": 112090.0, \"Pop. Density\": 65.4, \"Coastline\": 0.73, \"Net migration\": -1.99, \"Infant mortality\": 29.32, \"GDP\": 2600.0, \"Literacy\": 76.2, \"Phones\": 67.5, \"Arable\": 9.55, \"Crops\": 3.22, \"Other\": 87.23, \"Climate\": 2.0, \"Birthrate\": 28.24, \"Deathrate\": 5.28, \"Agriculture\": 0.139, \"Industry\": 0.312, \"Service\": 0.5489999999999999, \"country code\": 340}, {\"Country\": \"Macedonia\", \"Region_x\": \"Central and Eastern Europe\", \"Rank\": 85, \"HappinessScore\": 5.175, \"Life Ladder\": 5.233866692, \"Log GDP per capita\": 9.50363636, \"Social support\": 0.7999551295999999, \"Healthy life expectancy at birth\": 65.8757782, \"Freedom to make life choices\": 0.752106607, \"Generosity\": -0.06272842735, \"Perceptions of corruption\": 0.8556972742, \"Positive affect\": 0.5024598836999999, \"Negative affect\": 0.29939058420000003, \"Confidence in national government\": 0.4429164529, \"Code\": \"MKD\", \"Region_y\": \"EASTERN EUROPE\", \"Population\": 2050554.0, \"Area\": 25333.0, \"Pop. Density\": 80.9, \"Coastline\": 0.0, \"Net migration\": -1.45, \"Infant mortality\": 10.09, \"GDP\": 6700.0, \"Literacy\": null, \"Phones\": 260.0, \"Arable\": 22.26, \"Crops\": 1.81, \"Other\": 75.93, \"Climate\": 3.0, \"Birthrate\": 12.02, \"Deathrate\": 8.77, \"Agriculture\": 0.11800000000000001, \"Industry\": 0.319, \"Service\": 0.563, \"country code\": 807}, {\"Country\": \"Nigeria\", \"Region_x\": \"Sub-Saharan Africa\", \"Rank\": 86, \"HappinessScore\": 5.074, \"Life Ladder\": 5.321928024, \"Log GDP per capita\": 8.58562088, \"Social support\": 0.7334685326, \"Healthy life expectancy at birth\": 45.8731575, \"Freedom to make life choices\": 0.8259055614, \"Generosity\": 0.1133014858, \"Perceptions of corruption\": 0.8348919749, \"Positive affect\": 0.7249905467000001, \"Negative affect\": 0.2359687686, \"Confidence in national government\": 0.5587907434, \"Code\": \"NGA\", \"Region_y\": \"SUB-SAHARAN AFRICA\", \"Population\": 131859731.0, \"Area\": 923768.0, \"Pop. Density\": 142.7, \"Coastline\": 0.09, \"Net migration\": 0.26, \"Infant mortality\": 98.8, \"GDP\": 900.0, \"Literacy\": 68.0, \"Phones\": 9.3, \"Arable\": 31.29, \"Crops\": 2.96, \"Other\": 65.75, \"Climate\": 1.5, \"Birthrate\": 40.43, \"Deathrate\": 16.94, \"Agriculture\": 0.26899999999999996, \"Industry\": 0.48700000000000004, \"Service\": 0.244, \"country code\": 566}, {\"Country\": \"Vietnam\", \"Region_x\": \"Southeast Asia\", \"Rank\": 87, \"HappinessScore\": 5.074, \"Life Ladder\": 5.1752786639999995, \"Log GDP per capita\": 8.7426548, \"Social support\": null, \"Healthy life expectancy at birth\": 66.24576569, \"Freedom to make life choices\": null, \"Generosity\": null, \"Perceptions of corruption\": null, \"Positive affect\": null, \"Negative affect\": null, \"Confidence in national government\": null, \"Code\": \"VNM\", \"Region_y\": \"ASIA (EX. NEAR EAST)\", \"Population\": 84402966.0, \"Area\": 329560.0, \"Pop. Density\": 256.1, \"Coastline\": 1.05, \"Net migration\": -0.45, \"Infant mortality\": 25.95, \"GDP\": 2500.0, \"Literacy\": 90.3, \"Phones\": 187.7, \"Arable\": 19.97, \"Crops\": 5.95, \"Other\": 74.08, \"Climate\": 2.0, \"Birthrate\": 16.86, \"Deathrate\": 6.22, \"Agriculture\": 0.209, \"Industry\": 0.41, \"Service\": 0.381, \"country code\": 704}, {\"Country\": \"Tajikistan\", \"Region_x\": \"Commonwealth of Independent States\", \"Rank\": 88, \"HappinessScore\": 5.041, \"Life Ladder\": 5.829234122999999, \"Log GDP per capita\": 7.956589698999999, \"Social support\": 0.6626933217000001, \"Healthy life expectancy at birth\": 62.97124863, \"Freedom to make life choices\": 0.832002461, \"Generosity\": 0.1249361858, \"Perceptions of corruption\": 0.7183368802, \"Positive affect\": 0.6026676893, \"Negative affect\": 0.2777253389, \"Confidence in national government\": 0.9297930598, \"Code\": \"TJK\", \"Region_y\": \"C.W. OF IND. STATES\", \"Population\": 7320815.0, \"Area\": 143100.0, \"Pop. Density\": 51.2, \"Coastline\": 0.0, \"Net migration\": -2.86, \"Infant mortality\": 110.76, \"GDP\": 1000.0, \"Literacy\": 99.4, \"Phones\": 33.5, \"Arable\": 6.61, \"Crops\": 0.92, \"Other\": 92.47, \"Climate\": 2.0, \"Birthrate\": 32.65, \"Deathrate\": 8.25, \"Agriculture\": 0.23399999999999999, \"Industry\": 0.28600000000000003, \"Service\": 0.48, \"country code\": 762}, {\"Country\": \"Kyrgyzstan\", \"Region_x\": \"Commonwealth of Independent States\", \"Rank\": 89, \"HappinessScore\": 5.004, \"Life Ladder\": 5.6295366289999995, \"Log GDP per capita\": 8.11204052, \"Social support\": 0.882586658, \"Healthy life expectancy at birth\": 62.89964676, \"Freedom to make life choices\": 0.859389782, \"Generosity\": 0.16666737199999998, \"Perceptions of corruption\": 0.8744944929999999, \"Positive affect\": 0.7551252246, \"Negative affect\": 0.1604383141, \"Confidence in national government\": 0.5616727471, \"Code\": \"KGZ\", \"Region_y\": \"C.W. OF IND. STATES\", \"Population\": 5213898.0, \"Area\": 198500.0, \"Pop. Density\": 26.3, \"Coastline\": 0.0, \"Net migration\": -2.45, \"Infant mortality\": 35.64, \"GDP\": 1600.0, \"Literacy\": 97.0, \"Phones\": 84.0, \"Arable\": 7.3, \"Crops\": 0.35, \"Other\": 92.35, \"Climate\": 2.5, \"Birthrate\": 22.8, \"Deathrate\": 7.08, \"Agriculture\": 0.353, \"Industry\": 0.20800000000000002, \"Service\": 0.439, \"country code\": 417}, {\"Country\": \"Nepal\", \"Region_x\": \"South Asia\", \"Rank\": 90, \"HappinessScore\": 4.962, \"Life Ladder\": 4.736692429, \"Log GDP per capita\": 7.801309109, \"Social support\": 0.8163833022, \"Healthy life expectancy at birth\": 61.26595688, \"Freedom to make life choices\": 0.8451476097, \"Generosity\": 0.1465111375, \"Perceptions of corruption\": 0.7701771259, \"Positive affect\": 0.5705770254, \"Negative affect\": 0.3759779334, \"Confidence in national government\": 0.5595785379, \"Code\": \"NPL\", \"Region_y\": \"ASIA (EX. NEAR EAST)\", \"Population\": 28287147.0, \"Area\": 147181.0, \"Pop. Density\": 192.2, \"Coastline\": 0.0, \"Net migration\": 0.0, \"Infant mortality\": 66.98, \"GDP\": 1400.0, \"Literacy\": 45.2, \"Phones\": 15.9, \"Arable\": 21.68, \"Crops\": 0.64, \"Other\": 77.68, \"Climate\": null, \"Birthrate\": 30.98, \"Deathrate\": 9.31, \"Agriculture\": 0.38, \"Industry\": 0.21, \"Service\": 0.41, \"country code\": 524}, {\"Country\": \"Mongolia\", \"Region_x\": \"East Asia\", \"Rank\": 91, \"HappinessScore\": 4.955, \"Life Ladder\": 5.333850384, \"Log GDP per capita\": 9.318548202999999, \"Social support\": 0.9242507815000001, \"Healthy life expectancy at birth\": 62.31261063, \"Freedom to make life choices\": 0.6746274233, \"Generosity\": 0.1064513475, \"Perceptions of corruption\": 0.8649522065999999, \"Positive affect\": 0.6751652956, \"Negative affect\": 0.21359951789999998, \"Confidence in national government\": 0.2750583589, \"Code\": \"MNG\", \"Region_y\": \"ASIA (EX. NEAR EAST)\", \"Population\": 2832224.0, \"Area\": 1564116.0, \"Pop. Density\": 1.8, \"Coastline\": 0.0, \"Net migration\": 0.0, \"Infant mortality\": 53.79, \"GDP\": 1800.0, \"Literacy\": 97.8, \"Phones\": 55.1, \"Arable\": 0.77, \"Crops\": 0.0, \"Other\": 99.23, \"Climate\": 1.0, \"Birthrate\": 21.59, \"Deathrate\": 6.95, \"Agriculture\": 0.20600000000000002, \"Industry\": 0.214, \"Service\": 0.58, \"country code\": 496}, {\"Country\": \"South Africa\", \"Region_x\": \"Sub-Saharan Africa\", \"Rank\": 92, \"HappinessScore\": 4.829, \"Life Ladder\": 4.513655186, \"Log GDP per capita\": 9.405202866, \"Social support\": 0.8703132868000001, \"Healthy life expectancy at birth\": 55.22930908, \"Freedom to make life choices\": 0.7874279022, \"Generosity\": -0.139256224, \"Perceptions of corruption\": 0.8647819161, \"Positive affect\": 0.7848007082999999, \"Negative affect\": 0.2681752443, \"Confidence in national government\": 0.423274219, \"Code\": \"ZAF\", \"Region_y\": \"SUB-SAHARAN AFRICA\", \"Population\": 44187637.0, \"Area\": 1219912.0, \"Pop. Density\": 36.2, \"Coastline\": 0.23, \"Net migration\": -0.29, \"Infant mortality\": 61.81, \"GDP\": 10700.0, \"Literacy\": 86.4, \"Phones\": 107.0, \"Arable\": 12.08, \"Crops\": 0.79, \"Other\": 87.13, \"Climate\": 1.0, \"Birthrate\": 18.2, \"Deathrate\": 22.0, \"Agriculture\": 0.025, \"Industry\": 0.303, \"Service\": 0.6709999999999999, \"country code\": 710}, {\"Country\": \"Tunisia\", \"Region_x\": \"Middle East and North Africa\", \"Rank\": 93, \"HappinessScore\": 4.805, \"Life Ladder\": 4.124342918, \"Log GDP per capita\": 9.294288635, \"Social support\": 0.7173815966, \"Healthy life expectancy at birth\": 65.88056183, \"Freedom to make life choices\": 0.4779566526, \"Generosity\": -0.23353116210000002, \"Perceptions of corruption\": 0.8688267469, \"Positive affect\": 0.42096188659999995, \"Negative affect\": 0.37719684840000006, \"Confidence in national government\": 0.2508273125, \"Code\": \"TUN\", \"Region_y\": \"NORTHERN AFRICA\", \"Population\": 10175014.0, \"Area\": 163610.0, \"Pop. Density\": 62.2, \"Coastline\": 0.7, \"Net migration\": -0.57, \"Infant mortality\": 24.77, \"GDP\": 6900.0, \"Literacy\": 74.2, \"Phones\": 123.6, \"Arable\": 17.86, \"Crops\": 13.74, \"Other\": 68.4, \"Climate\": 3.0, \"Birthrate\": 15.52, \"Deathrate\": 5.13, \"Agriculture\": 0.132, \"Industry\": 0.318, \"Service\": 0.55, \"country code\": 788}, {\"Country\": \"Egypt\", \"Region_x\": \"Middle East and North Africa\", \"Rank\": 95, \"HappinessScore\": 4.735, \"Life Ladder\": 3.929344177, \"Log GDP per capita\": 9.260223389, \"Social support\": 0.6382263899, \"Healthy life expectancy at birth\": 61.573791500000006, \"Freedom to make life choices\": 0.5925047994, \"Generosity\": -0.161944747, \"Perceptions of corruption\": null, \"Positive affect\": 0.5393225550999999, \"Negative affect\": 0.4144937992, \"Confidence in national government\": null, \"Code\": \"EGY\", \"Region_y\": \"NORTHERN AFRICA\", \"Population\": 78887007.0, \"Area\": 1001450.0, \"Pop. Density\": 78.8, \"Coastline\": 0.24, \"Net migration\": -0.22, \"Infant mortality\": 32.59, \"GDP\": 4000.0, \"Literacy\": 57.7, \"Phones\": 131.8, \"Arable\": 2.87, \"Crops\": 0.48, \"Other\": 96.65, \"Climate\": 1.0, \"Birthrate\": 22.94, \"Deathrate\": 5.23, \"Agriculture\": 0.149, \"Industry\": 0.35700000000000004, \"Service\": 0.493, \"country code\": 818}, {\"Country\": \"Bulgaria\", \"Region_x\": \"Central and Eastern Europe\", \"Rank\": 96, \"HappinessScore\": 4.7139999999999995, \"Life Ladder\": 5.096901894, \"Log GDP per capita\": 9.822961807, \"Social support\": 0.9417545795000001, \"Healthy life expectancy at birth\": 66.4154892, \"Freedom to make life choices\": 0.6890470385999999, \"Generosity\": -0.16003866490000002, \"Perceptions of corruption\": 0.9107997417, \"Positive affect\": 0.6142167449, \"Negative affect\": 0.188637346, \"Confidence in national government\": 0.32608795170000004, \"Code\": \"BGR\", \"Region_y\": \"EASTERN EUROPE\", \"Population\": 7385367.0, \"Area\": 110910.0, \"Pop. Density\": 66.6, \"Coastline\": 0.32, \"Net migration\": -4.58, \"Infant mortality\": 20.55, \"GDP\": 7600.0, \"Literacy\": 98.6, \"Phones\": 336.3, \"Arable\": 40.02, \"Crops\": 1.92, \"Other\": 58.06, \"Climate\": 3.0, \"Birthrate\": 9.65, \"Deathrate\": 14.27, \"Agriculture\": 0.09300000000000001, \"Industry\": 0.304, \"Service\": 0.603, \"country code\": 100}, {\"Country\": \"Sierra Leone\", \"Region_x\": \"Sub-Saharan Africa\", \"Rank\": 97, \"HappinessScore\": 4.709, \"Life Ladder\": 4.089562416000001, \"Log GDP per capita\": 7.253018378999999, \"Social support\": 0.6522871256, \"Healthy life expectancy at birth\": 44.38652802, \"Freedom to make life choices\": 0.7106135487999999, \"Generosity\": 0.08922567964, \"Perceptions of corruption\": 0.8483983278, \"Positive affect\": 0.6003682017, \"Negative affect\": 0.4950400293, \"Confidence in national government\": 0.7375169396, \"Code\": \"SLE\", \"Region_y\": \"SUB-SAHARAN AFRICA\", \"Population\": 6005250.0, \"Area\": 71740.0, \"Pop. Density\": 83.7, \"Coastline\": 0.56, \"Net migration\": 0.0, \"Infant mortality\": 143.64, \"GDP\": 500.0, \"Literacy\": 31.4, \"Phones\": 4.0, \"Arable\": 6.98, \"Crops\": 0.89, \"Other\": 92.13, \"Climate\": 2.0, \"Birthrate\": 45.76, \"Deathrate\": 23.03, \"Agriculture\": 0.49, \"Industry\": 0.31, \"Service\": 0.21, \"country code\": 694}, {\"Country\": \"Cameroon\", \"Region_x\": \"Sub-Saharan Africa\", \"Rank\": 98, \"HappinessScore\": 4.695, \"Life Ladder\": 5.07405138, \"Log GDP per capita\": 8.128399849, \"Social support\": 0.6945964098, \"Healthy life expectancy at birth\": 50.14022446, \"Freedom to make life choices\": 0.7669450045, \"Generosity\": -0.031055631119999996, \"Perceptions of corruption\": 0.8435856104, \"Positive affect\": 0.6323387623, \"Negative affect\": 0.37749874590000004, \"Confidence in national government\": 0.5787755251, \"Code\": \"CMR\", \"Region_y\": \"SUB-SAHARAN AFRICA\", \"Population\": 17340702.0, \"Area\": 475440.0, \"Pop. Density\": 36.5, \"Coastline\": 0.08, \"Net migration\": 0.0, \"Infant mortality\": 68.26, \"GDP\": 1800.0, \"Literacy\": 79.0, \"Phones\": 5.7, \"Arable\": 12.81, \"Crops\": 2.58, \"Other\": 84.61, \"Climate\": 1.5, \"Birthrate\": 33.89, \"Deathrate\": 13.47, \"Agriculture\": 0.44799999999999995, \"Industry\": 0.17, \"Service\": 0.382, \"country code\": 120}, {\"Country\": \"Iran\", \"Region_x\": \"Middle East and North Africa\", \"Rank\": 99, \"HappinessScore\": 4.692, \"Life Ladder\": 4.716783047, \"Log GDP per capita\": 9.853448868, \"Social support\": 0.7142329216, \"Healthy life expectancy at birth\": 65.96455383, \"Freedom to make life choices\": 0.7306351662, \"Generosity\": 0.1827351153, \"Perceptions of corruption\": 0.7149413228, \"Positive affect\": 0.6936660409000001, \"Negative affect\": 0.4385339022, \"Confidence in national government\": null, \"Code\": \"IRN\", \"Region_y\": \"ASIA (EX. NEAR EAST)\", \"Population\": 68688433.0, \"Area\": 1648000.0, \"Pop. Density\": 41.7, \"Coastline\": 0.15, \"Net migration\": -0.84, \"Infant mortality\": 41.58, \"GDP\": 7000.0, \"Literacy\": 79.4, \"Phones\": 276.4, \"Arable\": 8.72, \"Crops\": 1.39, \"Other\": 89.89, \"Climate\": 1.0, \"Birthrate\": 17.0, \"Deathrate\": 5.55, \"Agriculture\": 0.11599999999999999, \"Industry\": 0.424, \"Service\": 0.46, \"country code\": 364}, {\"Country\": \"Albania\", \"Region_x\": \"Central and Eastern Europe\", \"Rank\": 100, \"HappinessScore\": 4.644, \"Life Ladder\": 4.639548302, \"Log GDP per capita\": 9.373718262, \"Social support\": 0.6376982927, \"Healthy life expectancy at birth\": 69.05165863, \"Freedom to make life choices\": 0.7496110201, \"Generosity\": -0.03514037654, \"Perceptions of corruption\": 0.876134634, \"Positive affect\": 0.6692408919, \"Negative affect\": 0.33388412, \"Confidence in national government\": 0.45773753520000005, \"Code\": \"ALB\", \"Region_y\": \"EASTERN EUROPE\", \"Population\": 3581655.0, \"Area\": 28748.0, \"Pop. Density\": 124.6, \"Coastline\": 1.26, \"Net migration\": -4.93, \"Infant mortality\": 21.52, \"GDP\": 4500.0, \"Literacy\": 86.5, \"Phones\": 71.2, \"Arable\": 21.09, \"Crops\": 4.42, \"Other\": 74.49, \"Climate\": 3.0, \"Birthrate\": 15.11, \"Deathrate\": 5.22, \"Agriculture\": 0.23199999999999998, \"Industry\": 0.188, \"Service\": 0.579, \"country code\": 8}, {\"Country\": \"Bangladesh\", \"Region_x\": \"South Asia\", \"Rank\": 101, \"HappinessScore\": 4.6080000000000005, \"Life Ladder\": 4.309771061, \"Log GDP per capita\": 8.163092613, \"Social support\": 0.7125527859, \"Healthy life expectancy at birth\": 62.50415421, \"Freedom to make life choices\": 0.8962171673999999, \"Generosity\": 0.017536195, \"Perceptions of corruption\": 0.6350144744, \"Positive affect\": 0.5688270926, \"Negative affect\": 0.2135057598, \"Confidence in national government\": 0.8766464590999999, \"Code\": \"BGD\", \"Region_y\": \"ASIA (EX. NEAR EAST)\", \"Population\": 147365352.0, \"Area\": 144000.0, \"Pop. Density\": 1023.4, \"Coastline\": 0.4, \"Net migration\": -0.71, \"Infant mortality\": 62.6, \"GDP\": 1900.0, \"Literacy\": 43.1, \"Phones\": 7.3, \"Arable\": 62.11, \"Crops\": 3.07, \"Other\": 34.82, \"Climate\": 2.0, \"Birthrate\": 29.8, \"Deathrate\": 8.27, \"Agriculture\": 0.19899999999999998, \"Industry\": 0.198, \"Service\": 0.603, \"country code\": 50}, {\"Country\": \"Namibia\", \"Region_x\": \"Sub-Saharan Africa\", \"Rank\": 102, \"HappinessScore\": 4.574, \"Life Ladder\": 4.441306114, \"Log GDP per capita\": 9.203362465, \"Social support\": 0.8283390403, \"Healthy life expectancy at birth\": 55.49542618, \"Freedom to make life choices\": 0.8104018569, \"Generosity\": -0.20176585019999999, \"Perceptions of corruption\": 0.8313028812000001, \"Positive affect\": 0.7206782103, \"Negative affect\": 0.2772521675, \"Confidence in national government\": 0.7458536029, \"Code\": \"NAM\", \"Region_y\": \"SUB-SAHARAN AFRICA\", \"Population\": 2044147.0, \"Area\": 825418.0, \"Pop. Density\": 2.5, \"Coastline\": 0.19, \"Net migration\": 0.0, \"Infant mortality\": 48.98, \"GDP\": 7200.0, \"Literacy\": 84.0, \"Phones\": 62.6, \"Arable\": 0.99, \"Crops\": 0.0, \"Other\": 99.01, \"Climate\": 1.0, \"Birthrate\": 24.32, \"Deathrate\": 18.86, \"Agriculture\": 0.09699999999999999, \"Industry\": 0.315, \"Service\": 0.588, \"country code\": 516}, {\"Country\": \"Kenya\", \"Region_x\": \"Sub-Saharan Africa\", \"Rank\": 103, \"HappinessScore\": 4.553, \"Life Ladder\": 4.475654125, \"Log GDP per capita\": 8.01025486, \"Social support\": 0.7146043181, \"Healthy life expectancy at birth\": 58.68983841, \"Freedom to make life choices\": 0.8533943892, \"Generosity\": 0.25017926100000004, \"Perceptions of corruption\": 0.8540003895999999, \"Positive affect\": 0.7884522079999999, \"Negative affect\": 0.2302103043, \"Confidence in national government\": 0.6378625631, \"Code\": \"KEN\", \"Region_y\": \"SUB-SAHARAN AFRICA\", \"Population\": 34707817.0, \"Area\": 582650.0, \"Pop. Density\": 59.6, \"Coastline\": 0.09, \"Net migration\": -0.1, \"Infant mortality\": 61.47, \"GDP\": 1000.0, \"Literacy\": 85.1, \"Phones\": 8.1, \"Arable\": 8.08, \"Crops\": 0.98, \"Other\": 90.94, \"Climate\": 1.5, \"Birthrate\": 39.72, \"Deathrate\": 14.02, \"Agriculture\": 0.163, \"Industry\": 0.188, \"Service\": 0.6509999999999999, \"country code\": 404}, {\"Country\": \"Mozambique\", \"Region_x\": \"Sub-Saharan Africa\", \"Rank\": 104, \"HappinessScore\": 4.55, \"Life Ladder\": 4.279863358, \"Log GDP per capita\": 7.0465774539999995, \"Social support\": 0.6784636973999999, \"Healthy life expectancy at birth\": 49.9577446, \"Freedom to make life choices\": 0.8226705194, \"Generosity\": -0.02150259726, \"Perceptions of corruption\": 0.6821089387, \"Positive affect\": 0.648381412, \"Negative affect\": 0.3531765044, \"Confidence in national government\": 0.7592343688, \"Code\": \"MOZ\", \"Region_y\": \"SUB-SAHARAN AFRICA\", \"Population\": 19686505.0, \"Area\": 801590.0, \"Pop. Density\": 24.6, \"Coastline\": 0.31, \"Net migration\": 0.0, \"Infant mortality\": 130.79, \"GDP\": 1200.0, \"Literacy\": 47.8, \"Phones\": 3.5, \"Arable\": 5.1, \"Crops\": 0.3, \"Other\": 94.6, \"Climate\": 2.0, \"Birthrate\": 35.18, \"Deathrate\": 21.35, \"Agriculture\": 0.262, \"Industry\": 0.348, \"Service\": 0.39, \"country code\": 508}, {\"Country\": \"Myanmar\", \"Region_x\": \"Southeast Asia\", \"Rank\": 105, \"HappinessScore\": 4.545, \"Life Ladder\": 4.1543416980000005, \"Log GDP per capita\": 8.634504318, \"Social support\": 0.7951838374, \"Healthy life expectancy at birth\": 57.64122009, \"Freedom to make life choices\": 0.8860118389, \"Generosity\": 0.62870574, \"Perceptions of corruption\": 0.6188215017, \"Positive affect\": 0.74564749, \"Negative affect\": 0.2822855413, \"Confidence in national government\": 0.8241765499, \"Code\": \"MMR\", \"Region_y\": \"ASIA (EX. NEAR EAST)\", \"Population\": 47382633.0, \"Area\": 678500.0, \"Pop. Density\": 69.8, \"Coastline\": 0.28, \"Net migration\": -1.8, \"Infant mortality\": 67.24, \"GDP\": 1800.0, \"Literacy\": 85.3, \"Phones\": 10.1, \"Arable\": 15.19, \"Crops\": 0.97, \"Other\": 83.84, \"Climate\": 2.0, \"Birthrate\": 17.91, \"Deathrate\": 9.83, \"Agriculture\": 0.564, \"Industry\": 0.08199999999999999, \"Service\": 0.353, \"country code\": 104}, {\"Country\": \"Senegal\", \"Region_x\": \"Sub-Saharan Africa\", \"Rank\": 106, \"HappinessScore\": 4.535, \"Life Ladder\": 4.683024883, \"Log GDP per capita\": 7.811985493, \"Social support\": 0.7437593341, \"Healthy life expectancy at birth\": 57.98087692, \"Freedom to make life choices\": 0.6869370341, \"Generosity\": -0.02906609885, \"Perceptions of corruption\": 0.8252418637000001, \"Positive affect\": 0.7457320690000001, \"Negative affect\": 0.290836066, \"Confidence in national government\": 0.6107227802, \"Code\": \"SEN\", \"Region_y\": \"SUB-SAHARAN AFRICA\", \"Population\": 11987121.0, \"Area\": 196190.0, \"Pop. Density\": 61.1, \"Coastline\": 0.27, \"Net migration\": 0.2, \"Infant mortality\": 55.51, \"GDP\": 1600.0, \"Literacy\": 40.2, \"Phones\": 22.2, \"Arable\": 12.78, \"Crops\": 0.21, \"Other\": 87.01, \"Climate\": 2.0, \"Birthrate\": 32.78, \"Deathrate\": 9.42, \"Agriculture\": 0.172, \"Industry\": 0.209, \"Service\": 0.619, \"country code\": 686}, {\"Country\": \"Zambia\", \"Region_x\": \"Sub-Saharan Africa\", \"Rank\": 107, \"HappinessScore\": 4.513999999999999, \"Life Ladder\": 3.932777405, \"Log GDP per capita\": 8.211669922, \"Social support\": 0.7437539101, \"Healthy life expectancy at birth\": 53.80378342, \"Freedom to make life choices\": 0.8231685758, \"Generosity\": 0.129821524, \"Perceptions of corruption\": 0.7395406365, \"Positive affect\": 0.6846233009999999, \"Negative affect\": 0.3871888816, \"Confidence in national government\": 0.7170040606999999, \"Code\": \"ZMB\", \"Region_y\": \"SUB-SAHARAN AFRICA\", \"Population\": 11502010.0, \"Area\": 752614.0, \"Pop. Density\": 15.3, \"Coastline\": 0.0, \"Net migration\": 0.0, \"Infant mortality\": 88.29, \"GDP\": 800.0, \"Literacy\": 80.6, \"Phones\": 8.2, \"Arable\": 7.08, \"Crops\": 0.03, \"Other\": 92.9, \"Climate\": 2.0, \"Birthrate\": 41.0, \"Deathrate\": 19.93, \"Agriculture\": 0.22, \"Industry\": 0.29, \"Service\": 0.489, \"country code\": 894}, {\"Country\": \"Iraq\", \"Region_x\": \"Middle East and North Africa\", \"Rank\": 108, \"HappinessScore\": 4.497, \"Life Ladder\": 4.462399006, \"Log GDP per capita\": 9.622719765, \"Social support\": 0.6951093674, \"Healthy life expectancy at birth\": 61.04584503, \"Freedom to make life choices\": 0.6277220249000001, \"Generosity\": -0.03842903301, \"Perceptions of corruption\": 0.7571088076000001, \"Positive affect\": 0.5052885413, \"Negative affect\": 0.5905387402000001, \"Confidence in national government\": 0.4240507782, \"Code\": \"IRQ\", \"Region_y\": \"NEAR EAST\", \"Population\": 26783383.0, \"Area\": 437072.0, \"Pop. Density\": 61.3, \"Coastline\": 0.01, \"Net migration\": 0.0, \"Infant mortality\": 50.25, \"GDP\": 1500.0, \"Literacy\": 40.4, \"Phones\": 38.6, \"Arable\": 13.15, \"Crops\": 0.78, \"Other\": 86.07, \"Climate\": 1.0, \"Birthrate\": 31.98, \"Deathrate\": 5.37, \"Agriculture\": 0.073, \"Industry\": 0.6659999999999999, \"Service\": 0.261, \"country code\": 368}, {\"Country\": \"Gabon\", \"Region_x\": \"Sub-Saharan Africa\", \"Rank\": 109, \"HappinessScore\": 4.465, \"Life Ladder\": 4.782382965, \"Log GDP per capita\": 9.715631485, \"Social support\": 0.8069411516, \"Healthy life expectancy at birth\": 57.12616729999999, \"Freedom to make life choices\": 0.6523595452000001, \"Generosity\": -0.2508322001, \"Perceptions of corruption\": 0.8683055043000001, \"Positive affect\": 0.6340471506, \"Negative affect\": 0.4461242855, \"Confidence in national government\": 0.2869892418, \"Code\": \"GAB\", \"Region_y\": \"SUB-SAHARAN AFRICA\", \"Population\": 1424906.0, \"Area\": 267667.0, \"Pop. Density\": 5.3, \"Coastline\": 0.33, \"Net migration\": 0.0, \"Infant mortality\": 53.64, \"GDP\": 5500.0, \"Literacy\": 63.2, \"Phones\": 27.4, \"Arable\": 1.26, \"Crops\": 0.66, \"Other\": 98.08, \"Climate\": 2.0, \"Birthrate\": 36.16, \"Deathrate\": 12.25, \"Agriculture\": 0.061, \"Industry\": 0.5920000000000001, \"Service\": 0.348, \"country code\": 266}, {\"Country\": \"Ethiopia\", \"Region_x\": \"Sub-Saharan Africa\", \"Rank\": 110, \"HappinessScore\": 4.46, \"Life Ladder\": 4.180315495, \"Log GDP per capita\": 7.43928194, \"Social support\": 0.7335397601000001, \"Healthy life expectancy at birth\": 56.72826767, \"Freedom to make life choices\": 0.7171012162999999, \"Generosity\": 0.011871224270000001, \"Perceptions of corruption\": 0.7568989396, \"Positive affect\": 0.6085147858, \"Negative affect\": 0.304436177, \"Confidence in national government\": 0.7683542967, \"Code\": \"ETH\", \"Region_y\": \"SUB-SAHARAN AFRICA\", \"Population\": 74777981.0, \"Area\": 1127127.0, \"Pop. Density\": 66.3, \"Coastline\": 0.0, \"Net migration\": 0.0, \"Infant mortality\": 95.32, \"GDP\": 700.0, \"Literacy\": 42.7, \"Phones\": 8.2, \"Arable\": 10.71, \"Crops\": 0.75, \"Other\": 88.54, \"Climate\": 2.0, \"Birthrate\": 37.98, \"Deathrate\": 14.86, \"Agriculture\": 0.475, \"Industry\": 0.099, \"Service\": 0.426, \"country code\": 231}, {\"Country\": \"Sri Lanka\", \"Region_x\": \"South Asia\", \"Rank\": 111, \"HappinessScore\": 4.44, \"Life Ladder\": 4.330945492, \"Log GDP per capita\": 9.377954483, \"Social support\": 0.8227705956, \"Healthy life expectancy at birth\": 65.29253387, \"Freedom to make life choices\": 0.8270773887999999, \"Generosity\": 0.0845772326, \"Perceptions of corruption\": 0.8442100285999999, \"Positive affect\": 0.7949516177, \"Negative affect\": 0.2697275281, \"Confidence in national government\": 0.5175899267, \"Code\": \"LKA\", \"Region_y\": \"ASIA (EX. NEAR EAST)\", \"Population\": 20222240.0, \"Area\": 65610.0, \"Pop. Density\": 308.2, \"Coastline\": 2.04, \"Net migration\": -1.31, \"Infant mortality\": 14.35, \"GDP\": 3700.0, \"Literacy\": 92.3, \"Phones\": 61.5, \"Arable\": 13.86, \"Crops\": 15.7, \"Other\": 70.44, \"Climate\": 2.0, \"Birthrate\": 15.51, \"Deathrate\": 6.52, \"Agriculture\": 0.17800000000000002, \"Industry\": 0.276, \"Service\": 0.545, \"country code\": 144}, {\"Country\": \"Armenia\", \"Region_x\": \"Commonwealth of Independent States\", \"Rank\": 112, \"HappinessScore\": 4.376, \"Life Ladder\": 4.287736416, \"Log GDP per capita\": 9.034710883999999, \"Social support\": 0.6979249120000001, \"Healthy life expectancy at birth\": 65.12568665, \"Freedom to make life choices\": 0.613697052, \"Generosity\": -0.132166177, \"Perceptions of corruption\": 0.8646833301000001, \"Positive affect\": 0.6250138283, \"Negative affect\": 0.43714874979999996, \"Confidence in national government\": 0.24690099059999998, \"Code\": \"ARM\", \"Region_y\": \"C.W. OF IND. STATES\", \"Population\": 2976372.0, \"Area\": 29800.0, \"Pop. Density\": 99.9, \"Coastline\": 0.0, \"Net migration\": -6.47, \"Infant mortality\": 23.28, \"GDP\": 3500.0, \"Literacy\": 98.6, \"Phones\": 195.7, \"Arable\": 17.55, \"Crops\": 2.3, \"Other\": 80.15, \"Climate\": 4.0, \"Birthrate\": 12.07, \"Deathrate\": 8.23, \"Agriculture\": 0.239, \"Industry\": 0.34299999999999997, \"Service\": 0.418, \"country code\": 51}, {\"Country\": \"India\", \"Region_x\": \"South Asia\", \"Rank\": 113, \"HappinessScore\": 4.315, \"Life Ladder\": 4.046111107, \"Log GDP per capita\": 8.768456459, \"Social support\": 0.6067674756, \"Healthy life expectancy at birth\": 59.50262833, \"Freedom to make life choices\": 0.8858504295, \"Generosity\": -0.05450280011, \"Perceptions of corruption\": 0.7808027864, \"Positive affect\": 0.6820909976999999, \"Negative affect\": 0.3179367781, \"Confidence in national government\": 0.8392783999, \"Code\": \"IND\", \"Region_y\": \"ASIA (EX. NEAR EAST)\", \"Population\": 1095351995.0, \"Area\": 3287590.0, \"Pop. Density\": 333.2, \"Coastline\": 0.21, \"Net migration\": -0.07, \"Infant mortality\": 56.29, \"GDP\": 2900.0, \"Literacy\": 59.5, \"Phones\": 45.4, \"Arable\": 54.4, \"Crops\": 2.74, \"Other\": 42.86, \"Climate\": 2.5, \"Birthrate\": 22.01, \"Deathrate\": 8.18, \"Agriculture\": 0.18600000000000003, \"Industry\": 0.276, \"Service\": 0.5379999999999999, \"country code\": 356}, {\"Country\": \"Mauritania\", \"Region_x\": \"Sub-Saharan Africa\", \"Rank\": 114, \"HappinessScore\": 4.292, \"Life Ladder\": 4.6781597139999995, \"Log GDP per capita\": 8.187707901, \"Social support\": 0.7792252302, \"Healthy life expectancy at birth\": 53.33533859, \"Freedom to make life choices\": 0.5274468064, \"Generosity\": -0.134765625, \"Perceptions of corruption\": 0.7773140668999999, \"Positive affect\": 0.6371070743, \"Negative affect\": 0.2723219395, \"Confidence in national government\": 0.2921097279, \"Code\": \"MRT\", \"Region_y\": \"SUB-SAHARAN AFRICA\", \"Population\": 3177388.0, \"Area\": 1030700.0, \"Pop. Density\": 3.1, \"Coastline\": 0.07, \"Net migration\": 0.0, \"Infant mortality\": 70.89, \"GDP\": 1800.0, \"Literacy\": 41.7, \"Phones\": 12.9, \"Arable\": 0.48, \"Crops\": 0.01, \"Other\": 99.51, \"Climate\": 1.0, \"Birthrate\": 40.99, \"Deathrate\": 12.16, \"Agriculture\": 0.25, \"Industry\": 0.29, \"Service\": 0.46, \"country code\": 478}, {\"Country\": \"Congo (Brazzaville)\", \"Region_x\": \"Sub-Saharan Africa\", \"Rank\": 115, \"HappinessScore\": 4.291, \"Life Ladder\": 4.883991241, \"Log GDP per capita\": 8.559967995, \"Social support\": 0.6554405093, \"Healthy life expectancy at birth\": 55.28945923, \"Freedom to make life choices\": 0.7777834534999999, \"Generosity\": -0.1687489748, \"Perceptions of corruption\": 0.7627831101000001, \"Positive affect\": 0.5989516377, \"Negative affect\": 0.38164055350000003, \"Confidence in national government\": 0.4698265493, \"Code\": \"COG\", \"Region_y\": \"SUB-SAHARAN AFRICA\", \"Population\": 3702314.0, \"Area\": 342000.0, \"Pop. Density\": 10.8, \"Coastline\": 0.05, \"Net migration\": -0.17, \"Infant mortality\": 93.86, \"GDP\": 700.0, \"Literacy\": 83.8, \"Phones\": 3.7, \"Arable\": 0.51, \"Crops\": 0.13, \"Other\": 99.36, \"Climate\": 2.0, \"Birthrate\": 42.57, \"Deathrate\": 12.93, \"Agriculture\": 0.062, \"Industry\": 0.57, \"Service\": 0.369, \"country code\": 178}, {\"Country\": \"Georgia\", \"Region_x\": \"Commonwealth of Independent States\", \"Rank\": 116, \"HappinessScore\": 4.2860000000000005, \"Life Ladder\": 4.45077467, \"Log GDP per capita\": 9.1690979, \"Social support\": 0.5904951692, \"Healthy life expectancy at birth\": 64.34745026, \"Freedom to make life choices\": 0.8209087849, \"Generosity\": -0.23142260309999999, \"Perceptions of corruption\": 0.5896319747, \"Positive affect\": 0.5811277032, \"Negative affect\": 0.2096396089, \"Confidence in national government\": 0.2963962257, \"Code\": \"GEO\", \"Region_y\": \"C.W. OF IND. STATES\", \"Population\": 4661473.0, \"Area\": 69700.0, \"Pop. Density\": 66.9, \"Coastline\": 0.44, \"Net migration\": -4.7, \"Infant mortality\": 18.59, \"GDP\": 2500.0, \"Literacy\": 99.0, \"Phones\": 146.6, \"Arable\": 11.44, \"Crops\": 3.86, \"Other\": 84.7, \"Climate\": 3.0, \"Birthrate\": 10.41, \"Deathrate\": 9.23, \"Agriculture\": 0.172, \"Industry\": 0.275, \"Service\": 0.5529999999999999, \"country code\": 268}, {\"Country\": \"Congo (Kinshasa)\", \"Region_x\": \"Sub-Saharan Africa\", \"Rank\": 117, \"HappinessScore\": 4.28, \"Life Ladder\": 4.311033248999999, \"Log GDP per capita\": 6.625340939, \"Social support\": 0.6696884036, \"Healthy life expectancy at birth\": 50.78821945, \"Freedom to make life choices\": 0.7042395473, \"Generosity\": 0.09579253942, \"Perceptions of corruption\": 0.8091818690000001, \"Positive affect\": 0.5505259037, \"Negative affect\": 0.4042620659, \"Confidence in national government\": 0.47841230030000004, \"Code\": \"COD\", \"Region_y\": \"SUB-SAHARAN AFRICA\", \"Population\": 62660551.0, \"Area\": 2345410.0, \"Pop. Density\": 26.7, \"Coastline\": 0.0, \"Net migration\": 0.0, \"Infant mortality\": 94.69, \"GDP\": 700.0, \"Literacy\": 65.5, \"Phones\": 0.2, \"Arable\": 2.96, \"Crops\": 0.52, \"Other\": 96.52, \"Climate\": 2.0, \"Birthrate\": 43.69, \"Deathrate\": 13.27, \"Agriculture\": 0.55, \"Industry\": 0.11, \"Service\": 0.34, \"country code\": 180}, {\"Country\": \"Mali\", \"Region_x\": \"Sub-Saharan Africa\", \"Rank\": 118, \"HappinessScore\": 4.19, \"Life Ladder\": 4.741850376, \"Log GDP per capita\": 7.608559132000001, \"Social support\": 0.7413594126999999, \"Healthy life expectancy at birth\": 49.17869949, \"Freedom to make life choices\": 0.7532133459999999, \"Generosity\": -0.06454728543999999, \"Perceptions of corruption\": 0.8626551628, \"Positive affect\": 0.7418357729999999, \"Negative affect\": 0.39278414850000004, \"Confidence in national government\": 0.5048201084, \"Code\": \"MLI\", \"Region_y\": \"SUB-SAHARAN AFRICA\", \"Population\": 11716829.0, \"Area\": 1240000.0, \"Pop. Density\": 9.5, \"Coastline\": 0.0, \"Net migration\": -0.33, \"Infant mortality\": 116.79, \"GDP\": 900.0, \"Literacy\": 46.4, \"Phones\": 6.4, \"Arable\": 3.82, \"Crops\": 0.03, \"Other\": 96.15, \"Climate\": 2.0, \"Birthrate\": 49.82, \"Deathrate\": 16.89, \"Agriculture\": 0.45, \"Industry\": 0.17, \"Service\": 0.38, \"country code\": 466}, {\"Country\": \"Ivory Coast\", \"Region_x\": \"Sub-Saharan Africa\", \"Rank\": 119, \"HappinessScore\": 4.18, \"Life Ladder\": 5.037734985, \"Log GDP per capita\": 8.180943489, \"Social support\": 0.6613753438000001, \"Healthy life expectancy at birth\": 46.98994064, \"Freedom to make life choices\": 0.7320979237999999, \"Generosity\": -0.09535384177999999, \"Perceptions of corruption\": 0.7709402442000001, \"Positive affect\": 0.6977354884, \"Negative affect\": 0.35745579, \"Confidence in national government\": 0.5166543125999999, \"Code\": \"CIV\", \"Region_y\": \"SUB-SAHARAN AFRICA\", \"Population\": 17654843.0, \"Area\": 322460.0, \"Pop. Density\": 54.8, \"Coastline\": 0.16, \"Net migration\": -0.07, \"Infant mortality\": 90.83, \"GDP\": 1400.0, \"Literacy\": 50.9, \"Phones\": 14.6, \"Arable\": 9.75, \"Crops\": 13.84, \"Other\": 76.41, \"Climate\": 2.0, \"Birthrate\": 35.11, \"Deathrate\": 14.84, \"Agriculture\": 0.27899999999999997, \"Industry\": 0.171, \"Service\": 0.55, \"country code\": 384}, {\"Country\": \"Cambodia\", \"Region_x\": \"Southeast Asia\", \"Rank\": 120, \"HappinessScore\": 4.168, \"Life Ladder\": 4.585842133, \"Log GDP per capita\": 8.202580452000001, \"Social support\": 0.7650949359, \"Healthy life expectancy at birth\": 58.63087463, \"Freedom to make life choices\": 0.9637746811, \"Generosity\": 0.08671936392999999, \"Perceptions of corruption\": 0.8210229278, \"Positive affect\": 0.7986166477, \"Negative affect\": 0.4082838297, \"Confidence in national government\": 0.7524424791, \"Code\": \"KHM\", \"Region_y\": \"ASIA (EX. NEAR EAST)\", \"Population\": 13881427.0, \"Area\": 181040.0, \"Pop. Density\": 76.7, \"Coastline\": 0.24, \"Net migration\": 0.0, \"Infant mortality\": 71.48, \"GDP\": 1900.0, \"Literacy\": 69.4, \"Phones\": 2.6, \"Arable\": 20.96, \"Crops\": 0.61, \"Other\": 78.43, \"Climate\": 2.0, \"Birthrate\": 26.9, \"Deathrate\": 9.06, \"Agriculture\": 0.35, \"Industry\": 0.3, \"Service\": 0.35, \"country code\": 116}, {\"Country\": \"Ghana\", \"Region_x\": \"Sub-Saharan Africa\", \"Rank\": 121, \"HappinessScore\": 4.12, \"Life Ladder\": 5.481310843999999, \"Log GDP per capita\": 8.326971054, \"Social support\": 0.669111073, \"Healthy life expectancy at birth\": 54.865890500000006, \"Freedom to make life choices\": 0.7830463648, \"Generosity\": 0.08499047905, \"Perceptions of corruption\": 0.8386099935, \"Positive affect\": 0.7025117278, \"Negative affect\": 0.2475189418, \"Confidence in national government\": 0.6702885628, \"Code\": \"GHA\", \"Region_y\": \"SUB-SAHARAN AFRICA\", \"Population\": 22409572.0, \"Area\": 239460.0, \"Pop. Density\": 93.6, \"Coastline\": 0.23, \"Net migration\": -0.64, \"Infant mortality\": 51.43, \"GDP\": 2200.0, \"Literacy\": 74.8, \"Phones\": 14.4, \"Arable\": 16.26, \"Crops\": 9.67, \"Other\": 74.07, \"Climate\": 2.0, \"Birthrate\": 30.52, \"Deathrate\": 9.72, \"Agriculture\": 0.366, \"Industry\": 0.24600000000000002, \"Service\": 0.387, \"country code\": 288}, {\"Country\": \"Ukraine\", \"Region_x\": \"Commonwealth of Independent States\", \"Rank\": 122, \"HappinessScore\": 4.096, \"Life Ladder\": 4.311067104, \"Log GDP per capita\": 8.967859268, \"Social support\": 0.8583248854000001, \"Healthy life expectancy at birth\": 63.17335129, \"Freedom to make life choices\": 0.5988755226, \"Generosity\": 0.0161250066, \"Perceptions of corruption\": 0.9367640018000001, \"Positive affect\": 0.5971121788, \"Negative affect\": 0.2347638309, \"Confidence in national government\": 0.1109365299, \"Code\": \"UKR\", \"Region_y\": \"C.W. OF IND. STATES\", \"Population\": 46710816.0, \"Area\": 603700.0, \"Pop. Density\": 77.4, \"Coastline\": 0.46, \"Net migration\": -0.39, \"Infant mortality\": 20.34, \"GDP\": 5400.0, \"Literacy\": 99.7, \"Phones\": 259.9, \"Arable\": 56.21, \"Crops\": 1.61, \"Other\": 42.18, \"Climate\": 3.0, \"Birthrate\": 8.82, \"Deathrate\": 14.39, \"Agriculture\": 0.187, \"Industry\": 0.452, \"Service\": 0.361, \"country code\": 804}, {\"Country\": \"Uganda\", \"Region_x\": \"Sub-Saharan Africa\", \"Rank\": 123, \"HappinessScore\": 4.081, \"Life Ladder\": 4.000516891, \"Log GDP per capita\": 7.442951202000001, \"Social support\": 0.7399561404999999, \"Healthy life expectancy at birth\": 51.76347733, \"Freedom to make life choices\": 0.7723441123999999, \"Generosity\": 0.07171998173, \"Perceptions of corruption\": 0.81577003, \"Positive affect\": 0.7033756375, \"Negative affect\": 0.4000257254, \"Confidence in national government\": 0.6551091075, \"Code\": \"UGA\", \"Region_y\": \"SUB-SAHARAN AFRICA\", \"Population\": 28195754.0, \"Area\": 236040.0, \"Pop. Density\": 119.5, \"Coastline\": 0.0, \"Net migration\": 0.0, \"Infant mortality\": 67.83, \"GDP\": 1400.0, \"Literacy\": 69.9, \"Phones\": 3.6, \"Arable\": 25.88, \"Crops\": 10.65, \"Other\": 63.47, \"Climate\": 2.0, \"Birthrate\": 47.35, \"Deathrate\": 12.24, \"Agriculture\": 0.311, \"Industry\": 0.222, \"Service\": 0.469, \"country code\": 800}, {\"Country\": \"Burkina Faso\", \"Region_x\": \"Sub-Saharan Africa\", \"Rank\": 124, \"HappinessScore\": 4.032, \"Life Ladder\": 4.646891117, \"Log GDP per capita\": 7.4345312120000004, \"Social support\": 0.7847613692000001, \"Healthy life expectancy at birth\": 52.3994751, \"Freedom to make life choices\": 0.6137747169, \"Generosity\": -0.05128677933999999, \"Perceptions of corruption\": 0.7274513245, \"Positive affect\": 0.5851724744, \"Negative affect\": 0.353821069, \"Confidence in national government\": 0.5406561494, \"Code\": \"BFA\", \"Region_y\": \"SUB-SAHARAN AFRICA\", \"Population\": 13902972.0, \"Area\": 274200.0, \"Pop. Density\": 50.7, \"Coastline\": 0.0, \"Net migration\": 0.0, \"Infant mortality\": 97.57, \"GDP\": 1100.0, \"Literacy\": 26.6, \"Phones\": 7.0, \"Arable\": 14.43, \"Crops\": 0.19, \"Other\": 85.38, \"Climate\": 2.0, \"Birthrate\": 45.62, \"Deathrate\": 15.6, \"Agriculture\": 0.322, \"Industry\": 0.196, \"Service\": 0.48200000000000004, \"country code\": 854}, {\"Country\": \"Niger\", \"Region_x\": \"Sub-Saharan Africa\", \"Rank\": 125, \"HappinessScore\": 4.0280000000000005, \"Life Ladder\": 4.615673542, \"Log GDP per capita\": 6.831231594, \"Social support\": 0.5821095705, \"Healthy life expectancy at birth\": 51.32594299, \"Freedom to make life choices\": 0.68355757, \"Generosity\": -0.01223627105, \"Perceptions of corruption\": 0.7776600122, \"Positive affect\": 0.7311614156, \"Negative affect\": 0.4265223742, \"Confidence in national government\": 0.6011172533, \"Code\": \"NER\", \"Region_y\": \"SUB-SAHARAN AFRICA\", \"Population\": 12525094.0, \"Area\": 1267000.0, \"Pop. Density\": 9.9, \"Coastline\": 0.0, \"Net migration\": -0.67, \"Infant mortality\": 121.69, \"GDP\": 800.0, \"Literacy\": 17.6, \"Phones\": 1.9, \"Arable\": 3.54, \"Crops\": 0.01, \"Other\": 96.45, \"Climate\": 1.0, \"Birthrate\": 50.73, \"Deathrate\": 20.91, \"Agriculture\": 0.39, \"Industry\": 0.17, \"Service\": 0.44, \"country code\": 562}, {\"Country\": \"Malawi\", \"Region_x\": \"Sub-Saharan Africa\", \"Rank\": 126, \"HappinessScore\": 3.97, \"Life Ladder\": 3.416862965, \"Log GDP per capita\": 7.00270319, \"Social support\": 0.5554227233, \"Healthy life expectancy at birth\": 54.23464203, \"Freedom to make life choices\": 0.8479207754000001, \"Generosity\": 0.021560057999999997, \"Perceptions of corruption\": 0.7346366048, \"Positive affect\": 0.6086665392, \"Negative affect\": 0.3120883405, \"Confidence in national government\": 0.6203325391, \"Code\": \"MWI\", \"Region_y\": \"SUB-SAHARAN AFRICA\", \"Population\": 13013926.0, \"Area\": 118480.0, \"Pop. Density\": 109.8, \"Coastline\": 0.0, \"Net migration\": 0.0, \"Infant mortality\": 103.32, \"GDP\": 600.0, \"Literacy\": 62.7, \"Phones\": 7.9, \"Arable\": 23.38, \"Crops\": 1.49, \"Other\": 75.13, \"Climate\": 2.0, \"Birthrate\": 43.13, \"Deathrate\": 19.33, \"Agriculture\": 0.342, \"Industry\": 0.158, \"Service\": 0.499, \"country code\": 454}, {\"Country\": \"Chad\", \"Region_x\": \"Sub-Saharan Africa\", \"Rank\": 127, \"HappinessScore\": 3.9360000000000004, \"Life Ladder\": 4.558937073, \"Log GDP per capita\": 7.490785122, \"Social support\": 0.6606155634, \"Healthy life expectancy at birth\": 45.98406219, \"Freedom to make life choices\": 0.6148496866, \"Generosity\": -0.0029290572269999996, \"Perceptions of corruption\": 0.7923899293000001, \"Positive affect\": 0.6275031567, \"Negative affect\": 0.5382454395, \"Confidence in national government\": 0.473544389, \"Code\": \"TCD\", \"Region_y\": \"SUB-SAHARAN AFRICA\", \"Population\": 9944201.0, \"Area\": 1284000.0, \"Pop. Density\": 7.7, \"Coastline\": 0.0, \"Net migration\": -0.11, \"Infant mortality\": 93.82, \"GDP\": 1200.0, \"Literacy\": 47.5, \"Phones\": 1.3, \"Arable\": 2.86, \"Crops\": 0.02, \"Other\": 97.12, \"Climate\": 2.0, \"Birthrate\": 45.73, \"Deathrate\": 16.38, \"Agriculture\": 0.335, \"Industry\": 0.259, \"Service\": 0.406, \"country code\": 148}, {\"Country\": \"Zimbabwe\", \"Region_x\": \"Sub-Saharan Africa\", \"Rank\": 128, \"HappinessScore\": 3.875, \"Life Ladder\": 3.63830018, \"Log GDP per capita\": 7.538187027, \"Social support\": 0.7541470528, \"Healthy life expectancy at birth\": 52.67448425, \"Freedom to make life choices\": 0.7528260945999999, \"Generosity\": -0.06600468606000001, \"Perceptions of corruption\": 0.7512080073, \"Positive affect\": 0.8064283729, \"Negative affect\": 0.2240513414, \"Confidence in national government\": 0.6826466918, \"Code\": \"ZWE\", \"Region_y\": \"SUB-SAHARAN AFRICA\", \"Population\": 12236805.0, \"Area\": 390580.0, \"Pop. Density\": 31.3, \"Coastline\": 0.0, \"Net migration\": 0.0, \"Infant mortality\": 67.69, \"GDP\": 1900.0, \"Literacy\": 90.7, \"Phones\": 26.8, \"Arable\": 8.32, \"Crops\": 0.34, \"Other\": 91.34, \"Climate\": 2.0, \"Birthrate\": 28.01, \"Deathrate\": 21.84, \"Agriculture\": 0.179, \"Industry\": 0.243, \"Service\": 0.579, \"country code\": 716}, {\"Country\": \"Afghanistan\", \"Region_x\": \"South Asia\", \"Rank\": 129, \"HappinessScore\": 3.7939999999999996, \"Life Ladder\": 2.66171813, \"Log GDP per capita\": 7.460143566, \"Social support\": 0.4908800721, \"Healthy life expectancy at birth\": 52.33952713, \"Freedom to make life choices\": 0.427010864, \"Generosity\": -0.10634034869999999, \"Perceptions of corruption\": 0.9543925524, \"Positive affect\": 0.49634855990000004, \"Negative affect\": 0.3713261783, \"Confidence in national government\": 0.26117852329999997, \"Code\": \"AFG\", \"Region_y\": \"ASIA (EX. NEAR EAST)\", \"Population\": 31056997.0, \"Area\": 647500.0, \"Pop. Density\": 48.0, \"Coastline\": 0.0, \"Net migration\": 23.06, \"Infant mortality\": 163.07, \"GDP\": 700.0, \"Literacy\": 36.0, \"Phones\": 3.2, \"Arable\": 12.13, \"Crops\": 0.22, \"Other\": 87.65, \"Climate\": 1.0, \"Birthrate\": 46.6, \"Deathrate\": 20.34, \"Agriculture\": 0.38, \"Industry\": 0.24, \"Service\": 0.38, \"country code\": 4}, {\"Country\": \"Botswana\", \"Region_x\": \"Sub-Saharan Africa\", \"Rank\": 130, \"HappinessScore\": 3.766, \"Life Ladder\": 3.5048811439999996, \"Log GDP per capita\": 9.6836586, \"Social support\": 0.7682586312, \"Healthy life expectancy at birth\": 58.01321411, \"Freedom to make life choices\": 0.8173080087000001, \"Generosity\": -0.25824928280000004, \"Perceptions of corruption\": 0.7314414978, \"Positive affect\": 0.6563964486, \"Negative affect\": 0.2762525082, \"Confidence in national government\": 0.7708210945, \"Code\": \"BWA\", \"Region_y\": \"SUB-SAHARAN AFRICA\", \"Population\": 1639833.0, \"Area\": 600370.0, \"Pop. Density\": 2.7, \"Coastline\": 0.0, \"Net migration\": 0.0, \"Infant mortality\": 54.58, \"GDP\": 9000.0, \"Literacy\": 79.8, \"Phones\": 80.5, \"Arable\": 0.65, \"Crops\": 0.01, \"Other\": 99.34, \"Climate\": 1.0, \"Birthrate\": 23.08, \"Deathrate\": 29.5, \"Agriculture\": 0.024, \"Industry\": 0.469, \"Service\": 0.507, \"country code\": 72}, {\"Country\": \"Benin\", \"Region_x\": \"Sub-Saharan Africa\", \"Rank\": 131, \"HappinessScore\": 3.657, \"Life Ladder\": 4.853180885, \"Log GDP per capita\": 7.632502556, \"Social support\": 0.43587899210000003, \"Healthy life expectancy at birth\": 51.79475021, \"Freedom to make life choices\": 0.72680825, \"Generosity\": -0.040269434449999995, \"Perceptions of corruption\": 0.7672346234, \"Positive affect\": 0.6147223115, \"Negative affect\": 0.45792034270000004, \"Confidence in national government\": 0.6150892973, \"Code\": \"BEN\", \"Region_y\": \"SUB-SAHARAN AFRICA\", \"Population\": 7862944.0, \"Area\": 112620.0, \"Pop. Density\": 69.8, \"Coastline\": 0.11, \"Net migration\": 0.0, \"Infant mortality\": 85.0, \"GDP\": 1100.0, \"Literacy\": 40.9, \"Phones\": 9.7, \"Arable\": 18.08, \"Crops\": 2.4, \"Other\": 79.52, \"Climate\": 2.0, \"Birthrate\": 38.85, \"Deathrate\": 12.22, \"Agriculture\": 0.316, \"Industry\": 0.138, \"Service\": 0.546, \"country code\": 204}, {\"Country\": \"Madagascar\", \"Region_x\": \"Sub-Saharan Africa\", \"Rank\": 132, \"HappinessScore\": 3.6439999999999997, \"Life Ladder\": 4.078620433999999, \"Log GDP per capita\": 7.249253273, \"Social support\": 0.626331985, \"Healthy life expectancy at birth\": 56.99448395, \"Freedom to make life choices\": 0.5703479052, \"Generosity\": -0.02550791204, \"Perceptions of corruption\": 0.8472607731999999, \"Positive affect\": 0.7516980767, \"Negative affect\": 0.37483802439999997, \"Confidence in national government\": 0.541916132, \"Code\": \"MDG\", \"Region_y\": \"SUB-SAHARAN AFRICA\", \"Population\": 18595469.0, \"Area\": 587040.0, \"Pop. Density\": 31.7, \"Coastline\": 0.82, \"Net migration\": 0.0, \"Infant mortality\": 76.83, \"GDP\": 800.0, \"Literacy\": 68.9, \"Phones\": 3.6, \"Arable\": 5.07, \"Crops\": 1.03, \"Other\": 93.91, \"Climate\": 2.0, \"Birthrate\": 41.41, \"Deathrate\": 11.11, \"Agriculture\": 0.276, \"Industry\": 0.165, \"Service\": 0.5589999999999999, \"country code\": 450}, {\"Country\": \"Haiti\", \"Region_x\": \"Latin America and Caribbean\", \"Rank\": 133, \"HappinessScore\": 3.603, \"Life Ladder\": 3.823865652, \"Log GDP per capita\": 7.403176308, \"Social support\": 0.6469849944, \"Healthy life expectancy at birth\": 53.34700775, \"Freedom to make life choices\": 0.4844291508, \"Generosity\": 0.3845103085, \"Perceptions of corruption\": 0.6471915841, \"Positive affect\": 0.5733667015999999, \"Negative affect\": 0.32169276480000003, \"Confidence in national government\": 0.435076952, \"Code\": \"HTI\", \"Region_y\": \"LATIN AMER. & CARIB\", \"Population\": 8308504.0, \"Area\": 27750.0, \"Pop. Density\": 299.4, \"Coastline\": 6.38, \"Net migration\": -3.4, \"Infant mortality\": 73.45, \"GDP\": 1600.0, \"Literacy\": 52.9, \"Phones\": 16.9, \"Arable\": 28.3, \"Crops\": 11.61, \"Other\": 60.09, \"Climate\": 2.0, \"Birthrate\": 36.44, \"Deathrate\": 12.17, \"Agriculture\": 0.28, \"Industry\": 0.2, \"Service\": 0.52, \"country code\": 332}, {\"Country\": \"Yemen\", \"Region_x\": \"Middle East and North Africa\", \"Rank\": 134, \"HappinessScore\": 3.593, \"Life Ladder\": 3.2535600660000004, \"Log GDP per capita\": null, \"Social support\": 0.7895550131999999, \"Healthy life expectancy at birth\": 54.98103333, \"Freedom to make life choices\": 0.5951907635, \"Generosity\": null, \"Perceptions of corruption\": null, \"Positive affect\": 0.45518189670000003, \"Negative affect\": 0.295063585, \"Confidence in national government\": 0.2477869838, \"Code\": \"YEM\", \"Region_y\": \"NEAR EAST\", \"Population\": 21456188.0, \"Area\": 527970.0, \"Pop. Density\": 40.6, \"Coastline\": 0.36, \"Net migration\": 0.0, \"Infant mortality\": 61.5, \"GDP\": 800.0, \"Literacy\": 50.2, \"Phones\": 37.2, \"Arable\": 2.78, \"Crops\": 0.24, \"Other\": 96.98, \"Climate\": 1.0, \"Birthrate\": 42.89, \"Deathrate\": 8.3, \"Agriculture\": 0.135, \"Industry\": 0.47200000000000003, \"Service\": 0.39299999999999996, \"country code\": 887}, {\"Country\": \"Liberia\", \"Region_x\": \"Sub-Saharan Africa\", \"Rank\": 136, \"HappinessScore\": 3.533, \"Life Ladder\": 4.424490929, \"Log GDP per capita\": 6.629414082, \"Social support\": 0.6848668456, \"Healthy life expectancy at birth\": 52.78684998, \"Freedom to make life choices\": 0.7333899140000001, \"Generosity\": 0.04057675973, \"Perceptions of corruption\": 0.8668063879000001, \"Positive affect\": 0.6679464579, \"Negative affect\": 0.3913305402, \"Confidence in national government\": 0.5549915433, \"Code\": \"LBR\", \"Region_y\": \"SUB-SAHARAN AFRICA\", \"Population\": 3042004.0, \"Area\": 111370.0, \"Pop. Density\": 27.3, \"Coastline\": 0.52, \"Net migration\": 0.0, \"Infant mortality\": 128.87, \"GDP\": 1000.0, \"Literacy\": 57.5, \"Phones\": 2.3, \"Arable\": 3.95, \"Crops\": 2.28, \"Other\": 93.77, \"Climate\": 2.0, \"Birthrate\": 44.77, \"Deathrate\": 23.1, \"Agriculture\": 0.769, \"Industry\": 0.054000000000000006, \"Service\": 0.177, \"country code\": 430}, {\"Country\": \"Guinea\", \"Region_x\": \"Sub-Saharan Africa\", \"Rank\": 137, \"HappinessScore\": 3.5069999999999997, \"Life Ladder\": 4.873722553, \"Log GDP per capita\": 7.527477264, \"Social support\": 0.6340255737, \"Healthy life expectancy at birth\": 51.15181732, \"Freedom to make life choices\": 0.7382128239, \"Generosity\": 0.054307583720000004, \"Perceptions of corruption\": 0.7500262259999999, \"Positive affect\": 0.7044771314, \"Negative affect\": 0.42246088390000003, \"Confidence in national government\": 0.639980793, \"Code\": \"GIN\", \"Region_y\": \"SUB-SAHARAN AFRICA\", \"Population\": 9690222.0, \"Area\": 245857.0, \"Pop. Density\": 39.4, \"Coastline\": 0.13, \"Net migration\": -3.06, \"Infant mortality\": 90.37, \"GDP\": 2100.0, \"Literacy\": 35.9, \"Phones\": 2.7, \"Arable\": 3.63, \"Crops\": 2.58, \"Other\": 93.79, \"Climate\": 2.0, \"Birthrate\": 41.76, \"Deathrate\": 15.48, \"Agriculture\": 0.237, \"Industry\": 0.36200000000000004, \"Service\": 0.401, \"country code\": 324}, {\"Country\": \"Togo\", \"Region_x\": \"Sub-Saharan Africa\", \"Rank\": 138, \"HappinessScore\": 3.495, \"Life Ladder\": 4.360805035, \"Log GDP per capita\": 7.251669884, \"Social support\": 0.5078052282, \"Healthy life expectancy at birth\": 52.25727463, \"Freedom to make life choices\": 0.7166944145999999, \"Generosity\": -0.0377044864, \"Perceptions of corruption\": 0.7255195975, \"Positive affect\": 0.6141889691, \"Negative affect\": 0.42582425479999997, \"Confidence in national government\": 0.4849523604, \"Code\": \"TGO\", \"Region_y\": \"SUB-SAHARAN AFRICA\", \"Population\": 5548702.0, \"Area\": 56785.0, \"Pop. Density\": 97.7, \"Coastline\": 0.1, \"Net migration\": 0.0, \"Infant mortality\": 66.61, \"GDP\": 1500.0, \"Literacy\": 60.9, \"Phones\": 10.6, \"Arable\": 46.15, \"Crops\": 2.21, \"Other\": 51.64, \"Climate\": 2.0, \"Birthrate\": 37.01, \"Deathrate\": 9.83, \"Agriculture\": 0.395, \"Industry\": 0.204, \"Service\": 0.401, \"country code\": 768}, {\"Country\": \"Tanzania\", \"Region_x\": \"Sub-Saharan Africa\", \"Rank\": 139, \"HappinessScore\": 3.3489999999999998, \"Life Ladder\": 3.347121239, \"Log GDP per capita\": 7.896313667, \"Social support\": 0.7050102949, \"Healthy life expectancy at birth\": 56.66548538, \"Freedom to make life choices\": 0.8004955053, \"Generosity\": 0.1065989062, \"Perceptions of corruption\": 0.6536060572, \"Positive affect\": 0.714645505, \"Negative affect\": 0.2553356886, \"Confidence in national government\": 0.9133390187999999, \"Code\": \"TZA\", \"Region_y\": \"SUB-SAHARAN AFRICA\", \"Population\": 37445392.0, \"Area\": 945087.0, \"Pop. Density\": 39.6, \"Coastline\": 0.15, \"Net migration\": -2.06, \"Infant mortality\": 98.54, \"GDP\": 600.0, \"Literacy\": 78.2, \"Phones\": 4.0, \"Arable\": 4.52, \"Crops\": 1.08, \"Other\": 94.4, \"Climate\": null, \"Birthrate\": 37.71, \"Deathrate\": 16.39, \"Agriculture\": 0.43200000000000005, \"Industry\": 0.172, \"Service\": 0.396, \"country code\": 834}, {\"Country\": \"Central African Republic\", \"Region_x\": \"Sub-Saharan Africa\", \"Rank\": 140, \"HappinessScore\": 2.693, \"Life Ladder\": 3.475862026, \"Log GDP per capita\": null, \"Social support\": 0.319589138, \"Healthy life expectancy at birth\": 44.64535141, \"Freedom to make life choices\": 0.645252347, \"Generosity\": null, \"Perceptions of corruption\": 0.8895660043000001, \"Positive affect\": 0.6138651967000001, \"Negative affect\": 0.5993354917, \"Confidence in national government\": 0.6502848864, \"Code\": \"CAF\", \"Region_y\": \"SUB-SAHARAN AFRICA\", \"Population\": 4303356.0, \"Area\": 622984.0, \"Pop. Density\": 6.9, \"Coastline\": 0.0, \"Net migration\": 0.0, \"Infant mortality\": 91.0, \"GDP\": 1100.0, \"Literacy\": 51.0, \"Phones\": 2.3, \"Arable\": 3.1, \"Crops\": 0.14, \"Other\": 96.76, \"Climate\": 2.0, \"Birthrate\": 33.91, \"Deathrate\": 18.65, \"Agriculture\": 0.55, \"Industry\": 0.2, \"Service\": 0.25, \"country code\": 140}]}}, {\"mode\": \"vega-lite\"});\n",
              "</script>"
            ]
          },
          "metadata": {
            "tags": []
          },
          "execution_count": 62
        }
      ]
    },
    {
      "cell_type": "code",
      "metadata": {
        "id": "ibCkLgHj4sml"
      },
      "source": [],
      "execution_count": null,
      "outputs": []
    }
  ]
}