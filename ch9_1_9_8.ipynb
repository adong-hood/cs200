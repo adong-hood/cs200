{
  "nbformat": 4,
  "nbformat_minor": 0,
  "metadata": {
    "kernelspec": {
      "display_name": "Python 3",
      "language": "python",
      "name": "python3"
    },
    "language_info": {
      "codemirror_mode": {
        "name": "ipython",
        "version": 3
      },
      "file_extension": ".py",
      "mimetype": "text/x-python",
      "name": "python",
      "nbconvert_exporter": "python",
      "pygments_lexer": "ipython3",
      "version": "3.7.4"
    },
    "colab": {
      "provenance": [],
      "include_colab_link": true
    }
  },
  "cells": [
    {
      "cell_type": "markdown",
      "metadata": {
        "id": "view-in-github",
        "colab_type": "text"
      },
      "source": [
        "<a href=\"https://colab.research.google.com/github/adong-hood/cs200/blob/main/ch9_1_9_8.ipynb\" target=\"_parent\"><img src=\"https://colab.research.google.com/assets/colab-badge.svg\" alt=\"Open In Colab\"/></a>"
      ]
    },
    {
      "cell_type": "markdown",
      "metadata": {
        "id": "NQuy5xYszzIj"
      },
      "source": [
        "# Exploring Bike Rental Data with SQL"
      ]
    },
    {
      "cell_type": "code",
      "metadata": {
        "id": "-UYAZdOukAai"
      },
      "source": [
        "from google.colab import drive\n",
        "drive.mount('/content/drive')"
      ],
      "execution_count": null,
      "outputs": []
    },
    {
      "cell_type": "markdown",
      "source": [
        "## Resources"
      ],
      "metadata": {
        "id": "0dnzlL0q-9HA"
      }
    },
    {
      "cell_type": "markdown",
      "metadata": {
        "id": "nLSQEtjcv-AK"
      },
      "source": [
        "https://docs.oracle.com/cd/B14099_19/bi.1012/b13915/i_rel_chapter.htm\n",
        "\n",
        "https://www.w3schools.com/sql/sql_join.asp"
      ]
    },
    {
      "cell_type": "markdown",
      "metadata": {
        "id": "v6Lntx2r0I9n"
      },
      "source": [
        "## Getting Started (9.4)"
      ]
    },
    {
      "cell_type": "code",
      "execution_count": null,
      "source": [
        "# load the SQL magic extension\n",
        "# https://github.com/catherinedevlin/ipython-sql\n",
        "#https://github.com/ploomber/jupysql\n",
        "# this extension allows us to connect to DBs and issue SQL command\n",
        "%pip install jupysql\n",
        "%load_ext sql"
      ],
      "outputs": [],
      "metadata": {
        "id": "RSE5sLAmP5hq",
        "collapsed": true
      }
    },
    {
      "cell_type": "code",
      "source": [
        "%pip install jupysql"
      ],
      "metadata": {
        "id": "mG55bl7aQhiA",
        "collapsed": true
      },
      "execution_count": null,
      "outputs": []
    },
    {
      "cell_type": "code",
      "metadata": {
        "id": "9fVpktoMdATy"
      },
      "source": [
        "#Load sql extension.\n",
        "%load_ext sql"
      ],
      "execution_count": null,
      "outputs": []
    },
    {
      "cell_type": "code",
      "metadata": {
        "id": "cvcxeKT6dAT0"
      },
      "source": [
        "# now we can use the magic extension to connect to our SQLite DB\n",
        "# use %sql to write an inline SQL command\n",
        "# use %%sql to write SQL commands in a cell\n",
        "\n",
        "# Connect to bikeshare.db. This is a sqlite database.\n",
        "%sql sqlite:////content/drive/MyDrive/cs200/datasets/bikeshare_11_12.db"
      ],
      "execution_count": null,
      "outputs": []
    },
    {
      "cell_type": "code",
      "metadata": {
        "id": "kj5KU8TQkvBd"
      },
      "source": [
        "# check out tables and their meta information.\n",
        "%%sql\n",
        "select * from sqlite_master;"
      ],
      "execution_count": null,
      "outputs": []
    },
    {
      "cell_type": "code",
      "metadata": {
        "id": "GeCAZs65ncYf"
      },
      "source": [
        "# Display the first 5 rows in the bikeshare_stations table. * means show all pieces.\n",
        "%%sql\n",
        "select * from bikeshare_stations limit 5;"
      ],
      "execution_count": null,
      "outputs": []
    },
    {
      "cell_type": "code",
      "metadata": {
        "id": "eZsV4nM1dAT1"
      },
      "source": [
        "%%sql\n",
        "select *\n",
        "from trip_data\n",
        "limit 5;"
      ],
      "execution_count": null,
      "outputs": []
    },
    {
      "cell_type": "markdown",
      "metadata": {
        "id": "GxjAUHTp0Y2K"
      },
      "source": [
        "## Filtering data (9.5)"
      ]
    },
    {
      "cell_type": "markdown",
      "metadata": {
        "id": "ppRJsCVc1Bc3"
      },
      "source": [
        " ### Example 1. we could want to look only at the bike trips of 60 minutes or more."
      ]
    },
    {
      "cell_type": "code",
      "metadata": {
        "id": "2I9YOJffsidD"
      },
      "source": [
        "%%sql\n",
        "SELECT member_type, start_date, duration\n",
        "FROM   trip_data\n",
        "WHERE  duration >= 3600\n",
        "LIMIT  5\n"
      ],
      "execution_count": null,
      "outputs": []
    },
    {
      "cell_type": "markdown",
      "metadata": {
        "id": "gEFR99TT2o7b"
      },
      "source": [
        "### Example 2: look at only bike trips which are 60 minutes or more and only the subscriber type of Member."
      ]
    },
    {
      "cell_type": "code",
      "metadata": {
        "id": "1t-z5YizsiQo"
      },
      "source": [
        "%%sql\n",
        "SELECT  member_type, start_date, duration\n",
        "FROM   trip_data\n",
        "WHERE  duration >= 3600 AND  member_type = \"Member\"\n",
        "LIMIT 5"
      ],
      "execution_count": null,
      "outputs": []
    },
    {
      "cell_type": "markdown",
      "metadata": {
        "id": "lm9OmLF03nBq"
      },
      "source": [
        "### **9.5.1. Practice Exercises (3 problems)**"
      ]
    },
    {
      "cell_type": "markdown",
      "metadata": {
        "id": "UXiWwhK24RdV"
      },
      "source": [
        "## Sorting (9.6)"
      ]
    },
    {
      "cell_type": "markdown",
      "metadata": {
        "id": "F6NkhGao4rQz"
      },
      "source": [
        "### Example 3. Show the bike trips in the order of the duration in seconds"
      ]
    },
    {
      "cell_type": "code",
      "metadata": {
        "id": "l_gNECon4wgF"
      },
      "source": [
        "%%sql\n",
        "SELECT  member_type, start_date, duration\n",
        "FROM  trip_data\n",
        "ORDER BY  member_type, duration DESC\n",
        "LIMIT  5"
      ],
      "execution_count": null,
      "outputs": []
    },
    {
      "cell_type": "markdown",
      "metadata": {
        "id": "DbAcJ3px5FcL"
      },
      "source": [
        "### Example 4. Display only the bike trips from Member type of Casual in the order of the duration."
      ]
    },
    {
      "cell_type": "code",
      "metadata": {
        "id": "juULGvRZ5QZL"
      },
      "source": [
        "%%sql\n",
        "SELECT member_type, start_date, duration\n",
        "FROM   trip_data\n",
        "WHERE   member_type = \"Casual\"\n",
        "ORDER BY   duration\n",
        "LIMIT 5"
      ],
      "execution_count": null,
      "outputs": []
    },
    {
      "cell_type": "markdown",
      "metadata": {
        "id": "s68cCRTZ46gV"
      },
      "source": [
        "### **9.6.1. Practice Exercises** (3 problems)"
      ]
    },
    {
      "cell_type": "markdown",
      "metadata": {
        "id": "zlKUmEVq5vps"
      },
      "source": [
        "## Aggregation or Group By (9.7)"
      ]
    },
    {
      "cell_type": "markdown",
      "metadata": {
        "id": "QE1oi2VG513q"
      },
      "source": [
        "### Example 5. how many bike trips were taken for each subscriber type, and which subscriber type has the most bike trips."
      ]
    },
    {
      "cell_type": "code",
      "metadata": {
        "id": "RFIEgr8z6FuK"
      },
      "source": [
        "%%sql\n",
        "SELECT   member_type, count(*) as numoftrips\n",
        "FROM   trip_data\n",
        "GROUP BY  member_type\n",
        "order by numoftrips"
      ],
      "execution_count": null,
      "outputs": []
    },
    {
      "cell_type": "markdown",
      "metadata": {
        "id": "x0mZYJxM6X_X"
      },
      "source": [
        "### Example 6. how many bike trips were taken by each subscriber type at each start station?"
      ]
    },
    {
      "cell_type": "code",
      "metadata": {
        "id": "14KfI5C-64tD"
      },
      "source": [
        "%%sql\n",
        "SELECT  member_type, start_station, count(*)\n",
        "FROM  trip_data\n",
        "GROUP BY  member_type, start_station\n",
        "ORDER BY  COUNT(*) DESC\n"
      ],
      "execution_count": null,
      "outputs": []
    },
    {
      "cell_type": "markdown",
      "metadata": {
        "id": "a6LDStbM7ig-"
      },
      "source": [
        "### Example 7. Compute the total number of minutes of all bike trips for each subscriber type."
      ]
    },
    {
      "cell_type": "code",
      "metadata": {
        "id": "OZHGBd6V7wpk"
      },
      "source": [
        "%%sql\n",
        "SELECT  member_type, SUM(duration)\n",
        "FROM  trip_data\n",
        "GROUP BY  member_type\n",
        "LIMIT 5"
      ],
      "execution_count": null,
      "outputs": []
    },
    {
      "cell_type": "markdown",
      "metadata": {
        "id": "JQ6ug2hB8DkO"
      },
      "source": [
        "### 9.7.1. Practice Exercises (4 problems)"
      ]
    },
    {
      "cell_type": "markdown",
      "metadata": {
        "id": "V39dsinG8OTy"
      },
      "source": [
        "## Joining (9.8)"
      ]
    },
    {
      "cell_type": "markdown",
      "metadata": {
        "id": "OZi_kISO8aTK"
      },
      "source": [
        "### Example 8. Find out which open bike station has the highest bike trip counts (so we can ensure there is always plenty of bikes available)."
      ]
    },
    {
      "cell_type": "code",
      "metadata": {
        "id": "3QFmRwYH9Rs6"
      },
      "source": [
        "%%sql\n",
        "SELECT  station_id, name, COUNT(*) AS trip_count\n",
        "FROM  trip_data join bikeshare_stations ON  start_station = station_id\n",
        "WHERE  duration >= 3600  AND status = 'open'\n",
        "GROUP BY  station_id\n",
        "ORDER BY  trip_count DESC\n",
        "LIMIT 1\n"
      ],
      "execution_count": null,
      "outputs": []
    },
    {
      "cell_type": "markdown",
      "metadata": {
        "id": "HKsVzXUE9-UH"
      },
      "source": [
        "### 9.8.1. Practice Exercises (5 problems)"
      ]
    }
  ]
}