{
  "nbformat": 4,
  "nbformat_minor": 0,
  "metadata": {
    "kernelspec": {
      "display_name": "Python 3",
      "language": "python",
      "name": "python3"
    },
    "language_info": {
      "codemirror_mode": {
        "name": "ipython",
        "version": 3
      },
      "file_extension": ".py",
      "mimetype": "text/x-python",
      "name": "python",
      "nbconvert_exporter": "python",
      "pygments_lexer": "ipython3",
      "version": "3.7.4"
    },
    "colab": {
      "provenance": [],
      "include_colab_link": true
    }
  },
  "cells": [
    {
      "cell_type": "markdown",
      "metadata": {
        "id": "view-in-github",
        "colab_type": "text"
      },
      "source": [
        "<a href=\"https://colab.research.google.com/github/adong-hood/cs200/blob/main/EDA_review.ipynb\" target=\"_parent\"><img src=\"https://colab.research.google.com/assets/colab-badge.svg\" alt=\"Open In Colab\"/></a>"
      ]
    },
    {
      "cell_type": "code",
      "metadata": {
        "id": "e4ucq2FEZEOG"
      },
      "source": [
        "from google.colab import drive\n",
        "drive.mount('/content/drive')"
      ],
      "execution_count": null,
      "outputs": []
    },
    {
      "cell_type": "markdown",
      "metadata": {
        "id": "SuqZZ0Niky8_"
      },
      "source": [
        "## Exploratory Data Analysis Review"
      ]
    },
    {
      "cell_type": "markdown",
      "metadata": {
        "id": "pHpbC__nY32P"
      },
      "source": [
        "This is an open-ended activity. Your task is to read Assigned section from Sections 4.2-4.5 of [Chapter 4](https://www.stat.cmu.edu/~hseltman/309/Book/chapter4.pdf) and demonstrate your understanding using world_countries dataset.\n",
        "\n",
        "Example: https://www.simplilearn.com/tutorials/data-analytics-tutorial/exploratory-data-analysis\n",
        "\n",
        "<pre>\n",
        "Step 1. read Section 4.1 and your assigned section (assigned in class)\n",
        "Step 2. Summarize your section\n",
        "Step 3. Demonstrate what you learn using world countries dataset\n",
        "</pre>"
      ]
    },
    {
      "cell_type": "code",
      "source": [],
      "metadata": {
        "id": "DWZqPokiJXlS"
      },
      "execution_count": null,
      "outputs": []
    },
    {
      "cell_type": "code",
      "metadata": {
        "id": "KoJH7RfUY32P"
      },
      "source": [
        "import pandas as pd\n",
        "import altair as alt # you may use matplotlib or seaborn"
      ],
      "execution_count": null,
      "outputs": []
    },
    {
      "cell_type": "code",
      "metadata": {
        "id": "d_5BwipuY32Q"
      },
      "source": [
        "wd = pd.read_csv('http://pluto.hood.edu/~dong/datasets/world_countries.csv')\n",
        "wd.head(3)"
      ],
      "execution_count": null,
      "outputs": []
    },
    {
      "cell_type": "markdown",
      "source": [
        "### Step 1. read Section 4.1 and your assigned section"
      ],
      "metadata": {
        "id": "yHPPqAHJ_Ksm"
      }
    },
    {
      "cell_type": "markdown",
      "source": [
        "Specify which section you read here."
      ],
      "metadata": {
        "id": "1X3SVwDk_mZz"
      }
    },
    {
      "cell_type": "markdown",
      "source": [
        "### Step 2. Summarize your section"
      ],
      "metadata": {
        "id": "Z0wqFU8h_eY2"
      }
    },
    {
      "cell_type": "markdown",
      "metadata": {
        "id": "DGBjZqrJY32Y"
      },
      "source": [
        "Summary of what you learn. Use 100-200 words."
      ]
    },
    {
      "cell_type": "markdown",
      "source": [
        "### Step 3. Demonstrate what you learn using world countries dataset\n",
        "Demo at least one thing you learn and provide data support for your statement."
      ],
      "metadata": {
        "id": "DW2xBLS6_E39"
      }
    },
    {
      "cell_type": "code",
      "metadata": {
        "id": "lMAeLr4UY32Y"
      },
      "source": [],
      "execution_count": null,
      "outputs": []
    }
  ]
}
