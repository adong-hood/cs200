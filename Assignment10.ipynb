{
  "nbformat": 4,
  "nbformat_minor": 0,
  "metadata": {
    "colab": {
      "provenance": [],
      "authorship_tag": "ABX9TyNI8R8SaEa9mnLB4ECYe2lU",
      "include_colab_link": true
    },
    "kernelspec": {
      "name": "python3",
      "display_name": "Python 3"
    },
    "language_info": {
      "name": "python"
    }
  },
  "cells": [
    {
      "cell_type": "markdown",
      "metadata": {
        "id": "view-in-github",
        "colab_type": "text"
      },
      "source": [
        "<a href=\"https://colab.research.google.com/github/adong-hood/cs200/blob/main/Assignment10.ipynb\" target=\"_parent\"><img src=\"https://colab.research.google.com/assets/colab-badge.svg\" alt=\"Open In Colab\"/></a>"
      ]
    },
    {
      "cell_type": "markdown",
      "source": [
        "<h2>Assignment 10: Web Scraping Practice II</h2>"
      ],
      "metadata": {
        "id": "a0YxOo6sxHtU"
      }
    },
    {
      "cell_type": "markdown",
      "source": [
        "In this practice, you will extract **Business Data** from the 2017 CIA web site. Start with [Notes and Definitions](http://pluto.hood.edu/~dong/factbook-2017/docs/notesanddefs.html) page from the 2017 version."
      ],
      "metadata": {
        "id": "_oZwAQrDxRR8"
      }
    },
    {
      "cell_type": "markdown",
      "source": [
        "**Your Task**\n",
        "<p>Share your notebook.</p>\n",
        "<h3>Step 1:</h3>\n",
        "<p>There are 232 different fields in the data publised in 2017. Loading all of them would be a considerable amount of work, and more data than we need. Let's start with a list that is close to our original data above. <b>The list is different from our book.</b></p>\n",
        "<ul>\n",
        "<li>Country name</li>\n",
        "<li>GDP - per capita (PPP),  2016 est.</li>\n",
        "<li>GDP - real growth rate, 2016 est.</li>\n",
        "</ul>"
      ],
      "metadata": {
        "id": "qEhxVIt1yr01"
      }
    },
    {
      "cell_type": "code",
      "execution_count": null,
      "metadata": {
        "id": "7D8pqYp7xG2s"
      },
      "outputs": [],
      "source": []
    },
    {
      "cell_type": "markdown",
      "source": [
        "<h3>Step 2</h3>\n",
        "Clear the data and find out which country has the largest GDP - real growth rate."
      ],
      "metadata": {
        "id": "i3f0PJ_94nDi"
      }
    },
    {
      "cell_type": "code",
      "source": [],
      "metadata": {
        "id": "HJbmuk0N5Dim"
      },
      "execution_count": null,
      "outputs": []
    },
    {
      "cell_type": "markdown",
      "source": [
        "<h3>Step 3: </h3>\n",
        "Merge this scraped data with those from word_countries.csv.\n",
        "\n",
        "\n"
      ],
      "metadata": {
        "id": "GMkXemadkAhc"
      }
    },
    {
      "cell_type": "code",
      "source": [],
      "metadata": {
        "id": "UZvWupBCksIO"
      },
      "execution_count": null,
      "outputs": []
    },
    {
      "cell_type": "markdown",
      "source": [
        "<h3>Step 4:</h3>  \n",
        "\n",
        "*   Find which country has the largest positive change in GDP (per capita) and which country has the largest negative change in GDP (per capita).\n",
        "\n",
        "\n"
      ],
      "metadata": {
        "id": "P-rt3uixksnT"
      }
    },
    {
      "cell_type": "code",
      "source": [
        "import pandas as pd\n",
        "import requests\n",
        "from bs4 import BeautifulSoup"
      ],
      "metadata": {
        "id": "x0bYA7B0nIp0"
      },
      "execution_count": null,
      "outputs": []
    },
    {
      "cell_type": "code",
      "source": [
        "#This is helpful for finding the exact field name.\n",
        "address = 'http://pluto.hood.edu/~dong/factbook-2017/docs/notesanddefs.html'\n",
        "res = requests.get(address)\n",
        "page = res.text\n",
        "page_content_notesanddefs = BeautifulSoup(page, 'html.parser')\n",
        "spans = page_content_notesanddefs.select(\"span.category\") # return a list of span elements with class=category.\n",
        "for aspan in spans:\n",
        "    cells = aspan.select('td') # return all the td elements in one span element. There are two in the above segment.\n",
        "    colname = cells[0].text\n",
        "    print(colname)"
      ],
      "metadata": {
        "collapsed": true,
        "id": "SdjeoW5PmsAr"
      },
      "execution_count": null,
      "outputs": []
    }
  ]
}