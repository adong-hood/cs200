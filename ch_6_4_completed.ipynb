{
  "nbformat": 4,
  "nbformat_minor": 0,
  "metadata": {
    "kernelspec": {
      "display_name": "Python 3",
      "language": "python",
      "name": "python3"
    },
    "language_info": {
      "codemirror_mode": {
        "name": "ipython",
        "version": 3
      },
      "file_extension": ".py",
      "mimetype": "text/x-python",
      "name": "python",
      "nbconvert_exporter": "python",
      "pygments_lexer": "ipython3",
      "version": "3.7.4"
    },
    "colab": {
      "provenance": [],
      "include_colab_link": true
    }
  },
  "cells": [
    {
      "cell_type": "markdown",
      "metadata": {
        "id": "view-in-github",
        "colab_type": "text"
      },
      "source": [
        "<a href=\"https://colab.research.google.com/github/adong-hood/cs200/blob/main/ch_6_4_completed.ipynb\" target=\"_parent\"><img src=\"https://colab.research.google.com/assets/colab-badge.svg\" alt=\"Open In Colab\"/></a>"
      ]
    },
    {
      "cell_type": "markdown",
      "metadata": {
        "id": "aE4mfFmHpn2S"
      },
      "source": [
        "# Section 6.4, Screen/Web Scraping\n",
        "\n"
      ]
    },
    {
      "cell_type": "code",
      "source": [
        "from google.colab import drive\n",
        "drive.mount('/content/drive')"
      ],
      "metadata": {
        "id": "xMCj6Ev5IK5Q"
      },
      "execution_count": null,
      "outputs": []
    },
    {
      "cell_type": "code",
      "metadata": {
        "id": "dHvAjySjpn2Z"
      },
      "source": [
        "import pandas as pd\n",
        "import requests\n",
        "from bs4 import BeautifulSoup\n"
      ],
      "execution_count": null,
      "outputs": []
    },
    {
      "cell_type": "markdown",
      "metadata": {
        "id": "l9SMuK-Cpn2Y"
      },
      "source": [
        "Note: Read the section 6.4 of Runestone first, then start with this file."
      ]
    },
    {
      "cell_type": "markdown",
      "metadata": {
        "id": "9hw75kvRpn2Z"
      },
      "source": [
        "## Preliminary"
      ]
    },
    {
      "cell_type": "markdown",
      "metadata": {
        "id": "cHe5djm5pn2Z"
      },
      "source": [
        "<p>It is better if you know a little bit of HTML basic elements, CSS selectors, and how web scraping works in general. </p>\n",
        "\n",
        "<ul>\n",
        "<li> <a href = \"https://www.tutorialspoint.com/html/index.htm\">HTML (id, class, parent-child)</a></li>\n",
        "<li> <a href = \"https://www.w3schools.com/html/html_css.asp\">HTML CSS </a></li>\n",
        "    <li> <a href = \"https://www.topcoder.com/thrive/articles/web-scraping-with-beautiful-soup\"> Web Scraping Using BeautifulSoup </a></li>    \n",
        "</ul>"
      ]
    },
    {
      "cell_type": "markdown",
      "metadata": {
        "id": "eCQm1tDPpn2a"
      },
      "source": [
        "This world_countries.csv was extracted, by somebody else, from [CIA web site](https://www.cia.gov/the-world-factbook/countries/index.html), with each column coming from one web page."
      ]
    },
    {
      "cell_type": "code",
      "metadata": {
        "scrolled": true,
        "id": "y1v61QUvpn2a"
      },
      "source": [
        "wd = pd.read_csv('http://pluto.hood.edu/~dong/datasets/world_countries.csv')\n",
        "wd.head()"
      ],
      "execution_count": null,
      "outputs": []
    },
    {
      "cell_type": "code",
      "metadata": {
        "id": "q3MWpuYhpn2b"
      },
      "source": [
        "wd.columns"
      ],
      "execution_count": null,
      "outputs": []
    },
    {
      "cell_type": "markdown",
      "metadata": {
        "id": "n_DrAnXqpn2b"
      },
      "source": [
        "In this exericise, we will perform similar web scrapings to extract all the information on our own."
      ]
    },
    {
      "cell_type": "markdown",
      "metadata": {
        "id": "-dAj8AtIE8Uz"
      },
      "source": [
        "## Use Beautiful Soup"
      ]
    },
    {
      "cell_type": "markdown",
      "metadata": {
        "id": "wzDCpE_2pn2d"
      },
      "source": [
        "<a href = \"https://www.crummy.com/software/BeautifulSoup/bs4/doc/\">Beautiful Soup </a> is a Python library for pulling data out of HTML and XML files.\n"
      ]
    },
    {
      "cell_type": "markdown",
      "metadata": {
        "id": "Iedd976EGHlB"
      },
      "source": [
        "### Quick Start\n",
        "Beautiful Soup transforms page into a BeautifulSoup object, a nested data structure.\n",
        "\n",
        "Here’s an HTML document I’ll be using as an example throughout this document. It’s part of a story from Alice in Wonderland:"
      ]
    },
    {
      "cell_type": "code",
      "metadata": {
        "id": "wwXvHcF2DQ76"
      },
      "source": [
        "html_doc = \"\"\"<html><head><title>The Dormouse's story</title></head>\n",
        "<body>\n",
        "<p class=\"title\"><b>The Dormouse's story</b></p>\n",
        "\n",
        "<p class=\"story\">Once upon a time there were three little sisters; and their names were\n",
        "<a href=\"http://example.com/elsie\" class=\"sister\" id=\"link1\">Elsie</a>,\n",
        "<a href=\"http://example.com/lacie\" class=\"sister\" id=\"link2\">Lacie</a> and\n",
        "<a href=\"http://example.com/tillie\" class=\"sister\" id=\"link3\">Tillie</a>;\n",
        "and they lived at the bottom of a well.</p>\n",
        "\n",
        "<p class=\"story\">...</p>\n",
        "</body>\n",
        "</html>\n",
        "\"\"\""
      ],
      "execution_count": null,
      "outputs": []
    },
    {
      "cell_type": "code",
      "metadata": {
        "id": "H0Q4lcMKDb_b"
      },
      "source": [
        "html_doc"
      ],
      "execution_count": null,
      "outputs": []
    },
    {
      "cell_type": "markdown",
      "metadata": {
        "id": "GiipHO-6GZmo"
      },
      "source": [
        "Running the “three sisters” document through Beautiful Soup gives us a BeautifulSoup object, which represents the document as a nested data structure:"
      ]
    },
    {
      "cell_type": "code",
      "metadata": {
        "id": "LxsNRxPFDo28"
      },
      "source": [
        "soup = BeautifulSoup(html_doc, 'html.parser')\n",
        "pretty_html_doc = soup.prettify()\n",
        "print(pretty_html_doc)"
      ],
      "execution_count": null,
      "outputs": []
    },
    {
      "cell_type": "markdown",
      "metadata": {
        "id": "dEs53xqfF6aw"
      },
      "source": [
        "Here are some simple ways to navigate that data structure:"
      ]
    },
    {
      "cell_type": "code",
      "metadata": {
        "id": "pSzJ_eH7Fp0C"
      },
      "source": [
        "print(f'Title tag: {soup.title}\\n')\n",
        "# <title>The Dormouse's story</title>\n",
        "\n",
        "print(f'Tag name: {soup.title.name}\\n')\n",
        "# 'title'\n",
        "\n",
        "print(f'Tag text content: {soup.title.string}')\n",
        "print(f'Tag text content: {soup.title.text}\\n')\n",
        "# 'The Dormouse's story'\n",
        "\n",
        "print(f'Parent tag: {soup.title.parent}\\n')\n",
        "print(f'Parent tag name: {soup.title.parent.name}\\n')\n",
        "# 'head'\n",
        "\n",
        "print(f'First paragraph tag:{soup.p}\\n')\n",
        "# <p class=\"title\"><b>The Dormouse's story</b></p>\n",
        "\n",
        "print(f\"First paragraph class: {soup.p['class']}\\n\")\n",
        "# 'title'\n",
        "\n",
        "print(f'First Link:{soup.a}\\n')\n",
        "# <a class=\"sister\" href=\"http://example.com/elsie\" id=\"link1\">Elsie</a>\n",
        "\n",
        "print(f\"All links: {soup.find_all('a')}\\n\")\n",
        "# [<a class=\"sister\" href=\"http://example.com/elsie\" id=\"link1\">Elsie</a>,\n",
        "#  <a class=\"sister\" href=\"http://example.com/lacie\" id=\"link2\">Lacie</a>,\n",
        "#  <a class=\"sister\" href=\"http://example.com/tillie\" id=\"link3\">Tillie</a>]\n",
        "\n",
        "print(f\"the url of the first Link: {soup.find_all('a')[0].get('href')}\\n\")\n",
        "\n",
        "\n",
        "print(f'The link with specific id: {soup.find(id=\"link3\")}\\n')\n",
        "# <a class=\"sister\" href=\"http://example.com/tillie\" id=\"link3\">Tillie</a>"
      ],
      "execution_count": null,
      "outputs": []
    },
    {
      "cell_type": "markdown",
      "metadata": {
        "id": "xYqKTe0JHn-x"
      },
      "source": [
        "One common task is extracting all the URLs found within a page’s <a> tags:"
      ]
    },
    {
      "cell_type": "code",
      "metadata": {
        "id": "SgpvLVCiHiZS"
      },
      "source": [
        "for link in soup.find_all('a'):\n",
        "    print(link.get('href'))"
      ],
      "execution_count": null,
      "outputs": []
    },
    {
      "cell_type": "markdown",
      "metadata": {
        "id": "EjgsPcfSHwH2"
      },
      "source": [
        "Another common task is extracting all the text from a page:"
      ]
    },
    {
      "cell_type": "code",
      "metadata": {
        "id": "2yMO4UNbHvqO"
      },
      "source": [
        "print(soup.get_text())"
      ],
      "execution_count": null,
      "outputs": []
    },
    {
      "cell_type": "markdown",
      "metadata": {
        "id": "v02RTTtFE3gA"
      },
      "source": [
        "## Request a Web Page"
      ]
    },
    {
      "cell_type": "markdown",
      "metadata": {
        "id": "wSwi49htIHaT"
      },
      "source": [
        "### Use Beautiful Soup for World factbook pages."
      ]
    },
    {
      "cell_type": "markdown",
      "metadata": {
        "id": "lg5UFcAxpn2c"
      },
      "source": [
        "<p>Open a web page from the CIA web site. Use <code>requests</code>, the same way as you did in Section 6.3. </p>"
      ]
    },
    {
      "cell_type": "code",
      "metadata": {
        "id": "lA4oeYcCwLr2"
      },
      "source": [
        "address = 'https://www.cia.gov/the-world-factbook/countries/index.html'\n",
        "res = requests.get(address)\n",
        "print(res.status_code)\n",
        "page = res.text\n",
        "page[:500]\n"
      ],
      "execution_count": null,
      "outputs": []
    },
    {
      "cell_type": "markdown",
      "metadata": {
        "id": "fxbskOJvpn2d"
      },
      "source": [
        "<p>However, the Runestone book fill-in-blank type answers are based on the 2017 factbook, instead of the most current data. </p>\n",
        "<p>You may download all the web pages for 2017 and scraping informaiton offline with the download link in the book. However, in this demo we will use this <a href = \"http://pluto.hood.edu/~dong/factbook-2017/index.html\">psudo-CIA site</a>. Follow <a href = \"http://pluto.hood.edu/~dong/cs200/datasets/factbook/\">this link </a> for folder structure, which is the same as if you were to download the factbook 2017 files yourself. </p>\n",
        "<p>Please keep in mind, the processes for online and offline web scraping should be almost the same. Below is how to do it offline. The file path in <code>open</code> is reletive to your folder struture.</p>"
      ]
    },
    {
      "cell_type": "markdown",
      "metadata": {
        "id": "jTKRxQq2zMcc"
      },
      "source": [
        "<p>Open a web page, <code>notesanddefs.html</code>, for scraping. This CIA page serves as a table of content to all other pages. Use <code>requests</code>, the same way as you did in Section 6.3. </p>"
      ]
    },
    {
      "cell_type": "code",
      "metadata": {
        "id": "pJggEAVepn2c"
      },
      "source": [
        "address = 'http://pluto.hood.edu/~dong/factbook-2017/docs/notesanddefs.html'\n",
        "res = requests.get(address)\n",
        "page = res.text\n",
        "page[:300]\n",
        "#res.status_code"
      ],
      "execution_count": null,
      "outputs": []
    },
    {
      "cell_type": "code",
      "metadata": {
        "scrolled": true,
        "id": "s8wrmI6cpn2d",
        "collapsed": true
      },
      "source": [
        "page_content_notesanddefs = BeautifulSoup(page, 'html.parser')\n",
        "#print(page_content_notesanddefs.prettify()[42600:44500])"
      ],
      "execution_count": null,
      "outputs": []
    },
    {
      "cell_type": "markdown",
      "metadata": {
        "id": "Xzw5BIhEPL-z"
      },
      "source": [
        "## Extrac All Column Headers\n"
      ]
    },
    {
      "cell_type": "markdown",
      "metadata": {
        "id": "3JOhNCgxpn2e"
      },
      "source": [
        "<p>Open in a text editor (not browser) and examine <code>page</code> and figure out how to extract the html page link for each column in <code>world_countries.csv</code>.\n",
        "\n",
        "Below is an excerpt from the page that contains information for \"Literacy.\" Similar structure is repeated for each column/field.</p>"
      ]
    },
    {
      "cell_type": "code",
      "metadata": {
        "id": "ZsEaOaLsMO6_"
      },
      "source": [
        "literacy = '''\n",
        "<a name=\"2103\"></a>\n",
        "\t\t\t\t<div id=\"2103\" name=\"2103\">\n",
        "\t\t\t\t\t<li style=\"list-style-type: none; line-height: 20px; padding-bottom: 3px;\" >\n",
        "\t\t\t\t\t<span style=\"padding: 2px; display:block; background-color:#F8f8e7;\" class=\"category\">\n",
        "\t\t\t\t\t\t<table width=\"100%\" border=\"0\" cellpadding=\"0\" cellspacing=\"0\" >\n",
        "\t\t\t\t\t\t\t<tr>\n",
        "\t\t\t\t\t\t\t\t<td style=\"width: 90%;\" >Literacy</td>\n",
        "                <td align=\"right\" valign=\"middle\">\n",
        "\t\t\t\t\t\t\t\t\t\t\t<a href=\"../fields/2103.html#139\" title=\"Field info displayed for all countries in alpha order.\"> <img src=\"../graphics/field_listing_on.gif\" border=\"0\" style=\"padding:0px;\" > </a>\n",
        "\n",
        "\t\t\t\t\t\t\t\t</td>\n",
        "\t\t\t\t\t\t\t</tr>\n",
        "\t\t\t\t\t\t</table>\n",
        "\t\t\t\t\t</span>\n",
        "\t\t\t\t\t<div id=\"data\" class=\"category_data\" style=\"width: 98%; font-weight: normal; background-color: #fff; padding: 5px; margin-left: 0px; border-top: 1px solid #ccc;\" >\n",
        "\t\t\t\t\t<div class=\"category_data\" style=\"text-transform:none\">\n",
        "\n",
        "\t\t\t\t\t\tThis entry includes a <em>definition</em> of literacy and Census Bureau percentages for the <em>total population</em>, <em>males</em>, and <em>females</em>. There are no universal definitions and standards of literacy. Unless otherwise specified, all rates are based on the most common definition - the ability to read and write at a specified age. Detailing the standards that individual countries use to assess the ability to read and write is beyond the scope of the <em>Factbook</em>. Information on literacy, while not a perfect measure of educational results, is probably the most easily available and valid for international comparisons. Low levels of literacy, and education in general, can impede the economic development of a country in the current rapidly changing, technology-driven world.</div>\n",
        "\t\t\t\t</div>\n",
        "\t\t\t</li>\n",
        "\t\t\t</div>\n",
        " '''"
      ],
      "execution_count": null,
      "outputs": []
    },
    {
      "cell_type": "code",
      "metadata": {
        "id": "fk39Nfk7pn2e",
        "collapsed": true
      },
      "source": [
        "spans = page_content_notesanddefs.select(\"span.category\") # return a list of span elements with class=category.\n",
        "print(len(spans))\n",
        "print(spans[139])\n",
        "print(len(spans[139].select('td')))\n",
        "print(spans[139].select('td'))\n",
        "print(spans[139].select('td')[0].text)\n",
        "for aspan in spans:\n",
        "    cells = aspan.select('td') # return all the td elements in one span element. There are two in the above segment.\n",
        "    colname = cells[0].text\n",
        "    print(colname)"
      ],
      "execution_count": null,
      "outputs": []
    },
    {
      "cell_type": "markdown",
      "metadata": {
        "id": "33pqCxPJK44e"
      },
      "source": [
        "## Extract Data <code>Literacy</code> Column"
      ]
    },
    {
      "cell_type": "code",
      "metadata": {
        "id": "9yw7MfzUOxi4"
      },
      "source": [
        "cols = page_content_notesanddefs.select(\"span.category\") # return a list of span elements with class=category.\n",
        "for col in cols:\n",
        "    cells = col.select('td') # return all the td elements in one span element. There are two in the above segment.\n",
        "    colname = cells[0].text\n",
        "    if colname == 'Literacy':\n",
        "      links = cells[1].select('a') # return all a elements in the second td element. There is one.\n",
        "      print(links)\n",
        "      if len(links) > 0:\n",
        "        fpath = links[0]['href'] # href functions as the key to  ../fields/2103.html#139\n",
        "        print(\"Field name:\", colname, \"\\nFile Path:\", fpath)"
      ],
      "execution_count": null,
      "outputs": []
    },
    {
      "cell_type": "markdown",
      "metadata": {
        "id": "-453dxRNpn2f"
      },
      "source": [
        "Let's now open and extract Literacy data from this 2103.html file.\n"
      ]
    },
    {
      "cell_type": "code",
      "metadata": {
        "id": "QlwFu_-_pn2f"
      },
      "source": [
        "address = 'http://pluto.hood.edu/~dong/factbook-2017/fields/2103.html#139'\n",
        "res = requests.get(address)\n",
        "page_literacy = res.text\n",
        "page_content_literacy = BeautifulSoup(page_literacy)\n",
        "#print(page_content_literacy.prettify())\n"
      ],
      "execution_count": null,
      "outputs": []
    },
    {
      "cell_type": "code",
      "metadata": {
        "id": "ZR5Nn3_6TPh5"
      },
      "source": [
        "'''\n",
        "<table id=fieldListing>\n",
        "<tbody>\n",
        "<tr class=fieldHeading valign=middle bgcolor=#F8f8e7 height=25><th width=200px>Country</th><th>LITERACY(%)</th></tr>\n",
        "\n",
        "<tr id=af><td class=country><a href=../geos/af.html>Afghanistan</td><td class=fieldData>\n",
        "<strong>definition: </strong>age 15 and over can read and write<br />\n",
        "<strong>total population: </strong>38.2%<br />\n",
        "<strong>male: </strong>52%<br />\n",
        "<strong>female: </strong>24.2% (2015 est.)<br />\n",
        "</td>\n",
        "</tr>\n",
        "\n",
        "<tr style=\"background: #EEEEEE\" id=\"al\"><td class=country><a href=../geos/al.html>Albania</td><td class=fieldData>\n",
        "<strong>definition: </strong>age 15 and over can read and write<br />\n",
        "<strong>total population: </strong>97.6%<br />\n",
        "<strong>male: </strong>98.4%<br />\n",
        "<strong>female: </strong>96.9% (2015 est.)<br />\n",
        "</td>\n",
        "</tr>\n",
        "'''"
      ],
      "execution_count": null,
      "outputs": []
    },
    {
      "cell_type": "markdown",
      "metadata": {
        "id": "VqpEFH0ipn2g"
      },
      "source": [
        "### Build the data frame with Country column."
      ]
    },
    {
      "cell_type": "markdown",
      "metadata": {
        "id": "JHTrG1ziUXXX"
      },
      "source": [
        "All the files have 2-letter country code. We will use it to combine informaiton extracted from multiple web pages. We will also extract all country names."
      ]
    },
    {
      "cell_type": "code",
      "metadata": {
        "id": "JSE2OVOzpn2f",
        "collapsed": true
      },
      "source": [
        "dict_country_name = {}\n",
        "cols = page_content_literacy.select(\"td.country\")\n",
        "print(len(cols))\n",
        "print(str(cols[0]).strip())\n",
        "print(str(cols[0]).strip().split('../geos/'))\n",
        "print(str(cols[0]).strip().split('../geos/')[1][:2])\n",
        "print(cols[0].text)\n",
        "for col in cols:\n",
        "    code = str(col).strip().split('../geos/')[1][:2] # chained into one step. You can split into multiple steps to see how it works.\n",
        "    name =  col.text\n",
        "    dict_country_name[code] = name\n",
        "\n",
        "dict_country_name\n"
      ],
      "execution_count": null,
      "outputs": []
    },
    {
      "cell_type": "code",
      "metadata": {
        "id": "ezyiVvSepn2g"
      },
      "source": [
        "#  all_data = {'field name' : {coutry_code : value} ...}\n",
        "# we only extract country name, thus, the resulting data frame only has one column.\n",
        "\n",
        "all_data = {\"Country\": dict_country_name}\n",
        "all_data_df = pd.DataFrame(all_data)\n",
        "\n",
        "# add code as one common column so that we can easily add new columns later\n",
        "all_data_df['Code'] = all_data_df.index\n",
        "all_data_df.head()\n"
      ],
      "execution_count": null,
      "outputs": []
    },
    {
      "cell_type": "markdown",
      "metadata": {
        "id": "_smfz1DekkEo"
      },
      "source": [
        "### Extract and add Literacy Data"
      ]
    },
    {
      "cell_type": "code",
      "metadata": {
        "id": "-JA4H7qxkhjs"
      },
      "source": [
        "'''\n",
        "<table id=fieldListing>\n",
        "<tbody>\n",
        "<tr class=fieldHeading valign=middle bgcolor=#F8f8e7 height=25><th width=200px>Country</th><th>LITERACY(%)</th></tr>\n",
        "\n",
        "<tr id=af>\n",
        "<td class=country><a href=../geos/af.html>Afghanistan</td>\n",
        "<td class=fieldData>\n",
        "<strong>definition: </strong>age 15 and over can read and write<br />\n",
        "<strong>total population: </strong>38.2%<br />\n",
        "<strong>male: </strong>52%<br />\n",
        "<strong>female: </strong>24.2% (2015 est.)<br />\n",
        "</td>\n",
        "</tr>\n",
        "\n",
        "<tr style=\"background: #EEEEEE\" id=\"al\"><td class=country><a href=../geos/al.html>Albania</td>\n",
        "<td class=fieldData>\n",
        "<strong>definition: </strong>age 15 and over can read and write<br />\n",
        "<strong>total population: </strong>97.6%<br />\n",
        "<strong>male: </strong>98.4%<br />\n",
        "<strong>female: </strong>96.9% (2015 est.)<br />\n",
        "</td>\n",
        "</tr>\n",
        "'''"
      ],
      "execution_count": null,
      "outputs": []
    },
    {
      "cell_type": "markdown",
      "metadata": {
        "id": "EOlFH8Wykglf"
      },
      "source": [
        "There are more than one way to extract literacy data. This is one of the many possible ways."
      ]
    },
    {
      "cell_type": "code",
      "metadata": {
        "id": "aOnnodMamUjy",
        "collapsed": true
      },
      "source": [
        "dict_literacy = {}\n",
        "cols = page_content_literacy.select(\"#fieldListing tr\")\n",
        "print(len(cols))\n",
        "print(str(cols[1]).strip())\n",
        "print(str(cols[1]).strip().split('/geos/'))\n",
        "print(str(cols[1]).strip().split('/geos/')[1][:2])\n",
        "print(cols[1].text)\n",
        "\n",
        "for col in cols:\n",
        "  if len(str(col).split('/geos/')) > 1:\n",
        "        code = str(col).split('/geos/')[1][:2]\n",
        "  cells = col.select('td')\n",
        "  if len(cells) > 0:\n",
        "      total_rate = cells[1].text.strip()\n",
        "      dict_literacy[code] = total_rate\n",
        "dict_literacy"
      ],
      "execution_count": null,
      "outputs": []
    },
    {
      "cell_type": "code",
      "metadata": {
        "id": "g2ekjwESWtFF",
        "collapsed": true
      },
      "source": [
        "dict_literacy = {}\n",
        "cols = page_content_literacy.select(\"#fieldListing tr\")\n",
        "for col in cols:\n",
        "  if len(str(col).split('/geos/')) > 1:\n",
        "        code = str(col).split('/geos/')[1][:2]\n",
        "  cells = col.select('td')\n",
        "  if len(cells) > 0:\n",
        "      total_rate = float(cells[1].text.strip().split(':')[2].split('%')[0].strip())\n",
        "      dict_literacy[code] = total_rate\n",
        "dict_literacy\n",
        "\n",
        "\n"
      ],
      "execution_count": null,
      "outputs": []
    },
    {
      "cell_type": "code",
      "metadata": {
        "id": "ou9gUaf2mUHz"
      },
      "source": [],
      "execution_count": null,
      "outputs": []
    },
    {
      "cell_type": "markdown",
      "metadata": {
        "id": "gh0wHnSSlGDm"
      },
      "source": [
        "Add literacy as a new column using <code>map</code>."
      ]
    },
    {
      "cell_type": "code",
      "metadata": {
        "id": "UC_WeJ_wiHm8"
      },
      "source": [
        "all_data_df['Literacy']= all_data_df['Code'].map(dict_literacy)\n",
        "all_data_df.head()\n",
        "\n"
      ],
      "execution_count": null,
      "outputs": []
    },
    {
      "cell_type": "markdown",
      "metadata": {
        "id": "6nmjqeNYpn2g"
      },
      "source": [
        "## Start your work for section 6.4 ......\n",
        "You need to first find which html page to use, then extract infant mortality rate from one html page, and finally clean/convert total rate to numbers before calculation."
      ]
    },
    {
      "cell_type": "markdown",
      "metadata": {
        "id": "GnEB6m1xpn2g"
      },
      "source": [
        "### Step 1: Find the page where it has the infant mortality rates of all countries"
      ]
    },
    {
      "cell_type": "code",
      "source": [
        "address = 'http://pluto.hood.edu/~dong/factbook-2017/docs/notesanddefs.html'\n",
        "res = requests.get(address)\n",
        "page = res.text\n",
        "page_content_notesanddefs = BeautifulSoup(page, 'html.parser')\n",
        "cols = page_content_notesanddefs.select(\"span.category\") # return a list of span elements with class=category.\n",
        "for col in cols:\n",
        "    cells = col.select('td') # return all the td elements in one span element. There are two in the above segment.\n",
        "    colname = cells[0].text\n",
        "    if colname == 'Infant mortality rate':\n",
        "      links = cells[1].select('a') # return all a elements in the second td element. There is one.\n",
        "      #print(links)\n",
        "      if len(links) > 0:\n",
        "        fpath = links[0]['href'] # href functions as the key to  ../fields/2103.html#139\n",
        "        print(\"Field name:\", colname, \"\\nFile Path:\", fpath)\n"
      ],
      "metadata": {
        "id": "BrnXFLdeJCH5",
        "colab": {
          "base_uri": "https://localhost:8080/"
        },
        "outputId": "d4fa6f0b-e027-4cee-8bb0-a1964c9edb2e"
      },
      "execution_count": 10,
      "outputs": [
        {
          "output_type": "stream",
          "name": "stdout",
          "text": [
            "Field name: Infant mortality rate \n",
            "File Path: ../fields/2091.html#118\n"
          ]
        }
      ]
    },
    {
      "cell_type": "markdown",
      "source": [
        "### Step 2: read the page and examine the html code for extracting information."
      ],
      "metadata": {
        "id": "bpBquSwMKVhT"
      }
    },
    {
      "cell_type": "code",
      "source": [
        "address = 'http://pluto.hood.edu/~dong/factbook-2017/fields/2091.html#118'\n",
        "res = requests.get(address)\n",
        "page_infant = res.text\n",
        "page_content_infant_mortality_rate = BeautifulSoup(page_infant)"
      ],
      "metadata": {
        "id": "EBubKj_CKtP6"
      },
      "execution_count": null,
      "outputs": []
    },
    {
      "cell_type": "code",
      "source": [
        "'''\n",
        "<table id=fieldListing>\n",
        "<tbody>\n",
        "<tr class=fieldHeading valign=middle bgcolor=#F8f8e7 height=25><th width=200px>Country</th><th>INFANT MORTALITY RATE(DEATHS/1,000 LIVE BIRTHS)</th></tr>\n",
        "<tr id=af><td class=country><a href=../geos/af.html>Afghanistan</td><td class=fieldData>\n",
        "<strong>total: </strong>110.6 deaths/1,000 live births<br />\n",
        "<strong>male: </strong>118 deaths/1,000 live births<br />\n",
        "<strong>female: </strong>102.9 deaths/1,000 live births (2017 est.)<br />\n",
        "</td></tr>\n",
        "<tr style=\"background: #EEEEEE\" id=\"al\"><td class=country><a href=../geos/al.html>Albania</td><td class=fieldData>\n",
        "<strong>total: </strong>11.9 deaths/1,000 live births<br />\n",
        "<strong>male: </strong>13.3 deaths/1,000 live births<br />\n",
        "<strong>female: </strong>10.5 deaths/1,000 live births (2017 est.)<br />\n",
        "</td></tr>\n",
        "'''"
      ],
      "metadata": {
        "id": "cwbOoCbtMm7T"
      },
      "execution_count": null,
      "outputs": []
    },
    {
      "cell_type": "code",
      "source": [
        "cols = page_content_infant_mortality_rate.select(\"#fieldListing tr\")\n",
        "print(f'The total number of countries: {len(cols)}')\n",
        "print(f'\\nThe information for the first country:\\n {str(cols[1]).strip()}')\n",
        "# split on /geos/ in order to extract two-letter country code.\n",
        "print(f\"\\nAfter splitting {str(cols[1]).strip().split('/geos/')}\")\n",
        "print(f\"\\nSplit first, then extract two-letter country code: {str(cols[1]).strip().split('/geos/')[1][:2]}\")\n",
        "print(f\"\\nExtract country name: {(cols[1].select('td'))[0].text}\")\n",
        "print(f\"\\nExtract infant mortality rate: {(cols[1].select('td'))[1].text}\")\n",
        "\n"
      ],
      "metadata": {
        "id": "ZHNDGrsvL453"
      },
      "execution_count": null,
      "outputs": []
    },
    {
      "cell_type": "markdown",
      "source": [
        "### Step 3: Extract the infant mortality rates for all countries and built a data frame"
      ],
      "metadata": {
        "id": "aFEfAfYquHOK"
      }
    },
    {
      "cell_type": "code",
      "source": [
        "cols = page_content_infant_mortality_rate.select(\"#fieldListing tr\")\n",
        "dict_infant = {}\n",
        "dict_country_name = {}\n",
        "for col in cols:\n",
        "  if len(str(col).split('/geos/')) > 1:\n",
        "        code = str(col).split('/geos/')[1][:2]\n",
        "  cells = col.select('td')\n",
        "  if len(cells) > 0:\n",
        "      total_rate = cells[1].text.strip()\n",
        "      dict_country_name[code]=cells[0].text\n",
        "      dict_infant[code] = total_rate\n",
        "\n",
        "infant_final_df = pd.DataFrame({'Country':dict_country_name, 'Infant mortality rate':dict_infant})\n",
        "infant_final_df.head()\n"
      ],
      "metadata": {
        "id": "e6jHVM-IrfWm"
      },
      "execution_count": null,
      "outputs": []
    },
    {
      "cell_type": "markdown",
      "source": [
        "### Step 4: clear it up and ready for computation"
      ],
      "metadata": {
        "id": "w8fIkSxMuXxr"
      }
    },
    {
      "cell_type": "code",
      "source": [
        "def clean_rate(infant_rate):\n",
        "  try:\n",
        "    rate = float(infant_rate.strip().split(':')[1].split('deaths')[0].strip())\n",
        "    return rate\n",
        "  except:\n",
        "    return float('NaN')\n"
      ],
      "metadata": {
        "id": "gjy7dTkuqse0"
      },
      "execution_count": null,
      "outputs": []
    },
    {
      "cell_type": "code",
      "source": [
        "infant_final_df['Infant-cleaned-rate'] = infant_final_df['Infant mortality rate'].map(clean_rate)\n",
        "infant_final_df.head()"
      ],
      "metadata": {
        "id": "fkp9Z2CXu6A9"
      },
      "execution_count": null,
      "outputs": []
    },
    {
      "cell_type": "code",
      "source": [
        "infant_final_df['Infant-cleaned-rate'].mean()"
      ],
      "metadata": {
        "id": "277-gPOguxSo"
      },
      "execution_count": null,
      "outputs": []
    }
  ]
}